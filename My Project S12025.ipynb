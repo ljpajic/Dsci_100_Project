{
 "cells": [
  {
   "cell_type": "code",
   "execution_count": 1,
   "id": "a295cbc9-0665-492b-b67f-1a399b238f65",
   "metadata": {},
   "outputs": [
    {
     "name": "stderr",
     "output_type": "stream",
     "text": [
      "── \u001b[1mAttaching core tidyverse packages\u001b[22m ──────────────────────── tidyverse 2.0.0 ──\n",
      "\u001b[32m✔\u001b[39m \u001b[34mdplyr    \u001b[39m 1.1.4     \u001b[32m✔\u001b[39m \u001b[34mreadr    \u001b[39m 2.1.5\n",
      "\u001b[32m✔\u001b[39m \u001b[34mforcats  \u001b[39m 1.0.0     \u001b[32m✔\u001b[39m \u001b[34mstringr  \u001b[39m 1.5.1\n",
      "\u001b[32m✔\u001b[39m \u001b[34mggplot2  \u001b[39m 3.5.1     \u001b[32m✔\u001b[39m \u001b[34mtibble   \u001b[39m 3.2.1\n",
      "\u001b[32m✔\u001b[39m \u001b[34mlubridate\u001b[39m 1.9.3     \u001b[32m✔\u001b[39m \u001b[34mtidyr    \u001b[39m 1.3.1\n",
      "\u001b[32m✔\u001b[39m \u001b[34mpurrr    \u001b[39m 1.0.2     \n",
      "── \u001b[1mConflicts\u001b[22m ────────────────────────────────────────── tidyverse_conflicts() ──\n",
      "\u001b[31m✖\u001b[39m \u001b[34mdplyr\u001b[39m::\u001b[32mfilter()\u001b[39m masks \u001b[34mstats\u001b[39m::filter()\n",
      "\u001b[31m✖\u001b[39m \u001b[34mdplyr\u001b[39m::\u001b[32mlag()\u001b[39m    masks \u001b[34mstats\u001b[39m::lag()\n",
      "\u001b[36mℹ\u001b[39m Use the conflicted package (\u001b[3m\u001b[34m<http://conflicted.r-lib.org/>\u001b[39m\u001b[23m) to force all conflicts to become errors\n",
      "── \u001b[1mAttaching packages\u001b[22m ────────────────────────────────────── tidymodels 1.1.1 ──\n",
      "\n",
      "\u001b[32m✔\u001b[39m \u001b[34mbroom       \u001b[39m 1.0.6     \u001b[32m✔\u001b[39m \u001b[34mrsample     \u001b[39m 1.2.1\n",
      "\u001b[32m✔\u001b[39m \u001b[34mdials       \u001b[39m 1.3.0     \u001b[32m✔\u001b[39m \u001b[34mtune        \u001b[39m 1.1.2\n",
      "\u001b[32m✔\u001b[39m \u001b[34minfer       \u001b[39m 1.0.7     \u001b[32m✔\u001b[39m \u001b[34mworkflows   \u001b[39m 1.1.4\n",
      "\u001b[32m✔\u001b[39m \u001b[34mmodeldata   \u001b[39m 1.4.0     \u001b[32m✔\u001b[39m \u001b[34mworkflowsets\u001b[39m 1.0.1\n",
      "\u001b[32m✔\u001b[39m \u001b[34mparsnip     \u001b[39m 1.2.1     \u001b[32m✔\u001b[39m \u001b[34myardstick   \u001b[39m 1.3.1\n",
      "\u001b[32m✔\u001b[39m \u001b[34mrecipes     \u001b[39m 1.1.0     \n",
      "\n",
      "── \u001b[1mConflicts\u001b[22m ───────────────────────────────────────── tidymodels_conflicts() ──\n",
      "\u001b[31m✖\u001b[39m \u001b[34mscales\u001b[39m::\u001b[32mdiscard()\u001b[39m masks \u001b[34mpurrr\u001b[39m::discard()\n",
      "\u001b[31m✖\u001b[39m \u001b[34mdplyr\u001b[39m::\u001b[32mfilter()\u001b[39m   masks \u001b[34mstats\u001b[39m::filter()\n",
      "\u001b[31m✖\u001b[39m \u001b[34mrecipes\u001b[39m::\u001b[32mfixed()\u001b[39m  masks \u001b[34mstringr\u001b[39m::fixed()\n",
      "\u001b[31m✖\u001b[39m \u001b[34mdplyr\u001b[39m::\u001b[32mlag()\u001b[39m      masks \u001b[34mstats\u001b[39m::lag()\n",
      "\u001b[31m✖\u001b[39m \u001b[34myardstick\u001b[39m::\u001b[32mspec()\u001b[39m masks \u001b[34mreadr\u001b[39m::spec()\n",
      "\u001b[31m✖\u001b[39m \u001b[34mrecipes\u001b[39m::\u001b[32mstep()\u001b[39m   masks \u001b[34mstats\u001b[39m::step()\n",
      "\u001b[34m•\u001b[39m Dig deeper into tidy modeling with R at \u001b[32mhttps://www.tmwr.org\u001b[39m\n",
      "\n",
      "\n",
      "Attaching package: ‘tidyclust’\n",
      "\n",
      "\n",
      "The following objects are masked from ‘package:parsnip’:\n",
      "\n",
      "    knit_engine_docs, list_md_problems\n",
      "\n",
      "\n"
     ]
    }
   ],
   "source": [
    "### Run this cell before continuing.\n",
    "library(tidyverse)\n",
    "library(tidymodels)\n",
    "library(tidyclust)\n",
    "library(forcats)\n",
    "library(repr)\n",
    "library(lubridate)\n",
    "library(dplyr)\n",
    "options(repr.matrix.max.rows = 6)"
   ]
  },
  {
   "cell_type": "markdown",
   "id": "567b5320-c742-4d17-a5f9-12a9568190d4",
   "metadata": {},
   "source": [
    "Read in the players.csv data using read_csv() and assign it to an object called players. The data is located within the data/ folder.\n"
   ]
  },
  {
   "cell_type": "code",
   "execution_count": 2,
   "id": "746e12e2-d377-4b40-99c4-0a55df679399",
   "metadata": {},
   "outputs": [
    {
     "name": "stderr",
     "output_type": "stream",
     "text": [
      "\u001b[1mRows: \u001b[22m\u001b[34m196\u001b[39m \u001b[1mColumns: \u001b[22m\u001b[34m7\u001b[39m\n",
      "\u001b[36m──\u001b[39m \u001b[1mColumn specification\u001b[22m \u001b[36m────────────────────────────────────────────────────────\u001b[39m\n",
      "\u001b[1mDelimiter:\u001b[22m \",\"\n",
      "\u001b[31mchr\u001b[39m (4): experience, hashedEmail, name, gender\n",
      "\u001b[32mdbl\u001b[39m (2): played_hours, Age\n",
      "\u001b[33mlgl\u001b[39m (1): subscribe\n",
      "\n",
      "\u001b[36mℹ\u001b[39m Use `spec()` to retrieve the full column specification for this data.\n",
      "\u001b[36mℹ\u001b[39m Specify the column types or set `show_col_types = FALSE` to quiet this message.\n"
     ]
    },
    {
     "data": {
      "text/html": [
       "<table class=\"dataframe\">\n",
       "<caption>A spec_tbl_df: 196 × 7</caption>\n",
       "<thead>\n",
       "\t<tr><th scope=col>experience</th><th scope=col>subscribe</th><th scope=col>hashedEmail</th><th scope=col>played_hours</th><th scope=col>name</th><th scope=col>gender</th><th scope=col>Age</th></tr>\n",
       "\t<tr><th scope=col>&lt;chr&gt;</th><th scope=col>&lt;lgl&gt;</th><th scope=col>&lt;chr&gt;</th><th scope=col>&lt;dbl&gt;</th><th scope=col>&lt;chr&gt;</th><th scope=col>&lt;chr&gt;</th><th scope=col>&lt;dbl&gt;</th></tr>\n",
       "</thead>\n",
       "<tbody>\n",
       "\t<tr><td>Pro    </td><td> TRUE</td><td>f6daba428a5e19a3d47574858c13550499be23603422e6a0ee9728f8b53e192d</td><td>30.3</td><td>Morgan   </td><td>Male</td><td> 9</td></tr>\n",
       "\t<tr><td>Veteran</td><td> TRUE</td><td>f3c813577c458ba0dfef80996f8f32c93b6e8af1fa939732842f2312358a88e9</td><td> 3.8</td><td>Christian</td><td>Male</td><td>17</td></tr>\n",
       "\t<tr><td>Veteran</td><td>FALSE</td><td>b674dd7ee0d24096d1c019615ce4d12b20fcbff12d79d3c5a9d2118eb7ccbb28</td><td> 0.0</td><td>Blake    </td><td>Male</td><td>17</td></tr>\n",
       "\t<tr><td>⋮</td><td>⋮</td><td>⋮</td><td>⋮</td><td>⋮</td><td>⋮</td><td>⋮</td></tr>\n",
       "\t<tr><td>Amateur</td><td>FALSE</td><td>d572f391d452b76ea2d7e5e53a3d38bfd7499c7399db299bd4fedb06a46ad5bb</td><td>0.0</td><td>Dylan </td><td>Prefer not to say</td><td>17</td></tr>\n",
       "\t<tr><td>Amateur</td><td>FALSE</td><td>f19e136ddde68f365afc860c725ccff54307dedd13968e896a9f890c40aea436</td><td>2.3</td><td>Harlow</td><td>Male             </td><td>17</td></tr>\n",
       "\t<tr><td>Pro    </td><td> TRUE</td><td>d9473710057f7d42f36570f0be83817a4eea614029ff90cf50d8889cdd729d11</td><td>0.2</td><td>Ahmed </td><td>Other            </td><td>NA</td></tr>\n",
       "</tbody>\n",
       "</table>\n"
      ],
      "text/latex": [
       "A spec\\_tbl\\_df: 196 × 7\n",
       "\\begin{tabular}{lllllll}\n",
       " experience & subscribe & hashedEmail & played\\_hours & name & gender & Age\\\\\n",
       " <chr> & <lgl> & <chr> & <dbl> & <chr> & <chr> & <dbl>\\\\\n",
       "\\hline\n",
       "\t Pro     &  TRUE & f6daba428a5e19a3d47574858c13550499be23603422e6a0ee9728f8b53e192d & 30.3 & Morgan    & Male &  9\\\\\n",
       "\t Veteran &  TRUE & f3c813577c458ba0dfef80996f8f32c93b6e8af1fa939732842f2312358a88e9 &  3.8 & Christian & Male & 17\\\\\n",
       "\t Veteran & FALSE & b674dd7ee0d24096d1c019615ce4d12b20fcbff12d79d3c5a9d2118eb7ccbb28 &  0.0 & Blake     & Male & 17\\\\\n",
       "\t ⋮ & ⋮ & ⋮ & ⋮ & ⋮ & ⋮ & ⋮\\\\\n",
       "\t Amateur & FALSE & d572f391d452b76ea2d7e5e53a3d38bfd7499c7399db299bd4fedb06a46ad5bb & 0.0 & Dylan  & Prefer not to say & 17\\\\\n",
       "\t Amateur & FALSE & f19e136ddde68f365afc860c725ccff54307dedd13968e896a9f890c40aea436 & 2.3 & Harlow & Male              & 17\\\\\n",
       "\t Pro     &  TRUE & d9473710057f7d42f36570f0be83817a4eea614029ff90cf50d8889cdd729d11 & 0.2 & Ahmed  & Other             & NA\\\\\n",
       "\\end{tabular}\n"
      ],
      "text/markdown": [
       "\n",
       "A spec_tbl_df: 196 × 7\n",
       "\n",
       "| experience &lt;chr&gt; | subscribe &lt;lgl&gt; | hashedEmail &lt;chr&gt; | played_hours &lt;dbl&gt; | name &lt;chr&gt; | gender &lt;chr&gt; | Age &lt;dbl&gt; |\n",
       "|---|---|---|---|---|---|---|\n",
       "| Pro     |  TRUE | f6daba428a5e19a3d47574858c13550499be23603422e6a0ee9728f8b53e192d | 30.3 | Morgan    | Male |  9 |\n",
       "| Veteran |  TRUE | f3c813577c458ba0dfef80996f8f32c93b6e8af1fa939732842f2312358a88e9 |  3.8 | Christian | Male | 17 |\n",
       "| Veteran | FALSE | b674dd7ee0d24096d1c019615ce4d12b20fcbff12d79d3c5a9d2118eb7ccbb28 |  0.0 | Blake     | Male | 17 |\n",
       "| ⋮ | ⋮ | ⋮ | ⋮ | ⋮ | ⋮ | ⋮ |\n",
       "| Amateur | FALSE | d572f391d452b76ea2d7e5e53a3d38bfd7499c7399db299bd4fedb06a46ad5bb | 0.0 | Dylan  | Prefer not to say | 17 |\n",
       "| Amateur | FALSE | f19e136ddde68f365afc860c725ccff54307dedd13968e896a9f890c40aea436 | 2.3 | Harlow | Male              | 17 |\n",
       "| Pro     |  TRUE | d9473710057f7d42f36570f0be83817a4eea614029ff90cf50d8889cdd729d11 | 0.2 | Ahmed  | Other             | NA |\n",
       "\n"
      ],
      "text/plain": [
       "    experience subscribe\n",
       "1   Pro         TRUE    \n",
       "2   Veteran     TRUE    \n",
       "3   Veteran    FALSE    \n",
       "⋮   ⋮          ⋮        \n",
       "194 Amateur    FALSE    \n",
       "195 Amateur    FALSE    \n",
       "196 Pro         TRUE    \n",
       "    hashedEmail                                                     \n",
       "1   f6daba428a5e19a3d47574858c13550499be23603422e6a0ee9728f8b53e192d\n",
       "2   f3c813577c458ba0dfef80996f8f32c93b6e8af1fa939732842f2312358a88e9\n",
       "3   b674dd7ee0d24096d1c019615ce4d12b20fcbff12d79d3c5a9d2118eb7ccbb28\n",
       "⋮   ⋮                                                               \n",
       "194 d572f391d452b76ea2d7e5e53a3d38bfd7499c7399db299bd4fedb06a46ad5bb\n",
       "195 f19e136ddde68f365afc860c725ccff54307dedd13968e896a9f890c40aea436\n",
       "196 d9473710057f7d42f36570f0be83817a4eea614029ff90cf50d8889cdd729d11\n",
       "    played_hours name      gender            Age\n",
       "1   30.3         Morgan    Male               9 \n",
       "2    3.8         Christian Male              17 \n",
       "3    0.0         Blake     Male              17 \n",
       "⋮   ⋮            ⋮         ⋮                 ⋮  \n",
       "194 0.0          Dylan     Prefer not to say 17 \n",
       "195 2.3          Harlow    Male              17 \n",
       "196 0.2          Ahmed     Other             NA "
      ]
     },
     "metadata": {},
     "output_type": "display_data"
    }
   ],
   "source": [
    "players <- read_csv(\"Data/players.csv\")\n",
    "players"
   ]
  },
  {
   "cell_type": "markdown",
   "id": "b95c6933-f5fb-4661-a1b9-ff65e231ddc0",
   "metadata": {},
   "source": [
    "Read in the sessions.csv data using read_csv() and assign it to an object called sessions. The data is located within the data/ folder."
   ]
  },
  {
   "cell_type": "code",
   "execution_count": 3,
   "id": "c005551b-23c0-4bdc-9841-8c463126d061",
   "metadata": {},
   "outputs": [
    {
     "name": "stderr",
     "output_type": "stream",
     "text": [
      "\u001b[1mRows: \u001b[22m\u001b[34m1535\u001b[39m \u001b[1mColumns: \u001b[22m\u001b[34m5\u001b[39m\n",
      "\u001b[36m──\u001b[39m \u001b[1mColumn specification\u001b[22m \u001b[36m────────────────────────────────────────────────────────\u001b[39m\n",
      "\u001b[1mDelimiter:\u001b[22m \",\"\n",
      "\u001b[31mchr\u001b[39m (3): hashedEmail, start_time, end_time\n",
      "\u001b[32mdbl\u001b[39m (2): original_start_time, original_end_time\n",
      "\n",
      "\u001b[36mℹ\u001b[39m Use `spec()` to retrieve the full column specification for this data.\n",
      "\u001b[36mℹ\u001b[39m Specify the column types or set `show_col_types = FALSE` to quiet this message.\n"
     ]
    },
    {
     "data": {
      "text/html": [
       "<table class=\"dataframe\">\n",
       "<caption>A spec_tbl_df: 1535 × 5</caption>\n",
       "<thead>\n",
       "\t<tr><th scope=col>hashedEmail</th><th scope=col>start_time</th><th scope=col>end_time</th><th scope=col>original_start_time</th><th scope=col>original_end_time</th></tr>\n",
       "\t<tr><th scope=col>&lt;chr&gt;</th><th scope=col>&lt;chr&gt;</th><th scope=col>&lt;chr&gt;</th><th scope=col>&lt;dbl&gt;</th><th scope=col>&lt;dbl&gt;</th></tr>\n",
       "</thead>\n",
       "<tbody>\n",
       "\t<tr><td>bfce39c89d6549f2bb94d8064d3ce69dc3d7e72b38f431d8aa0c4bf95ccee6bf</td><td>30/06/2024 18:12</td><td>30/06/2024 18:24</td><td>1.71977e+12</td><td>1.71977e+12</td></tr>\n",
       "\t<tr><td>36d9cbb4c6bc0c1a6911436d2da0d09ec625e43e6552f575d4acc9cf487c4686</td><td>17/06/2024 23:33</td><td>17/06/2024 23:46</td><td>1.71867e+12</td><td>1.71867e+12</td></tr>\n",
       "\t<tr><td>f8f5477f5a2e53616ae37421b1c660b971192bd8ff77e3398304c7ae42581fdc</td><td>25/07/2024 17:34</td><td>25/07/2024 17:57</td><td>1.72193e+12</td><td>1.72193e+12</td></tr>\n",
       "\t<tr><td>⋮</td><td>⋮</td><td>⋮</td><td>⋮</td><td>⋮</td></tr>\n",
       "\t<tr><td>fd6563a4e0f6f4273580e5fedbd8dda64990447aea5a33cbb5e894a3867ca44d</td><td>28/07/2024 15:36</td><td>28/07/2024 15:57</td><td>1.72218e+12</td><td>1.72218e+12</td></tr>\n",
       "\t<tr><td>fd6563a4e0f6f4273580e5fedbd8dda64990447aea5a33cbb5e894a3867ca44d</td><td>25/07/2024 06:15</td><td>25/07/2024 06:22</td><td>1.72189e+12</td><td>1.72189e+12</td></tr>\n",
       "\t<tr><td>36d9cbb4c6bc0c1a6911436d2da0d09ec625e43e6552f575d4acc9cf487c4686</td><td>20/05/2024 02:26</td><td>20/05/2024 02:45</td><td>1.71617e+12</td><td>1.71617e+12</td></tr>\n",
       "</tbody>\n",
       "</table>\n"
      ],
      "text/latex": [
       "A spec\\_tbl\\_df: 1535 × 5\n",
       "\\begin{tabular}{lllll}\n",
       " hashedEmail & start\\_time & end\\_time & original\\_start\\_time & original\\_end\\_time\\\\\n",
       " <chr> & <chr> & <chr> & <dbl> & <dbl>\\\\\n",
       "\\hline\n",
       "\t bfce39c89d6549f2bb94d8064d3ce69dc3d7e72b38f431d8aa0c4bf95ccee6bf & 30/06/2024 18:12 & 30/06/2024 18:24 & 1.71977e+12 & 1.71977e+12\\\\\n",
       "\t 36d9cbb4c6bc0c1a6911436d2da0d09ec625e43e6552f575d4acc9cf487c4686 & 17/06/2024 23:33 & 17/06/2024 23:46 & 1.71867e+12 & 1.71867e+12\\\\\n",
       "\t f8f5477f5a2e53616ae37421b1c660b971192bd8ff77e3398304c7ae42581fdc & 25/07/2024 17:34 & 25/07/2024 17:57 & 1.72193e+12 & 1.72193e+12\\\\\n",
       "\t ⋮ & ⋮ & ⋮ & ⋮ & ⋮\\\\\n",
       "\t fd6563a4e0f6f4273580e5fedbd8dda64990447aea5a33cbb5e894a3867ca44d & 28/07/2024 15:36 & 28/07/2024 15:57 & 1.72218e+12 & 1.72218e+12\\\\\n",
       "\t fd6563a4e0f6f4273580e5fedbd8dda64990447aea5a33cbb5e894a3867ca44d & 25/07/2024 06:15 & 25/07/2024 06:22 & 1.72189e+12 & 1.72189e+12\\\\\n",
       "\t 36d9cbb4c6bc0c1a6911436d2da0d09ec625e43e6552f575d4acc9cf487c4686 & 20/05/2024 02:26 & 20/05/2024 02:45 & 1.71617e+12 & 1.71617e+12\\\\\n",
       "\\end{tabular}\n"
      ],
      "text/markdown": [
       "\n",
       "A spec_tbl_df: 1535 × 5\n",
       "\n",
       "| hashedEmail &lt;chr&gt; | start_time &lt;chr&gt; | end_time &lt;chr&gt; | original_start_time &lt;dbl&gt; | original_end_time &lt;dbl&gt; |\n",
       "|---|---|---|---|---|\n",
       "| bfce39c89d6549f2bb94d8064d3ce69dc3d7e72b38f431d8aa0c4bf95ccee6bf | 30/06/2024 18:12 | 30/06/2024 18:24 | 1.71977e+12 | 1.71977e+12 |\n",
       "| 36d9cbb4c6bc0c1a6911436d2da0d09ec625e43e6552f575d4acc9cf487c4686 | 17/06/2024 23:33 | 17/06/2024 23:46 | 1.71867e+12 | 1.71867e+12 |\n",
       "| f8f5477f5a2e53616ae37421b1c660b971192bd8ff77e3398304c7ae42581fdc | 25/07/2024 17:34 | 25/07/2024 17:57 | 1.72193e+12 | 1.72193e+12 |\n",
       "| ⋮ | ⋮ | ⋮ | ⋮ | ⋮ |\n",
       "| fd6563a4e0f6f4273580e5fedbd8dda64990447aea5a33cbb5e894a3867ca44d | 28/07/2024 15:36 | 28/07/2024 15:57 | 1.72218e+12 | 1.72218e+12 |\n",
       "| fd6563a4e0f6f4273580e5fedbd8dda64990447aea5a33cbb5e894a3867ca44d | 25/07/2024 06:15 | 25/07/2024 06:22 | 1.72189e+12 | 1.72189e+12 |\n",
       "| 36d9cbb4c6bc0c1a6911436d2da0d09ec625e43e6552f575d4acc9cf487c4686 | 20/05/2024 02:26 | 20/05/2024 02:45 | 1.71617e+12 | 1.71617e+12 |\n",
       "\n"
      ],
      "text/plain": [
       "     hashedEmail                                                     \n",
       "1    bfce39c89d6549f2bb94d8064d3ce69dc3d7e72b38f431d8aa0c4bf95ccee6bf\n",
       "2    36d9cbb4c6bc0c1a6911436d2da0d09ec625e43e6552f575d4acc9cf487c4686\n",
       "3    f8f5477f5a2e53616ae37421b1c660b971192bd8ff77e3398304c7ae42581fdc\n",
       "⋮    ⋮                                                               \n",
       "1533 fd6563a4e0f6f4273580e5fedbd8dda64990447aea5a33cbb5e894a3867ca44d\n",
       "1534 fd6563a4e0f6f4273580e5fedbd8dda64990447aea5a33cbb5e894a3867ca44d\n",
       "1535 36d9cbb4c6bc0c1a6911436d2da0d09ec625e43e6552f575d4acc9cf487c4686\n",
       "     start_time       end_time         original_start_time original_end_time\n",
       "1    30/06/2024 18:12 30/06/2024 18:24 1.71977e+12         1.71977e+12      \n",
       "2    17/06/2024 23:33 17/06/2024 23:46 1.71867e+12         1.71867e+12      \n",
       "3    25/07/2024 17:34 25/07/2024 17:57 1.72193e+12         1.72193e+12      \n",
       "⋮    ⋮                ⋮                ⋮                   ⋮                \n",
       "1533 28/07/2024 15:36 28/07/2024 15:57 1.72218e+12         1.72218e+12      \n",
       "1534 25/07/2024 06:15 25/07/2024 06:22 1.72189e+12         1.72189e+12      \n",
       "1535 20/05/2024 02:26 20/05/2024 02:45 1.71617e+12         1.71617e+12      "
      ]
     },
     "metadata": {},
     "output_type": "display_data"
    }
   ],
   "source": [
    "sessions <- read_csv(\"Data/sessions.csv\")\n",
    "sessions"
   ]
  },
  {
   "cell_type": "markdown",
   "id": "c30f1361-6fe0-43bb-9ff5-ce2d2159211e",
   "metadata": {},
   "source": [
    "Merge the datasets on hashedEmail using the inner_join() function. This is useful for combining player characteristics with their session data, which is essential to analyze how player behavior (from sessions.csv) relates to subscription status (from players.csv)."
   ]
  },
  {
   "cell_type": "code",
   "execution_count": 6,
   "id": "ad749233-3711-4a96-aed2-8014e7c722b4",
   "metadata": {},
   "outputs": [
    {
     "data": {
      "text/html": [
       "<table class=\"dataframe\">\n",
       "<caption>A spec_tbl_df: 1535 × 11</caption>\n",
       "<thead>\n",
       "\t<tr><th scope=col>experience</th><th scope=col>subscribe</th><th scope=col>hashedEmail</th><th scope=col>played_hours</th><th scope=col>name</th><th scope=col>gender</th><th scope=col>Age</th><th scope=col>start_time</th><th scope=col>end_time</th><th scope=col>original_start_time</th><th scope=col>original_end_time</th></tr>\n",
       "\t<tr><th scope=col>&lt;chr&gt;</th><th scope=col>&lt;lgl&gt;</th><th scope=col>&lt;chr&gt;</th><th scope=col>&lt;dbl&gt;</th><th scope=col>&lt;chr&gt;</th><th scope=col>&lt;chr&gt;</th><th scope=col>&lt;dbl&gt;</th><th scope=col>&lt;chr&gt;</th><th scope=col>&lt;chr&gt;</th><th scope=col>&lt;dbl&gt;</th><th scope=col>&lt;dbl&gt;</th></tr>\n",
       "</thead>\n",
       "<tbody>\n",
       "\t<tr><td>Pro</td><td>TRUE</td><td>f6daba428a5e19a3d47574858c13550499be23603422e6a0ee9728f8b53e192d</td><td>30.3</td><td>Morgan</td><td>Male</td><td>9</td><td>08/08/2024 00:21</td><td>08/08/2024 01:35</td><td>1.72308e+12</td><td>1.72308e+12</td></tr>\n",
       "\t<tr><td>Pro</td><td>TRUE</td><td>f6daba428a5e19a3d47574858c13550499be23603422e6a0ee9728f8b53e192d</td><td>30.3</td><td>Morgan</td><td>Male</td><td>9</td><td>09/09/2024 22:30</td><td>09/09/2024 22:37</td><td>1.72592e+12</td><td>1.72592e+12</td></tr>\n",
       "\t<tr><td>Pro</td><td>TRUE</td><td>f6daba428a5e19a3d47574858c13550499be23603422e6a0ee9728f8b53e192d</td><td>30.3</td><td>Morgan</td><td>Male</td><td>9</td><td>08/08/2024 02:41</td><td>08/08/2024 03:25</td><td>1.72308e+12</td><td>1.72309e+12</td></tr>\n",
       "\t<tr><td>⋮</td><td>⋮</td><td>⋮</td><td>⋮</td><td>⋮</td><td>⋮</td><td>⋮</td><td>⋮</td><td>⋮</td><td>⋮</td><td>⋮</td></tr>\n",
       "\t<tr><td>Amateur</td><td>FALSE</td><td>f19e136ddde68f365afc860c725ccff54307dedd13968e896a9f890c40aea436</td><td>2.3</td><td>Harlow</td><td>Male </td><td>17</td><td>23/08/2024 21:39</td><td>23/08/2024 21:53</td><td>1.72445e+12</td><td>1.72445e+12</td></tr>\n",
       "\t<tr><td>Amateur</td><td>FALSE</td><td>f19e136ddde68f365afc860c725ccff54307dedd13968e896a9f890c40aea436</td><td>2.3</td><td>Harlow</td><td>Male </td><td>17</td><td>08/09/2024 19:40</td><td>08/09/2024 19:45</td><td>1.72582e+12</td><td>1.72582e+12</td></tr>\n",
       "\t<tr><td>Pro    </td><td> TRUE</td><td>d9473710057f7d42f36570f0be83817a4eea614029ff90cf50d8889cdd729d11</td><td>0.2</td><td>Ahmed </td><td>Other</td><td>NA</td><td>08/05/2024 19:29</td><td>08/05/2024 19:44</td><td>1.71520e+12</td><td>1.71520e+12</td></tr>\n",
       "</tbody>\n",
       "</table>\n"
      ],
      "text/latex": [
       "A spec\\_tbl\\_df: 1535 × 11\n",
       "\\begin{tabular}{lllllllllll}\n",
       " experience & subscribe & hashedEmail & played\\_hours & name & gender & Age & start\\_time & end\\_time & original\\_start\\_time & original\\_end\\_time\\\\\n",
       " <chr> & <lgl> & <chr> & <dbl> & <chr> & <chr> & <dbl> & <chr> & <chr> & <dbl> & <dbl>\\\\\n",
       "\\hline\n",
       "\t Pro & TRUE & f6daba428a5e19a3d47574858c13550499be23603422e6a0ee9728f8b53e192d & 30.3 & Morgan & Male & 9 & 08/08/2024 00:21 & 08/08/2024 01:35 & 1.72308e+12 & 1.72308e+12\\\\\n",
       "\t Pro & TRUE & f6daba428a5e19a3d47574858c13550499be23603422e6a0ee9728f8b53e192d & 30.3 & Morgan & Male & 9 & 09/09/2024 22:30 & 09/09/2024 22:37 & 1.72592e+12 & 1.72592e+12\\\\\n",
       "\t Pro & TRUE & f6daba428a5e19a3d47574858c13550499be23603422e6a0ee9728f8b53e192d & 30.3 & Morgan & Male & 9 & 08/08/2024 02:41 & 08/08/2024 03:25 & 1.72308e+12 & 1.72309e+12\\\\\n",
       "\t ⋮ & ⋮ & ⋮ & ⋮ & ⋮ & ⋮ & ⋮ & ⋮ & ⋮ & ⋮ & ⋮\\\\\n",
       "\t Amateur & FALSE & f19e136ddde68f365afc860c725ccff54307dedd13968e896a9f890c40aea436 & 2.3 & Harlow & Male  & 17 & 23/08/2024 21:39 & 23/08/2024 21:53 & 1.72445e+12 & 1.72445e+12\\\\\n",
       "\t Amateur & FALSE & f19e136ddde68f365afc860c725ccff54307dedd13968e896a9f890c40aea436 & 2.3 & Harlow & Male  & 17 & 08/09/2024 19:40 & 08/09/2024 19:45 & 1.72582e+12 & 1.72582e+12\\\\\n",
       "\t Pro     &  TRUE & d9473710057f7d42f36570f0be83817a4eea614029ff90cf50d8889cdd729d11 & 0.2 & Ahmed  & Other & NA & 08/05/2024 19:29 & 08/05/2024 19:44 & 1.71520e+12 & 1.71520e+12\\\\\n",
       "\\end{tabular}\n"
      ],
      "text/markdown": [
       "\n",
       "A spec_tbl_df: 1535 × 11\n",
       "\n",
       "| experience &lt;chr&gt; | subscribe &lt;lgl&gt; | hashedEmail &lt;chr&gt; | played_hours &lt;dbl&gt; | name &lt;chr&gt; | gender &lt;chr&gt; | Age &lt;dbl&gt; | start_time &lt;chr&gt; | end_time &lt;chr&gt; | original_start_time &lt;dbl&gt; | original_end_time &lt;dbl&gt; |\n",
       "|---|---|---|---|---|---|---|---|---|---|---|\n",
       "| Pro | TRUE | f6daba428a5e19a3d47574858c13550499be23603422e6a0ee9728f8b53e192d | 30.3 | Morgan | Male | 9 | 08/08/2024 00:21 | 08/08/2024 01:35 | 1.72308e+12 | 1.72308e+12 |\n",
       "| Pro | TRUE | f6daba428a5e19a3d47574858c13550499be23603422e6a0ee9728f8b53e192d | 30.3 | Morgan | Male | 9 | 09/09/2024 22:30 | 09/09/2024 22:37 | 1.72592e+12 | 1.72592e+12 |\n",
       "| Pro | TRUE | f6daba428a5e19a3d47574858c13550499be23603422e6a0ee9728f8b53e192d | 30.3 | Morgan | Male | 9 | 08/08/2024 02:41 | 08/08/2024 03:25 | 1.72308e+12 | 1.72309e+12 |\n",
       "| ⋮ | ⋮ | ⋮ | ⋮ | ⋮ | ⋮ | ⋮ | ⋮ | ⋮ | ⋮ | ⋮ |\n",
       "| Amateur | FALSE | f19e136ddde68f365afc860c725ccff54307dedd13968e896a9f890c40aea436 | 2.3 | Harlow | Male  | 17 | 23/08/2024 21:39 | 23/08/2024 21:53 | 1.72445e+12 | 1.72445e+12 |\n",
       "| Amateur | FALSE | f19e136ddde68f365afc860c725ccff54307dedd13968e896a9f890c40aea436 | 2.3 | Harlow | Male  | 17 | 08/09/2024 19:40 | 08/09/2024 19:45 | 1.72582e+12 | 1.72582e+12 |\n",
       "| Pro     |  TRUE | d9473710057f7d42f36570f0be83817a4eea614029ff90cf50d8889cdd729d11 | 0.2 | Ahmed  | Other | NA | 08/05/2024 19:29 | 08/05/2024 19:44 | 1.71520e+12 | 1.71520e+12 |\n",
       "\n"
      ],
      "text/plain": [
       "     experience subscribe\n",
       "1    Pro        TRUE     \n",
       "2    Pro        TRUE     \n",
       "3    Pro        TRUE     \n",
       "⋮    ⋮          ⋮        \n",
       "1533 Amateur    FALSE    \n",
       "1534 Amateur    FALSE    \n",
       "1535 Pro         TRUE    \n",
       "     hashedEmail                                                     \n",
       "1    f6daba428a5e19a3d47574858c13550499be23603422e6a0ee9728f8b53e192d\n",
       "2    f6daba428a5e19a3d47574858c13550499be23603422e6a0ee9728f8b53e192d\n",
       "3    f6daba428a5e19a3d47574858c13550499be23603422e6a0ee9728f8b53e192d\n",
       "⋮    ⋮                                                               \n",
       "1533 f19e136ddde68f365afc860c725ccff54307dedd13968e896a9f890c40aea436\n",
       "1534 f19e136ddde68f365afc860c725ccff54307dedd13968e896a9f890c40aea436\n",
       "1535 d9473710057f7d42f36570f0be83817a4eea614029ff90cf50d8889cdd729d11\n",
       "     played_hours name   gender Age start_time       end_time        \n",
       "1    30.3         Morgan Male   9   08/08/2024 00:21 08/08/2024 01:35\n",
       "2    30.3         Morgan Male   9   09/09/2024 22:30 09/09/2024 22:37\n",
       "3    30.3         Morgan Male   9   08/08/2024 02:41 08/08/2024 03:25\n",
       "⋮    ⋮            ⋮      ⋮      ⋮   ⋮                ⋮               \n",
       "1533 2.3          Harlow Male   17  23/08/2024 21:39 23/08/2024 21:53\n",
       "1534 2.3          Harlow Male   17  08/09/2024 19:40 08/09/2024 19:45\n",
       "1535 0.2          Ahmed  Other  NA  08/05/2024 19:29 08/05/2024 19:44\n",
       "     original_start_time original_end_time\n",
       "1    1.72308e+12         1.72308e+12      \n",
       "2    1.72592e+12         1.72592e+12      \n",
       "3    1.72308e+12         1.72309e+12      \n",
       "⋮    ⋮                   ⋮                \n",
       "1533 1.72445e+12         1.72445e+12      \n",
       "1534 1.72582e+12         1.72582e+12      \n",
       "1535 1.71520e+12         1.71520e+12      "
      ]
     },
     "metadata": {},
     "output_type": "display_data"
    }
   ],
   "source": [
    "merged_data <- inner_join(players, sessions, by = \"hashedEmail\")\n",
    "merged_data"
   ]
  },
  {
   "cell_type": "markdown",
   "id": "40b21d73-8b26-4141-9dbc-ac5a82cf5ee3",
   "metadata": {},
   "source": [
    "View your new data frame, by using the glimpse() function.\n",
    "Then, convert the time strings to datetime objects (dmy_hm) and calculate session length in minutes (session_length_min) by using the mutate() function.\n",
    "Label your object name merged_data_1. "
   ]
  },
  {
   "cell_type": "code",
   "execution_count": 7,
   "id": "8f8e6510-fac8-4f42-908a-60dec87f3e1e",
   "metadata": {},
   "outputs": [
    {
     "name": "stdout",
     "output_type": "stream",
     "text": [
      "Rows: 1,535\n",
      "Columns: 11\n",
      "$ experience          \u001b[3m\u001b[90m<chr>\u001b[39m\u001b[23m \"Pro\", \"Pro\", \"Pro\", \"Pro\", \"Pro\", \"Pro\", \"Pro\", \"…\n",
      "$ subscribe           \u001b[3m\u001b[90m<lgl>\u001b[39m\u001b[23m TRUE, TRUE, TRUE, TRUE, TRUE, TRUE, TRUE, TRUE, TR…\n",
      "$ hashedEmail         \u001b[3m\u001b[90m<chr>\u001b[39m\u001b[23m \"f6daba428a5e19a3d47574858c13550499be23603422e6a0e…\n",
      "$ played_hours        \u001b[3m\u001b[90m<dbl>\u001b[39m\u001b[23m 30.3, 30.3, 30.3, 30.3, 30.3, 30.3, 30.3, 30.3, 30…\n",
      "$ name                \u001b[3m\u001b[90m<chr>\u001b[39m\u001b[23m \"Morgan\", \"Morgan\", \"Morgan\", \"Morgan\", \"Morgan\", …\n",
      "$ gender              \u001b[3m\u001b[90m<chr>\u001b[39m\u001b[23m \"Male\", \"Male\", \"Male\", \"Male\", \"Male\", \"Male\", \"M…\n",
      "$ Age                 \u001b[3m\u001b[90m<dbl>\u001b[39m\u001b[23m 9, 9, 9, 9, 9, 9, 9, 9, 9, 9, 9, 9, 9, 9, 9, 9, 9,…\n",
      "$ start_time          \u001b[3m\u001b[90m<chr>\u001b[39m\u001b[23m \"08/08/2024 00:21\", \"09/09/2024 22:30\", \"08/08/202…\n",
      "$ end_time            \u001b[3m\u001b[90m<chr>\u001b[39m\u001b[23m \"08/08/2024 01:35\", \"09/09/2024 22:37\", \"08/08/202…\n",
      "$ original_start_time \u001b[3m\u001b[90m<dbl>\u001b[39m\u001b[23m 1.72308e+12, 1.72592e+12, 1.72308e+12, 1.72598e+12…\n",
      "$ original_end_time   \u001b[3m\u001b[90m<dbl>\u001b[39m\u001b[23m 1.72308e+12, 1.72592e+12, 1.72309e+12, 1.72598e+12…\n"
     ]
    }
   ],
   "source": [
    "glimpse(merged_data)"
   ]
  },
  {
   "cell_type": "code",
   "execution_count": 8,
   "id": "9987a0b1-ae05-40b2-a604-0b766279a126",
   "metadata": {},
   "outputs": [
    {
     "data": {
      "text/html": [
       "<table class=\"dataframe\">\n",
       "<caption>A tibble: 1535 × 12</caption>\n",
       "<thead>\n",
       "\t<tr><th scope=col>experience</th><th scope=col>subscribe</th><th scope=col>hashedEmail</th><th scope=col>played_hours</th><th scope=col>name</th><th scope=col>gender</th><th scope=col>Age</th><th scope=col>start_time</th><th scope=col>end_time</th><th scope=col>original_start_time</th><th scope=col>original_end_time</th><th scope=col>session_length_min</th></tr>\n",
       "\t<tr><th scope=col>&lt;chr&gt;</th><th scope=col>&lt;lgl&gt;</th><th scope=col>&lt;chr&gt;</th><th scope=col>&lt;dbl&gt;</th><th scope=col>&lt;chr&gt;</th><th scope=col>&lt;chr&gt;</th><th scope=col>&lt;dbl&gt;</th><th scope=col>&lt;dttm&gt;</th><th scope=col>&lt;dttm&gt;</th><th scope=col>&lt;dbl&gt;</th><th scope=col>&lt;dbl&gt;</th><th scope=col>&lt;dbl&gt;</th></tr>\n",
       "</thead>\n",
       "<tbody>\n",
       "\t<tr><td>Pro</td><td>TRUE</td><td>f6daba428a5e19a3d47574858c13550499be23603422e6a0ee9728f8b53e192d</td><td>30.3</td><td>Morgan</td><td>Male</td><td>9</td><td>2024-08-08 00:21:00</td><td>2024-08-08 01:35:00</td><td>1.72308e+12</td><td>1.72308e+12</td><td>74</td></tr>\n",
       "\t<tr><td>Pro</td><td>TRUE</td><td>f6daba428a5e19a3d47574858c13550499be23603422e6a0ee9728f8b53e192d</td><td>30.3</td><td>Morgan</td><td>Male</td><td>9</td><td>2024-09-09 22:30:00</td><td>2024-09-09 22:37:00</td><td>1.72592e+12</td><td>1.72592e+12</td><td> 7</td></tr>\n",
       "\t<tr><td>Pro</td><td>TRUE</td><td>f6daba428a5e19a3d47574858c13550499be23603422e6a0ee9728f8b53e192d</td><td>30.3</td><td>Morgan</td><td>Male</td><td>9</td><td>2024-08-08 02:41:00</td><td>2024-08-08 03:25:00</td><td>1.72308e+12</td><td>1.72309e+12</td><td>44</td></tr>\n",
       "\t<tr><td>⋮</td><td>⋮</td><td>⋮</td><td>⋮</td><td>⋮</td><td>⋮</td><td>⋮</td><td>⋮</td><td>⋮</td><td>⋮</td><td>⋮</td><td>⋮</td></tr>\n",
       "\t<tr><td>Amateur</td><td>FALSE</td><td>f19e136ddde68f365afc860c725ccff54307dedd13968e896a9f890c40aea436</td><td>2.3</td><td>Harlow</td><td>Male </td><td>17</td><td>2024-08-23 21:39:00</td><td>2024-08-23 21:53:00</td><td>1.72445e+12</td><td>1.72445e+12</td><td>14</td></tr>\n",
       "\t<tr><td>Amateur</td><td>FALSE</td><td>f19e136ddde68f365afc860c725ccff54307dedd13968e896a9f890c40aea436</td><td>2.3</td><td>Harlow</td><td>Male </td><td>17</td><td>2024-09-08 19:40:00</td><td>2024-09-08 19:45:00</td><td>1.72582e+12</td><td>1.72582e+12</td><td> 5</td></tr>\n",
       "\t<tr><td>Pro    </td><td> TRUE</td><td>d9473710057f7d42f36570f0be83817a4eea614029ff90cf50d8889cdd729d11</td><td>0.2</td><td>Ahmed </td><td>Other</td><td>NA</td><td>2024-05-08 19:29:00</td><td>2024-05-08 19:44:00</td><td>1.71520e+12</td><td>1.71520e+12</td><td>15</td></tr>\n",
       "</tbody>\n",
       "</table>\n"
      ],
      "text/latex": [
       "A tibble: 1535 × 12\n",
       "\\begin{tabular}{llllllllllll}\n",
       " experience & subscribe & hashedEmail & played\\_hours & name & gender & Age & start\\_time & end\\_time & original\\_start\\_time & original\\_end\\_time & session\\_length\\_min\\\\\n",
       " <chr> & <lgl> & <chr> & <dbl> & <chr> & <chr> & <dbl> & <dttm> & <dttm> & <dbl> & <dbl> & <dbl>\\\\\n",
       "\\hline\n",
       "\t Pro & TRUE & f6daba428a5e19a3d47574858c13550499be23603422e6a0ee9728f8b53e192d & 30.3 & Morgan & Male & 9 & 2024-08-08 00:21:00 & 2024-08-08 01:35:00 & 1.72308e+12 & 1.72308e+12 & 74\\\\\n",
       "\t Pro & TRUE & f6daba428a5e19a3d47574858c13550499be23603422e6a0ee9728f8b53e192d & 30.3 & Morgan & Male & 9 & 2024-09-09 22:30:00 & 2024-09-09 22:37:00 & 1.72592e+12 & 1.72592e+12 &  7\\\\\n",
       "\t Pro & TRUE & f6daba428a5e19a3d47574858c13550499be23603422e6a0ee9728f8b53e192d & 30.3 & Morgan & Male & 9 & 2024-08-08 02:41:00 & 2024-08-08 03:25:00 & 1.72308e+12 & 1.72309e+12 & 44\\\\\n",
       "\t ⋮ & ⋮ & ⋮ & ⋮ & ⋮ & ⋮ & ⋮ & ⋮ & ⋮ & ⋮ & ⋮ & ⋮\\\\\n",
       "\t Amateur & FALSE & f19e136ddde68f365afc860c725ccff54307dedd13968e896a9f890c40aea436 & 2.3 & Harlow & Male  & 17 & 2024-08-23 21:39:00 & 2024-08-23 21:53:00 & 1.72445e+12 & 1.72445e+12 & 14\\\\\n",
       "\t Amateur & FALSE & f19e136ddde68f365afc860c725ccff54307dedd13968e896a9f890c40aea436 & 2.3 & Harlow & Male  & 17 & 2024-09-08 19:40:00 & 2024-09-08 19:45:00 & 1.72582e+12 & 1.72582e+12 &  5\\\\\n",
       "\t Pro     &  TRUE & d9473710057f7d42f36570f0be83817a4eea614029ff90cf50d8889cdd729d11 & 0.2 & Ahmed  & Other & NA & 2024-05-08 19:29:00 & 2024-05-08 19:44:00 & 1.71520e+12 & 1.71520e+12 & 15\\\\\n",
       "\\end{tabular}\n"
      ],
      "text/markdown": [
       "\n",
       "A tibble: 1535 × 12\n",
       "\n",
       "| experience &lt;chr&gt; | subscribe &lt;lgl&gt; | hashedEmail &lt;chr&gt; | played_hours &lt;dbl&gt; | name &lt;chr&gt; | gender &lt;chr&gt; | Age &lt;dbl&gt; | start_time &lt;dttm&gt; | end_time &lt;dttm&gt; | original_start_time &lt;dbl&gt; | original_end_time &lt;dbl&gt; | session_length_min &lt;dbl&gt; |\n",
       "|---|---|---|---|---|---|---|---|---|---|---|---|\n",
       "| Pro | TRUE | f6daba428a5e19a3d47574858c13550499be23603422e6a0ee9728f8b53e192d | 30.3 | Morgan | Male | 9 | 2024-08-08 00:21:00 | 2024-08-08 01:35:00 | 1.72308e+12 | 1.72308e+12 | 74 |\n",
       "| Pro | TRUE | f6daba428a5e19a3d47574858c13550499be23603422e6a0ee9728f8b53e192d | 30.3 | Morgan | Male | 9 | 2024-09-09 22:30:00 | 2024-09-09 22:37:00 | 1.72592e+12 | 1.72592e+12 |  7 |\n",
       "| Pro | TRUE | f6daba428a5e19a3d47574858c13550499be23603422e6a0ee9728f8b53e192d | 30.3 | Morgan | Male | 9 | 2024-08-08 02:41:00 | 2024-08-08 03:25:00 | 1.72308e+12 | 1.72309e+12 | 44 |\n",
       "| ⋮ | ⋮ | ⋮ | ⋮ | ⋮ | ⋮ | ⋮ | ⋮ | ⋮ | ⋮ | ⋮ | ⋮ |\n",
       "| Amateur | FALSE | f19e136ddde68f365afc860c725ccff54307dedd13968e896a9f890c40aea436 | 2.3 | Harlow | Male  | 17 | 2024-08-23 21:39:00 | 2024-08-23 21:53:00 | 1.72445e+12 | 1.72445e+12 | 14 |\n",
       "| Amateur | FALSE | f19e136ddde68f365afc860c725ccff54307dedd13968e896a9f890c40aea436 | 2.3 | Harlow | Male  | 17 | 2024-09-08 19:40:00 | 2024-09-08 19:45:00 | 1.72582e+12 | 1.72582e+12 |  5 |\n",
       "| Pro     |  TRUE | d9473710057f7d42f36570f0be83817a4eea614029ff90cf50d8889cdd729d11 | 0.2 | Ahmed  | Other | NA | 2024-05-08 19:29:00 | 2024-05-08 19:44:00 | 1.71520e+12 | 1.71520e+12 | 15 |\n",
       "\n"
      ],
      "text/plain": [
       "     experience subscribe\n",
       "1    Pro        TRUE     \n",
       "2    Pro        TRUE     \n",
       "3    Pro        TRUE     \n",
       "⋮    ⋮          ⋮        \n",
       "1533 Amateur    FALSE    \n",
       "1534 Amateur    FALSE    \n",
       "1535 Pro         TRUE    \n",
       "     hashedEmail                                                     \n",
       "1    f6daba428a5e19a3d47574858c13550499be23603422e6a0ee9728f8b53e192d\n",
       "2    f6daba428a5e19a3d47574858c13550499be23603422e6a0ee9728f8b53e192d\n",
       "3    f6daba428a5e19a3d47574858c13550499be23603422e6a0ee9728f8b53e192d\n",
       "⋮    ⋮                                                               \n",
       "1533 f19e136ddde68f365afc860c725ccff54307dedd13968e896a9f890c40aea436\n",
       "1534 f19e136ddde68f365afc860c725ccff54307dedd13968e896a9f890c40aea436\n",
       "1535 d9473710057f7d42f36570f0be83817a4eea614029ff90cf50d8889cdd729d11\n",
       "     played_hours name   gender Age start_time          end_time           \n",
       "1    30.3         Morgan Male   9   2024-08-08 00:21:00 2024-08-08 01:35:00\n",
       "2    30.3         Morgan Male   9   2024-09-09 22:30:00 2024-09-09 22:37:00\n",
       "3    30.3         Morgan Male   9   2024-08-08 02:41:00 2024-08-08 03:25:00\n",
       "⋮    ⋮            ⋮      ⋮      ⋮   ⋮                   ⋮                  \n",
       "1533 2.3          Harlow Male   17  2024-08-23 21:39:00 2024-08-23 21:53:00\n",
       "1534 2.3          Harlow Male   17  2024-09-08 19:40:00 2024-09-08 19:45:00\n",
       "1535 0.2          Ahmed  Other  NA  2024-05-08 19:29:00 2024-05-08 19:44:00\n",
       "     original_start_time original_end_time session_length_min\n",
       "1    1.72308e+12         1.72308e+12       74                \n",
       "2    1.72592e+12         1.72592e+12        7                \n",
       "3    1.72308e+12         1.72309e+12       44                \n",
       "⋮    ⋮                   ⋮                 ⋮                 \n",
       "1533 1.72445e+12         1.72445e+12       14                \n",
       "1534 1.72582e+12         1.72582e+12        5                \n",
       "1535 1.71520e+12         1.71520e+12       15                "
      ]
     },
     "metadata": {},
     "output_type": "display_data"
    }
   ],
   "source": [
    "merged_data_1 <-  merged_data |>\n",
    "  mutate(\n",
    "    start_time = dmy_hm(start_time), # parse start time\n",
    "    end_time = dmy_hm(end_time), # parse end time\n",
    "    session_length_min = as.numeric(difftime(end_time, start_time, units = \"mins\")) # session duration in minutes  \n",
    "  )\n",
    "merged_data_1"
   ]
  },
  {
   "cell_type": "markdown",
   "id": "c2efd30d-dd7d-439b-b598-e7c2920bb887",
   "metadata": {},
   "source": [
    "Compute the average session length and group the total number of sessions per player using the group_by() and summarize() functions. Label the object name as session_summary. Next, add the session level summary back to player dataset. Label this object name as player_data. "
   ]
  },
  {
   "cell_type": "code",
   "execution_count": 9,
   "id": "a4734980-59d7-492e-9cd2-27392163c124",
   "metadata": {},
   "outputs": [
    {
     "data": {
      "text/html": [
       "<table class=\"dataframe\">\n",
       "<caption>A tibble: 125 × 3</caption>\n",
       "<thead>\n",
       "\t<tr><th scope=col>hashedEmail</th><th scope=col>avg_session_length_min</th><th scope=col>num_sessions</th></tr>\n",
       "\t<tr><th scope=col>&lt;chr&gt;</th><th scope=col>&lt;dbl&gt;</th><th scope=col>&lt;int&gt;</th></tr>\n",
       "</thead>\n",
       "<tbody>\n",
       "\t<tr><td>0088b5e134c3f0498a18c7ea6b8d77b4b0ff1636fc93355ccc95b45423367832</td><td>53</td><td>2</td></tr>\n",
       "\t<tr><td>060aca80f8cfbf1c91553a72f4d5ec8034764b05ab59fe8e1cf0eee9a7b67967</td><td>30</td><td>1</td></tr>\n",
       "\t<tr><td>0ce7bfa910d47fc91f21a7b3acd8f33bde6db57912ce0290fa0437ce0b97f387</td><td>11</td><td>1</td></tr>\n",
       "\t<tr><td>⋮</td><td>⋮</td><td>⋮</td></tr>\n",
       "\t<tr><td>fd6563a4e0f6f4273580e5fedbd8dda64990447aea5a33cbb5e894a3867ca44d</td><td>15.46774</td><td>310</td></tr>\n",
       "\t<tr><td>fe218a05c6c3fc6326f4f151e8cb75a2a9fa29e22b110d4c311fb58fb211f471</td><td> 9.00000</td><td>  1</td></tr>\n",
       "\t<tr><td>fef4e1bed8c3f6dcd7bcd39ab21bd402386155b2ff8c8e53683e1d2793bf1ed1</td><td>72.00000</td><td>  1</td></tr>\n",
       "</tbody>\n",
       "</table>\n"
      ],
      "text/latex": [
       "A tibble: 125 × 3\n",
       "\\begin{tabular}{lll}\n",
       " hashedEmail & avg\\_session\\_length\\_min & num\\_sessions\\\\\n",
       " <chr> & <dbl> & <int>\\\\\n",
       "\\hline\n",
       "\t 0088b5e134c3f0498a18c7ea6b8d77b4b0ff1636fc93355ccc95b45423367832 & 53 & 2\\\\\n",
       "\t 060aca80f8cfbf1c91553a72f4d5ec8034764b05ab59fe8e1cf0eee9a7b67967 & 30 & 1\\\\\n",
       "\t 0ce7bfa910d47fc91f21a7b3acd8f33bde6db57912ce0290fa0437ce0b97f387 & 11 & 1\\\\\n",
       "\t ⋮ & ⋮ & ⋮\\\\\n",
       "\t fd6563a4e0f6f4273580e5fedbd8dda64990447aea5a33cbb5e894a3867ca44d & 15.46774 & 310\\\\\n",
       "\t fe218a05c6c3fc6326f4f151e8cb75a2a9fa29e22b110d4c311fb58fb211f471 &  9.00000 &   1\\\\\n",
       "\t fef4e1bed8c3f6dcd7bcd39ab21bd402386155b2ff8c8e53683e1d2793bf1ed1 & 72.00000 &   1\\\\\n",
       "\\end{tabular}\n"
      ],
      "text/markdown": [
       "\n",
       "A tibble: 125 × 3\n",
       "\n",
       "| hashedEmail &lt;chr&gt; | avg_session_length_min &lt;dbl&gt; | num_sessions &lt;int&gt; |\n",
       "|---|---|---|\n",
       "| 0088b5e134c3f0498a18c7ea6b8d77b4b0ff1636fc93355ccc95b45423367832 | 53 | 2 |\n",
       "| 060aca80f8cfbf1c91553a72f4d5ec8034764b05ab59fe8e1cf0eee9a7b67967 | 30 | 1 |\n",
       "| 0ce7bfa910d47fc91f21a7b3acd8f33bde6db57912ce0290fa0437ce0b97f387 | 11 | 1 |\n",
       "| ⋮ | ⋮ | ⋮ |\n",
       "| fd6563a4e0f6f4273580e5fedbd8dda64990447aea5a33cbb5e894a3867ca44d | 15.46774 | 310 |\n",
       "| fe218a05c6c3fc6326f4f151e8cb75a2a9fa29e22b110d4c311fb58fb211f471 |  9.00000 |   1 |\n",
       "| fef4e1bed8c3f6dcd7bcd39ab21bd402386155b2ff8c8e53683e1d2793bf1ed1 | 72.00000 |   1 |\n",
       "\n"
      ],
      "text/plain": [
       "    hashedEmail                                                     \n",
       "1   0088b5e134c3f0498a18c7ea6b8d77b4b0ff1636fc93355ccc95b45423367832\n",
       "2   060aca80f8cfbf1c91553a72f4d5ec8034764b05ab59fe8e1cf0eee9a7b67967\n",
       "3   0ce7bfa910d47fc91f21a7b3acd8f33bde6db57912ce0290fa0437ce0b97f387\n",
       "⋮   ⋮                                                               \n",
       "123 fd6563a4e0f6f4273580e5fedbd8dda64990447aea5a33cbb5e894a3867ca44d\n",
       "124 fe218a05c6c3fc6326f4f151e8cb75a2a9fa29e22b110d4c311fb58fb211f471\n",
       "125 fef4e1bed8c3f6dcd7bcd39ab21bd402386155b2ff8c8e53683e1d2793bf1ed1\n",
       "    avg_session_length_min num_sessions\n",
       "1   53                     2           \n",
       "2   30                     1           \n",
       "3   11                     1           \n",
       "⋮   ⋮                      ⋮           \n",
       "123 15.46774               310         \n",
       "124  9.00000                 1         \n",
       "125 72.00000                 1         "
      ]
     },
     "metadata": {},
     "output_type": "display_data"
    },
    {
     "data": {
      "text/html": [
       "<table class=\"dataframe\">\n",
       "<caption>A spec_tbl_df: 125 × 9</caption>\n",
       "<thead>\n",
       "\t<tr><th scope=col>experience</th><th scope=col>subscribe</th><th scope=col>hashedEmail</th><th scope=col>played_hours</th><th scope=col>name</th><th scope=col>gender</th><th scope=col>Age</th><th scope=col>avg_session_length_min</th><th scope=col>num_sessions</th></tr>\n",
       "\t<tr><th scope=col>&lt;chr&gt;</th><th scope=col>&lt;lgl&gt;</th><th scope=col>&lt;chr&gt;</th><th scope=col>&lt;dbl&gt;</th><th scope=col>&lt;chr&gt;</th><th scope=col>&lt;chr&gt;</th><th scope=col>&lt;dbl&gt;</th><th scope=col>&lt;dbl&gt;</th><th scope=col>&lt;int&gt;</th></tr>\n",
       "</thead>\n",
       "<tbody>\n",
       "\t<tr><td>Pro    </td><td> TRUE</td><td>f6daba428a5e19a3d47574858c13550499be23603422e6a0ee9728f8b53e192d</td><td>30.3</td><td>Morgan   </td><td>Male</td><td> 9</td><td>74.77778</td><td>27</td></tr>\n",
       "\t<tr><td>Veteran</td><td> TRUE</td><td>f3c813577c458ba0dfef80996f8f32c93b6e8af1fa939732842f2312358a88e9</td><td> 3.8</td><td>Christian</td><td>Male</td><td>17</td><td>85.00000</td><td> 3</td></tr>\n",
       "\t<tr><td>Veteran</td><td>FALSE</td><td>b674dd7ee0d24096d1c019615ce4d12b20fcbff12d79d3c5a9d2118eb7ccbb28</td><td> 0.0</td><td>Blake    </td><td>Male</td><td>17</td><td> 5.00000</td><td> 1</td></tr>\n",
       "\t<tr><td>⋮</td><td>⋮</td><td>⋮</td><td>⋮</td><td>⋮</td><td>⋮</td><td>⋮</td><td>⋮</td><td>⋮</td></tr>\n",
       "\t<tr><td>Amateur</td><td>FALSE</td><td>d572f391d452b76ea2d7e5e53a3d38bfd7499c7399db299bd4fedb06a46ad5bb</td><td>0.0</td><td>Dylan </td><td>Prefer not to say</td><td>17</td><td> 5.00000</td><td>1</td></tr>\n",
       "\t<tr><td>Amateur</td><td>FALSE</td><td>f19e136ddde68f365afc860c725ccff54307dedd13968e896a9f890c40aea436</td><td>2.3</td><td>Harlow</td><td>Male             </td><td>17</td><td>29.83333</td><td>6</td></tr>\n",
       "\t<tr><td>Pro    </td><td> TRUE</td><td>d9473710057f7d42f36570f0be83817a4eea614029ff90cf50d8889cdd729d11</td><td>0.2</td><td>Ahmed </td><td>Other            </td><td>NA</td><td>15.00000</td><td>1</td></tr>\n",
       "</tbody>\n",
       "</table>\n"
      ],
      "text/latex": [
       "A spec\\_tbl\\_df: 125 × 9\n",
       "\\begin{tabular}{lllllllll}\n",
       " experience & subscribe & hashedEmail & played\\_hours & name & gender & Age & avg\\_session\\_length\\_min & num\\_sessions\\\\\n",
       " <chr> & <lgl> & <chr> & <dbl> & <chr> & <chr> & <dbl> & <dbl> & <int>\\\\\n",
       "\\hline\n",
       "\t Pro     &  TRUE & f6daba428a5e19a3d47574858c13550499be23603422e6a0ee9728f8b53e192d & 30.3 & Morgan    & Male &  9 & 74.77778 & 27\\\\\n",
       "\t Veteran &  TRUE & f3c813577c458ba0dfef80996f8f32c93b6e8af1fa939732842f2312358a88e9 &  3.8 & Christian & Male & 17 & 85.00000 &  3\\\\\n",
       "\t Veteran & FALSE & b674dd7ee0d24096d1c019615ce4d12b20fcbff12d79d3c5a9d2118eb7ccbb28 &  0.0 & Blake     & Male & 17 &  5.00000 &  1\\\\\n",
       "\t ⋮ & ⋮ & ⋮ & ⋮ & ⋮ & ⋮ & ⋮ & ⋮ & ⋮\\\\\n",
       "\t Amateur & FALSE & d572f391d452b76ea2d7e5e53a3d38bfd7499c7399db299bd4fedb06a46ad5bb & 0.0 & Dylan  & Prefer not to say & 17 &  5.00000 & 1\\\\\n",
       "\t Amateur & FALSE & f19e136ddde68f365afc860c725ccff54307dedd13968e896a9f890c40aea436 & 2.3 & Harlow & Male              & 17 & 29.83333 & 6\\\\\n",
       "\t Pro     &  TRUE & d9473710057f7d42f36570f0be83817a4eea614029ff90cf50d8889cdd729d11 & 0.2 & Ahmed  & Other             & NA & 15.00000 & 1\\\\\n",
       "\\end{tabular}\n"
      ],
      "text/markdown": [
       "\n",
       "A spec_tbl_df: 125 × 9\n",
       "\n",
       "| experience &lt;chr&gt; | subscribe &lt;lgl&gt; | hashedEmail &lt;chr&gt; | played_hours &lt;dbl&gt; | name &lt;chr&gt; | gender &lt;chr&gt; | Age &lt;dbl&gt; | avg_session_length_min &lt;dbl&gt; | num_sessions &lt;int&gt; |\n",
       "|---|---|---|---|---|---|---|---|---|\n",
       "| Pro     |  TRUE | f6daba428a5e19a3d47574858c13550499be23603422e6a0ee9728f8b53e192d | 30.3 | Morgan    | Male |  9 | 74.77778 | 27 |\n",
       "| Veteran |  TRUE | f3c813577c458ba0dfef80996f8f32c93b6e8af1fa939732842f2312358a88e9 |  3.8 | Christian | Male | 17 | 85.00000 |  3 |\n",
       "| Veteran | FALSE | b674dd7ee0d24096d1c019615ce4d12b20fcbff12d79d3c5a9d2118eb7ccbb28 |  0.0 | Blake     | Male | 17 |  5.00000 |  1 |\n",
       "| ⋮ | ⋮ | ⋮ | ⋮ | ⋮ | ⋮ | ⋮ | ⋮ | ⋮ |\n",
       "| Amateur | FALSE | d572f391d452b76ea2d7e5e53a3d38bfd7499c7399db299bd4fedb06a46ad5bb | 0.0 | Dylan  | Prefer not to say | 17 |  5.00000 | 1 |\n",
       "| Amateur | FALSE | f19e136ddde68f365afc860c725ccff54307dedd13968e896a9f890c40aea436 | 2.3 | Harlow | Male              | 17 | 29.83333 | 6 |\n",
       "| Pro     |  TRUE | d9473710057f7d42f36570f0be83817a4eea614029ff90cf50d8889cdd729d11 | 0.2 | Ahmed  | Other             | NA | 15.00000 | 1 |\n",
       "\n"
      ],
      "text/plain": [
       "    experience subscribe\n",
       "1   Pro         TRUE    \n",
       "2   Veteran     TRUE    \n",
       "3   Veteran    FALSE    \n",
       "⋮   ⋮          ⋮        \n",
       "123 Amateur    FALSE    \n",
       "124 Amateur    FALSE    \n",
       "125 Pro         TRUE    \n",
       "    hashedEmail                                                     \n",
       "1   f6daba428a5e19a3d47574858c13550499be23603422e6a0ee9728f8b53e192d\n",
       "2   f3c813577c458ba0dfef80996f8f32c93b6e8af1fa939732842f2312358a88e9\n",
       "3   b674dd7ee0d24096d1c019615ce4d12b20fcbff12d79d3c5a9d2118eb7ccbb28\n",
       "⋮   ⋮                                                               \n",
       "123 d572f391d452b76ea2d7e5e53a3d38bfd7499c7399db299bd4fedb06a46ad5bb\n",
       "124 f19e136ddde68f365afc860c725ccff54307dedd13968e896a9f890c40aea436\n",
       "125 d9473710057f7d42f36570f0be83817a4eea614029ff90cf50d8889cdd729d11\n",
       "    played_hours name      gender            Age avg_session_length_min\n",
       "1   30.3         Morgan    Male               9  74.77778              \n",
       "2    3.8         Christian Male              17  85.00000              \n",
       "3    0.0         Blake     Male              17   5.00000              \n",
       "⋮   ⋮            ⋮         ⋮                 ⋮   ⋮                     \n",
       "123 0.0          Dylan     Prefer not to say 17   5.00000              \n",
       "124 2.3          Harlow    Male              17  29.83333              \n",
       "125 0.2          Ahmed     Other             NA  15.00000              \n",
       "    num_sessions\n",
       "1   27          \n",
       "2    3          \n",
       "3    1          \n",
       "⋮   ⋮           \n",
       "123 1           \n",
       "124 6           \n",
       "125 1           "
      ]
     },
     "metadata": {},
     "output_type": "display_data"
    }
   ],
   "source": [
    "# Aggregate session info per player\n",
    "session_summary <- merged_data_1 |>\n",
    "  group_by(hashedEmail) |>\n",
    "  summarize(avg_session_length_min = mean(session_length_min, na.rm = TRUE), \n",
    "  num_sessions = n()\n",
    "  )\n",
    "session_summary\n",
    "\n",
    "# Merge session summary back to player-level data\n",
    "player_data <- inner_join(players, session_summary, by = \"hashedEmail\")\n",
    "player_data"
   ]
  },
  {
   "cell_type": "markdown",
   "id": "7959c7c5-2165-433d-bb7c-e3d4dccee26b",
   "metadata": {},
   "source": [
    "Only keep the relevant columns (the predictors and response variable) and remove any rows with missing data using the drop_na() function. Name the dataset needed for the planned analysis as model_data. "
   ]
  },
  {
   "cell_type": "code",
   "execution_count": 10,
   "id": "b235c181-e72e-428e-a43e-49730559d38a",
   "metadata": {},
   "outputs": [
    {
     "data": {
      "text/html": [
       "<table class=\"dataframe\">\n",
       "<caption>A tibble: 123 × 7</caption>\n",
       "<thead>\n",
       "\t<tr><th scope=col>subscribe</th><th scope=col>experience</th><th scope=col>played_hours</th><th scope=col>Age</th><th scope=col>gender</th><th scope=col>avg_session_length_min</th><th scope=col>num_sessions</th></tr>\n",
       "\t<tr><th scope=col>&lt;lgl&gt;</th><th scope=col>&lt;chr&gt;</th><th scope=col>&lt;dbl&gt;</th><th scope=col>&lt;dbl&gt;</th><th scope=col>&lt;chr&gt;</th><th scope=col>&lt;dbl&gt;</th><th scope=col>&lt;int&gt;</th></tr>\n",
       "</thead>\n",
       "<tbody>\n",
       "\t<tr><td> TRUE</td><td>Pro    </td><td>30.3</td><td> 9</td><td>Male</td><td>74.77778</td><td>27</td></tr>\n",
       "\t<tr><td> TRUE</td><td>Veteran</td><td> 3.8</td><td>17</td><td>Male</td><td>85.00000</td><td> 3</td></tr>\n",
       "\t<tr><td>FALSE</td><td>Veteran</td><td> 0.0</td><td>17</td><td>Male</td><td> 5.00000</td><td> 1</td></tr>\n",
       "\t<tr><td>⋮</td><td>⋮</td><td>⋮</td><td>⋮</td><td>⋮</td><td>⋮</td><td>⋮</td></tr>\n",
       "\t<tr><td>FALSE</td><td>Veteran</td><td>0.3</td><td>22</td><td>Male             </td><td>21.00000</td><td>1</td></tr>\n",
       "\t<tr><td>FALSE</td><td>Amateur</td><td>0.0</td><td>17</td><td>Prefer not to say</td><td> 5.00000</td><td>1</td></tr>\n",
       "\t<tr><td>FALSE</td><td>Amateur</td><td>2.3</td><td>17</td><td>Male             </td><td>29.83333</td><td>6</td></tr>\n",
       "</tbody>\n",
       "</table>\n"
      ],
      "text/latex": [
       "A tibble: 123 × 7\n",
       "\\begin{tabular}{lllllll}\n",
       " subscribe & experience & played\\_hours & Age & gender & avg\\_session\\_length\\_min & num\\_sessions\\\\\n",
       " <lgl> & <chr> & <dbl> & <dbl> & <chr> & <dbl> & <int>\\\\\n",
       "\\hline\n",
       "\t  TRUE & Pro     & 30.3 &  9 & Male & 74.77778 & 27\\\\\n",
       "\t  TRUE & Veteran &  3.8 & 17 & Male & 85.00000 &  3\\\\\n",
       "\t FALSE & Veteran &  0.0 & 17 & Male &  5.00000 &  1\\\\\n",
       "\t ⋮ & ⋮ & ⋮ & ⋮ & ⋮ & ⋮ & ⋮\\\\\n",
       "\t FALSE & Veteran & 0.3 & 22 & Male              & 21.00000 & 1\\\\\n",
       "\t FALSE & Amateur & 0.0 & 17 & Prefer not to say &  5.00000 & 1\\\\\n",
       "\t FALSE & Amateur & 2.3 & 17 & Male              & 29.83333 & 6\\\\\n",
       "\\end{tabular}\n"
      ],
      "text/markdown": [
       "\n",
       "A tibble: 123 × 7\n",
       "\n",
       "| subscribe &lt;lgl&gt; | experience &lt;chr&gt; | played_hours &lt;dbl&gt; | Age &lt;dbl&gt; | gender &lt;chr&gt; | avg_session_length_min &lt;dbl&gt; | num_sessions &lt;int&gt; |\n",
       "|---|---|---|---|---|---|---|\n",
       "|  TRUE | Pro     | 30.3 |  9 | Male | 74.77778 | 27 |\n",
       "|  TRUE | Veteran |  3.8 | 17 | Male | 85.00000 |  3 |\n",
       "| FALSE | Veteran |  0.0 | 17 | Male |  5.00000 |  1 |\n",
       "| ⋮ | ⋮ | ⋮ | ⋮ | ⋮ | ⋮ | ⋮ |\n",
       "| FALSE | Veteran | 0.3 | 22 | Male              | 21.00000 | 1 |\n",
       "| FALSE | Amateur | 0.0 | 17 | Prefer not to say |  5.00000 | 1 |\n",
       "| FALSE | Amateur | 2.3 | 17 | Male              | 29.83333 | 6 |\n",
       "\n"
      ],
      "text/plain": [
       "    subscribe experience played_hours Age gender           \n",
       "1    TRUE     Pro        30.3          9  Male             \n",
       "2    TRUE     Veteran     3.8         17  Male             \n",
       "3   FALSE     Veteran     0.0         17  Male             \n",
       "⋮   ⋮         ⋮          ⋮            ⋮   ⋮                \n",
       "121 FALSE     Veteran    0.3          22  Male             \n",
       "122 FALSE     Amateur    0.0          17  Prefer not to say\n",
       "123 FALSE     Amateur    2.3          17  Male             \n",
       "    avg_session_length_min num_sessions\n",
       "1   74.77778               27          \n",
       "2   85.00000                3          \n",
       "3    5.00000                1          \n",
       "⋮   ⋮                      ⋮           \n",
       "121 21.00000               1           \n",
       "122  5.00000               1           \n",
       "123 29.83333               6           "
      ]
     },
     "metadata": {},
     "output_type": "display_data"
    }
   ],
   "source": [
    "model_data <- player_data |>\n",
    "  select(subscribe, experience, played_hours, Age, gender, avg_session_length_min, num_sessions) |>\n",
    "  drop_na()\n",
    "model_data"
   ]
  },
  {
   "cell_type": "markdown",
   "id": "5add6f79-c86d-4a1a-8f7b-0806d9bf52b1",
   "metadata": {},
   "source": [
    "Treat 'subscribe' as the categorical/response variable and convert it into a factor using the as_factor() function (needed for classification). \n",
    "Label the object name as model_data. "
   ]
  },
  {
   "cell_type": "code",
   "execution_count": 11,
   "id": "34c791d7-3e0a-4304-974b-4b3eaf49d575",
   "metadata": {},
   "outputs": [
    {
     "data": {
      "text/html": [
       "<table class=\"dataframe\">\n",
       "<caption>A tibble: 123 × 7</caption>\n",
       "<thead>\n",
       "\t<tr><th scope=col>subscribe</th><th scope=col>experience</th><th scope=col>played_hours</th><th scope=col>Age</th><th scope=col>gender</th><th scope=col>avg_session_length_min</th><th scope=col>num_sessions</th></tr>\n",
       "\t<tr><th scope=col>&lt;fct&gt;</th><th scope=col>&lt;chr&gt;</th><th scope=col>&lt;dbl&gt;</th><th scope=col>&lt;dbl&gt;</th><th scope=col>&lt;chr&gt;</th><th scope=col>&lt;dbl&gt;</th><th scope=col>&lt;int&gt;</th></tr>\n",
       "</thead>\n",
       "<tbody>\n",
       "\t<tr><td>TRUE </td><td>Pro    </td><td>30.3</td><td> 9</td><td>Male</td><td>74.77778</td><td>27</td></tr>\n",
       "\t<tr><td>TRUE </td><td>Veteran</td><td> 3.8</td><td>17</td><td>Male</td><td>85.00000</td><td> 3</td></tr>\n",
       "\t<tr><td>FALSE</td><td>Veteran</td><td> 0.0</td><td>17</td><td>Male</td><td> 5.00000</td><td> 1</td></tr>\n",
       "\t<tr><td>⋮</td><td>⋮</td><td>⋮</td><td>⋮</td><td>⋮</td><td>⋮</td><td>⋮</td></tr>\n",
       "\t<tr><td>FALSE</td><td>Veteran</td><td>0.3</td><td>22</td><td>Male             </td><td>21.00000</td><td>1</td></tr>\n",
       "\t<tr><td>FALSE</td><td>Amateur</td><td>0.0</td><td>17</td><td>Prefer not to say</td><td> 5.00000</td><td>1</td></tr>\n",
       "\t<tr><td>FALSE</td><td>Amateur</td><td>2.3</td><td>17</td><td>Male             </td><td>29.83333</td><td>6</td></tr>\n",
       "</tbody>\n",
       "</table>\n"
      ],
      "text/latex": [
       "A tibble: 123 × 7\n",
       "\\begin{tabular}{lllllll}\n",
       " subscribe & experience & played\\_hours & Age & gender & avg\\_session\\_length\\_min & num\\_sessions\\\\\n",
       " <fct> & <chr> & <dbl> & <dbl> & <chr> & <dbl> & <int>\\\\\n",
       "\\hline\n",
       "\t TRUE  & Pro     & 30.3 &  9 & Male & 74.77778 & 27\\\\\n",
       "\t TRUE  & Veteran &  3.8 & 17 & Male & 85.00000 &  3\\\\\n",
       "\t FALSE & Veteran &  0.0 & 17 & Male &  5.00000 &  1\\\\\n",
       "\t ⋮ & ⋮ & ⋮ & ⋮ & ⋮ & ⋮ & ⋮\\\\\n",
       "\t FALSE & Veteran & 0.3 & 22 & Male              & 21.00000 & 1\\\\\n",
       "\t FALSE & Amateur & 0.0 & 17 & Prefer not to say &  5.00000 & 1\\\\\n",
       "\t FALSE & Amateur & 2.3 & 17 & Male              & 29.83333 & 6\\\\\n",
       "\\end{tabular}\n"
      ],
      "text/markdown": [
       "\n",
       "A tibble: 123 × 7\n",
       "\n",
       "| subscribe &lt;fct&gt; | experience &lt;chr&gt; | played_hours &lt;dbl&gt; | Age &lt;dbl&gt; | gender &lt;chr&gt; | avg_session_length_min &lt;dbl&gt; | num_sessions &lt;int&gt; |\n",
       "|---|---|---|---|---|---|---|\n",
       "| TRUE  | Pro     | 30.3 |  9 | Male | 74.77778 | 27 |\n",
       "| TRUE  | Veteran |  3.8 | 17 | Male | 85.00000 |  3 |\n",
       "| FALSE | Veteran |  0.0 | 17 | Male |  5.00000 |  1 |\n",
       "| ⋮ | ⋮ | ⋮ | ⋮ | ⋮ | ⋮ | ⋮ |\n",
       "| FALSE | Veteran | 0.3 | 22 | Male              | 21.00000 | 1 |\n",
       "| FALSE | Amateur | 0.0 | 17 | Prefer not to say |  5.00000 | 1 |\n",
       "| FALSE | Amateur | 2.3 | 17 | Male              | 29.83333 | 6 |\n",
       "\n"
      ],
      "text/plain": [
       "    subscribe experience played_hours Age gender           \n",
       "1   TRUE      Pro        30.3          9  Male             \n",
       "2   TRUE      Veteran     3.8         17  Male             \n",
       "3   FALSE     Veteran     0.0         17  Male             \n",
       "⋮   ⋮         ⋮          ⋮            ⋮   ⋮                \n",
       "121 FALSE     Veteran    0.3          22  Male             \n",
       "122 FALSE     Amateur    0.0          17  Prefer not to say\n",
       "123 FALSE     Amateur    2.3          17  Male             \n",
       "    avg_session_length_min num_sessions\n",
       "1   74.77778               27          \n",
       "2   85.00000                3          \n",
       "3    5.00000                1          \n",
       "⋮   ⋮                      ⋮           \n",
       "121 21.00000               1           \n",
       "122  5.00000               1           \n",
       "123 29.83333               6           "
      ]
     },
     "metadata": {},
     "output_type": "display_data"
    }
   ],
   "source": [
    "model_data <- model_data |>\n",
    "  mutate(subscribe = as.factor(subscribe))\n",
    "model_data"
   ]
  },
  {
   "cell_type": "markdown",
   "id": "e5cc4738-8b79-4426-bf5f-7819dad3a413",
   "metadata": {},
   "source": [
    "Process the data by using the initial_split function to split the model_data. Split the dataset into training (75%) and testing (25%) sets, stratified by the subscription outcome. Then, pass the model_split object to the training and testing functions. "
   ]
  },
  {
   "cell_type": "code",
   "execution_count": 13,
   "id": "86a33226-9583-4370-9e58-a42d32454560",
   "metadata": {},
   "outputs": [
    {
     "data": {
      "text/plain": [
       "<Training/Testing/Total>\n",
       "<92/31/123>"
      ]
     },
     "metadata": {},
     "output_type": "display_data"
    },
    {
     "data": {
      "text/html": [
       "<table class=\"dataframe\">\n",
       "<caption>A tibble: 92 × 7</caption>\n",
       "<thead>\n",
       "\t<tr><th scope=col>subscribe</th><th scope=col>experience</th><th scope=col>played_hours</th><th scope=col>Age</th><th scope=col>gender</th><th scope=col>avg_session_length_min</th><th scope=col>num_sessions</th></tr>\n",
       "\t<tr><th scope=col>&lt;fct&gt;</th><th scope=col>&lt;chr&gt;</th><th scope=col>&lt;dbl&gt;</th><th scope=col>&lt;dbl&gt;</th><th scope=col>&lt;chr&gt;</th><th scope=col>&lt;dbl&gt;</th><th scope=col>&lt;int&gt;</th></tr>\n",
       "</thead>\n",
       "<tbody>\n",
       "\t<tr><td>FALSE</td><td>Veteran</td><td>0.0</td><td>17</td><td>Male  </td><td> 5</td><td>1</td></tr>\n",
       "\t<tr><td>FALSE</td><td>Amateur</td><td>0.0</td><td>21</td><td>Male  </td><td> 5</td><td>1</td></tr>\n",
       "\t<tr><td>FALSE</td><td>Amateur</td><td>0.1</td><td>17</td><td>Female</td><td>12</td><td>1</td></tr>\n",
       "\t<tr><td>⋮</td><td>⋮</td><td>⋮</td><td>⋮</td><td>⋮</td><td>⋮</td><td>⋮</td></tr>\n",
       "\t<tr><td>TRUE</td><td>Amateur</td><td> 0.8</td><td>22</td><td>Female</td><td>55.00000</td><td> 1</td></tr>\n",
       "\t<tr><td>TRUE</td><td>Amateur</td><td>32.0</td><td>22</td><td>Male  </td><td>29.94937</td><td>79</td></tr>\n",
       "\t<tr><td>TRUE</td><td>Veteran</td><td> 0.1</td><td>44</td><td>Female</td><td>11.00000</td><td> 1</td></tr>\n",
       "</tbody>\n",
       "</table>\n"
      ],
      "text/latex": [
       "A tibble: 92 × 7\n",
       "\\begin{tabular}{lllllll}\n",
       " subscribe & experience & played\\_hours & Age & gender & avg\\_session\\_length\\_min & num\\_sessions\\\\\n",
       " <fct> & <chr> & <dbl> & <dbl> & <chr> & <dbl> & <int>\\\\\n",
       "\\hline\n",
       "\t FALSE & Veteran & 0.0 & 17 & Male   &  5 & 1\\\\\n",
       "\t FALSE & Amateur & 0.0 & 21 & Male   &  5 & 1\\\\\n",
       "\t FALSE & Amateur & 0.1 & 17 & Female & 12 & 1\\\\\n",
       "\t ⋮ & ⋮ & ⋮ & ⋮ & ⋮ & ⋮ & ⋮\\\\\n",
       "\t TRUE & Amateur &  0.8 & 22 & Female & 55.00000 &  1\\\\\n",
       "\t TRUE & Amateur & 32.0 & 22 & Male   & 29.94937 & 79\\\\\n",
       "\t TRUE & Veteran &  0.1 & 44 & Female & 11.00000 &  1\\\\\n",
       "\\end{tabular}\n"
      ],
      "text/markdown": [
       "\n",
       "A tibble: 92 × 7\n",
       "\n",
       "| subscribe &lt;fct&gt; | experience &lt;chr&gt; | played_hours &lt;dbl&gt; | Age &lt;dbl&gt; | gender &lt;chr&gt; | avg_session_length_min &lt;dbl&gt; | num_sessions &lt;int&gt; |\n",
       "|---|---|---|---|---|---|---|\n",
       "| FALSE | Veteran | 0.0 | 17 | Male   |  5 | 1 |\n",
       "| FALSE | Amateur | 0.0 | 21 | Male   |  5 | 1 |\n",
       "| FALSE | Amateur | 0.1 | 17 | Female | 12 | 1 |\n",
       "| ⋮ | ⋮ | ⋮ | ⋮ | ⋮ | ⋮ | ⋮ |\n",
       "| TRUE | Amateur |  0.8 | 22 | Female | 55.00000 |  1 |\n",
       "| TRUE | Amateur | 32.0 | 22 | Male   | 29.94937 | 79 |\n",
       "| TRUE | Veteran |  0.1 | 44 | Female | 11.00000 |  1 |\n",
       "\n"
      ],
      "text/plain": [
       "   subscribe experience played_hours Age gender avg_session_length_min\n",
       "1  FALSE     Veteran    0.0          17  Male    5                    \n",
       "2  FALSE     Amateur    0.0          21  Male    5                    \n",
       "3  FALSE     Amateur    0.1          17  Female 12                    \n",
       "⋮  ⋮         ⋮          ⋮            ⋮   ⋮      ⋮                     \n",
       "90 TRUE      Amateur     0.8         22  Female 55.00000              \n",
       "91 TRUE      Amateur    32.0         22  Male   29.94937              \n",
       "92 TRUE      Veteran     0.1         44  Female 11.00000              \n",
       "   num_sessions\n",
       "1  1           \n",
       "2  1           \n",
       "3  1           \n",
       "⋮  ⋮           \n",
       "90  1          \n",
       "91 79          \n",
       "92  1          "
      ]
     },
     "metadata": {},
     "output_type": "display_data"
    },
    {
     "data": {
      "text/html": [
       "<table class=\"dataframe\">\n",
       "<caption>A tibble: 31 × 7</caption>\n",
       "<thead>\n",
       "\t<tr><th scope=col>subscribe</th><th scope=col>experience</th><th scope=col>played_hours</th><th scope=col>Age</th><th scope=col>gender</th><th scope=col>avg_session_length_min</th><th scope=col>num_sessions</th></tr>\n",
       "\t<tr><th scope=col>&lt;fct&gt;</th><th scope=col>&lt;chr&gt;</th><th scope=col>&lt;dbl&gt;</th><th scope=col>&lt;dbl&gt;</th><th scope=col>&lt;chr&gt;</th><th scope=col>&lt;dbl&gt;</th><th scope=col>&lt;int&gt;</th></tr>\n",
       "</thead>\n",
       "<tbody>\n",
       "\t<tr><td>TRUE</td><td>Veteran</td><td>3.8</td><td>17</td><td>Male  </td><td>85.0</td><td>3</td></tr>\n",
       "\t<tr><td>TRUE</td><td>Amateur</td><td>0.7</td><td>21</td><td>Female</td><td>50.0</td><td>1</td></tr>\n",
       "\t<tr><td>TRUE</td><td>Amateur</td><td>0.5</td><td>17</td><td>Male  </td><td>21.5</td><td>2</td></tr>\n",
       "\t<tr><td>⋮</td><td>⋮</td><td>⋮</td><td>⋮</td><td>⋮</td><td>⋮</td><td>⋮</td></tr>\n",
       "\t<tr><td>TRUE </td><td>Amateur</td><td>0.3</td><td>17</td><td>Male</td><td> 11</td><td>4</td></tr>\n",
       "\t<tr><td>FALSE</td><td>Pro    </td><td>0.2</td><td>17</td><td>Male</td><td> 19</td><td>1</td></tr>\n",
       "\t<tr><td>FALSE</td><td>Pro    </td><td>1.7</td><td>17</td><td>Male</td><td>110</td><td>1</td></tr>\n",
       "</tbody>\n",
       "</table>\n"
      ],
      "text/latex": [
       "A tibble: 31 × 7\n",
       "\\begin{tabular}{lllllll}\n",
       " subscribe & experience & played\\_hours & Age & gender & avg\\_session\\_length\\_min & num\\_sessions\\\\\n",
       " <fct> & <chr> & <dbl> & <dbl> & <chr> & <dbl> & <int>\\\\\n",
       "\\hline\n",
       "\t TRUE & Veteran & 3.8 & 17 & Male   & 85.0 & 3\\\\\n",
       "\t TRUE & Amateur & 0.7 & 21 & Female & 50.0 & 1\\\\\n",
       "\t TRUE & Amateur & 0.5 & 17 & Male   & 21.5 & 2\\\\\n",
       "\t ⋮ & ⋮ & ⋮ & ⋮ & ⋮ & ⋮ & ⋮\\\\\n",
       "\t TRUE  & Amateur & 0.3 & 17 & Male &  11 & 4\\\\\n",
       "\t FALSE & Pro     & 0.2 & 17 & Male &  19 & 1\\\\\n",
       "\t FALSE & Pro     & 1.7 & 17 & Male & 110 & 1\\\\\n",
       "\\end{tabular}\n"
      ],
      "text/markdown": [
       "\n",
       "A tibble: 31 × 7\n",
       "\n",
       "| subscribe &lt;fct&gt; | experience &lt;chr&gt; | played_hours &lt;dbl&gt; | Age &lt;dbl&gt; | gender &lt;chr&gt; | avg_session_length_min &lt;dbl&gt; | num_sessions &lt;int&gt; |\n",
       "|---|---|---|---|---|---|---|\n",
       "| TRUE | Veteran | 3.8 | 17 | Male   | 85.0 | 3 |\n",
       "| TRUE | Amateur | 0.7 | 21 | Female | 50.0 | 1 |\n",
       "| TRUE | Amateur | 0.5 | 17 | Male   | 21.5 | 2 |\n",
       "| ⋮ | ⋮ | ⋮ | ⋮ | ⋮ | ⋮ | ⋮ |\n",
       "| TRUE  | Amateur | 0.3 | 17 | Male |  11 | 4 |\n",
       "| FALSE | Pro     | 0.2 | 17 | Male |  19 | 1 |\n",
       "| FALSE | Pro     | 1.7 | 17 | Male | 110 | 1 |\n",
       "\n"
      ],
      "text/plain": [
       "   subscribe experience played_hours Age gender avg_session_length_min\n",
       "1  TRUE      Veteran    3.8          17  Male   85.0                  \n",
       "2  TRUE      Amateur    0.7          21  Female 50.0                  \n",
       "3  TRUE      Amateur    0.5          17  Male   21.5                  \n",
       "⋮  ⋮         ⋮          ⋮            ⋮   ⋮      ⋮                     \n",
       "29 TRUE      Amateur    0.3          17  Male    11                   \n",
       "30 FALSE     Pro        0.2          17  Male    19                   \n",
       "31 FALSE     Pro        1.7          17  Male   110                   \n",
       "   num_sessions\n",
       "1  3           \n",
       "2  1           \n",
       "3  2           \n",
       "⋮  ⋮           \n",
       "29 4           \n",
       "30 1           \n",
       "31 1           "
      ]
     },
     "metadata": {},
     "output_type": "display_data"
    }
   ],
   "source": [
    "model_split <- initial_split(model_data, prop = 0.75, strata = subscribe)\n",
    "model_split\n",
    "\n",
    "model_train <- training(model_split)\n",
    "model_train\n",
    "\n",
    "model_test <- testing(model_split)\n",
    "model_test"
   ]
  },
  {
   "cell_type": "markdown",
   "id": "c00738a1-22c4-49cd-8a61-edd28a2d26b5",
   "metadata": {},
   "source": [
    "Create a preprocessing recipe for the training data to ensure that the test data does not influence any aspect of the model training. \n",
    "Preprocessing steps include: \n",
    "- step_novel(all_nominal_predictors()) --> handles any unseen categories\n",
    "- step_dummy(all_nominal_predictors()) --> converts any categorical vars to dummy vars\n",
    "- step_zv(all_predictors()) --> removes any predictors with zero variance\n",
    "- step_normalize(all_predictors()) --> scales and centers numerical predictors\n",
    "\n",
    "Label the object name as model_recipe."
   ]
  },
  {
   "cell_type": "code",
   "execution_count": 14,
   "id": "1fa3872c-f86f-48f2-a322-b08a9351cbf7",
   "metadata": {},
   "outputs": [
    {
     "name": "stderr",
     "output_type": "stream",
     "text": [
      "\n",
      "\n",
      "\u001b[36m──\u001b[39m \u001b[1mRecipe\u001b[22m \u001b[36m──────────────────────────────────────────────────────────────────────\u001b[39m\n",
      "\n",
      "\n",
      "\n",
      "── Inputs \n",
      "\n",
      "Number of variables by role\n",
      "\n",
      "outcome:   1\n",
      "predictor: 6\n",
      "\n",
      "\n",
      "\n",
      "── Operations \n",
      "\n",
      "\u001b[36m•\u001b[39m Novel factor level assignment for: \u001b[34mall_nominal_predictors()\u001b[39m\n",
      "\n",
      "\u001b[36m•\u001b[39m Dummy variables from: \u001b[34mall_nominal_predictors()\u001b[39m\n",
      "\n",
      "\u001b[36m•\u001b[39m Zero variance filter on: \u001b[34mall_predictors()\u001b[39m\n",
      "\n",
      "\u001b[36m•\u001b[39m Centering and scaling for: \u001b[34mall_numeric_predictors()\u001b[39m\n",
      "\n"
     ]
    }
   ],
   "source": [
    "model_recipe <- recipe(subscribe ~ ., data = model_train) |>\n",
    "    step_novel(all_nominal_predictors()) |>\n",
    "    step_dummy(all_nominal_predictors()) |>\n",
    "    step_zv(all_predictors()) |> \n",
    "    step_normalize(all_numeric_predictors())\n",
    "model_recipe"
   ]
  },
  {
   "cell_type": "markdown",
   "id": "ef966558-51d9-438d-9a26-90963460b013",
   "metadata": {},
   "source": [
    "Create a model specification for K-nearest neighbors classification and set k = 5. Specify the computational engine as \"kknn\" for training the model with the set_engine() function and identify the set_mode() function as \"classification\". \n",
    "Name the model specification as model_spec. "
   ]
  },
  {
   "cell_type": "code",
   "execution_count": 15,
   "id": "18552b86-06b1-4d35-a0d5-e1c5e9c0831c",
   "metadata": {},
   "outputs": [
    {
     "data": {
      "text/plain": [
       "K-Nearest Neighbor Model Specification (classification)\n",
       "\n",
       "Main Arguments:\n",
       "  neighbors = 5\n",
       "  weight_func = rectangular\n",
       "\n",
       "Computational engine: kknn \n"
      ]
     },
     "metadata": {},
     "output_type": "display_data"
    }
   ],
   "source": [
    "model_spec <- nearest_neighbor(weight_func = \"rectangular\", neighbors = 5) |>\n",
    "    set_engine(\"kknn\") |>\n",
    "    set_mode(\"classification\")\n",
    "model_spec"
   ]
  },
  {
   "cell_type": "markdown",
   "id": "165f6e61-86cd-4741-b4ba-04db458ac023",
   "metadata": {},
   "source": [
    "Combine the recipe and model into the workflow() function to train the classifier with the training data set and then fit to the training data. \n",
    "Label the object name as model_fit. "
   ]
  },
  {
   "cell_type": "code",
   "execution_count": 16,
   "id": "c6e9ef17-0f0d-4eae-9fe2-4932af0f0c53",
   "metadata": {},
   "outputs": [
    {
     "data": {
      "text/html": [
       "<table class=\"dataframe\">\n",
       "<caption>A tibble: 123 × 7</caption>\n",
       "<thead>\n",
       "\t<tr><th scope=col>subscribe</th><th scope=col>experience</th><th scope=col>played_hours</th><th scope=col>Age</th><th scope=col>gender</th><th scope=col>avg_session_length_min</th><th scope=col>num_sessions</th></tr>\n",
       "\t<tr><th scope=col>&lt;fct&gt;</th><th scope=col>&lt;chr&gt;</th><th scope=col>&lt;dbl&gt;</th><th scope=col>&lt;dbl&gt;</th><th scope=col>&lt;chr&gt;</th><th scope=col>&lt;dbl&gt;</th><th scope=col>&lt;int&gt;</th></tr>\n",
       "</thead>\n",
       "<tbody>\n",
       "\t<tr><td>TRUE </td><td>Pro    </td><td>30.3</td><td> 9</td><td>Male</td><td>74.77778</td><td>27</td></tr>\n",
       "\t<tr><td>TRUE </td><td>Veteran</td><td> 3.8</td><td>17</td><td>Male</td><td>85.00000</td><td> 3</td></tr>\n",
       "\t<tr><td>FALSE</td><td>Veteran</td><td> 0.0</td><td>17</td><td>Male</td><td> 5.00000</td><td> 1</td></tr>\n",
       "\t<tr><td>⋮</td><td>⋮</td><td>⋮</td><td>⋮</td><td>⋮</td><td>⋮</td><td>⋮</td></tr>\n",
       "\t<tr><td>FALSE</td><td>Veteran</td><td>0.3</td><td>22</td><td>Male             </td><td>21.00000</td><td>1</td></tr>\n",
       "\t<tr><td>FALSE</td><td>Amateur</td><td>0.0</td><td>17</td><td>Prefer not to say</td><td> 5.00000</td><td>1</td></tr>\n",
       "\t<tr><td>FALSE</td><td>Amateur</td><td>2.3</td><td>17</td><td>Male             </td><td>29.83333</td><td>6</td></tr>\n",
       "</tbody>\n",
       "</table>\n"
      ],
      "text/latex": [
       "A tibble: 123 × 7\n",
       "\\begin{tabular}{lllllll}\n",
       " subscribe & experience & played\\_hours & Age & gender & avg\\_session\\_length\\_min & num\\_sessions\\\\\n",
       " <fct> & <chr> & <dbl> & <dbl> & <chr> & <dbl> & <int>\\\\\n",
       "\\hline\n",
       "\t TRUE  & Pro     & 30.3 &  9 & Male & 74.77778 & 27\\\\\n",
       "\t TRUE  & Veteran &  3.8 & 17 & Male & 85.00000 &  3\\\\\n",
       "\t FALSE & Veteran &  0.0 & 17 & Male &  5.00000 &  1\\\\\n",
       "\t ⋮ & ⋮ & ⋮ & ⋮ & ⋮ & ⋮ & ⋮\\\\\n",
       "\t FALSE & Veteran & 0.3 & 22 & Male              & 21.00000 & 1\\\\\n",
       "\t FALSE & Amateur & 0.0 & 17 & Prefer not to say &  5.00000 & 1\\\\\n",
       "\t FALSE & Amateur & 2.3 & 17 & Male              & 29.83333 & 6\\\\\n",
       "\\end{tabular}\n"
      ],
      "text/markdown": [
       "\n",
       "A tibble: 123 × 7\n",
       "\n",
       "| subscribe &lt;fct&gt; | experience &lt;chr&gt; | played_hours &lt;dbl&gt; | Age &lt;dbl&gt; | gender &lt;chr&gt; | avg_session_length_min &lt;dbl&gt; | num_sessions &lt;int&gt; |\n",
       "|---|---|---|---|---|---|---|\n",
       "| TRUE  | Pro     | 30.3 |  9 | Male | 74.77778 | 27 |\n",
       "| TRUE  | Veteran |  3.8 | 17 | Male | 85.00000 |  3 |\n",
       "| FALSE | Veteran |  0.0 | 17 | Male |  5.00000 |  1 |\n",
       "| ⋮ | ⋮ | ⋮ | ⋮ | ⋮ | ⋮ | ⋮ |\n",
       "| FALSE | Veteran | 0.3 | 22 | Male              | 21.00000 | 1 |\n",
       "| FALSE | Amateur | 0.0 | 17 | Prefer not to say |  5.00000 | 1 |\n",
       "| FALSE | Amateur | 2.3 | 17 | Male              | 29.83333 | 6 |\n",
       "\n"
      ],
      "text/plain": [
       "    subscribe experience played_hours Age gender           \n",
       "1   TRUE      Pro        30.3          9  Male             \n",
       "2   TRUE      Veteran     3.8         17  Male             \n",
       "3   FALSE     Veteran     0.0         17  Male             \n",
       "⋮   ⋮         ⋮          ⋮            ⋮   ⋮                \n",
       "121 FALSE     Veteran    0.3          22  Male             \n",
       "122 FALSE     Amateur    0.0          17  Prefer not to say\n",
       "123 FALSE     Amateur    2.3          17  Male             \n",
       "    avg_session_length_min num_sessions\n",
       "1   74.77778               27          \n",
       "2   85.00000                3          \n",
       "3    5.00000                1          \n",
       "⋮   ⋮                      ⋮           \n",
       "121 21.00000               1           \n",
       "122  5.00000               1           \n",
       "123 29.83333               6           "
      ]
     },
     "metadata": {},
     "output_type": "display_data"
    },
    {
     "data": {
      "text/plain": [
       "══ Workflow [trained] ══════════════════════════════════════════════════════════\n",
       "\u001b[3mPreprocessor:\u001b[23m Recipe\n",
       "\u001b[3mModel:\u001b[23m nearest_neighbor()\n",
       "\n",
       "── Preprocessor ────────────────────────────────────────────────────────────────\n",
       "4 Recipe Steps\n",
       "\n",
       "• step_novel()\n",
       "• step_dummy()\n",
       "• step_zv()\n",
       "• step_normalize()\n",
       "\n",
       "── Model ───────────────────────────────────────────────────────────────────────\n",
       "\n",
       "Call:\n",
       "kknn::train.kknn(formula = ..y ~ ., data = data, ks = min_rows(5,     data, 5), kernel = ~\"rectangular\")\n",
       "\n",
       "Type of response variable: nominal\n",
       "Minimal misclassification: 0.3043478\n",
       "Best kernel: rectangular\n",
       "Best k: 5"
      ]
     },
     "metadata": {},
     "output_type": "display_data"
    }
   ],
   "source": [
    "cleaned_data <- model_data |> \n",
    "    drop_na()\n",
    "cleaned_data\n",
    "\n",
    "model_fit <- workflow() |>\n",
    "    add_recipe(model_recipe) |>\n",
    "    add_model(model_spec) |>\n",
    "    fit(data = model_train)\n",
    "model_fit"
   ]
  },
  {
   "cell_type": "markdown",
   "id": "0446202e-96f4-4ce6-b38d-22aa2b2cd870",
   "metadata": {},
   "source": [
    "Predict the class labels for the test set by fitting model_fit and model_test to the predict() function. To make predictions on the test set, use the bind_cols() function to combine with the true labels (this will be shown as .pred_class) to the original test data. \n",
    "Label the object name as model_test_predictions."
   ]
  },
  {
   "cell_type": "code",
   "execution_count": 17,
   "id": "8e589afc-f4cf-4d5d-8de5-449a023129dd",
   "metadata": {},
   "outputs": [
    {
     "data": {
      "text/html": [
       "<table class=\"dataframe\">\n",
       "<caption>A tibble: 31 × 8</caption>\n",
       "<thead>\n",
       "\t<tr><th scope=col>.pred_class</th><th scope=col>subscribe</th><th scope=col>experience</th><th scope=col>played_hours</th><th scope=col>Age</th><th scope=col>gender</th><th scope=col>avg_session_length_min</th><th scope=col>num_sessions</th></tr>\n",
       "\t<tr><th scope=col>&lt;fct&gt;</th><th scope=col>&lt;fct&gt;</th><th scope=col>&lt;chr&gt;</th><th scope=col>&lt;dbl&gt;</th><th scope=col>&lt;dbl&gt;</th><th scope=col>&lt;chr&gt;</th><th scope=col>&lt;dbl&gt;</th><th scope=col>&lt;int&gt;</th></tr>\n",
       "</thead>\n",
       "<tbody>\n",
       "\t<tr><td>TRUE</td><td>TRUE</td><td>Veteran</td><td>3.8</td><td>17</td><td>Male  </td><td>85.0</td><td>3</td></tr>\n",
       "\t<tr><td>TRUE</td><td>TRUE</td><td>Amateur</td><td>0.7</td><td>21</td><td>Female</td><td>50.0</td><td>1</td></tr>\n",
       "\t<tr><td>TRUE</td><td>TRUE</td><td>Amateur</td><td>0.5</td><td>17</td><td>Male  </td><td>21.5</td><td>2</td></tr>\n",
       "\t<tr><td>⋮</td><td>⋮</td><td>⋮</td><td>⋮</td><td>⋮</td><td>⋮</td><td>⋮</td><td>⋮</td></tr>\n",
       "\t<tr><td>TRUE</td><td>TRUE </td><td>Amateur</td><td>0.3</td><td>17</td><td>Male</td><td> 11</td><td>4</td></tr>\n",
       "\t<tr><td>TRUE</td><td>FALSE</td><td>Pro    </td><td>0.2</td><td>17</td><td>Male</td><td> 19</td><td>1</td></tr>\n",
       "\t<tr><td>TRUE</td><td>FALSE</td><td>Pro    </td><td>1.7</td><td>17</td><td>Male</td><td>110</td><td>1</td></tr>\n",
       "</tbody>\n",
       "</table>\n"
      ],
      "text/latex": [
       "A tibble: 31 × 8\n",
       "\\begin{tabular}{llllllll}\n",
       " .pred\\_class & subscribe & experience & played\\_hours & Age & gender & avg\\_session\\_length\\_min & num\\_sessions\\\\\n",
       " <fct> & <fct> & <chr> & <dbl> & <dbl> & <chr> & <dbl> & <int>\\\\\n",
       "\\hline\n",
       "\t TRUE & TRUE & Veteran & 3.8 & 17 & Male   & 85.0 & 3\\\\\n",
       "\t TRUE & TRUE & Amateur & 0.7 & 21 & Female & 50.0 & 1\\\\\n",
       "\t TRUE & TRUE & Amateur & 0.5 & 17 & Male   & 21.5 & 2\\\\\n",
       "\t ⋮ & ⋮ & ⋮ & ⋮ & ⋮ & ⋮ & ⋮ & ⋮\\\\\n",
       "\t TRUE & TRUE  & Amateur & 0.3 & 17 & Male &  11 & 4\\\\\n",
       "\t TRUE & FALSE & Pro     & 0.2 & 17 & Male &  19 & 1\\\\\n",
       "\t TRUE & FALSE & Pro     & 1.7 & 17 & Male & 110 & 1\\\\\n",
       "\\end{tabular}\n"
      ],
      "text/markdown": [
       "\n",
       "A tibble: 31 × 8\n",
       "\n",
       "| .pred_class &lt;fct&gt; | subscribe &lt;fct&gt; | experience &lt;chr&gt; | played_hours &lt;dbl&gt; | Age &lt;dbl&gt; | gender &lt;chr&gt; | avg_session_length_min &lt;dbl&gt; | num_sessions &lt;int&gt; |\n",
       "|---|---|---|---|---|---|---|---|\n",
       "| TRUE | TRUE | Veteran | 3.8 | 17 | Male   | 85.0 | 3 |\n",
       "| TRUE | TRUE | Amateur | 0.7 | 21 | Female | 50.0 | 1 |\n",
       "| TRUE | TRUE | Amateur | 0.5 | 17 | Male   | 21.5 | 2 |\n",
       "| ⋮ | ⋮ | ⋮ | ⋮ | ⋮ | ⋮ | ⋮ | ⋮ |\n",
       "| TRUE | TRUE  | Amateur | 0.3 | 17 | Male |  11 | 4 |\n",
       "| TRUE | FALSE | Pro     | 0.2 | 17 | Male |  19 | 1 |\n",
       "| TRUE | FALSE | Pro     | 1.7 | 17 | Male | 110 | 1 |\n",
       "\n"
      ],
      "text/plain": [
       "   .pred_class subscribe experience played_hours Age gender\n",
       "1  TRUE        TRUE      Veteran    3.8          17  Male  \n",
       "2  TRUE        TRUE      Amateur    0.7          21  Female\n",
       "3  TRUE        TRUE      Amateur    0.5          17  Male  \n",
       "⋮  ⋮           ⋮         ⋮          ⋮            ⋮   ⋮     \n",
       "29 TRUE        TRUE      Amateur    0.3          17  Male  \n",
       "30 TRUE        FALSE     Pro        0.2          17  Male  \n",
       "31 TRUE        FALSE     Pro        1.7          17  Male  \n",
       "   avg_session_length_min num_sessions\n",
       "1  85.0                   3           \n",
       "2  50.0                   1           \n",
       "3  21.5                   2           \n",
       "⋮  ⋮                      ⋮           \n",
       "29  11                    4           \n",
       "30  19                    1           \n",
       "31 110                    1           "
      ]
     },
     "metadata": {},
     "output_type": "display_data"
    }
   ],
   "source": [
    "set.seed(2020) # DO NOT REMOVE\n",
    "\n",
    "model_test_predictions <- predict(model_fit, model_test) |>\n",
    "    bind_cols(model_test)\n",
    "model_test_predictions"
   ]
  },
  {
   "cell_type": "markdown",
   "id": "5107c0a1-2c72-4793-8edd-ffa240db059d",
   "metadata": {},
   "source": [
    "To calculate the accuracy on the test predictions, use the metrics() function with the truth and estimate arugments. In the truth arugment, input the response variable (subscribe) and in the estimate arugment, input .pred_class. \n",
    "Label the object name as model_prediction_accuracy."
   ]
  },
  {
   "cell_type": "code",
   "execution_count": 18,
   "id": "3d985bcd-3c77-41d8-b2d8-020473ad640b",
   "metadata": {},
   "outputs": [
    {
     "data": {
      "text/html": [
       "<table class=\"dataframe\">\n",
       "<caption>A tibble: 2 × 3</caption>\n",
       "<thead>\n",
       "\t<tr><th scope=col>.metric</th><th scope=col>.estimator</th><th scope=col>.estimate</th></tr>\n",
       "\t<tr><th scope=col>&lt;chr&gt;</th><th scope=col>&lt;chr&gt;</th><th scope=col>&lt;dbl&gt;</th></tr>\n",
       "</thead>\n",
       "<tbody>\n",
       "\t<tr><td>accuracy</td><td>binary</td><td> 0.6451613</td></tr>\n",
       "\t<tr><td>kap     </td><td>binary</td><td>-0.1638225</td></tr>\n",
       "</tbody>\n",
       "</table>\n"
      ],
      "text/latex": [
       "A tibble: 2 × 3\n",
       "\\begin{tabular}{lll}\n",
       " .metric & .estimator & .estimate\\\\\n",
       " <chr> & <chr> & <dbl>\\\\\n",
       "\\hline\n",
       "\t accuracy & binary &  0.6451613\\\\\n",
       "\t kap      & binary & -0.1638225\\\\\n",
       "\\end{tabular}\n"
      ],
      "text/markdown": [
       "\n",
       "A tibble: 2 × 3\n",
       "\n",
       "| .metric &lt;chr&gt; | .estimator &lt;chr&gt; | .estimate &lt;dbl&gt; |\n",
       "|---|---|---|\n",
       "| accuracy | binary |  0.6451613 |\n",
       "| kap      | binary | -0.1638225 |\n",
       "\n"
      ],
      "text/plain": [
       "  .metric  .estimator .estimate \n",
       "1 accuracy binary      0.6451613\n",
       "2 kap      binary     -0.1638225"
      ]
     },
     "metadata": {},
     "output_type": "display_data"
    }
   ],
   "source": [
    "set.seed(2020) # DO NOT REMOVE\n",
    "\n",
    "model_prediction_accuracy <- model_test_predictions |>\n",
    "    metrics(truth = subscribe, estimate = .pred_class)\n",
    "model_prediction_accuracy"
   ]
  },
  {
   "cell_type": "markdown",
   "id": "7d354217-b889-41fa-a6ef-78819a1ba71c",
   "metadata": {},
   "source": [
    "Create a confusion matrix using the conf_mat() function to see how many test set labels of each type are predicted correctly and incorrectly. \n",
    "Label the object name as model_mat. "
   ]
  },
  {
   "cell_type": "code",
   "execution_count": 19,
   "id": "5e9471d7-1a1e-45e2-9afa-1413ccc45491",
   "metadata": {},
   "outputs": [
    {
     "data": {
      "text/plain": [
       "          Truth\n",
       "Prediction FALSE TRUE\n",
       "     FALSE     0    3\n",
       "     TRUE      8   20"
      ]
     },
     "metadata": {},
     "output_type": "display_data"
    }
   ],
   "source": [
    "set.seed(2020) # DO NOT REMOVE\n",
    "\n",
    "model_mat <- model_test_predictions |>\n",
    "    conf_mat(truth = subscribe, estimate = .pred_class)\n",
    "model_mat"
   ]
  },
  {
   "cell_type": "markdown",
   "id": "8966804f-59c4-4548-8358-9f483aa6b57a",
   "metadata": {},
   "source": [
    "Perform a 5-fold cross-validation by identifying the training set, the number of folds (v), and the strata argument (response variable). \n",
    "Label the object name as model_vfold. "
   ]
  },
  {
   "cell_type": "code",
   "execution_count": 20,
   "id": "f5cef646-7d3d-4bbf-8a7d-3ebe8650ff99",
   "metadata": {},
   "outputs": [
    {
     "data": {
      "text/html": [
       "<table class=\"dataframe\">\n",
       "<caption>A tibble: 123 × 7</caption>\n",
       "<thead>\n",
       "\t<tr><th scope=col>subscribe</th><th scope=col>experience</th><th scope=col>played_hours</th><th scope=col>Age</th><th scope=col>gender</th><th scope=col>avg_session_length_min</th><th scope=col>num_sessions</th></tr>\n",
       "\t<tr><th scope=col>&lt;fct&gt;</th><th scope=col>&lt;chr&gt;</th><th scope=col>&lt;dbl&gt;</th><th scope=col>&lt;dbl&gt;</th><th scope=col>&lt;chr&gt;</th><th scope=col>&lt;dbl&gt;</th><th scope=col>&lt;int&gt;</th></tr>\n",
       "</thead>\n",
       "<tbody>\n",
       "\t<tr><td>TRUE </td><td>Pro    </td><td>30.3</td><td> 9</td><td>Male</td><td>74.77778</td><td>27</td></tr>\n",
       "\t<tr><td>TRUE </td><td>Veteran</td><td> 3.8</td><td>17</td><td>Male</td><td>85.00000</td><td> 3</td></tr>\n",
       "\t<tr><td>FALSE</td><td>Veteran</td><td> 0.0</td><td>17</td><td>Male</td><td> 5.00000</td><td> 1</td></tr>\n",
       "\t<tr><td>⋮</td><td>⋮</td><td>⋮</td><td>⋮</td><td>⋮</td><td>⋮</td><td>⋮</td></tr>\n",
       "\t<tr><td>FALSE</td><td>Veteran</td><td>0.3</td><td>22</td><td>Male             </td><td>21.00000</td><td>1</td></tr>\n",
       "\t<tr><td>FALSE</td><td>Amateur</td><td>0.0</td><td>17</td><td>Prefer not to say</td><td> 5.00000</td><td>1</td></tr>\n",
       "\t<tr><td>FALSE</td><td>Amateur</td><td>2.3</td><td>17</td><td>Male             </td><td>29.83333</td><td>6</td></tr>\n",
       "</tbody>\n",
       "</table>\n"
      ],
      "text/latex": [
       "A tibble: 123 × 7\n",
       "\\begin{tabular}{lllllll}\n",
       " subscribe & experience & played\\_hours & Age & gender & avg\\_session\\_length\\_min & num\\_sessions\\\\\n",
       " <fct> & <chr> & <dbl> & <dbl> & <chr> & <dbl> & <int>\\\\\n",
       "\\hline\n",
       "\t TRUE  & Pro     & 30.3 &  9 & Male & 74.77778 & 27\\\\\n",
       "\t TRUE  & Veteran &  3.8 & 17 & Male & 85.00000 &  3\\\\\n",
       "\t FALSE & Veteran &  0.0 & 17 & Male &  5.00000 &  1\\\\\n",
       "\t ⋮ & ⋮ & ⋮ & ⋮ & ⋮ & ⋮ & ⋮\\\\\n",
       "\t FALSE & Veteran & 0.3 & 22 & Male              & 21.00000 & 1\\\\\n",
       "\t FALSE & Amateur & 0.0 & 17 & Prefer not to say &  5.00000 & 1\\\\\n",
       "\t FALSE & Amateur & 2.3 & 17 & Male              & 29.83333 & 6\\\\\n",
       "\\end{tabular}\n"
      ],
      "text/markdown": [
       "\n",
       "A tibble: 123 × 7\n",
       "\n",
       "| subscribe &lt;fct&gt; | experience &lt;chr&gt; | played_hours &lt;dbl&gt; | Age &lt;dbl&gt; | gender &lt;chr&gt; | avg_session_length_min &lt;dbl&gt; | num_sessions &lt;int&gt; |\n",
       "|---|---|---|---|---|---|---|\n",
       "| TRUE  | Pro     | 30.3 |  9 | Male | 74.77778 | 27 |\n",
       "| TRUE  | Veteran |  3.8 | 17 | Male | 85.00000 |  3 |\n",
       "| FALSE | Veteran |  0.0 | 17 | Male |  5.00000 |  1 |\n",
       "| ⋮ | ⋮ | ⋮ | ⋮ | ⋮ | ⋮ | ⋮ |\n",
       "| FALSE | Veteran | 0.3 | 22 | Male              | 21.00000 | 1 |\n",
       "| FALSE | Amateur | 0.0 | 17 | Prefer not to say |  5.00000 | 1 |\n",
       "| FALSE | Amateur | 2.3 | 17 | Male              | 29.83333 | 6 |\n",
       "\n"
      ],
      "text/plain": [
       "    subscribe experience played_hours Age gender           \n",
       "1   TRUE      Pro        30.3          9  Male             \n",
       "2   TRUE      Veteran     3.8         17  Male             \n",
       "3   FALSE     Veteran     0.0         17  Male             \n",
       "⋮   ⋮         ⋮          ⋮            ⋮   ⋮                \n",
       "121 FALSE     Veteran    0.3          22  Male             \n",
       "122 FALSE     Amateur    0.0          17  Prefer not to say\n",
       "123 FALSE     Amateur    2.3          17  Male             \n",
       "    avg_session_length_min num_sessions\n",
       "1   74.77778               27          \n",
       "2   85.00000                3          \n",
       "3    5.00000                1          \n",
       "⋮   ⋮                      ⋮           \n",
       "121 21.00000               1           \n",
       "122  5.00000               1           \n",
       "123 29.83333               6           "
      ]
     },
     "metadata": {},
     "output_type": "display_data"
    },
    {
     "name": "stdout",
     "output_type": "stream",
     "text": [
      "#  5-fold cross-validation using stratification \n",
      "\u001b[90m# A tibble: 5 × 2\u001b[39m\n",
      "  splits          id   \n",
      "  \u001b[3m\u001b[90m<list>\u001b[39m\u001b[23m          \u001b[3m\u001b[90m<chr>\u001b[39m\u001b[23m\n",
      "\u001b[90m1\u001b[39m \u001b[90m<split [73/19]>\u001b[39m Fold1\n",
      "\u001b[90m2\u001b[39m \u001b[90m<split [73/19]>\u001b[39m Fold2\n",
      "\u001b[90m3\u001b[39m \u001b[90m<split [73/19]>\u001b[39m Fold3\n",
      "\u001b[90m4\u001b[39m \u001b[90m<split [74/18]>\u001b[39m Fold4\n",
      "\u001b[90m5\u001b[39m \u001b[90m<split [75/17]>\u001b[39m Fold5\n"
     ]
    }
   ],
   "source": [
    "set.seed(2020)\n",
    "\n",
    "cleaned_data <- model_data |> \n",
    "    drop_na()\n",
    "cleaned_data\n",
    "\n",
    "model_vfold <- vfold_cv(model_train, v = 5, strata = subscribe)\n",
    "print(model_vfold)"
   ]
  },
  {
   "cell_type": "markdown",
   "id": "dc02d04e-a8f9-4711-9862-c3bab138d456",
   "metadata": {},
   "source": [
    "Run a cross-validation on each train/validation spilt by performing a workflow analysis. Reuse the 'model_recipe' and 'model_spec' objects and fit the k-NN model using the fit_resamples() function. \n",
    "Label the object name as model_resample_fit. "
   ]
  },
  {
   "cell_type": "code",
   "execution_count": 21,
   "id": "2f644aef-ccc4-4140-a9c2-a8a37e4add14",
   "metadata": {},
   "outputs": [
    {
     "name": "stdout",
     "output_type": "stream",
     "text": [
      "# Resampling results\n",
      "# 5-fold cross-validation using stratification \n",
      "\u001b[90m# A tibble: 5 × 4\u001b[39m\n",
      "  splits          id    .metrics         .notes          \n",
      "  \u001b[3m\u001b[90m<list>\u001b[39m\u001b[23m          \u001b[3m\u001b[90m<chr>\u001b[39m\u001b[23m \u001b[3m\u001b[90m<list>\u001b[39m\u001b[23m           \u001b[3m\u001b[90m<list>\u001b[39m\u001b[23m          \n",
      "\u001b[90m1\u001b[39m \u001b[90m<split [73/19]>\u001b[39m Fold1 \u001b[90m<tibble [2 × 4]>\u001b[39m \u001b[90m<tibble [0 × 3]>\u001b[39m\n",
      "\u001b[90m2\u001b[39m \u001b[90m<split [73/19]>\u001b[39m Fold2 \u001b[90m<tibble [2 × 4]>\u001b[39m \u001b[90m<tibble [0 × 3]>\u001b[39m\n",
      "\u001b[90m3\u001b[39m \u001b[90m<split [73/19]>\u001b[39m Fold3 \u001b[90m<tibble [2 × 4]>\u001b[39m \u001b[90m<tibble [0 × 3]>\u001b[39m\n",
      "\u001b[90m4\u001b[39m \u001b[90m<split [74/18]>\u001b[39m Fold4 \u001b[90m<tibble [2 × 4]>\u001b[39m \u001b[90m<tibble [0 × 3]>\u001b[39m\n",
      "\u001b[90m5\u001b[39m \u001b[90m<split [75/17]>\u001b[39m Fold5 \u001b[90m<tibble [2 × 4]>\u001b[39m \u001b[90m<tibble [0 × 3]>\u001b[39m\n"
     ]
    }
   ],
   "source": [
    "model_resample_fit <- workflow() |>\n",
    "        add_recipe(model_recipe) |>\n",
    "        add_model(model_spec) |>\n",
    "        fit_resamples(resamples = model_vfold)\n",
    "print(model_resample_fit)"
   ]
  },
  {
   "cell_type": "markdown",
   "id": "e07acb10-fe28-4ab4-929f-b41b547eab36",
   "metadata": {},
   "source": [
    "To determine the accuracy of the classifier's validation across the 5 folds, collect the accuracy by using the collect_metrics() function. The accuracy will found under the mean column. \n",
    "Label the object name as model_metrics. "
   ]
  },
  {
   "cell_type": "code",
   "execution_count": 22,
   "id": "65296543-476d-4a6e-a09f-53c18a6e83f9",
   "metadata": {},
   "outputs": [
    {
     "data": {
      "text/html": [
       "<table class=\"dataframe\">\n",
       "<caption>A tibble: 2 × 6</caption>\n",
       "<thead>\n",
       "\t<tr><th scope=col>.metric</th><th scope=col>.estimator</th><th scope=col>mean</th><th scope=col>n</th><th scope=col>std_err</th><th scope=col>.config</th></tr>\n",
       "\t<tr><th scope=col>&lt;chr&gt;</th><th scope=col>&lt;chr&gt;</th><th scope=col>&lt;dbl&gt;</th><th scope=col>&lt;int&gt;</th><th scope=col>&lt;dbl&gt;</th><th scope=col>&lt;chr&gt;</th></tr>\n",
       "</thead>\n",
       "<tbody>\n",
       "\t<tr><td>accuracy</td><td>binary</td><td>0.6084279</td><td>5</td><td>0.06582946</td><td>Preprocessor1_Model1</td></tr>\n",
       "\t<tr><td>roc_auc </td><td>binary</td><td>0.4751099</td><td>5</td><td>0.04449189</td><td>Preprocessor1_Model1</td></tr>\n",
       "</tbody>\n",
       "</table>\n"
      ],
      "text/latex": [
       "A tibble: 2 × 6\n",
       "\\begin{tabular}{llllll}\n",
       " .metric & .estimator & mean & n & std\\_err & .config\\\\\n",
       " <chr> & <chr> & <dbl> & <int> & <dbl> & <chr>\\\\\n",
       "\\hline\n",
       "\t accuracy & binary & 0.6084279 & 5 & 0.06582946 & Preprocessor1\\_Model1\\\\\n",
       "\t roc\\_auc  & binary & 0.4751099 & 5 & 0.04449189 & Preprocessor1\\_Model1\\\\\n",
       "\\end{tabular}\n"
      ],
      "text/markdown": [
       "\n",
       "A tibble: 2 × 6\n",
       "\n",
       "| .metric &lt;chr&gt; | .estimator &lt;chr&gt; | mean &lt;dbl&gt; | n &lt;int&gt; | std_err &lt;dbl&gt; | .config &lt;chr&gt; |\n",
       "|---|---|---|---|---|---|\n",
       "| accuracy | binary | 0.6084279 | 5 | 0.06582946 | Preprocessor1_Model1 |\n",
       "| roc_auc  | binary | 0.4751099 | 5 | 0.04449189 | Preprocessor1_Model1 |\n",
       "\n"
      ],
      "text/plain": [
       "  .metric  .estimator mean      n std_err    .config             \n",
       "1 accuracy binary     0.6084279 5 0.06582946 Preprocessor1_Model1\n",
       "2 roc_auc  binary     0.4751099 5 0.04449189 Preprocessor1_Model1"
      ]
     },
     "metadata": {},
     "output_type": "display_data"
    }
   ],
   "source": [
    "model_metrics <- workflow() |>\n",
    "        add_recipe(model_recipe) |>\n",
    "        add_model(model_spec) |>\n",
    "        fit_resamples(resamples = model_vfold) |>\n",
    "        collect_metrics()\n",
    "model_metrics"
   ]
  },
  {
   "cell_type": "markdown",
   "id": "0dd40b87-97f4-4d77-86cb-4980537efb97",
   "metadata": {},
   "source": [
    "Create a new K-nearest neighbor model specification and insert tune() in the neighbors argument. By specifying tune() instead of a particular number for the neighbors argument, this will help us calculate an accuracy for each value in the range (we will specify this range in the next part) to see what value of K provides the best accuracy result.  \n",
    "Label the object name as model_tune."
   ]
  },
  {
   "cell_type": "code",
   "execution_count": 23,
   "id": "1d817def-a948-4d7b-a903-881813989913",
   "metadata": {},
   "outputs": [
    {
     "data": {
      "text/plain": [
       "K-Nearest Neighbor Model Specification (classification)\n",
       "\n",
       "Main Arguments:\n",
       "  neighbors = tune()\n",
       "  weight_func = rectangular\n",
       "\n",
       "Computational engine: kknn \n"
      ]
     },
     "metadata": {},
     "output_type": "display_data"
    }
   ],
   "source": [
    "set.seed(2020)\n",
    "\n",
    "model_tune <- nearest_neighbor(weight_func = \"rectangular\", neighbors = tune()) |>\n",
    "    set_engine(\"kknn\") |>\n",
    "    set_mode(\"classification\")\n",
    "model_tune"
   ]
  },
  {
   "cell_type": "markdown",
   "id": "5fe2d252-c61f-48e2-b6f8-ece5636c88c1",
   "metadata": {},
   "source": [
    "In an object called k_vals, specify the range of neighbors from 1 to 10. Then, create a workflow() analysis that uses model_recipe and the new knn_tune model specification. Use the tune_grid() function to fit the model, input model_vfold in the resamples argument, and input k_vals in the grid argument. Include the collect_metrics() function to aggregate the mean and standard error. \n",
    "Label object name as model_results. "
   ]
  },
  {
   "cell_type": "code",
   "execution_count": 24,
   "id": "b6651b7b-ffa7-444b-aab9-8a9fd7d3d273",
   "metadata": {},
   "outputs": [
    {
     "name": "stdout",
     "output_type": "stream",
     "text": [
      "\u001b[90m# A tibble: 20 × 7\u001b[39m\n",
      "   neighbors .metric  .estimator  mean     n std_err .config              \n",
      "       \u001b[3m\u001b[90m<dbl>\u001b[39m\u001b[23m \u001b[3m\u001b[90m<chr>\u001b[39m\u001b[23m    \u001b[3m\u001b[90m<chr>\u001b[39m\u001b[23m      \u001b[3m\u001b[90m<dbl>\u001b[39m\u001b[23m \u001b[3m\u001b[90m<int>\u001b[39m\u001b[23m   \u001b[3m\u001b[90m<dbl>\u001b[39m\u001b[23m \u001b[3m\u001b[90m<chr>\u001b[39m\u001b[23m                \n",
      "\u001b[90m 1\u001b[39m         1 accuracy binary     0.585     5  0.061\u001b[4m7\u001b[24m Preprocessor1_Model01\n",
      "\u001b[90m 2\u001b[39m         1 roc_auc  binary     0.460     5  0.080\u001b[4m5\u001b[24m Preprocessor1_Model01\n",
      "\u001b[90m 3\u001b[39m         2 accuracy binary     0.585     5  0.061\u001b[4m7\u001b[24m Preprocessor1_Model02\n",
      "\u001b[90m 4\u001b[39m         2 roc_auc  binary     0.396     5  0.070\u001b[4m3\u001b[24m Preprocessor1_Model02\n",
      "\u001b[90m 5\u001b[39m         3 accuracy binary     0.611     5  0.037\u001b[4m9\u001b[24m Preprocessor1_Model03\n",
      "\u001b[90m 6\u001b[39m         3 roc_auc  binary     0.381     5  0.069\u001b[4m7\u001b[24m Preprocessor1_Model03\n",
      "\u001b[90m 7\u001b[39m         4 accuracy binary     0.600     5  0.037\u001b[4m9\u001b[24m Preprocessor1_Model04\n",
      "\u001b[90m 8\u001b[39m         4 roc_auc  binary     0.426     5  0.039\u001b[4m3\u001b[24m Preprocessor1_Model04\n",
      "\u001b[90m 9\u001b[39m         5 accuracy binary     0.608     5  0.065\u001b[4m8\u001b[24m Preprocessor1_Model05\n",
      "\u001b[90m10\u001b[39m         5 roc_auc  binary     0.475     5  0.044\u001b[4m5\u001b[24m Preprocessor1_Model05\n",
      "\u001b[90m11\u001b[39m         6 accuracy binary     0.619     5  0.063\u001b[4m3\u001b[24m Preprocessor1_Model06\n",
      "\u001b[90m12\u001b[39m         6 roc_auc  binary     0.472     5  0.053\u001b[4m8\u001b[24m Preprocessor1_Model06\n",
      "\u001b[90m13\u001b[39m         7 accuracy binary     0.632     5  0.039\u001b[4m3\u001b[24m Preprocessor1_Model07\n",
      "\u001b[90m14\u001b[39m         7 roc_auc  binary     0.463     5  0.063\u001b[4m7\u001b[24m Preprocessor1_Model07\n",
      "\u001b[90m15\u001b[39m         8 accuracy binary     0.632     5  0.039\u001b[4m3\u001b[24m Preprocessor1_Model08\n",
      "\u001b[90m16\u001b[39m         8 roc_auc  binary     0.469     5  0.056\u001b[4m0\u001b[24m Preprocessor1_Model08\n",
      "\u001b[90m17\u001b[39m         9 accuracy binary     0.696     5  0.018\u001b[4m4\u001b[24m Preprocessor1_Model09\n",
      "\u001b[90m18\u001b[39m         9 roc_auc  binary     0.526     5  0.043\u001b[4m6\u001b[24m Preprocessor1_Model09\n",
      "\u001b[90m19\u001b[39m        10 accuracy binary     0.696     5  0.018\u001b[4m4\u001b[24m Preprocessor1_Model10\n",
      "\u001b[90m20\u001b[39m        10 roc_auc  binary     0.529     5  0.050\u001b[4m7\u001b[24m Preprocessor1_Model10\n"
     ]
    }
   ],
   "source": [
    "set.seed(1234)\n",
    "\n",
    "k_vals <- tibble(neighbors = seq(from = 1, to = 10, by = 1))\n",
    "\n",
    "model_results <- workflow() |>\n",
    "        add_recipe(model_recipe) |>\n",
    "        add_model(model_tune) |>\n",
    "        tune_grid(resamples = model_vfold, grid = k_vals) |>\n",
    "        collect_metrics()\n",
    "print(model_results)"
   ]
  },
  {
   "cell_type": "markdown",
   "id": "a5a629df-74e3-4cb7-ab8a-3a54cebb708d",
   "metadata": {},
   "source": [
    "To find the best value of neighbors (K), extract only for the accuracy metric in the .metric column from the model_results data frame. Label the object name as accuracies. Afterwards, create a line point to demonstrate and visualize how the accuracy changes with k. Name the plot object as accuracy_versus_k"
   ]
  },
  {
   "cell_type": "code",
   "execution_count": 30,
   "id": "daec1e06-1270-4a6f-b2ba-db4ef0ccb3ca",
   "metadata": {},
   "outputs": [
    {
     "data": {
      "text/html": [
       "<table class=\"dataframe\">\n",
       "<caption>A tibble: 10 × 7</caption>\n",
       "<thead>\n",
       "\t<tr><th scope=col>neighbors</th><th scope=col>.metric</th><th scope=col>.estimator</th><th scope=col>mean</th><th scope=col>n</th><th scope=col>std_err</th><th scope=col>.config</th></tr>\n",
       "\t<tr><th scope=col>&lt;dbl&gt;</th><th scope=col>&lt;chr&gt;</th><th scope=col>&lt;chr&gt;</th><th scope=col>&lt;dbl&gt;</th><th scope=col>&lt;int&gt;</th><th scope=col>&lt;dbl&gt;</th><th scope=col>&lt;chr&gt;</th></tr>\n",
       "</thead>\n",
       "<tbody>\n",
       "\t<tr><td>1</td><td>accuracy</td><td>binary</td><td>0.5854833</td><td>5</td><td>0.06169905</td><td>Preprocessor1_Model01</td></tr>\n",
       "\t<tr><td>2</td><td>accuracy</td><td>binary</td><td>0.5854833</td><td>5</td><td>0.06169905</td><td>Preprocessor1_Model02</td></tr>\n",
       "\t<tr><td>3</td><td>accuracy</td><td>binary</td><td>0.6107671</td><td>5</td><td>0.03788470</td><td>Preprocessor1_Model03</td></tr>\n",
       "\t<tr><td>⋮</td><td>⋮</td><td>⋮</td><td>⋮</td><td>⋮</td><td>⋮</td><td>⋮</td></tr>\n",
       "\t<tr><td> 8</td><td>accuracy</td><td>binary</td><td>0.6318197</td><td>5</td><td>0.03928765</td><td>Preprocessor1_Model08</td></tr>\n",
       "\t<tr><td> 9</td><td>accuracy</td><td>binary</td><td>0.6961472</td><td>5</td><td>0.01836069</td><td>Preprocessor1_Model09</td></tr>\n",
       "\t<tr><td>10</td><td>accuracy</td><td>binary</td><td>0.6961472</td><td>5</td><td>0.01836069</td><td>Preprocessor1_Model10</td></tr>\n",
       "</tbody>\n",
       "</table>\n"
      ],
      "text/latex": [
       "A tibble: 10 × 7\n",
       "\\begin{tabular}{lllllll}\n",
       " neighbors & .metric & .estimator & mean & n & std\\_err & .config\\\\\n",
       " <dbl> & <chr> & <chr> & <dbl> & <int> & <dbl> & <chr>\\\\\n",
       "\\hline\n",
       "\t 1 & accuracy & binary & 0.5854833 & 5 & 0.06169905 & Preprocessor1\\_Model01\\\\\n",
       "\t 2 & accuracy & binary & 0.5854833 & 5 & 0.06169905 & Preprocessor1\\_Model02\\\\\n",
       "\t 3 & accuracy & binary & 0.6107671 & 5 & 0.03788470 & Preprocessor1\\_Model03\\\\\n",
       "\t ⋮ & ⋮ & ⋮ & ⋮ & ⋮ & ⋮ & ⋮\\\\\n",
       "\t  8 & accuracy & binary & 0.6318197 & 5 & 0.03928765 & Preprocessor1\\_Model08\\\\\n",
       "\t  9 & accuracy & binary & 0.6961472 & 5 & 0.01836069 & Preprocessor1\\_Model09\\\\\n",
       "\t 10 & accuracy & binary & 0.6961472 & 5 & 0.01836069 & Preprocessor1\\_Model10\\\\\n",
       "\\end{tabular}\n"
      ],
      "text/markdown": [
       "\n",
       "A tibble: 10 × 7\n",
       "\n",
       "| neighbors &lt;dbl&gt; | .metric &lt;chr&gt; | .estimator &lt;chr&gt; | mean &lt;dbl&gt; | n &lt;int&gt; | std_err &lt;dbl&gt; | .config &lt;chr&gt; |\n",
       "|---|---|---|---|---|---|---|\n",
       "| 1 | accuracy | binary | 0.5854833 | 5 | 0.06169905 | Preprocessor1_Model01 |\n",
       "| 2 | accuracy | binary | 0.5854833 | 5 | 0.06169905 | Preprocessor1_Model02 |\n",
       "| 3 | accuracy | binary | 0.6107671 | 5 | 0.03788470 | Preprocessor1_Model03 |\n",
       "| ⋮ | ⋮ | ⋮ | ⋮ | ⋮ | ⋮ | ⋮ |\n",
       "|  8 | accuracy | binary | 0.6318197 | 5 | 0.03928765 | Preprocessor1_Model08 |\n",
       "|  9 | accuracy | binary | 0.6961472 | 5 | 0.01836069 | Preprocessor1_Model09 |\n",
       "| 10 | accuracy | binary | 0.6961472 | 5 | 0.01836069 | Preprocessor1_Model10 |\n",
       "\n"
      ],
      "text/plain": [
       "   neighbors .metric  .estimator mean      n std_err    .config              \n",
       "1  1         accuracy binary     0.5854833 5 0.06169905 Preprocessor1_Model01\n",
       "2  2         accuracy binary     0.5854833 5 0.06169905 Preprocessor1_Model02\n",
       "3  3         accuracy binary     0.6107671 5 0.03788470 Preprocessor1_Model03\n",
       "⋮  ⋮         ⋮        ⋮          ⋮         ⋮ ⋮          ⋮                    \n",
       "8   8        accuracy binary     0.6318197 5 0.03928765 Preprocessor1_Model08\n",
       "9   9        accuracy binary     0.6961472 5 0.01836069 Preprocessor1_Model09\n",
       "10 10        accuracy binary     0.6961472 5 0.01836069 Preprocessor1_Model10"
      ]
     },
     "metadata": {},
     "output_type": "display_data"
    },
    {
     "data": {
      "application/pdf": "[encoded data removed]",
      "image/jpeg": "[encoded data removed]",
      "image/png": "[encoded data removed]",
      "image/svg+xml": [
       "<?xml version=\"1.0\" encoding=\"UTF-8\"?>\n",
       "<svg xmlns=\"http://www.w3.org/2000/svg\" xmlns:xlink=\"http://www.w3.org/1999/xlink\" width=\"504\" height=\"504\" viewBox=\"0 0 504 504\">\n",
       "<defs>\n",
       "<g>\n",
       "<g id=\"glyph-0-0\">\n",
       "<path d=\"M 8.28125 -5.515625 C 8.28125 -4.453125 8.175781 -3.5625 7.96875 -2.84375 C 7.769531 -2.125 7.5 -1.539062 7.15625 -1.09375 C 6.8125 -0.644531 6.40625 -0.320312 5.9375 -0.125 C 5.46875 0.0625 4.96875 0.15625 4.4375 0.15625 C 3.894531 0.15625 3.390625 0.0625 2.921875 -0.125 C 2.460938 -0.320312 2.0625 -0.640625 1.71875 -1.078125 C 1.382812 -1.523438 1.117188 -2.109375 0.921875 -2.828125 C 0.722656 -3.554688 0.625 -4.453125 0.625 -5.515625 C 0.625 -6.617188 0.722656 -7.535156 0.921875 -8.265625 C 1.117188 -8.992188 1.390625 -9.570312 1.734375 -10 C 2.078125 -10.4375 2.484375 -10.738281 2.953125 -10.90625 C 3.421875 -11.082031 3.929688 -11.171875 4.484375 -11.171875 C 5.003906 -11.171875 5.492188 -11.082031 5.953125 -10.90625 C 6.421875 -10.738281 6.828125 -10.4375 7.171875 -10 C 7.515625 -9.570312 7.785156 -8.992188 7.984375 -8.265625 C 8.179688 -7.535156 8.28125 -6.617188 8.28125 -5.515625 Z M 6.84375 -5.515625 C 6.84375 -6.390625 6.789062 -7.113281 6.6875 -7.6875 C 6.582031 -8.269531 6.425781 -8.734375 6.21875 -9.078125 C 6.019531 -9.429688 5.773438 -9.675781 5.484375 -9.8125 C 5.191406 -9.957031 4.859375 -10.03125 4.484375 -10.03125 C 4.085938 -10.03125 3.738281 -9.957031 3.4375 -9.8125 C 3.132812 -9.664062 2.878906 -9.421875 2.671875 -9.078125 C 2.460938 -8.734375 2.304688 -8.269531 2.203125 -7.6875 C 2.097656 -7.101562 2.046875 -6.378906 2.046875 -5.515625 C 2.046875 -4.671875 2.097656 -3.957031 2.203125 -3.375 C 2.316406 -2.800781 2.472656 -2.335938 2.671875 -1.984375 C 2.878906 -1.628906 3.128906 -1.375 3.421875 -1.21875 C 3.722656 -1.070312 4.066406 -1 4.453125 -1 C 4.816406 -1 5.144531 -1.070312 5.4375 -1.21875 C 5.738281 -1.375 5.992188 -1.628906 6.203125 -1.984375 C 6.410156 -2.335938 6.566406 -2.800781 6.671875 -3.375 C 6.785156 -3.957031 6.84375 -4.671875 6.84375 -5.515625 Z M 6.84375 -5.515625 \"/>\n",
       "</g>\n",
       "<g id=\"glyph-0-1\">\n",
       "<path d=\"M 1.46875 0 L 1.46875 -1.71875 L 2.984375 -1.71875 L 2.984375 0 Z M 1.46875 0 \"/>\n",
       "</g>\n",
       "<g id=\"glyph-0-2\">\n",
       "<path d=\"M 8.203125 -3.609375 C 8.203125 -3.054688 8.125 -2.546875 7.96875 -2.078125 C 7.8125 -1.617188 7.582031 -1.222656 7.28125 -0.890625 C 6.988281 -0.566406 6.617188 -0.3125 6.171875 -0.125 C 5.734375 0.0625 5.222656 0.15625 4.640625 0.15625 C 4.003906 0.15625 3.445312 0.0351562 2.96875 -0.203125 C 2.488281 -0.453125 2.085938 -0.804688 1.765625 -1.265625 C 1.453125 -1.734375 1.210938 -2.300781 1.046875 -2.96875 C 0.890625 -3.632812 0.8125 -4.394531 0.8125 -5.25 C 0.8125 -6.226562 0.898438 -7.085938 1.078125 -7.828125 C 1.265625 -8.566406 1.523438 -9.179688 1.859375 -9.671875 C 2.203125 -10.171875 2.613281 -10.546875 3.09375 -10.796875 C 3.582031 -11.046875 4.132812 -11.171875 4.75 -11.171875 C 5.125 -11.171875 5.472656 -11.128906 5.796875 -11.046875 C 6.128906 -10.972656 6.429688 -10.847656 6.703125 -10.671875 C 6.972656 -10.503906 7.207031 -10.273438 7.40625 -9.984375 C 7.613281 -9.703125 7.773438 -9.351562 7.890625 -8.9375 L 6.546875 -8.6875 C 6.398438 -9.164062 6.164062 -9.507812 5.84375 -9.71875 C 5.53125 -9.925781 5.160156 -10.03125 4.734375 -10.03125 C 4.347656 -10.03125 4 -9.9375 3.6875 -9.75 C 3.375 -9.570312 3.109375 -9.300781 2.890625 -8.9375 C 2.671875 -8.582031 2.503906 -8.128906 2.390625 -7.578125 C 2.273438 -7.035156 2.21875 -6.398438 2.21875 -5.671875 C 2.46875 -6.140625 2.820312 -6.5 3.28125 -6.75 C 3.75 -7 4.285156 -7.125 4.890625 -7.125 C 5.390625 -7.125 5.84375 -7.039062 6.25 -6.875 C 6.65625 -6.71875 7 -6.484375 7.28125 -6.171875 C 7.570312 -5.867188 7.796875 -5.5 7.953125 -5.0625 C 8.117188 -4.632812 8.203125 -4.148438 8.203125 -3.609375 Z M 6.765625 -3.546875 C 6.765625 -3.921875 6.71875 -4.257812 6.625 -4.5625 C 6.53125 -4.875 6.390625 -5.140625 6.203125 -5.359375 C 6.015625 -5.578125 5.78125 -5.742188 5.5 -5.859375 C 5.226562 -5.972656 4.910156 -6.03125 4.546875 -6.03125 C 4.296875 -6.03125 4.039062 -5.992188 3.78125 -5.921875 C 3.519531 -5.847656 3.28125 -5.722656 3.0625 -5.546875 C 2.851562 -5.378906 2.679688 -5.15625 2.546875 -4.875 C 2.421875 -4.601562 2.359375 -4.269531 2.359375 -3.875 C 2.359375 -3.46875 2.410156 -3.085938 2.515625 -2.734375 C 2.617188 -2.390625 2.765625 -2.085938 2.953125 -1.828125 C 3.148438 -1.566406 3.382812 -1.359375 3.65625 -1.203125 C 3.9375 -1.054688 4.25 -0.984375 4.59375 -0.984375 C 4.9375 -0.984375 5.238281 -1.039062 5.5 -1.15625 C 5.769531 -1.269531 6 -1.4375 6.1875 -1.65625 C 6.375 -1.882812 6.515625 -2.15625 6.609375 -2.46875 C 6.710938 -2.789062 6.765625 -3.148438 6.765625 -3.546875 Z M 6.765625 -3.546875 \"/>\n",
       "</g>\n",
       "<g id=\"glyph-0-3\">\n",
       "<path d=\"M 0.8125 0 L 0.8125 -1 C 1.070312 -1.601562 1.394531 -2.140625 1.78125 -2.609375 C 2.164062 -3.078125 2.566406 -3.5 2.984375 -3.875 C 3.410156 -4.25 3.828125 -4.597656 4.234375 -4.921875 C 4.648438 -5.242188 5.023438 -5.566406 5.359375 -5.890625 C 5.691406 -6.210938 5.960938 -6.550781 6.171875 -6.90625 C 6.378906 -7.257812 6.484375 -7.660156 6.484375 -8.109375 C 6.484375 -8.421875 6.4375 -8.695312 6.34375 -8.9375 C 6.25 -9.175781 6.113281 -9.375 5.9375 -9.53125 C 5.757812 -9.695312 5.546875 -9.816406 5.296875 -9.890625 C 5.046875 -9.972656 4.769531 -10.015625 4.46875 -10.015625 C 4.1875 -10.015625 3.921875 -9.972656 3.671875 -9.890625 C 3.429688 -9.816406 3.210938 -9.703125 3.015625 -9.546875 C 2.828125 -9.390625 2.671875 -9.195312 2.546875 -8.96875 C 2.421875 -8.738281 2.34375 -8.46875 2.3125 -8.15625 L 0.875 -8.296875 C 0.914062 -8.691406 1.019531 -9.0625 1.1875 -9.40625 C 1.363281 -9.757812 1.601562 -10.066406 1.90625 -10.328125 C 2.207031 -10.585938 2.570312 -10.789062 3 -10.9375 C 3.425781 -11.09375 3.914062 -11.171875 4.46875 -11.171875 C 5.019531 -11.171875 5.507812 -11.101562 5.9375 -10.96875 C 6.363281 -10.84375 6.722656 -10.648438 7.015625 -10.390625 C 7.304688 -10.140625 7.53125 -9.828125 7.6875 -9.453125 C 7.84375 -9.078125 7.921875 -8.644531 7.921875 -8.15625 C 7.921875 -7.789062 7.851562 -7.441406 7.71875 -7.109375 C 7.59375 -6.773438 7.414062 -6.457031 7.1875 -6.15625 C 6.96875 -5.851562 6.710938 -5.5625 6.421875 -5.28125 C 6.128906 -5 5.820312 -4.722656 5.5 -4.453125 C 5.1875 -4.179688 4.867188 -3.914062 4.546875 -3.65625 C 4.222656 -3.394531 3.921875 -3.128906 3.640625 -2.859375 C 3.359375 -2.597656 3.101562 -2.328125 2.875 -2.046875 C 2.65625 -1.773438 2.484375 -1.492188 2.359375 -1.203125 L 8.09375 -1.203125 L 8.09375 0 Z M 0.8125 0 \"/>\n",
       "</g>\n",
       "<g id=\"glyph-0-4\">\n",
       "<path d=\"M 8.234375 -3.59375 C 8.234375 -3.039062 8.148438 -2.535156 7.984375 -2.078125 C 7.816406 -1.617188 7.566406 -1.222656 7.234375 -0.890625 C 6.910156 -0.554688 6.503906 -0.296875 6.015625 -0.109375 C 5.523438 0.0664062 4.960938 0.15625 4.328125 0.15625 C 3.742188 0.15625 3.238281 0.0859375 2.8125 -0.046875 C 2.382812 -0.179688 2.019531 -0.367188 1.71875 -0.609375 C 1.425781 -0.847656 1.191406 -1.125 1.015625 -1.4375 C 0.835938 -1.757812 0.710938 -2.101562 0.640625 -2.46875 L 2.0625 -2.625 C 2.125 -2.414062 2.207031 -2.210938 2.3125 -2.015625 C 2.414062 -1.828125 2.554688 -1.65625 2.734375 -1.5 C 2.910156 -1.34375 3.128906 -1.21875 3.390625 -1.125 C 3.660156 -1.039062 3.984375 -1 4.359375 -1 C 4.722656 -1 5.050781 -1.050781 5.34375 -1.15625 C 5.644531 -1.269531 5.898438 -1.4375 6.109375 -1.65625 C 6.316406 -1.875 6.476562 -2.140625 6.59375 -2.453125 C 6.707031 -2.773438 6.765625 -3.144531 6.765625 -3.5625 C 6.765625 -3.894531 6.707031 -4.203125 6.59375 -4.484375 C 6.488281 -4.773438 6.332031 -5.019531 6.125 -5.21875 C 5.925781 -5.425781 5.679688 -5.585938 5.390625 -5.703125 C 5.097656 -5.816406 4.765625 -5.875 4.390625 -5.875 C 4.148438 -5.875 3.929688 -5.851562 3.734375 -5.8125 C 3.535156 -5.769531 3.351562 -5.710938 3.1875 -5.640625 C 3.019531 -5.566406 2.863281 -5.484375 2.71875 -5.390625 C 2.582031 -5.296875 2.457031 -5.195312 2.34375 -5.09375 L 0.96875 -5.09375 L 1.328125 -11.015625 L 7.59375 -11.015625 L 7.59375 -9.8125 L 2.609375 -9.8125 L 2.40625 -6.328125 C 2.65625 -6.515625 2.96875 -6.675781 3.34375 -6.8125 C 3.71875 -6.957031 4.160156 -7.03125 4.671875 -7.03125 C 5.222656 -7.03125 5.71875 -6.945312 6.15625 -6.78125 C 6.59375 -6.613281 6.960938 -6.375 7.265625 -6.0625 C 7.578125 -5.757812 7.816406 -5.394531 7.984375 -4.96875 C 8.148438 -4.550781 8.234375 -4.09375 8.234375 -3.59375 Z M 8.234375 -3.59375 \"/>\n",
       "</g>\n",
       "<g id=\"glyph-0-5\">\n",
       "<path d=\"M 8.09375 -9.875 C 7.539062 -9.03125 7.03125 -8.21875 6.5625 -7.4375 C 6.101562 -6.65625 5.707031 -5.867188 5.375 -5.078125 C 5.039062 -4.296875 4.78125 -3.488281 4.59375 -2.65625 C 4.414062 -1.820312 4.328125 -0.9375 4.328125 0 L 2.859375 0 C 2.859375 -0.882812 2.960938 -1.75 3.171875 -2.59375 C 3.378906 -3.4375 3.660156 -4.265625 4.015625 -5.078125 C 4.367188 -5.898438 4.78125 -6.703125 5.25 -7.484375 C 5.71875 -8.273438 6.210938 -9.050781 6.734375 -9.8125 L 0.828125 -9.8125 L 0.828125 -11.015625 L 8.09375 -11.015625 Z M 8.09375 -9.875 \"/>\n",
       "</g>\n",
       "<g id=\"glyph-0-6\">\n",
       "<path d=\"M 1.21875 0 L 1.21875 -1.203125 L 4.03125 -1.203125 L 4.03125 -9.671875 L 1.546875 -7.890625 L 1.546875 -9.21875 L 4.140625 -11.015625 L 5.4375 -11.015625 L 5.4375 -1.203125 L 8.125 -1.203125 L 8.125 0 Z M 1.21875 0 \"/>\n",
       "</g>\n",
       "<g id=\"glyph-1-0\">\n",
       "<path d=\"M 10.5625 0 L 3.203125 -11.71875 C 3.210938 -11.394531 3.226562 -11.078125 3.25 -10.765625 C 3.257812 -10.503906 3.269531 -10.222656 3.28125 -9.921875 C 3.289062 -9.628906 3.296875 -9.367188 3.296875 -9.140625 L 3.296875 0 L 1.640625 0 L 1.640625 -13.765625 L 3.8125 -13.765625 L 11.25 -1.96875 C 11.226562 -2.28125 11.207031 -2.597656 11.1875 -2.921875 C 11.175781 -3.191406 11.164062 -3.488281 11.15625 -3.8125 C 11.144531 -4.132812 11.140625 -4.441406 11.140625 -4.734375 L 11.140625 -13.765625 L 12.8125 -13.765625 L 12.8125 0 Z M 10.5625 0 \"/>\n",
       "</g>\n",
       "<g id=\"glyph-1-1\">\n",
       "<path d=\"M 3.0625 -10.5625 L 3.0625 -3.875 C 3.0625 -3.351562 3.097656 -2.921875 3.171875 -2.578125 C 3.253906 -2.234375 3.378906 -1.953125 3.546875 -1.734375 C 3.710938 -1.523438 3.929688 -1.375 4.203125 -1.28125 C 4.484375 -1.195312 4.832031 -1.15625 5.25 -1.15625 C 5.664062 -1.15625 6.039062 -1.226562 6.375 -1.375 C 6.707031 -1.53125 6.992188 -1.742188 7.234375 -2.015625 C 7.472656 -2.296875 7.65625 -2.640625 7.78125 -3.046875 C 7.914062 -3.453125 7.984375 -3.914062 7.984375 -4.4375 L 7.984375 -10.5625 L 9.734375 -10.5625 L 9.734375 -2.25 C 9.734375 -2.03125 9.734375 -1.796875 9.734375 -1.546875 C 9.742188 -1.304688 9.75 -1.078125 9.75 -0.859375 C 9.757812 -0.640625 9.765625 -0.453125 9.765625 -0.296875 C 9.773438 -0.140625 9.785156 -0.0390625 9.796875 0 L 8.140625 0 C 8.128906 -0.03125 8.117188 -0.117188 8.109375 -0.265625 C 8.109375 -0.410156 8.101562 -0.570312 8.09375 -0.75 C 8.082031 -0.9375 8.070312 -1.125 8.0625 -1.3125 C 8.0625 -1.507812 8.0625 -1.675781 8.0625 -1.8125 L 8.03125 -1.8125 C 7.863281 -1.5 7.675781 -1.21875 7.46875 -0.96875 C 7.269531 -0.726562 7.035156 -0.519531 6.765625 -0.34375 C 6.503906 -0.175781 6.195312 -0.046875 5.84375 0.046875 C 5.5 0.148438 5.101562 0.203125 4.65625 0.203125 C 4.0625 0.203125 3.550781 0.128906 3.125 -0.015625 C 2.707031 -0.160156 2.363281 -0.382812 2.09375 -0.6875 C 1.820312 -0.988281 1.617188 -1.375 1.484375 -1.84375 C 1.359375 -2.3125 1.296875 -2.875 1.296875 -3.53125 L 1.296875 -10.5625 Z M 3.0625 -10.5625 \"/>\n",
       "</g>\n",
       "<g id=\"glyph-1-2\">\n",
       "<path d=\"M 7.5 0 L 7.5 -6.703125 C 7.5 -7.210938 7.46875 -7.640625 7.40625 -7.984375 C 7.34375 -8.328125 7.234375 -8.601562 7.078125 -8.8125 C 6.921875 -9.03125 6.71875 -9.179688 6.46875 -9.265625 C 6.226562 -9.359375 5.925781 -9.40625 5.5625 -9.40625 C 5.195312 -9.40625 4.863281 -9.332031 4.5625 -9.1875 C 4.257812 -9.039062 4.003906 -8.828125 3.796875 -8.546875 C 3.585938 -8.273438 3.425781 -7.9375 3.3125 -7.53125 C 3.195312 -7.125 3.140625 -6.65625 3.140625 -6.125 L 3.140625 0 L 1.390625 0 L 1.390625 -8.3125 C 1.390625 -8.53125 1.382812 -8.757812 1.375 -9 C 1.375 -9.25 1.367188 -9.484375 1.359375 -9.703125 C 1.359375 -9.921875 1.351562 -10.109375 1.34375 -10.265625 C 1.34375 -10.421875 1.335938 -10.519531 1.328125 -10.5625 L 2.984375 -10.5625 C 2.992188 -10.53125 3 -10.441406 3 -10.296875 C 3.007812 -10.160156 3.019531 -10 3.03125 -9.8125 C 3.039062 -9.625 3.046875 -9.429688 3.046875 -9.234375 C 3.054688 -9.046875 3.0625 -8.890625 3.0625 -8.765625 L 3.09375 -8.765625 C 3.25 -9.066406 3.414062 -9.34375 3.59375 -9.59375 C 3.78125 -9.84375 3.992188 -10.050781 4.234375 -10.21875 C 4.484375 -10.394531 4.765625 -10.53125 5.078125 -10.625 C 5.398438 -10.71875 5.769531 -10.765625 6.1875 -10.765625 C 6.988281 -10.765625 7.617188 -10.601562 8.078125 -10.28125 C 8.546875 -9.96875 8.867188 -9.460938 9.046875 -8.765625 L 9.078125 -8.765625 C 9.234375 -9.066406 9.410156 -9.34375 9.609375 -9.59375 C 9.804688 -9.84375 10.035156 -10.050781 10.296875 -10.21875 C 10.554688 -10.394531 10.847656 -10.53125 11.171875 -10.625 C 11.492188 -10.71875 11.863281 -10.765625 12.28125 -10.765625 C 12.820312 -10.765625 13.285156 -10.691406 13.671875 -10.546875 C 14.054688 -10.398438 14.367188 -10.175781 14.609375 -9.875 C 14.859375 -9.582031 15.039062 -9.195312 15.15625 -8.71875 C 15.28125 -8.25 15.34375 -7.691406 15.34375 -7.046875 L 15.34375 0 L 13.609375 0 L 13.609375 -6.703125 C 13.609375 -7.210938 13.570312 -7.640625 13.5 -7.984375 C 13.4375 -8.328125 13.328125 -8.601562 13.171875 -8.8125 C 13.023438 -9.03125 12.828125 -9.179688 12.578125 -9.265625 C 12.328125 -9.359375 12.023438 -9.40625 11.671875 -9.40625 C 11.296875 -9.40625 10.957031 -9.332031 10.65625 -9.1875 C 10.363281 -9.050781 10.109375 -8.847656 9.890625 -8.578125 C 9.679688 -8.304688 9.519531 -7.960938 9.40625 -7.546875 C 9.289062 -7.140625 9.234375 -6.664062 9.234375 -6.125 L 9.234375 0 Z M 7.5 0 \"/>\n",
       "</g>\n",
       "<g id=\"glyph-1-3\">\n",
       "<path d=\"M 10.28125 -5.328125 C 10.28125 -1.640625 8.984375 0.203125 6.390625 0.203125 C 5.597656 0.203125 4.9375 0.0546875 4.40625 -0.234375 C 3.875 -0.523438 3.441406 -0.992188 3.109375 -1.640625 L 3.09375 -1.640625 C 3.09375 -1.472656 3.085938 -1.296875 3.078125 -1.109375 C 3.066406 -0.929688 3.054688 -0.765625 3.046875 -0.609375 C 3.035156 -0.453125 3.023438 -0.316406 3.015625 -0.203125 C 3.003906 -0.0976562 2.992188 -0.03125 2.984375 0 L 1.296875 0 C 1.296875 -0.0625 1.296875 -0.160156 1.296875 -0.296875 C 1.304688 -0.441406 1.316406 -0.609375 1.328125 -0.796875 C 1.335938 -0.992188 1.34375 -1.207031 1.34375 -1.4375 C 1.34375 -1.675781 1.34375 -1.921875 1.34375 -2.171875 L 1.34375 -14.5 L 3.109375 -14.5 L 3.109375 -10.359375 C 3.109375 -10.160156 3.101562 -9.972656 3.09375 -9.796875 C 3.09375 -9.617188 3.09375 -9.460938 3.09375 -9.328125 C 3.082031 -9.160156 3.070312 -9.007812 3.0625 -8.875 L 3.109375 -8.875 C 3.429688 -9.550781 3.859375 -10.035156 4.390625 -10.328125 C 4.929688 -10.617188 5.597656 -10.765625 6.390625 -10.765625 C 7.734375 -10.765625 8.71875 -10.3125 9.34375 -9.40625 C 9.96875 -8.507812 10.28125 -7.148438 10.28125 -5.328125 Z M 8.4375 -5.28125 C 8.4375 -6.007812 8.390625 -6.632812 8.296875 -7.15625 C 8.210938 -7.675781 8.066406 -8.101562 7.859375 -8.4375 C 7.660156 -8.769531 7.40625 -9.015625 7.09375 -9.171875 C 6.78125 -9.328125 6.398438 -9.40625 5.953125 -9.40625 C 5.484375 -9.40625 5.070312 -9.328125 4.71875 -9.171875 C 4.363281 -9.023438 4.066406 -8.785156 3.828125 -8.453125 C 3.597656 -8.117188 3.421875 -7.679688 3.296875 -7.140625 C 3.171875 -6.609375 3.109375 -5.953125 3.109375 -5.171875 C 3.109375 -4.410156 3.171875 -3.769531 3.296875 -3.25 C 3.421875 -2.738281 3.597656 -2.320312 3.828125 -2 C 4.066406 -1.6875 4.363281 -1.457031 4.71875 -1.3125 C 5.070312 -1.175781 5.472656 -1.109375 5.921875 -1.109375 C 6.359375 -1.109375 6.734375 -1.179688 7.046875 -1.328125 C 7.359375 -1.472656 7.617188 -1.710938 7.828125 -2.046875 C 8.035156 -2.378906 8.1875 -2.8125 8.28125 -3.34375 C 8.382812 -3.875 8.4375 -4.519531 8.4375 -5.28125 Z M 8.4375 -5.28125 \"/>\n",
       "</g>\n",
       "<g id=\"glyph-1-4\">\n",
       "<path d=\"M 2.703125 -4.90625 C 2.703125 -4.351562 2.753906 -3.84375 2.859375 -3.375 C 2.972656 -2.914062 3.148438 -2.519531 3.390625 -2.1875 C 3.628906 -1.851562 3.929688 -1.59375 4.296875 -1.40625 C 4.671875 -1.21875 5.117188 -1.125 5.640625 -1.125 C 6.398438 -1.125 7.007812 -1.273438 7.46875 -1.578125 C 7.9375 -1.890625 8.25 -2.28125 8.40625 -2.75 L 9.953125 -2.3125 C 9.835938 -2.007812 9.679688 -1.710938 9.484375 -1.421875 C 9.285156 -1.128906 9.019531 -0.863281 8.6875 -0.625 C 8.351562 -0.382812 7.9375 -0.1875 7.4375 -0.03125 C 6.945312 0.125 6.347656 0.203125 5.640625 0.203125 C 4.078125 0.203125 2.882812 -0.257812 2.0625 -1.1875 C 1.25 -2.125 0.84375 -3.515625 0.84375 -5.359375 C 0.84375 -6.347656 0.96875 -7.179688 1.21875 -7.859375 C 1.46875 -8.546875 1.804688 -9.101562 2.234375 -9.53125 C 2.660156 -9.96875 3.160156 -10.28125 3.734375 -10.46875 C 4.304688 -10.664062 4.921875 -10.765625 5.578125 -10.765625 C 6.460938 -10.765625 7.203125 -10.617188 7.796875 -10.328125 C 8.390625 -10.046875 8.867188 -9.648438 9.234375 -9.140625 C 9.597656 -8.640625 9.851562 -8.046875 10 -7.359375 C 10.15625 -6.679688 10.234375 -5.941406 10.234375 -5.140625 L 10.234375 -4.90625 Z M 8.421875 -6.265625 C 8.316406 -7.378906 8.03125 -8.191406 7.5625 -8.703125 C 7.09375 -9.210938 6.421875 -9.46875 5.546875 -9.46875 C 5.253906 -9.46875 4.945312 -9.421875 4.625 -9.328125 C 4.300781 -9.234375 4.003906 -9.0625 3.734375 -8.8125 C 3.460938 -8.570312 3.226562 -8.242188 3.03125 -7.828125 C 2.84375 -7.421875 2.738281 -6.898438 2.71875 -6.265625 Z M 8.421875 -6.265625 \"/>\n",
       "</g>\n",
       "<g id=\"glyph-1-5\">\n",
       "<path d=\"M 1.390625 0 L 1.390625 -8.109375 C 1.390625 -8.328125 1.382812 -8.550781 1.375 -8.78125 C 1.375 -9.007812 1.367188 -9.234375 1.359375 -9.453125 C 1.359375 -9.671875 1.351562 -9.875 1.34375 -10.0625 C 1.34375 -10.25 1.335938 -10.414062 1.328125 -10.5625 L 2.984375 -10.5625 C 2.992188 -10.414062 3.003906 -10.242188 3.015625 -10.046875 C 3.023438 -9.859375 3.035156 -9.660156 3.046875 -9.453125 C 3.054688 -9.253906 3.0625 -9.0625 3.0625 -8.875 C 3.0625 -8.695312 3.0625 -8.539062 3.0625 -8.40625 L 3.109375 -8.40625 C 3.234375 -8.8125 3.363281 -9.160156 3.5 -9.453125 C 3.644531 -9.753906 3.8125 -10 4 -10.1875 C 4.1875 -10.382812 4.410156 -10.53125 4.671875 -10.625 C 4.929688 -10.71875 5.242188 -10.765625 5.609375 -10.765625 C 5.753906 -10.765625 5.890625 -10.75 6.015625 -10.71875 C 6.148438 -10.695312 6.253906 -10.679688 6.328125 -10.671875 L 6.328125 -9.046875 C 6.210938 -9.085938 6.078125 -9.113281 5.921875 -9.125 C 5.765625 -9.144531 5.585938 -9.15625 5.390625 -9.15625 C 4.984375 -9.15625 4.640625 -9.0625 4.359375 -8.875 C 4.078125 -8.695312 3.847656 -8.445312 3.671875 -8.125 C 3.492188 -7.800781 3.359375 -7.414062 3.265625 -6.96875 C 3.179688 -6.519531 3.140625 -6.035156 3.140625 -5.515625 L 3.140625 0 Z M 1.390625 0 \"/>\n",
       "</g>\n",
       "<g id=\"glyph-1-6\">\n",
       "</g>\n",
       "<g id=\"glyph-1-7\">\n",
       "<path d=\"M 10.28125 -5.296875 C 10.28125 -3.441406 9.875 -2.0625 9.0625 -1.15625 C 8.25 -0.25 7.066406 0.203125 5.515625 0.203125 C 4.785156 0.203125 4.128906 0.09375 3.546875 -0.125 C 2.960938 -0.351562 2.46875 -0.695312 2.0625 -1.15625 C 1.664062 -1.613281 1.363281 -2.179688 1.15625 -2.859375 C 0.945312 -3.546875 0.84375 -4.359375 0.84375 -5.296875 C 0.84375 -8.941406 2.421875 -10.765625 5.578125 -10.765625 C 6.398438 -10.765625 7.109375 -10.648438 7.703125 -10.421875 C 8.296875 -10.191406 8.78125 -9.847656 9.15625 -9.390625 C 9.539062 -8.941406 9.820312 -8.375 10 -7.6875 C 10.1875 -7 10.28125 -6.203125 10.28125 -5.296875 Z M 8.4375 -5.296875 C 8.4375 -6.117188 8.375 -6.796875 8.25 -7.328125 C 8.125 -7.859375 7.9375 -8.28125 7.6875 -8.59375 C 7.445312 -8.914062 7.148438 -9.140625 6.796875 -9.265625 C 6.441406 -9.398438 6.046875 -9.46875 5.609375 -9.46875 C 5.160156 -9.46875 4.753906 -9.398438 4.390625 -9.265625 C 4.023438 -9.128906 3.71875 -8.898438 3.46875 -8.578125 C 3.21875 -8.253906 3.023438 -7.828125 2.890625 -7.296875 C 2.753906 -6.765625 2.6875 -6.097656 2.6875 -5.296875 C 2.6875 -4.472656 2.753906 -3.789062 2.890625 -3.25 C 3.035156 -2.71875 3.234375 -2.289062 3.484375 -1.96875 C 3.742188 -1.65625 4.039062 -1.429688 4.375 -1.296875 C 4.71875 -1.171875 5.09375 -1.109375 5.5 -1.109375 C 5.945312 -1.109375 6.351562 -1.171875 6.71875 -1.296875 C 7.082031 -1.421875 7.390625 -1.640625 7.640625 -1.953125 C 7.898438 -2.273438 8.097656 -2.707031 8.234375 -3.25 C 8.367188 -3.789062 8.4375 -4.472656 8.4375 -5.296875 Z M 8.4375 -5.296875 \"/>\n",
       "</g>\n",
       "<g id=\"glyph-1-8\">\n",
       "<path d=\"M 3.53125 -9.28125 L 3.53125 0 L 1.765625 0 L 1.765625 -9.28125 L 0.28125 -9.28125 L 0.28125 -10.5625 L 1.765625 -10.5625 L 1.765625 -11.765625 C 1.765625 -12.140625 1.800781 -12.492188 1.875 -12.828125 C 1.945312 -13.160156 2.078125 -13.445312 2.265625 -13.6875 C 2.460938 -13.925781 2.726562 -14.113281 3.0625 -14.25 C 3.394531 -14.394531 3.820312 -14.46875 4.34375 -14.46875 C 4.550781 -14.46875 4.765625 -14.457031 4.984375 -14.4375 C 5.210938 -14.425781 5.414062 -14.398438 5.59375 -14.359375 L 5.59375 -13.015625 C 5.476562 -13.035156 5.347656 -13.050781 5.203125 -13.0625 C 5.054688 -13.082031 4.925781 -13.09375 4.8125 -13.09375 C 4.550781 -13.09375 4.335938 -13.054688 4.171875 -12.984375 C 4.003906 -12.910156 3.875 -12.804688 3.78125 -12.671875 C 3.6875 -12.546875 3.617188 -12.382812 3.578125 -12.1875 C 3.546875 -11.988281 3.53125 -11.765625 3.53125 -11.515625 L 3.53125 -10.5625 L 5.59375 -10.5625 L 5.59375 -9.28125 Z M 3.53125 -9.28125 \"/>\n",
       "</g>\n",
       "<g id=\"glyph-1-9\">\n",
       "<path d=\"M 1.34375 -12.8125 L 1.34375 -14.5 L 3.09375 -14.5 L 3.09375 -12.8125 Z M 1.34375 0 L 1.34375 -10.5625 L 3.09375 -10.5625 L 3.09375 0 Z M 1.34375 0 \"/>\n",
       "</g>\n",
       "<g id=\"glyph-1-10\">\n",
       "<path d=\"M 5.359375 4.15625 C 4.742188 4.15625 4.203125 4.09375 3.734375 3.96875 C 3.265625 3.84375 2.863281 3.664062 2.53125 3.4375 C 2.207031 3.207031 1.941406 2.929688 1.734375 2.609375 C 1.523438 2.285156 1.375 1.929688 1.28125 1.546875 L 3.046875 1.296875 C 3.160156 1.773438 3.414062 2.144531 3.8125 2.40625 C 4.21875 2.675781 4.75 2.8125 5.40625 2.8125 C 5.800781 2.8125 6.160156 2.753906 6.484375 2.640625 C 6.804688 2.535156 7.082031 2.359375 7.3125 2.109375 C 7.539062 1.867188 7.71875 1.550781 7.84375 1.15625 C 7.96875 0.769531 8.03125 0.296875 8.03125 -0.265625 L 8.03125 -1.96875 L 8.015625 -1.96875 C 7.878906 -1.695312 7.710938 -1.4375 7.515625 -1.1875 C 7.328125 -0.945312 7.09375 -0.734375 6.8125 -0.546875 C 6.539062 -0.359375 6.222656 -0.207031 5.859375 -0.09375 C 5.492188 0.0195312 5.078125 0.078125 4.609375 0.078125 C 3.941406 0.078125 3.367188 -0.03125 2.890625 -0.25 C 2.410156 -0.476562 2.019531 -0.816406 1.71875 -1.265625 C 1.414062 -1.710938 1.191406 -2.269531 1.046875 -2.9375 C 0.910156 -3.613281 0.84375 -4.390625 0.84375 -5.265625 C 0.84375 -6.109375 0.910156 -6.867188 1.046875 -7.546875 C 1.191406 -8.222656 1.421875 -8.796875 1.734375 -9.265625 C 2.046875 -9.742188 2.453125 -10.109375 2.953125 -10.359375 C 3.460938 -10.609375 4.082031 -10.734375 4.8125 -10.734375 C 5.550781 -10.734375 6.195312 -10.5625 6.75 -10.21875 C 7.300781 -9.875 7.726562 -9.390625 8.03125 -8.765625 L 8.046875 -8.765625 C 8.046875 -8.921875 8.050781 -9.097656 8.0625 -9.296875 C 8.070312 -9.503906 8.082031 -9.695312 8.09375 -9.875 C 8.101562 -10.050781 8.113281 -10.203125 8.125 -10.328125 C 8.132812 -10.460938 8.148438 -10.539062 8.171875 -10.5625 L 9.828125 -10.5625 C 9.828125 -10.507812 9.820312 -10.410156 9.8125 -10.265625 C 9.8125 -10.128906 9.804688 -9.960938 9.796875 -9.765625 C 9.785156 -9.566406 9.78125 -9.347656 9.78125 -9.109375 C 9.78125 -8.878906 9.78125 -8.632812 9.78125 -8.375 L 9.78125 -0.296875 C 9.78125 1.179688 9.414062 2.289062 8.6875 3.03125 C 7.957031 3.78125 6.847656 4.15625 5.359375 4.15625 Z M 8.03125 -5.28125 C 8.03125 -6.019531 7.945312 -6.648438 7.78125 -7.171875 C 7.625 -7.691406 7.414062 -8.117188 7.15625 -8.453125 C 6.894531 -8.785156 6.597656 -9.03125 6.265625 -9.1875 C 5.929688 -9.34375 5.585938 -9.421875 5.234375 -9.421875 C 4.785156 -9.421875 4.398438 -9.34375 4.078125 -9.1875 C 3.753906 -9.03125 3.484375 -8.785156 3.265625 -8.453125 C 3.054688 -8.117188 2.898438 -7.6875 2.796875 -7.15625 C 2.703125 -6.632812 2.65625 -6.007812 2.65625 -5.28125 C 2.65625 -4.519531 2.703125 -3.878906 2.796875 -3.359375 C 2.898438 -2.847656 3.054688 -2.429688 3.265625 -2.109375 C 3.472656 -1.785156 3.738281 -1.554688 4.0625 -1.421875 C 4.382812 -1.285156 4.765625 -1.21875 5.203125 -1.21875 C 5.554688 -1.21875 5.898438 -1.289062 6.234375 -1.4375 C 6.566406 -1.59375 6.867188 -1.832031 7.140625 -2.15625 C 7.410156 -2.476562 7.625 -2.894531 7.78125 -3.40625 C 7.945312 -3.925781 8.03125 -4.550781 8.03125 -5.28125 Z M 8.03125 -5.28125 \"/>\n",
       "</g>\n",
       "<g id=\"glyph-1-11\">\n",
       "<path d=\"M 3.09375 -8.765625 C 3.289062 -9.117188 3.503906 -9.421875 3.734375 -9.671875 C 3.960938 -9.921875 4.210938 -10.125 4.484375 -10.28125 C 4.753906 -10.445312 5.050781 -10.566406 5.375 -10.640625 C 5.707031 -10.722656 6.070312 -10.765625 6.46875 -10.765625 C 7.144531 -10.765625 7.703125 -10.671875 8.140625 -10.484375 C 8.578125 -10.304688 8.921875 -10.050781 9.171875 -9.71875 C 9.421875 -9.394531 9.59375 -9.003906 9.6875 -8.546875 C 9.78125 -8.085938 9.828125 -7.585938 9.828125 -7.046875 L 9.828125 0 L 8.0625 0 L 8.0625 -6.703125 C 8.0625 -7.148438 8.03125 -7.539062 7.96875 -7.875 C 7.914062 -8.21875 7.8125 -8.5 7.65625 -8.71875 C 7.5 -8.945312 7.273438 -9.117188 6.984375 -9.234375 C 6.703125 -9.347656 6.332031 -9.40625 5.875 -9.40625 C 5.457031 -9.40625 5.082031 -9.328125 4.75 -9.171875 C 4.414062 -9.023438 4.128906 -8.816406 3.890625 -8.546875 C 3.648438 -8.273438 3.460938 -7.941406 3.328125 -7.546875 C 3.203125 -7.160156 3.140625 -6.722656 3.140625 -6.234375 L 3.140625 0 L 1.390625 0 L 1.390625 -14.5 L 3.140625 -14.5 L 3.140625 -10.71875 C 3.140625 -10.507812 3.132812 -10.296875 3.125 -10.078125 C 3.125 -9.859375 3.117188 -9.65625 3.109375 -9.46875 C 3.097656 -9.289062 3.085938 -9.140625 3.078125 -9.015625 C 3.078125 -8.890625 3.070312 -8.804688 3.0625 -8.765625 Z M 3.09375 -8.765625 \"/>\n",
       "</g>\n",
       "<g id=\"glyph-1-12\">\n",
       "<path d=\"M 9.28125 -2.921875 C 9.28125 -2.421875 9.179688 -1.976562 8.984375 -1.59375 C 8.796875 -1.207031 8.519531 -0.878906 8.15625 -0.609375 C 7.789062 -0.347656 7.34375 -0.144531 6.8125 0 C 6.28125 0.132812 5.671875 0.203125 4.984375 0.203125 C 4.378906 0.203125 3.828125 0.148438 3.328125 0.046875 C 2.835938 -0.046875 2.40625 -0.195312 2.03125 -0.40625 C 1.664062 -0.613281 1.359375 -0.882812 1.109375 -1.21875 C 0.859375 -1.5625 0.675781 -1.984375 0.5625 -2.484375 L 2.109375 -2.78125 C 2.253906 -2.21875 2.5625 -1.800781 3.03125 -1.53125 C 3.5 -1.269531 4.148438 -1.140625 4.984375 -1.140625 C 5.367188 -1.140625 5.71875 -1.164062 6.03125 -1.21875 C 6.34375 -1.269531 6.613281 -1.359375 6.84375 -1.484375 C 7.070312 -1.617188 7.25 -1.789062 7.375 -2 C 7.5 -2.207031 7.5625 -2.46875 7.5625 -2.78125 C 7.5625 -3.101562 7.488281 -3.363281 7.34375 -3.5625 C 7.195312 -3.769531 6.988281 -3.941406 6.71875 -4.078125 C 6.445312 -4.210938 6.117188 -4.332031 5.734375 -4.4375 C 5.359375 -4.539062 4.945312 -4.65625 4.5 -4.78125 C 4.070312 -4.882812 3.648438 -5.003906 3.234375 -5.140625 C 2.816406 -5.285156 2.441406 -5.46875 2.109375 -5.6875 C 1.773438 -5.914062 1.503906 -6.191406 1.296875 -6.515625 C 1.085938 -6.847656 0.984375 -7.269531 0.984375 -7.78125 C 0.984375 -8.738281 1.320312 -9.46875 2 -9.96875 C 2.6875 -10.476562 3.691406 -10.734375 5.015625 -10.734375 C 6.179688 -10.734375 7.101562 -10.523438 7.78125 -10.109375 C 8.46875 -9.703125 8.90625 -9.046875 9.09375 -8.140625 L 7.515625 -7.953125 C 7.453125 -8.222656 7.34375 -8.453125 7.1875 -8.640625 C 7.03125 -8.828125 6.84375 -8.976562 6.625 -9.09375 C 6.40625 -9.207031 6.15625 -9.285156 5.875 -9.328125 C 5.59375 -9.378906 5.304688 -9.40625 5.015625 -9.40625 C 4.210938 -9.40625 3.625 -9.285156 3.25 -9.046875 C 2.875 -8.804688 2.6875 -8.441406 2.6875 -7.953125 C 2.6875 -7.660156 2.753906 -7.421875 2.890625 -7.234375 C 3.035156 -7.054688 3.234375 -6.898438 3.484375 -6.765625 C 3.734375 -6.640625 4.03125 -6.53125 4.375 -6.4375 C 4.726562 -6.34375 5.117188 -6.242188 5.546875 -6.140625 C 5.828125 -6.066406 6.113281 -5.988281 6.40625 -5.90625 C 6.695312 -5.832031 6.976562 -5.738281 7.25 -5.625 C 7.53125 -5.507812 7.789062 -5.375 8.03125 -5.21875 C 8.28125 -5.0625 8.492188 -4.875 8.671875 -4.65625 C 8.859375 -4.445312 9.003906 -4.195312 9.109375 -3.90625 C 9.222656 -3.625 9.28125 -3.296875 9.28125 -2.921875 Z M 9.28125 -2.921875 \"/>\n",
       "</g>\n",
       "<g id=\"glyph-1-13\">\n",
       "<path d=\"M 1.234375 -5.203125 C 1.234375 -6.097656 1.300781 -6.957031 1.4375 -7.78125 C 1.582031 -8.613281 1.800781 -9.410156 2.09375 -10.171875 C 2.382812 -10.929688 2.753906 -11.671875 3.203125 -12.390625 C 3.660156 -13.109375 4.207031 -13.8125 4.84375 -14.5 L 6.546875 -14.5 C 5.929688 -13.8125 5.398438 -13.109375 4.953125 -12.390625 C 4.503906 -11.671875 4.132812 -10.925781 3.84375 -10.15625 C 3.5625 -9.394531 3.351562 -8.597656 3.21875 -7.765625 C 3.082031 -6.941406 3.015625 -6.078125 3.015625 -5.171875 C 3.015625 -4.265625 3.082031 -3.398438 3.21875 -2.578125 C 3.351562 -1.753906 3.5625 -0.957031 3.84375 -0.1875 C 4.132812 0.582031 4.503906 1.320312 4.953125 2.03125 C 5.398438 2.75 5.929688 3.453125 6.546875 4.140625 L 4.84375 4.140625 C 4.207031 3.453125 3.660156 2.75 3.203125 2.03125 C 2.753906 1.320312 2.382812 0.585938 2.09375 -0.171875 C 1.800781 -0.929688 1.582031 -1.722656 1.4375 -2.546875 C 1.300781 -3.378906 1.234375 -4.25 1.234375 -5.15625 Z M 1.234375 -5.203125 \"/>\n",
       "</g>\n",
       "<g id=\"glyph-1-14\">\n",
       "<path d=\"M 10.796875 0 L 5.296875 -6.640625 L 3.5 -5.28125 L 3.5 0 L 1.640625 0 L 1.640625 -13.765625 L 3.5 -13.765625 L 3.5 -6.859375 L 10.140625 -13.765625 L 12.328125 -13.765625 L 6.46875 -7.78125 L 13.109375 0 Z M 10.796875 0 \"/>\n",
       "</g>\n",
       "<g id=\"glyph-1-15\">\n",
       "<path d=\"M 5.421875 -5.15625 C 5.421875 -4.25 5.351562 -3.378906 5.21875 -2.546875 C 5.082031 -1.722656 4.863281 -0.929688 4.5625 -0.171875 C 4.269531 0.585938 3.894531 1.320312 3.4375 2.03125 C 2.988281 2.75 2.445312 3.453125 1.8125 4.140625 L 0.125 4.140625 C 0.726562 3.453125 1.253906 2.75 1.703125 2.03125 C 2.148438 1.320312 2.515625 0.582031 2.796875 -0.1875 C 3.085938 -0.957031 3.300781 -1.753906 3.4375 -2.578125 C 3.582031 -3.398438 3.65625 -4.265625 3.65625 -5.171875 C 3.65625 -6.078125 3.582031 -6.941406 3.4375 -7.765625 C 3.300781 -8.597656 3.085938 -9.394531 2.796875 -10.15625 C 2.515625 -10.925781 2.148438 -11.671875 1.703125 -12.390625 C 1.253906 -13.109375 0.726562 -13.8125 0.125 -14.5 L 1.8125 -14.5 C 2.445312 -13.8125 2.988281 -13.109375 3.4375 -12.390625 C 3.894531 -11.671875 4.269531 -10.929688 4.5625 -10.171875 C 4.863281 -9.410156 5.082031 -8.613281 5.21875 -7.78125 C 5.351562 -6.957031 5.421875 -6.097656 5.421875 -5.203125 Z M 5.421875 -5.15625 \"/>\n",
       "</g>\n",
       "<g id=\"glyph-2-0\">\n",
       "<path d=\"M 0 -11.390625 L -4.03125 -9.828125 L -4.03125 -3.5625 L 0 -1.96875 L 0 -0.046875 L -13.765625 -5.65625 L -13.765625 -7.78125 L 0 -13.296875 Z M -10.015625 -7.5 C -10.273438 -7.394531 -10.539062 -7.296875 -10.8125 -7.203125 C -11.082031 -7.109375 -11.320312 -7.023438 -11.53125 -6.953125 C -11.75 -6.878906 -11.929688 -6.816406 -12.078125 -6.765625 C -12.234375 -6.722656 -12.328125 -6.695312 -12.359375 -6.6875 C -12.328125 -6.675781 -12.234375 -6.644531 -12.078125 -6.59375 C -11.929688 -6.550781 -11.742188 -6.492188 -11.515625 -6.421875 C -11.296875 -6.347656 -11.050781 -6.265625 -10.78125 -6.171875 C -10.519531 -6.078125 -10.257812 -5.976562 -10 -5.875 L -5.484375 -4.125 L -5.484375 -9.265625 Z M -10.015625 -7.5 \"/>\n",
       "</g>\n",
       "<g id=\"glyph-2-1\">\n",
       "<path d=\"M -5.328125 -2.6875 C -4.722656 -2.6875 -4.164062 -2.726562 -3.65625 -2.8125 C -3.15625 -2.90625 -2.71875 -3.054688 -2.34375 -3.265625 C -1.976562 -3.472656 -1.691406 -3.742188 -1.484375 -4.078125 C -1.285156 -4.421875 -1.1875 -4.847656 -1.1875 -5.359375 C -1.1875 -5.984375 -1.351562 -6.503906 -1.6875 -6.921875 C -2.03125 -7.335938 -2.554688 -7.597656 -3.265625 -7.703125 L -3.140625 -9.46875 C -2.703125 -9.414062 -2.28125 -9.289062 -1.875 -9.09375 C -1.476562 -8.894531 -1.125 -8.628906 -0.8125 -8.296875 C -0.507812 -7.960938 -0.265625 -7.550781 -0.078125 -7.0625 C 0.109375 -6.582031 0.203125 -6.03125 0.203125 -5.40625 C 0.203125 -4.570312 0.0625 -3.863281 -0.21875 -3.28125 C -0.5 -2.707031 -0.882812 -2.238281 -1.375 -1.875 C -1.875 -1.519531 -2.457031 -1.257812 -3.125 -1.09375 C -3.789062 -0.925781 -4.515625 -0.84375 -5.296875 -0.84375 C -6.003906 -0.84375 -6.628906 -0.898438 -7.171875 -1.015625 C -7.710938 -1.140625 -8.1875 -1.304688 -8.59375 -1.515625 C -9 -1.734375 -9.34375 -1.984375 -9.625 -2.265625 C -9.90625 -2.554688 -10.125 -2.867188 -10.28125 -3.203125 C -10.445312 -3.535156 -10.566406 -3.882812 -10.640625 -4.25 C -10.722656 -4.625 -10.765625 -5 -10.765625 -5.375 C -10.765625 -5.96875 -10.679688 -6.492188 -10.515625 -6.953125 C -10.359375 -7.421875 -10.132812 -7.820312 -9.84375 -8.15625 C -9.5625 -8.488281 -9.226562 -8.757812 -8.84375 -8.96875 C -8.457031 -9.175781 -8.046875 -9.328125 -7.609375 -9.421875 L -7.46875 -7.609375 C -8.050781 -7.515625 -8.515625 -7.28125 -8.859375 -6.90625 C -9.210938 -6.539062 -9.390625 -6.015625 -9.390625 -5.328125 C -9.390625 -4.828125 -9.304688 -4.410156 -9.140625 -4.078125 C -8.972656 -3.742188 -8.71875 -3.472656 -8.375 -3.265625 C -8.039062 -3.054688 -7.617188 -2.90625 -7.109375 -2.8125 C -6.609375 -2.726562 -6.015625 -2.6875 -5.328125 -2.6875 Z M -5.328125 -2.6875 \"/>\n",
       "</g>\n",
       "<g id=\"glyph-2-2\">\n",
       "<path d=\"M -10.5625 -3.0625 L -3.875 -3.0625 C -3.351562 -3.0625 -2.921875 -3.097656 -2.578125 -3.171875 C -2.234375 -3.253906 -1.953125 -3.378906 -1.734375 -3.546875 C -1.523438 -3.710938 -1.375 -3.929688 -1.28125 -4.203125 C -1.195312 -4.484375 -1.15625 -4.832031 -1.15625 -5.25 C -1.15625 -5.664062 -1.226562 -6.039062 -1.375 -6.375 C -1.53125 -6.707031 -1.742188 -6.992188 -2.015625 -7.234375 C -2.296875 -7.472656 -2.640625 -7.65625 -3.046875 -7.78125 C -3.453125 -7.914062 -3.914062 -7.984375 -4.4375 -7.984375 L -10.5625 -7.984375 L -10.5625 -9.734375 L -2.25 -9.734375 C -2.03125 -9.734375 -1.796875 -9.734375 -1.546875 -9.734375 C -1.304688 -9.742188 -1.078125 -9.75 -0.859375 -9.75 C -0.640625 -9.757812 -0.453125 -9.765625 -0.296875 -9.765625 C -0.140625 -9.773438 -0.0390625 -9.785156 0 -9.796875 L 0 -8.140625 C -0.03125 -8.128906 -0.117188 -8.117188 -0.265625 -8.109375 C -0.410156 -8.109375 -0.570312 -8.101562 -0.75 -8.09375 C -0.9375 -8.082031 -1.125 -8.070312 -1.3125 -8.0625 C -1.507812 -8.0625 -1.675781 -8.0625 -1.8125 -8.0625 L -1.8125 -8.03125 C -1.5 -7.863281 -1.21875 -7.675781 -0.96875 -7.46875 C -0.726562 -7.269531 -0.519531 -7.035156 -0.34375 -6.765625 C -0.175781 -6.503906 -0.046875 -6.195312 0.046875 -5.84375 C 0.148438 -5.5 0.203125 -5.101562 0.203125 -4.65625 C 0.203125 -4.0625 0.128906 -3.550781 -0.015625 -3.125 C -0.160156 -2.707031 -0.382812 -2.363281 -0.6875 -2.09375 C -0.988281 -1.820312 -1.375 -1.617188 -1.84375 -1.484375 C -2.3125 -1.359375 -2.875 -1.296875 -3.53125 -1.296875 L -10.5625 -1.296875 Z M -10.5625 -3.0625 \"/>\n",
       "</g>\n",
       "<g id=\"glyph-2-3\">\n",
       "<path d=\"M 0 -1.390625 L -8.109375 -1.390625 C -8.328125 -1.390625 -8.550781 -1.382812 -8.78125 -1.375 C -9.007812 -1.375 -9.234375 -1.367188 -9.453125 -1.359375 C -9.671875 -1.359375 -9.875 -1.351562 -10.0625 -1.34375 C -10.25 -1.34375 -10.414062 -1.335938 -10.5625 -1.328125 L -10.5625 -2.984375 C -10.414062 -2.992188 -10.242188 -3.003906 -10.046875 -3.015625 C -9.859375 -3.023438 -9.660156 -3.035156 -9.453125 -3.046875 C -9.253906 -3.054688 -9.0625 -3.0625 -8.875 -3.0625 C -8.695312 -3.0625 -8.539062 -3.0625 -8.40625 -3.0625 L -8.40625 -3.109375 C -8.8125 -3.234375 -9.160156 -3.363281 -9.453125 -3.5 C -9.753906 -3.644531 -10 -3.8125 -10.1875 -4 C -10.382812 -4.1875 -10.53125 -4.410156 -10.625 -4.671875 C -10.71875 -4.929688 -10.765625 -5.242188 -10.765625 -5.609375 C -10.765625 -5.753906 -10.75 -5.890625 -10.71875 -6.015625 C -10.695312 -6.148438 -10.679688 -6.253906 -10.671875 -6.328125 L -9.046875 -6.328125 C -9.085938 -6.210938 -9.113281 -6.078125 -9.125 -5.921875 C -9.144531 -5.765625 -9.15625 -5.585938 -9.15625 -5.390625 C -9.15625 -4.984375 -9.0625 -4.640625 -8.875 -4.359375 C -8.695312 -4.078125 -8.445312 -3.847656 -8.125 -3.671875 C -7.800781 -3.492188 -7.414062 -3.359375 -6.96875 -3.265625 C -6.519531 -3.179688 -6.035156 -3.140625 -5.515625 -3.140625 L 0 -3.140625 Z M 0 -1.390625 \"/>\n",
       "</g>\n",
       "<g id=\"glyph-2-4\">\n",
       "<path d=\"M 0.203125 -4.046875 C 0.203125 -2.984375 -0.078125 -2.179688 -0.640625 -1.640625 C -1.203125 -1.109375 -1.972656 -0.84375 -2.953125 -0.84375 C -3.648438 -0.84375 -4.21875 -0.972656 -4.65625 -1.234375 C -5.101562 -1.503906 -5.453125 -1.851562 -5.703125 -2.28125 C -5.960938 -2.707031 -6.140625 -3.191406 -6.234375 -3.734375 C -6.335938 -4.285156 -6.394531 -4.84375 -6.40625 -5.40625 L -6.453125 -7.78125 L -7.015625 -7.78125 C -7.453125 -7.78125 -7.820312 -7.734375 -8.125 -7.640625 C -8.4375 -7.554688 -8.6875 -7.414062 -8.875 -7.21875 C -9.0625 -7.03125 -9.195312 -6.796875 -9.28125 -6.515625 C -9.375 -6.234375 -9.421875 -5.898438 -9.421875 -5.515625 C -9.421875 -5.179688 -9.394531 -4.875 -9.34375 -4.59375 C -9.300781 -4.320312 -9.210938 -4.082031 -9.078125 -3.875 C -8.953125 -3.675781 -8.78125 -3.515625 -8.5625 -3.390625 C -8.351562 -3.273438 -8.082031 -3.195312 -7.75 -3.15625 L -7.90625 -1.3125 C -8.320312 -1.382812 -8.703125 -1.507812 -9.046875 -1.6875 C -9.398438 -1.875 -9.703125 -2.132812 -9.953125 -2.46875 C -10.210938 -2.800781 -10.410156 -3.21875 -10.546875 -3.71875 C -10.691406 -4.226562 -10.765625 -4.84375 -10.765625 -5.5625 C -10.765625 -6.882812 -10.457031 -7.878906 -9.84375 -8.546875 C -9.238281 -9.222656 -8.359375 -9.5625 -7.203125 -9.5625 L -2.65625 -9.5625 C -2.132812 -9.5625 -1.738281 -9.628906 -1.46875 -9.765625 C -1.207031 -9.898438 -1.078125 -10.160156 -1.078125 -10.546875 C -1.078125 -10.640625 -1.082031 -10.734375 -1.09375 -10.828125 C -1.113281 -10.929688 -1.132812 -11.03125 -1.15625 -11.125 L -0.0625 -11.125 C -0.0078125 -10.90625 0.0234375 -10.6875 0.046875 -10.46875 C 0.078125 -10.25 0.09375 -10.015625 0.09375 -9.765625 C 0.09375 -9.429688 0.0507812 -9.144531 -0.03125 -8.90625 C -0.125 -8.675781 -0.257812 -8.484375 -0.4375 -8.328125 C -0.613281 -8.179688 -0.832031 -8.066406 -1.09375 -7.984375 C -1.363281 -7.910156 -1.671875 -7.863281 -2.015625 -7.84375 L -2.015625 -7.78125 C -1.679688 -7.59375 -1.375 -7.382812 -1.09375 -7.15625 C -0.820312 -6.9375 -0.59375 -6.675781 -0.40625 -6.375 C -0.21875 -6.070312 -0.0703125 -5.726562 0.03125 -5.34375 C 0.144531 -4.96875 0.203125 -4.535156 0.203125 -4.046875 Z M -1.125 -4.4375 C -1.125 -5 -1.222656 -5.488281 -1.421875 -5.90625 C -1.628906 -6.332031 -1.894531 -6.679688 -2.21875 -6.953125 C -2.539062 -7.234375 -2.890625 -7.441406 -3.265625 -7.578125 C -3.640625 -7.710938 -4 -7.78125 -4.34375 -7.78125 L -5.21875 -7.78125 L -5.171875 -5.859375 C -5.171875 -5.429688 -5.140625 -5.019531 -5.078125 -4.625 C -5.023438 -4.238281 -4.914062 -3.898438 -4.75 -3.609375 C -4.59375 -3.316406 -4.367188 -3.082031 -4.078125 -2.90625 C -3.785156 -2.738281 -3.398438 -2.65625 -2.921875 -2.65625 C -2.347656 -2.65625 -1.90625 -2.804688 -1.59375 -3.109375 C -1.28125 -3.421875 -1.125 -3.863281 -1.125 -4.4375 Z M -1.125 -4.4375 \"/>\n",
       "</g>\n",
       "<g id=\"glyph-2-5\">\n",
       "<path d=\"M 0 -5.90625 C 0.632812 -5.65625 1.207031 -5.398438 1.71875 -5.140625 C 2.226562 -4.878906 2.664062 -4.585938 3.03125 -4.265625 C 3.394531 -3.953125 3.671875 -3.597656 3.859375 -3.203125 C 4.054688 -2.816406 4.15625 -2.367188 4.15625 -1.859375 C 4.15625 -1.640625 4.144531 -1.4375 4.125 -1.25 C 4.113281 -1.0625 4.085938 -0.863281 4.046875 -0.65625 L 2.71875 -0.65625 C 2.738281 -0.78125 2.753906 -0.921875 2.765625 -1.078125 C 2.773438 -1.234375 2.78125 -1.363281 2.78125 -1.46875 C 2.78125 -1.988281 2.585938 -2.46875 2.203125 -2.90625 C 1.816406 -3.351562 1.207031 -3.742188 0.375 -4.078125 L -0.046875 -4.234375 L -10.5625 -0.046875 L -10.5625 -1.921875 L -4.734375 -4.15625 C -4.554688 -4.21875 -4.316406 -4.296875 -4.015625 -4.390625 C -3.722656 -4.492188 -3.429688 -4.597656 -3.140625 -4.703125 C -2.847656 -4.804688 -2.582031 -4.894531 -2.34375 -4.96875 C -2.113281 -5.050781 -1.972656 -5.097656 -1.921875 -5.109375 C -1.984375 -5.128906 -2.117188 -5.175781 -2.328125 -5.25 C -2.546875 -5.320312 -2.785156 -5.40625 -3.046875 -5.5 C -3.304688 -5.59375 -3.566406 -5.6875 -3.828125 -5.78125 C -4.097656 -5.882812 -4.332031 -5.96875 -4.53125 -6.03125 L -10.5625 -8.109375 L -10.5625 -9.96875 Z M 0 -5.90625 \"/>\n",
       "</g>\n",
       "<g id=\"glyph-2-6\">\n",
       "</g>\n",
       "<g id=\"glyph-2-7\">\n",
       "<path d=\"M 0 -1.640625 L -13.765625 -1.640625 L -13.765625 -12.078125 L -12.234375 -12.078125 L -12.234375 -3.5 L -7.828125 -3.5 L -7.828125 -11.5 L -6.3125 -11.5 L -6.3125 -3.5 L -1.53125 -3.5 L -1.53125 -12.484375 L 0 -12.484375 Z M 0 -1.640625 \"/>\n",
       "</g>\n",
       "<g id=\"glyph-2-8\">\n",
       "<path d=\"M -2.921875 -9.28125 C -2.421875 -9.28125 -1.976562 -9.179688 -1.59375 -8.984375 C -1.207031 -8.796875 -0.878906 -8.519531 -0.609375 -8.15625 C -0.347656 -7.789062 -0.144531 -7.34375 0 -6.8125 C 0.132812 -6.28125 0.203125 -5.671875 0.203125 -4.984375 C 0.203125 -4.378906 0.148438 -3.828125 0.046875 -3.328125 C -0.046875 -2.835938 -0.195312 -2.40625 -0.40625 -2.03125 C -0.613281 -1.664062 -0.882812 -1.359375 -1.21875 -1.109375 C -1.5625 -0.859375 -1.984375 -0.675781 -2.484375 -0.5625 L -2.78125 -2.109375 C -2.21875 -2.253906 -1.800781 -2.5625 -1.53125 -3.03125 C -1.269531 -3.5 -1.140625 -4.148438 -1.140625 -4.984375 C -1.140625 -5.367188 -1.164062 -5.71875 -1.21875 -6.03125 C -1.269531 -6.34375 -1.359375 -6.613281 -1.484375 -6.84375 C -1.617188 -7.070312 -1.789062 -7.25 -2 -7.375 C -2.207031 -7.5 -2.46875 -7.5625 -2.78125 -7.5625 C -3.101562 -7.5625 -3.363281 -7.488281 -3.5625 -7.34375 C -3.769531 -7.195312 -3.941406 -6.988281 -4.078125 -6.71875 C -4.210938 -6.445312 -4.332031 -6.117188 -4.4375 -5.734375 C -4.539062 -5.359375 -4.65625 -4.945312 -4.78125 -4.5 C -4.882812 -4.070312 -5.003906 -3.648438 -5.140625 -3.234375 C -5.285156 -2.816406 -5.46875 -2.441406 -5.6875 -2.109375 C -5.914062 -1.773438 -6.191406 -1.503906 -6.515625 -1.296875 C -6.847656 -1.085938 -7.269531 -0.984375 -7.78125 -0.984375 C -8.738281 -0.984375 -9.46875 -1.320312 -9.96875 -2 C -10.476562 -2.6875 -10.734375 -3.691406 -10.734375 -5.015625 C -10.734375 -6.179688 -10.523438 -7.101562 -10.109375 -7.78125 C -9.703125 -8.46875 -9.046875 -8.90625 -8.140625 -9.09375 L -7.953125 -7.515625 C -8.222656 -7.453125 -8.453125 -7.34375 -8.640625 -7.1875 C -8.828125 -7.03125 -8.976562 -6.84375 -9.09375 -6.625 C -9.207031 -6.40625 -9.285156 -6.15625 -9.328125 -5.875 C -9.378906 -5.59375 -9.40625 -5.304688 -9.40625 -5.015625 C -9.40625 -4.210938 -9.285156 -3.625 -9.046875 -3.25 C -8.804688 -2.875 -8.441406 -2.6875 -7.953125 -2.6875 C -7.660156 -2.6875 -7.421875 -2.753906 -7.234375 -2.890625 C -7.054688 -3.035156 -6.898438 -3.234375 -6.765625 -3.484375 C -6.640625 -3.734375 -6.53125 -4.03125 -6.4375 -4.375 C -6.34375 -4.726562 -6.242188 -5.117188 -6.140625 -5.546875 C -6.066406 -5.828125 -5.988281 -6.113281 -5.90625 -6.40625 C -5.832031 -6.695312 -5.738281 -6.976562 -5.625 -7.25 C -5.507812 -7.53125 -5.375 -7.789062 -5.21875 -8.03125 C -5.0625 -8.28125 -4.875 -8.492188 -4.65625 -8.671875 C -4.445312 -8.859375 -4.195312 -9.003906 -3.90625 -9.109375 C -3.625 -9.222656 -3.296875 -9.28125 -2.921875 -9.28125 Z M -2.921875 -9.28125 \"/>\n",
       "</g>\n",
       "<g id=\"glyph-2-9\">\n",
       "<path d=\"M -0.078125 -5.40625 C -0.00390625 -5.144531 0.0507812 -4.875 0.09375 -4.59375 C 0.132812 -4.320312 0.15625 -4.003906 0.15625 -3.640625 C 0.15625 -2.234375 -0.640625 -1.53125 -2.234375 -1.53125 L -9.28125 -1.53125 L -9.28125 -0.296875 L -10.5625 -0.296875 L -10.5625 -1.59375 L -12.9375 -2.109375 L -12.9375 -3.28125 L -10.5625 -3.28125 L -10.5625 -5.234375 L -9.28125 -5.234375 L -9.28125 -3.28125 L -2.625 -3.28125 C -2.113281 -3.28125 -1.753906 -3.363281 -1.546875 -3.53125 C -1.335938 -3.695312 -1.234375 -3.984375 -1.234375 -4.390625 C -1.234375 -4.566406 -1.242188 -4.734375 -1.265625 -4.890625 C -1.296875 -5.046875 -1.332031 -5.21875 -1.375 -5.40625 Z M -0.078125 -5.40625 \"/>\n",
       "</g>\n",
       "<g id=\"glyph-2-10\">\n",
       "<path d=\"M -12.8125 -1.34375 L -14.5 -1.34375 L -14.5 -3.09375 L -12.8125 -3.09375 Z M 0 -1.34375 L -10.5625 -1.34375 L -10.5625 -3.09375 L 0 -3.09375 Z M 0 -1.34375 \"/>\n",
       "</g>\n",
       "<g id=\"glyph-2-11\">\n",
       "<path d=\"M 0 -7.5 L -6.703125 -7.5 C -7.210938 -7.5 -7.640625 -7.46875 -7.984375 -7.40625 C -8.328125 -7.34375 -8.601562 -7.234375 -8.8125 -7.078125 C -9.03125 -6.921875 -9.179688 -6.71875 -9.265625 -6.46875 C -9.359375 -6.226562 -9.40625 -5.925781 -9.40625 -5.5625 C -9.40625 -5.195312 -9.332031 -4.863281 -9.1875 -4.5625 C -9.039062 -4.257812 -8.828125 -4.003906 -8.546875 -3.796875 C -8.273438 -3.585938 -7.9375 -3.425781 -7.53125 -3.3125 C -7.125 -3.195312 -6.65625 -3.140625 -6.125 -3.140625 L 0 -3.140625 L 0 -1.390625 L -8.3125 -1.390625 C -8.53125 -1.390625 -8.757812 -1.382812 -9 -1.375 C -9.25 -1.375 -9.484375 -1.367188 -9.703125 -1.359375 C -9.921875 -1.359375 -10.109375 -1.351562 -10.265625 -1.34375 C -10.421875 -1.34375 -10.519531 -1.335938 -10.5625 -1.328125 L -10.5625 -2.984375 C -10.53125 -2.992188 -10.441406 -3 -10.296875 -3 C -10.160156 -3.007812 -10 -3.019531 -9.8125 -3.03125 C -9.625 -3.039062 -9.429688 -3.046875 -9.234375 -3.046875 C -9.046875 -3.054688 -8.890625 -3.0625 -8.765625 -3.0625 L -8.765625 -3.09375 C -9.066406 -3.25 -9.34375 -3.414062 -9.59375 -3.59375 C -9.84375 -3.78125 -10.050781 -3.992188 -10.21875 -4.234375 C -10.394531 -4.484375 -10.53125 -4.765625 -10.625 -5.078125 C -10.71875 -5.398438 -10.765625 -5.769531 -10.765625 -6.1875 C -10.765625 -6.988281 -10.601562 -7.617188 -10.28125 -8.078125 C -9.96875 -8.546875 -9.460938 -8.867188 -8.765625 -9.046875 L -8.765625 -9.078125 C -9.066406 -9.234375 -9.34375 -9.410156 -9.59375 -9.609375 C -9.84375 -9.804688 -10.050781 -10.035156 -10.21875 -10.296875 C -10.394531 -10.554688 -10.53125 -10.847656 -10.625 -11.171875 C -10.71875 -11.492188 -10.765625 -11.863281 -10.765625 -12.28125 C -10.765625 -12.820312 -10.691406 -13.285156 -10.546875 -13.671875 C -10.398438 -14.054688 -10.175781 -14.367188 -9.875 -14.609375 C -9.582031 -14.859375 -9.195312 -15.039062 -8.71875 -15.15625 C -8.25 -15.28125 -7.691406 -15.34375 -7.046875 -15.34375 L 0 -15.34375 L 0 -13.609375 L -6.703125 -13.609375 C -7.210938 -13.609375 -7.640625 -13.570312 -7.984375 -13.5 C -8.328125 -13.4375 -8.601562 -13.328125 -8.8125 -13.171875 C -9.03125 -13.023438 -9.179688 -12.828125 -9.265625 -12.578125 C -9.359375 -12.328125 -9.40625 -12.023438 -9.40625 -11.671875 C -9.40625 -11.296875 -9.332031 -10.957031 -9.1875 -10.65625 C -9.050781 -10.363281 -8.847656 -10.109375 -8.578125 -9.890625 C -8.304688 -9.679688 -7.960938 -9.519531 -7.546875 -9.40625 C -7.140625 -9.289062 -6.664062 -9.234375 -6.125 -9.234375 L 0 -9.234375 Z M 0 -7.5 \"/>\n",
       "</g>\n",
       "<g id=\"glyph-2-12\">\n",
       "<path d=\"M -4.90625 -2.703125 C -4.351562 -2.703125 -3.84375 -2.753906 -3.375 -2.859375 C -2.914062 -2.972656 -2.519531 -3.148438 -2.1875 -3.390625 C -1.851562 -3.628906 -1.59375 -3.929688 -1.40625 -4.296875 C -1.21875 -4.671875 -1.125 -5.117188 -1.125 -5.640625 C -1.125 -6.398438 -1.273438 -7.007812 -1.578125 -7.46875 C -1.890625 -7.9375 -2.28125 -8.25 -2.75 -8.40625 L -2.3125 -9.953125 C -2.007812 -9.835938 -1.710938 -9.679688 -1.421875 -9.484375 C -1.128906 -9.285156 -0.863281 -9.019531 -0.625 -8.6875 C -0.382812 -8.351562 -0.1875 -7.9375 -0.03125 -7.4375 C 0.125 -6.945312 0.203125 -6.347656 0.203125 -5.640625 C 0.203125 -4.078125 -0.257812 -2.882812 -1.1875 -2.0625 C -2.125 -1.25 -3.515625 -0.84375 -5.359375 -0.84375 C -6.347656 -0.84375 -7.179688 -0.96875 -7.859375 -1.21875 C -8.546875 -1.46875 -9.101562 -1.804688 -9.53125 -2.234375 C -9.96875 -2.660156 -10.28125 -3.160156 -10.46875 -3.734375 C -10.664062 -4.304688 -10.765625 -4.921875 -10.765625 -5.578125 C -10.765625 -6.460938 -10.617188 -7.203125 -10.328125 -7.796875 C -10.046875 -8.390625 -9.648438 -8.867188 -9.140625 -9.234375 C -8.640625 -9.597656 -8.046875 -9.851562 -7.359375 -10 C -6.679688 -10.15625 -5.941406 -10.234375 -5.140625 -10.234375 L -4.90625 -10.234375 Z M -6.265625 -8.421875 C -7.378906 -8.316406 -8.191406 -8.03125 -8.703125 -7.5625 C -9.210938 -7.09375 -9.46875 -6.421875 -9.46875 -5.546875 C -9.46875 -5.253906 -9.421875 -4.945312 -9.328125 -4.625 C -9.234375 -4.300781 -9.0625 -4.003906 -8.8125 -3.734375 C -8.570312 -3.460938 -8.242188 -3.226562 -7.828125 -3.03125 C -7.421875 -2.84375 -6.898438 -2.738281 -6.265625 -2.71875 Z M -6.265625 -8.421875 \"/>\n",
       "</g>\n",
       "<g id=\"glyph-3-0\">\n",
       "<path d=\"M 12.34375 -5.375 C 12.34375 -4.550781 12.21875 -3.796875 11.96875 -3.109375 C 11.71875 -2.421875 11.34375 -1.828125 10.84375 -1.328125 C 10.351562 -0.835938 9.742188 -0.453125 9.015625 -0.171875 C 8.285156 0.0976562 7.441406 0.234375 6.484375 0.234375 C 5.617188 0.234375 4.863281 0.132812 4.21875 -0.0625 C 3.570312 -0.269531 3.023438 -0.550781 2.578125 -0.90625 C 2.128906 -1.257812 1.773438 -1.675781 1.515625 -2.15625 C 1.253906 -2.632812 1.070312 -3.144531 0.96875 -3.6875 L 3.09375 -3.9375 C 3.175781 -3.625 3.296875 -3.320312 3.453125 -3.03125 C 3.609375 -2.738281 3.820312 -2.476562 4.09375 -2.25 C 4.363281 -2.019531 4.695312 -1.832031 5.09375 -1.6875 C 5.488281 -1.550781 5.96875 -1.484375 6.53125 -1.484375 C 7.070312 -1.484375 7.566406 -1.566406 8.015625 -1.734375 C 8.460938 -1.910156 8.84375 -2.160156 9.15625 -2.484375 C 9.476562 -2.816406 9.722656 -3.21875 9.890625 -3.6875 C 10.066406 -4.164062 10.15625 -4.710938 10.15625 -5.328125 C 10.15625 -5.835938 10.070312 -6.304688 9.90625 -6.734375 C 9.738281 -7.160156 9.503906 -7.523438 9.203125 -7.828125 C 8.898438 -8.140625 8.523438 -8.378906 8.078125 -8.546875 C 7.640625 -8.722656 7.140625 -8.8125 6.578125 -8.8125 C 6.222656 -8.8125 5.894531 -8.78125 5.59375 -8.71875 C 5.300781 -8.65625 5.023438 -8.566406 4.765625 -8.453125 C 4.515625 -8.347656 4.285156 -8.222656 4.078125 -8.078125 C 3.878906 -7.929688 3.6875 -7.78125 3.5 -7.625 L 1.4375 -7.625 L 2 -16.515625 L 11.375 -16.515625 L 11.375 -14.71875 L 3.921875 -14.71875 L 3.59375 -9.484375 C 3.96875 -9.773438 4.4375 -10.019531 5 -10.21875 C 5.5625 -10.425781 6.234375 -10.53125 7.015625 -10.53125 C 7.828125 -10.53125 8.5625 -10.40625 9.21875 -10.15625 C 9.875 -9.90625 10.429688 -9.550781 10.890625 -9.09375 C 11.359375 -8.644531 11.71875 -8.101562 11.96875 -7.46875 C 12.21875 -6.832031 12.34375 -6.132812 12.34375 -5.375 Z M 12.34375 -5.375 \"/>\n",
       "</g>\n",
       "<g id=\"glyph-3-1\">\n",
       "<path d=\"M 1.0625 -5.4375 L 1.0625 -7.3125 L 6.921875 -7.3125 L 6.921875 -5.4375 Z M 1.0625 -5.4375 \"/>\n",
       "</g>\n",
       "<g id=\"glyph-3-2\">\n",
       "<path d=\"M 4.203125 -14.6875 L 4.203125 -8.546875 L 13.421875 -8.546875 L 13.421875 -6.6875 L 4.203125 -6.6875 L 4.203125 0 L 1.96875 0 L 1.96875 -16.515625 L 13.703125 -16.515625 L 13.703125 -14.6875 Z M 4.203125 -14.6875 \"/>\n",
       "</g>\n",
       "<g id=\"glyph-3-3\">\n",
       "<path d=\"M 12.34375 -6.359375 C 12.34375 -4.140625 11.851562 -2.484375 10.875 -1.390625 C 9.894531 -0.304688 8.476562 0.234375 6.625 0.234375 C 5.738281 0.234375 4.945312 0.101562 4.25 -0.15625 C 3.5625 -0.425781 2.972656 -0.832031 2.484375 -1.375 C 2.003906 -1.925781 1.640625 -2.613281 1.390625 -3.4375 C 1.140625 -4.257812 1.015625 -5.234375 1.015625 -6.359375 C 1.015625 -10.734375 2.90625 -12.921875 6.6875 -12.921875 C 7.675781 -12.921875 8.523438 -12.78125 9.234375 -12.5 C 9.953125 -12.226562 10.539062 -11.816406 11 -11.265625 C 11.457031 -10.722656 11.796875 -10.039062 12.015625 -9.21875 C 12.234375 -8.40625 12.34375 -7.453125 12.34375 -6.359375 Z M 10.125 -6.359375 C 10.125 -7.335938 10.046875 -8.144531 9.890625 -8.78125 C 9.742188 -9.425781 9.523438 -9.941406 9.234375 -10.328125 C 8.941406 -10.710938 8.582031 -10.976562 8.15625 -11.125 C 7.738281 -11.28125 7.265625 -11.359375 6.734375 -11.359375 C 6.191406 -11.359375 5.703125 -11.273438 5.265625 -11.109375 C 4.835938 -10.953125 4.46875 -10.679688 4.15625 -10.296875 C 3.851562 -9.910156 3.617188 -9.394531 3.453125 -8.75 C 3.296875 -8.113281 3.21875 -7.316406 3.21875 -6.359375 C 3.21875 -5.367188 3.300781 -4.550781 3.46875 -3.90625 C 3.644531 -3.257812 3.882812 -2.742188 4.1875 -2.359375 C 4.488281 -1.984375 4.84375 -1.71875 5.25 -1.5625 C 5.664062 -1.40625 6.113281 -1.328125 6.59375 -1.328125 C 7.132812 -1.328125 7.625 -1.398438 8.0625 -1.546875 C 8.5 -1.703125 8.867188 -1.972656 9.171875 -2.359375 C 9.484375 -2.742188 9.71875 -3.257812 9.875 -3.90625 C 10.039062 -4.550781 10.125 -5.367188 10.125 -6.359375 Z M 10.125 -6.359375 \"/>\n",
       "</g>\n",
       "<g id=\"glyph-3-4\">\n",
       "<path d=\"M 1.625 0 L 1.625 -17.390625 L 3.734375 -17.390625 L 3.734375 0 Z M 1.625 0 \"/>\n",
       "</g>\n",
       "<g id=\"glyph-3-5\">\n",
       "<path d=\"M 9.625 -2.046875 C 9.226562 -1.234375 8.707031 -0.648438 8.0625 -0.296875 C 7.425781 0.0546875 6.628906 0.234375 5.671875 0.234375 C 4.066406 0.234375 2.890625 -0.300781 2.140625 -1.375 C 1.390625 -2.457031 1.015625 -4.09375 1.015625 -6.28125 C 1.015625 -10.707031 2.566406 -12.921875 5.671875 -12.921875 C 6.628906 -12.921875 7.425781 -12.742188 8.0625 -12.390625 C 8.707031 -12.035156 9.226562 -11.476562 9.625 -10.71875 L 9.640625 -10.71875 C 9.640625 -10.789062 9.640625 -10.910156 9.640625 -11.078125 C 9.640625 -11.242188 9.632812 -11.421875 9.625 -11.609375 C 9.625 -11.796875 9.625 -11.96875 9.625 -12.125 C 9.625 -12.289062 9.625 -12.410156 9.625 -12.484375 L 9.625 -17.390625 L 11.734375 -17.390625 L 11.734375 -2.609375 C 11.734375 -2.304688 11.734375 -2.015625 11.734375 -1.734375 C 11.742188 -1.453125 11.75 -1.191406 11.75 -0.953125 C 11.757812 -0.722656 11.769531 -0.523438 11.78125 -0.359375 C 11.789062 -0.191406 11.796875 -0.0703125 11.796875 0 L 9.78125 0 C 9.769531 -0.0820312 9.757812 -0.191406 9.75 -0.328125 C 9.738281 -0.472656 9.722656 -0.640625 9.703125 -0.828125 C 9.691406 -1.015625 9.679688 -1.210938 9.671875 -1.421875 C 9.671875 -1.628906 9.671875 -1.835938 9.671875 -2.046875 Z M 3.21875 -6.359375 C 3.21875 -5.484375 3.269531 -4.734375 3.375 -4.109375 C 3.488281 -3.484375 3.664062 -2.96875 3.90625 -2.5625 C 4.15625 -2.15625 4.46875 -1.859375 4.84375 -1.671875 C 5.21875 -1.484375 5.675781 -1.390625 6.21875 -1.390625 C 6.769531 -1.390625 7.257812 -1.476562 7.6875 -1.65625 C 8.113281 -1.84375 8.46875 -2.132812 8.75 -2.53125 C 9.03125 -2.9375 9.242188 -3.460938 9.390625 -4.109375 C 9.546875 -4.765625 9.625 -5.5625 9.625 -6.5 C 9.625 -7.394531 9.546875 -8.148438 9.390625 -8.765625 C 9.242188 -9.390625 9.023438 -9.894531 8.734375 -10.28125 C 8.453125 -10.664062 8.101562 -10.941406 7.6875 -11.109375 C 7.269531 -11.273438 6.785156 -11.359375 6.234375 -11.359375 C 5.722656 -11.359375 5.28125 -11.265625 4.90625 -11.078125 C 4.53125 -10.898438 4.21875 -10.613281 3.96875 -10.21875 C 3.71875 -9.820312 3.53125 -9.304688 3.40625 -8.671875 C 3.28125 -8.035156 3.21875 -7.265625 3.21875 -6.359375 Z M 3.21875 -6.359375 \"/>\n",
       "</g>\n",
       "<g id=\"glyph-3-6\">\n",
       "</g>\n",
       "<g id=\"glyph-3-7\">\n",
       "<path d=\"M 9.28125 -14.9375 C 8.34375 -14.9375 7.507812 -14.78125 6.78125 -14.46875 C 6.0625 -14.15625 5.457031 -13.707031 4.96875 -13.125 C 4.488281 -12.550781 4.125 -11.859375 3.875 -11.046875 C 3.625 -10.234375 3.5 -9.328125 3.5 -8.328125 C 3.5 -7.335938 3.628906 -6.429688 3.890625 -5.609375 C 4.160156 -4.785156 4.546875 -4.078125 5.046875 -3.484375 C 5.554688 -2.890625 6.175781 -2.425781 6.90625 -2.09375 C 7.632812 -1.769531 8.457031 -1.609375 9.375 -1.609375 C 10.019531 -1.609375 10.601562 -1.691406 11.125 -1.859375 C 11.65625 -2.023438 12.132812 -2.257812 12.5625 -2.5625 C 12.988281 -2.875 13.367188 -3.238281 13.703125 -3.65625 C 14.035156 -4.070312 14.332031 -4.535156 14.59375 -5.046875 L 16.421875 -4.125 C 16.117188 -3.507812 15.75 -2.9375 15.3125 -2.40625 C 14.875 -1.875 14.359375 -1.410156 13.765625 -1.015625 C 13.179688 -0.628906 12.515625 -0.320312 11.765625 -0.09375 C 11.023438 0.125 10.191406 0.234375 9.265625 0.234375 C 7.929688 0.234375 6.757812 0.0195312 5.75 -0.40625 C 4.75 -0.832031 3.910156 -1.425781 3.234375 -2.1875 C 2.566406 -2.945312 2.0625 -3.847656 1.71875 -4.890625 C 1.382812 -5.941406 1.21875 -7.085938 1.21875 -8.328125 C 1.21875 -9.617188 1.394531 -10.785156 1.75 -11.828125 C 2.101562 -12.867188 2.625 -13.753906 3.3125 -14.484375 C 4 -15.210938 4.84375 -15.773438 5.84375 -16.171875 C 6.84375 -16.566406 7.984375 -16.765625 9.265625 -16.765625 C 11.015625 -16.765625 12.476562 -16.421875 13.65625 -15.734375 C 14.84375 -15.046875 15.710938 -14.023438 16.265625 -12.671875 L 14.140625 -11.96875 C 13.984375 -12.351562 13.769531 -12.722656 13.5 -13.078125 C 13.238281 -13.441406 12.910156 -13.757812 12.515625 -14.03125 C 12.117188 -14.300781 11.648438 -14.519531 11.109375 -14.6875 C 10.578125 -14.851562 9.96875 -14.9375 9.28125 -14.9375 Z M 9.28125 -14.9375 \"/>\n",
       "</g>\n",
       "<g id=\"glyph-3-8\">\n",
       "<path d=\"M 1.671875 0 L 1.671875 -9.734375 C 1.671875 -9.992188 1.664062 -10.257812 1.65625 -10.53125 C 1.65625 -10.8125 1.648438 -11.082031 1.640625 -11.34375 C 1.628906 -11.601562 1.617188 -11.84375 1.609375 -12.0625 C 1.609375 -12.289062 1.601562 -12.5 1.59375 -12.6875 L 3.59375 -12.6875 C 3.59375 -12.5 3.597656 -12.289062 3.609375 -12.0625 C 3.628906 -11.832031 3.644531 -11.597656 3.65625 -11.359375 C 3.664062 -11.117188 3.671875 -10.882812 3.671875 -10.65625 C 3.679688 -10.4375 3.6875 -10.25 3.6875 -10.09375 L 3.734375 -10.09375 C 3.878906 -10.570312 4.035156 -10.988281 4.203125 -11.34375 C 4.367188 -11.707031 4.566406 -12.003906 4.796875 -12.234375 C 5.023438 -12.460938 5.296875 -12.632812 5.609375 -12.75 C 5.921875 -12.863281 6.296875 -12.921875 6.734375 -12.921875 C 6.910156 -12.921875 7.078125 -12.90625 7.234375 -12.875 C 7.390625 -12.84375 7.507812 -12.816406 7.59375 -12.796875 L 7.59375 -10.859375 C 7.457031 -10.898438 7.296875 -10.929688 7.109375 -10.953125 C 6.921875 -10.972656 6.707031 -10.984375 6.46875 -10.984375 C 5.988281 -10.984375 5.578125 -10.875 5.234375 -10.65625 C 4.890625 -10.4375 4.609375 -10.132812 4.390625 -9.75 C 4.179688 -9.363281 4.023438 -8.898438 3.921875 -8.359375 C 3.828125 -7.828125 3.78125 -7.242188 3.78125 -6.609375 L 3.78125 0 Z M 1.671875 0 \"/>\n",
       "</g>\n",
       "<g id=\"glyph-3-9\">\n",
       "<path d=\"M 11.140625 -3.5 C 11.140625 -2.90625 11.019531 -2.375 10.78125 -1.90625 C 10.550781 -1.445312 10.21875 -1.054688 9.78125 -0.734375 C 9.34375 -0.421875 8.804688 -0.179688 8.171875 -0.015625 C 7.535156 0.148438 6.804688 0.234375 5.984375 0.234375 C 5.253906 0.234375 4.59375 0.175781 4 0.0625 C 3.414062 -0.0507812 2.898438 -0.234375 2.453125 -0.484375 C 2.003906 -0.734375 1.628906 -1.0625 1.328125 -1.46875 C 1.023438 -1.882812 0.804688 -2.390625 0.671875 -2.984375 L 2.53125 -3.34375 C 2.707031 -2.664062 3.078125 -2.164062 3.640625 -1.84375 C 4.203125 -1.53125 4.984375 -1.375 5.984375 -1.375 C 6.441406 -1.375 6.859375 -1.40625 7.234375 -1.46875 C 7.617188 -1.53125 7.945312 -1.632812 8.21875 -1.78125 C 8.488281 -1.9375 8.695312 -2.140625 8.84375 -2.390625 C 9 -2.648438 9.078125 -2.96875 9.078125 -3.34375 C 9.078125 -3.726562 8.988281 -4.039062 8.8125 -4.28125 C 8.632812 -4.53125 8.382812 -4.734375 8.0625 -4.890625 C 7.738281 -5.054688 7.347656 -5.203125 6.890625 -5.328125 C 6.441406 -5.453125 5.941406 -5.585938 5.390625 -5.734375 C 4.878906 -5.867188 4.375 -6.015625 3.875 -6.171875 C 3.375 -6.335938 2.921875 -6.554688 2.515625 -6.828125 C 2.117188 -7.097656 1.796875 -7.429688 1.546875 -7.828125 C 1.296875 -8.222656 1.171875 -8.722656 1.171875 -9.328125 C 1.171875 -10.484375 1.582031 -11.363281 2.40625 -11.96875 C 3.226562 -12.570312 4.429688 -12.875 6.015625 -12.875 C 7.410156 -12.875 8.519531 -12.628906 9.34375 -12.140625 C 10.164062 -11.648438 10.6875 -10.863281 10.90625 -9.78125 L 9.015625 -9.546875 C 8.941406 -9.867188 8.8125 -10.140625 8.625 -10.359375 C 8.4375 -10.585938 8.207031 -10.769531 7.9375 -10.90625 C 7.675781 -11.039062 7.378906 -11.132812 7.046875 -11.1875 C 6.710938 -11.25 6.367188 -11.28125 6.015625 -11.28125 C 5.054688 -11.28125 4.347656 -11.132812 3.890625 -10.84375 C 3.441406 -10.5625 3.21875 -10.128906 3.21875 -9.546875 C 3.21875 -9.203125 3.300781 -8.914062 3.46875 -8.6875 C 3.644531 -8.46875 3.878906 -8.28125 4.171875 -8.125 C 4.472656 -7.976562 4.832031 -7.847656 5.25 -7.734375 C 5.675781 -7.617188 6.144531 -7.5 6.65625 -7.375 C 6.988281 -7.289062 7.332031 -7.195312 7.6875 -7.09375 C 8.039062 -7 8.382812 -6.882812 8.71875 -6.75 C 9.050781 -6.613281 9.363281 -6.453125 9.65625 -6.265625 C 9.945312 -6.078125 10.203125 -5.851562 10.421875 -5.59375 C 10.640625 -5.34375 10.8125 -5.046875 10.9375 -4.703125 C 11.070312 -4.359375 11.140625 -3.957031 11.140625 -3.5 Z M 11.140625 -3.5 \"/>\n",
       "</g>\n",
       "<g id=\"glyph-3-10\">\n",
       "<path d=\"M 9.171875 0 L 6.84375 0 L 0.109375 -16.515625 L 2.46875 -16.515625 L 7.03125 -4.890625 C 7.144531 -4.535156 7.257812 -4.179688 7.375 -3.828125 C 7.5 -3.484375 7.609375 -3.175781 7.703125 -2.90625 C 7.804688 -2.582031 7.910156 -2.269531 8.015625 -1.96875 C 8.109375 -2.257812 8.210938 -2.566406 8.328125 -2.890625 C 8.421875 -3.160156 8.519531 -3.46875 8.625 -3.8125 C 8.738281 -4.15625 8.863281 -4.515625 9 -4.890625 L 13.546875 -16.515625 L 15.90625 -16.515625 Z M 9.171875 0 \"/>\n",
       "</g>\n",
       "<g id=\"glyph-3-11\">\n",
       "<path d=\"M 4.859375 0.234375 C 3.578125 0.234375 2.613281 -0.0976562 1.96875 -0.765625 C 1.332031 -1.441406 1.015625 -2.367188 1.015625 -3.546875 C 1.015625 -4.378906 1.171875 -5.0625 1.484375 -5.59375 C 1.804688 -6.132812 2.222656 -6.554688 2.734375 -6.859375 C 3.242188 -7.160156 3.828125 -7.367188 4.484375 -7.484375 C 5.140625 -7.609375 5.8125 -7.675781 6.5 -7.6875 L 9.34375 -7.734375 L 9.34375 -8.421875 C 9.34375 -8.953125 9.285156 -9.398438 9.171875 -9.765625 C 9.066406 -10.128906 8.898438 -10.425781 8.671875 -10.65625 C 8.441406 -10.882812 8.15625 -11.050781 7.8125 -11.15625 C 7.476562 -11.257812 7.082031 -11.3125 6.625 -11.3125 C 6.21875 -11.3125 5.847656 -11.28125 5.515625 -11.21875 C 5.191406 -11.164062 4.90625 -11.0625 4.65625 -10.90625 C 4.414062 -10.75 4.222656 -10.539062 4.078125 -10.28125 C 3.929688 -10.019531 3.832031 -9.691406 3.78125 -9.296875 L 1.578125 -9.5 C 1.660156 -10 1.8125 -10.457031 2.03125 -10.875 C 2.25 -11.289062 2.554688 -11.648438 2.953125 -11.953125 C 3.359375 -12.253906 3.863281 -12.488281 4.46875 -12.65625 C 5.070312 -12.832031 5.804688 -12.921875 6.671875 -12.921875 C 8.265625 -12.921875 9.460938 -12.550781 10.265625 -11.8125 C 11.066406 -11.082031 11.46875 -10.03125 11.46875 -8.65625 L 11.46875 -3.1875 C 11.46875 -2.5625 11.550781 -2.085938 11.71875 -1.765625 C 11.882812 -1.453125 12.195312 -1.296875 12.65625 -1.296875 C 12.769531 -1.296875 12.882812 -1.300781 13 -1.3125 C 13.125 -1.332031 13.238281 -1.359375 13.34375 -1.390625 L 13.34375 -0.078125 C 13.082031 -0.00390625 12.820312 0.046875 12.5625 0.078125 C 12.300781 0.109375 12.019531 0.125 11.71875 0.125 C 11.320312 0.125 10.976562 0.0703125 10.6875 -0.03125 C 10.40625 -0.144531 10.175781 -0.304688 10 -0.515625 C 9.820312 -0.734375 9.6875 -1 9.59375 -1.3125 C 9.5 -1.632812 9.4375 -2.003906 9.40625 -2.421875 L 9.34375 -2.421875 C 9.113281 -2.015625 8.863281 -1.644531 8.59375 -1.3125 C 8.320312 -0.988281 8.003906 -0.710938 7.640625 -0.484375 C 7.285156 -0.253906 6.878906 -0.078125 6.421875 0.046875 C 5.972656 0.171875 5.453125 0.234375 4.859375 0.234375 Z M 5.328125 -1.34375 C 6.003906 -1.34375 6.59375 -1.46875 7.09375 -1.71875 C 7.601562 -1.96875 8.019531 -2.28125 8.34375 -2.65625 C 8.675781 -3.039062 8.925781 -3.457031 9.09375 -3.90625 C 9.257812 -4.363281 9.34375 -4.800781 9.34375 -5.21875 L 9.34375 -6.265625 L 7.03125 -6.21875 C 6.519531 -6.207031 6.03125 -6.164062 5.5625 -6.09375 C 5.09375 -6.03125 4.679688 -5.898438 4.328125 -5.703125 C 3.984375 -5.515625 3.707031 -5.242188 3.5 -4.890625 C 3.289062 -4.535156 3.1875 -4.070312 3.1875 -3.5 C 3.1875 -2.8125 3.367188 -2.28125 3.734375 -1.90625 C 4.109375 -1.53125 4.640625 -1.34375 5.328125 -1.34375 Z M 5.328125 -1.34375 \"/>\n",
       "</g>\n",
       "<g id=\"glyph-3-12\">\n",
       "<path d=\"M 1.609375 -15.375 L 1.609375 -17.390625 L 3.71875 -17.390625 L 3.71875 -15.375 Z M 1.609375 0 L 1.609375 -12.6875 L 3.71875 -12.6875 L 3.71875 0 Z M 1.609375 0 \"/>\n",
       "</g>\n",
       "<g id=\"glyph-3-13\">\n",
       "<path d=\"M 6.5 -0.09375 C 6.175781 -0.0078125 5.847656 0.0546875 5.515625 0.109375 C 5.179688 0.160156 4.796875 0.1875 4.359375 0.1875 C 2.671875 0.1875 1.828125 -0.769531 1.828125 -2.6875 L 1.828125 -11.140625 L 0.359375 -11.140625 L 0.359375 -12.6875 L 1.90625 -12.6875 L 2.53125 -15.515625 L 3.9375 -15.515625 L 3.9375 -12.6875 L 6.28125 -12.6875 L 6.28125 -11.140625 L 3.9375 -11.140625 L 3.9375 -3.140625 C 3.9375 -2.535156 4.035156 -2.109375 4.234375 -1.859375 C 4.429688 -1.609375 4.78125 -1.484375 5.28125 -1.484375 C 5.476562 -1.484375 5.671875 -1.5 5.859375 -1.53125 C 6.054688 -1.5625 6.269531 -1.601562 6.5 -1.65625 Z M 6.5 -0.09375 \"/>\n",
       "</g>\n",
       "<g id=\"glyph-3-14\">\n",
       "<path d=\"M 9.671875 0 L 9.671875 -8.046875 C 9.671875 -8.660156 9.625 -9.171875 9.53125 -9.578125 C 9.445312 -9.992188 9.300781 -10.328125 9.09375 -10.578125 C 8.894531 -10.835938 8.628906 -11.019531 8.296875 -11.125 C 7.960938 -11.226562 7.550781 -11.28125 7.0625 -11.28125 C 6.5625 -11.28125 6.109375 -11.191406 5.703125 -11.015625 C 5.296875 -10.847656 4.953125 -10.597656 4.671875 -10.265625 C 4.390625 -9.929688 4.171875 -9.519531 4.015625 -9.03125 C 3.859375 -8.539062 3.78125 -7.976562 3.78125 -7.34375 L 3.78125 0 L 1.671875 0 L 1.671875 -9.96875 C 1.671875 -10.238281 1.664062 -10.519531 1.65625 -10.8125 C 1.65625 -11.101562 1.648438 -11.378906 1.640625 -11.640625 C 1.628906 -11.898438 1.617188 -12.125 1.609375 -12.3125 C 1.609375 -12.5 1.601562 -12.625 1.59375 -12.6875 L 3.59375 -12.6875 C 3.59375 -12.644531 3.597656 -12.535156 3.609375 -12.359375 C 3.617188 -12.191406 3.628906 -11.992188 3.640625 -11.765625 C 3.648438 -11.546875 3.660156 -11.320312 3.671875 -11.09375 C 3.679688 -10.863281 3.6875 -10.671875 3.6875 -10.515625 L 3.71875 -10.515625 C 3.914062 -10.878906 4.132812 -11.207031 4.375 -11.5 C 4.625 -11.800781 4.90625 -12.054688 5.21875 -12.265625 C 5.539062 -12.472656 5.910156 -12.632812 6.328125 -12.75 C 6.742188 -12.863281 7.222656 -12.921875 7.765625 -12.921875 C 8.472656 -12.921875 9.078125 -12.832031 9.578125 -12.65625 C 10.085938 -12.488281 10.503906 -12.222656 10.828125 -11.859375 C 11.160156 -11.503906 11.40625 -11.039062 11.5625 -10.46875 C 11.71875 -9.90625 11.796875 -9.234375 11.796875 -8.453125 L 11.796875 0 Z M 9.671875 0 \"/>\n",
       "</g>\n",
       "<g id=\"glyph-3-15\">\n",
       "<path d=\"M 13.671875 0 L 11.796875 -4.828125 L 4.265625 -4.828125 L 2.375 0 L 0.046875 0 L 6.78125 -16.515625 L 9.328125 -16.515625 L 15.96875 0 Z M 9 -12.03125 C 8.875 -12.34375 8.753906 -12.65625 8.640625 -12.96875 C 8.523438 -13.289062 8.425781 -13.582031 8.34375 -13.84375 C 8.257812 -14.101562 8.1875 -14.320312 8.125 -14.5 C 8.070312 -14.675781 8.039062 -14.785156 8.03125 -14.828125 C 8.007812 -14.785156 7.972656 -14.675781 7.921875 -14.5 C 7.867188 -14.320312 7.796875 -14.097656 7.703125 -13.828125 C 7.617188 -13.566406 7.519531 -13.273438 7.40625 -12.953125 C 7.289062 -12.628906 7.175781 -12.3125 7.0625 -12 L 4.953125 -6.578125 L 11.125 -6.578125 Z M 9 -12.03125 \"/>\n",
       "</g>\n",
       "<g id=\"glyph-3-16\">\n",
       "<path d=\"M 3.21875 -6.40625 C 3.21875 -5.675781 3.269531 -5.003906 3.375 -4.390625 C 3.488281 -3.785156 3.671875 -3.257812 3.921875 -2.8125 C 4.171875 -2.375 4.5 -2.035156 4.90625 -1.796875 C 5.3125 -1.554688 5.816406 -1.4375 6.421875 -1.4375 C 7.171875 -1.4375 7.796875 -1.640625 8.296875 -2.046875 C 8.804688 -2.453125 9.117188 -3.078125 9.234375 -3.921875 L 11.375 -3.78125 C 11.300781 -3.25 11.144531 -2.738281 10.90625 -2.25 C 10.675781 -1.769531 10.359375 -1.347656 9.953125 -0.984375 C 9.554688 -0.617188 9.066406 -0.320312 8.484375 -0.09375 C 7.910156 0.125 7.242188 0.234375 6.484375 0.234375 C 5.492188 0.234375 4.648438 0.0664062 3.953125 -0.265625 C 3.253906 -0.609375 2.6875 -1.070312 2.25 -1.65625 C 1.820312 -2.25 1.507812 -2.945312 1.3125 -3.75 C 1.113281 -4.550781 1.015625 -5.421875 1.015625 -6.359375 C 1.015625 -7.203125 1.082031 -7.953125 1.21875 -8.609375 C 1.363281 -9.265625 1.5625 -9.832031 1.8125 -10.3125 C 2.070312 -10.800781 2.375 -11.210938 2.71875 -11.546875 C 3.0625 -11.878906 3.429688 -12.144531 3.828125 -12.34375 C 4.234375 -12.539062 4.660156 -12.6875 5.109375 -12.78125 C 5.554688 -12.875 6.003906 -12.921875 6.453125 -12.921875 C 7.171875 -12.921875 7.804688 -12.820312 8.359375 -12.625 C 8.910156 -12.425781 9.382812 -12.15625 9.78125 -11.8125 C 10.1875 -11.476562 10.515625 -11.078125 10.765625 -10.609375 C 11.015625 -10.148438 11.191406 -9.65625 11.296875 -9.125 L 9.125 -8.96875 C 9.019531 -9.664062 8.742188 -10.222656 8.296875 -10.640625 C 7.847656 -11.054688 7.21875 -11.265625 6.40625 -11.265625 C 5.800781 -11.265625 5.296875 -11.164062 4.890625 -10.96875 C 4.492188 -10.769531 4.171875 -10.46875 3.921875 -10.0625 C 3.671875 -9.65625 3.488281 -9.144531 3.375 -8.53125 C 3.269531 -7.925781 3.21875 -7.21875 3.21875 -6.40625 Z M 3.21875 -6.40625 \"/>\n",
       "</g>\n",
       "<g id=\"glyph-3-17\">\n",
       "<path d=\"M 3.6875 -12.6875 L 3.6875 -4.640625 C 3.6875 -4.023438 3.726562 -3.507812 3.8125 -3.09375 C 3.90625 -2.675781 4.050781 -2.34375 4.25 -2.09375 C 4.457031 -1.84375 4.726562 -1.660156 5.0625 -1.546875 C 5.394531 -1.441406 5.804688 -1.390625 6.296875 -1.390625 C 6.796875 -1.390625 7.242188 -1.476562 7.640625 -1.65625 C 8.046875 -1.832031 8.390625 -2.085938 8.671875 -2.421875 C 8.960938 -2.753906 9.1875 -3.164062 9.34375 -3.65625 C 9.5 -4.144531 9.578125 -4.703125 9.578125 -5.328125 L 9.578125 -12.6875 L 11.6875 -12.6875 L 11.6875 -2.703125 C 11.6875 -2.441406 11.6875 -2.164062 11.6875 -1.875 C 11.695312 -1.582031 11.703125 -1.300781 11.703125 -1.03125 C 11.710938 -0.769531 11.722656 -0.546875 11.734375 -0.359375 C 11.742188 -0.171875 11.75 -0.0507812 11.75 0 L 9.765625 0 C 9.753906 -0.0390625 9.742188 -0.144531 9.734375 -0.3125 C 9.734375 -0.488281 9.722656 -0.6875 9.703125 -0.90625 C 9.691406 -1.132812 9.679688 -1.363281 9.671875 -1.59375 C 9.671875 -1.820312 9.671875 -2.015625 9.671875 -2.171875 L 9.640625 -2.171875 C 9.429688 -1.804688 9.207031 -1.472656 8.96875 -1.171875 C 8.726562 -0.878906 8.445312 -0.628906 8.125 -0.421875 C 7.800781 -0.210938 7.429688 -0.0507812 7.015625 0.0625 C 6.609375 0.175781 6.128906 0.234375 5.578125 0.234375 C 4.878906 0.234375 4.273438 0.148438 3.765625 -0.015625 C 3.253906 -0.191406 2.832031 -0.457031 2.5 -0.8125 C 2.175781 -1.175781 1.9375 -1.640625 1.78125 -2.203125 C 1.632812 -2.765625 1.5625 -3.441406 1.5625 -4.234375 L 1.5625 -12.6875 Z M 3.6875 -12.6875 \"/>\n",
       "</g>\n",
       "<g id=\"glyph-3-18\">\n",
       "<path d=\"M 7.078125 0 C 6.785156 0.769531 6.484375 1.457031 6.171875 2.0625 C 5.859375 2.675781 5.507812 3.203125 5.125 3.640625 C 4.75 4.078125 4.328125 4.410156 3.859375 4.640625 C 3.390625 4.867188 2.847656 4.984375 2.234375 4.984375 C 1.972656 4.984375 1.726562 4.972656 1.5 4.953125 C 1.269531 4.941406 1.03125 4.910156 0.78125 4.859375 L 0.78125 3.265625 C 0.9375 3.296875 1.109375 3.316406 1.296875 3.328125 C 1.484375 3.335938 1.640625 3.34375 1.765625 3.34375 C 2.390625 3.34375 2.96875 3.109375 3.5 2.640625 C 4.03125 2.179688 4.492188 1.453125 4.890625 0.453125 L 5.09375 -0.0625 L 0.0625 -12.6875 L 2.3125 -12.6875 L 4.984375 -5.671875 C 5.054688 -5.460938 5.15625 -5.179688 5.28125 -4.828125 C 5.40625 -4.472656 5.523438 -4.117188 5.640625 -3.765625 C 5.765625 -3.421875 5.875 -3.109375 5.96875 -2.828125 C 6.0625 -2.546875 6.113281 -2.367188 6.125 -2.296875 C 6.15625 -2.378906 6.210938 -2.546875 6.296875 -2.796875 C 6.390625 -3.054688 6.492188 -3.34375 6.609375 -3.65625 C 6.722656 -3.96875 6.835938 -4.285156 6.953125 -4.609375 C 7.066406 -4.929688 7.164062 -5.207031 7.25 -5.4375 L 9.734375 -12.6875 L 11.953125 -12.6875 Z M 7.078125 0 \"/>\n",
       "</g>\n",
       "<g id=\"glyph-3-19\">\n",
       "<path d=\"M 7.1875 0 L 4.6875 0 L 0.078125 -12.6875 L 2.328125 -12.6875 L 5.125 -4.4375 C 5.175781 -4.257812 5.238281 -4.046875 5.3125 -3.796875 C 5.382812 -3.554688 5.457031 -3.300781 5.53125 -3.03125 C 5.613281 -2.769531 5.6875 -2.515625 5.75 -2.265625 C 5.820312 -2.023438 5.882812 -1.820312 5.9375 -1.65625 C 5.976562 -1.820312 6.035156 -2.023438 6.109375 -2.265625 C 6.179688 -2.515625 6.253906 -2.765625 6.328125 -3.015625 C 6.410156 -3.273438 6.492188 -3.53125 6.578125 -3.78125 C 6.660156 -4.03125 6.734375 -4.238281 6.796875 -4.40625 L 9.6875 -12.6875 L 11.921875 -12.6875 Z M 7.1875 0 \"/>\n",
       "</g>\n",
       "<g id=\"glyph-3-20\">\n",
       "<path d=\"M 12.96875 0 L 6.359375 -7.96875 L 4.203125 -6.328125 L 4.203125 0 L 1.96875 0 L 1.96875 -16.515625 L 4.203125 -16.515625 L 4.203125 -8.234375 L 12.171875 -16.515625 L 14.796875 -16.515625 L 7.765625 -9.34375 L 15.734375 0 Z M 12.96875 0 \"/>\n",
       "</g>\n",
       "</g>\n",
       "<clipPath id=\"clip-0\">\n",
       "<path clip-rule=\"nonzero\" d=\"M 71.152344 32.957031 L 498.523438 32.957031 L 498.523438 457.847656 L 71.152344 457.847656 Z M 71.152344 32.957031 \"/>\n",
       "</clipPath>\n",
       "<clipPath id=\"clip-1\">\n",
       "<path clip-rule=\"nonzero\" d=\"M 71.152344 431 L 498.523438 431 L 498.523438 432 L 71.152344 432 Z M 71.152344 431 \"/>\n",
       "</clipPath>\n",
       "<clipPath id=\"clip-2\">\n",
       "<path clip-rule=\"nonzero\" d=\"M 71.152344 343 L 498.523438 343 L 498.523438 345 L 71.152344 345 Z M 71.152344 343 \"/>\n",
       "</clipPath>\n",
       "<clipPath id=\"clip-3\">\n",
       "<path clip-rule=\"nonzero\" d=\"M 71.152344 256 L 498.523438 256 L 498.523438 258 L 71.152344 258 Z M 71.152344 256 \"/>\n",
       "</clipPath>\n",
       "<clipPath id=\"clip-4\">\n",
       "<path clip-rule=\"nonzero\" d=\"M 71.152344 169 L 498.523438 169 L 498.523438 170 L 71.152344 170 Z M 71.152344 169 \"/>\n",
       "</clipPath>\n",
       "<clipPath id=\"clip-5\">\n",
       "<path clip-rule=\"nonzero\" d=\"M 71.152344 82 L 498.523438 82 L 498.523438 83 L 71.152344 83 Z M 71.152344 82 \"/>\n",
       "</clipPath>\n",
       "<clipPath id=\"clip-6\">\n",
       "<path clip-rule=\"nonzero\" d=\"M 101 32.957031 L 102 32.957031 L 102 457.847656 L 101 457.847656 Z M 101 32.957031 \"/>\n",
       "</clipPath>\n",
       "<clipPath id=\"clip-7\">\n",
       "<path clip-rule=\"nonzero\" d=\"M 209 32.957031 L 210 32.957031 L 210 457.847656 L 209 457.847656 Z M 209 32.957031 \"/>\n",
       "</clipPath>\n",
       "<clipPath id=\"clip-8\">\n",
       "<path clip-rule=\"nonzero\" d=\"M 316 32.957031 L 318 32.957031 L 318 457.847656 L 316 457.847656 Z M 316 32.957031 \"/>\n",
       "</clipPath>\n",
       "<clipPath id=\"clip-9\">\n",
       "<path clip-rule=\"nonzero\" d=\"M 424 32.957031 L 426 32.957031 L 426 457.847656 L 424 457.847656 Z M 424 32.957031 \"/>\n",
       "</clipPath>\n",
       "<clipPath id=\"clip-10\">\n",
       "<path clip-rule=\"nonzero\" d=\"M 71.152344 387 L 498.523438 387 L 498.523438 389 L 71.152344 389 Z M 71.152344 387 \"/>\n",
       "</clipPath>\n",
       "<clipPath id=\"clip-11\">\n",
       "<path clip-rule=\"nonzero\" d=\"M 71.152344 300 L 498.523438 300 L 498.523438 302 L 71.152344 302 Z M 71.152344 300 \"/>\n",
       "</clipPath>\n",
       "<clipPath id=\"clip-12\">\n",
       "<path clip-rule=\"nonzero\" d=\"M 71.152344 212 L 498.523438 212 L 498.523438 214 L 71.152344 214 Z M 71.152344 212 \"/>\n",
       "</clipPath>\n",
       "<clipPath id=\"clip-13\">\n",
       "<path clip-rule=\"nonzero\" d=\"M 71.152344 125 L 498.523438 125 L 498.523438 127 L 71.152344 127 Z M 71.152344 125 \"/>\n",
       "</clipPath>\n",
       "<clipPath id=\"clip-14\">\n",
       "<path clip-rule=\"nonzero\" d=\"M 71.152344 38 L 498.523438 38 L 498.523438 40 L 71.152344 40 Z M 71.152344 38 \"/>\n",
       "</clipPath>\n",
       "<clipPath id=\"clip-15\">\n",
       "<path clip-rule=\"nonzero\" d=\"M 154 32.957031 L 156 32.957031 L 156 457.847656 L 154 457.847656 Z M 154 32.957031 \"/>\n",
       "</clipPath>\n",
       "<clipPath id=\"clip-16\">\n",
       "<path clip-rule=\"nonzero\" d=\"M 262 32.957031 L 264 32.957031 L 264 457.847656 L 262 457.847656 Z M 262 32.957031 \"/>\n",
       "</clipPath>\n",
       "<clipPath id=\"clip-17\">\n",
       "<path clip-rule=\"nonzero\" d=\"M 370 32.957031 L 372 32.957031 L 372 457.847656 L 370 457.847656 Z M 370 32.957031 \"/>\n",
       "</clipPath>\n",
       "<clipPath id=\"clip-18\">\n",
       "<path clip-rule=\"nonzero\" d=\"M 478 32.957031 L 480 32.957031 L 480 457.847656 L 478 457.847656 Z M 478 32.957031 \"/>\n",
       "</clipPath>\n",
       "</defs>\n",
       "<rect x=\"-50.4\" y=\"-50.4\" width=\"604.8\" height=\"604.8\" fill=\"rgb(100%, 100%, 100%)\" fill-opacity=\"1\"/>\n",
       "<rect x=\"-50.4\" y=\"-50.4\" width=\"604.8\" height=\"604.8\" fill=\"rgb(100%, 100%, 100%)\" fill-opacity=\"1\"/>\n",
       "<path fill=\"none\" stroke-width=\"1.066978\" stroke-linecap=\"round\" stroke-linejoin=\"round\" stroke=\"rgb(100%, 100%, 100%)\" stroke-opacity=\"1\" stroke-miterlimit=\"10\" d=\"M 0 504 L 504 504 L 504 0 L 0 0 Z M 0 504 \"/>\n",
       "<g clip-path=\"url(#clip-0)\">\n",
       "<path fill-rule=\"nonzero\" fill=\"rgb(92.156863%, 92.156863%, 92.156863%)\" fill-opacity=\"1\" d=\"M 71.152344 457.847656 L 498.523438 457.847656 L 498.523438 32.957031 L 71.152344 32.957031 Z M 71.152344 457.847656 \"/>\n",
       "</g>\n",
       "<g clip-path=\"url(#clip-1)\">\n",
       "<path fill=\"none\" stroke-width=\"0.533489\" stroke-linecap=\"butt\" stroke-linejoin=\"round\" stroke=\"rgb(100%, 100%, 100%)\" stroke-opacity=\"1\" stroke-miterlimit=\"10\" d=\"M 71.152344 431.496094 L 498.519531 431.496094 \"/>\n",
       "</g>\n",
       "<g clip-path=\"url(#clip-2)\">\n",
       "<path fill=\"none\" stroke-width=\"0.533489\" stroke-linecap=\"butt\" stroke-linejoin=\"round\" stroke=\"rgb(100%, 100%, 100%)\" stroke-opacity=\"1\" stroke-miterlimit=\"10\" d=\"M 71.152344 344.238281 L 498.519531 344.238281 \"/>\n",
       "</g>\n",
       "<g clip-path=\"url(#clip-3)\">\n",
       "<path fill=\"none\" stroke-width=\"0.533489\" stroke-linecap=\"butt\" stroke-linejoin=\"round\" stroke=\"rgb(100%, 100%, 100%)\" stroke-opacity=\"1\" stroke-miterlimit=\"10\" d=\"M 71.152344 256.976562 L 498.519531 256.976562 \"/>\n",
       "</g>\n",
       "<g clip-path=\"url(#clip-4)\">\n",
       "<path fill=\"none\" stroke-width=\"0.533489\" stroke-linecap=\"butt\" stroke-linejoin=\"round\" stroke=\"rgb(100%, 100%, 100%)\" stroke-opacity=\"1\" stroke-miterlimit=\"10\" d=\"M 71.152344 169.714844 L 498.519531 169.714844 \"/>\n",
       "</g>\n",
       "<g clip-path=\"url(#clip-5)\">\n",
       "<path fill=\"none\" stroke-width=\"0.533489\" stroke-linecap=\"butt\" stroke-linejoin=\"round\" stroke=\"rgb(100%, 100%, 100%)\" stroke-opacity=\"1\" stroke-miterlimit=\"10\" d=\"M 71.152344 82.453125 L 498.519531 82.453125 \"/>\n",
       "</g>\n",
       "<g clip-path=\"url(#clip-6)\">\n",
       "<path fill=\"none\" stroke-width=\"0.533489\" stroke-linecap=\"butt\" stroke-linejoin=\"round\" stroke=\"rgb(100%, 100%, 100%)\" stroke-opacity=\"1\" stroke-miterlimit=\"10\" d=\"M 101.367188 457.847656 L 101.367188 32.957031 \"/>\n",
       "</g>\n",
       "<g clip-path=\"url(#clip-7)\">\n",
       "<path fill=\"none\" stroke-width=\"0.533489\" stroke-linecap=\"butt\" stroke-linejoin=\"round\" stroke=\"rgb(100%, 100%, 100%)\" stroke-opacity=\"1\" stroke-miterlimit=\"10\" d=\"M 209.289062 457.847656 L 209.289062 32.957031 \"/>\n",
       "</g>\n",
       "<g clip-path=\"url(#clip-8)\">\n",
       "<path fill=\"none\" stroke-width=\"0.533489\" stroke-linecap=\"butt\" stroke-linejoin=\"round\" stroke=\"rgb(100%, 100%, 100%)\" stroke-opacity=\"1\" stroke-miterlimit=\"10\" d=\"M 317.210938 457.847656 L 317.210938 32.957031 \"/>\n",
       "</g>\n",
       "<g clip-path=\"url(#clip-9)\">\n",
       "<path fill=\"none\" stroke-width=\"0.533489\" stroke-linecap=\"butt\" stroke-linejoin=\"round\" stroke=\"rgb(100%, 100%, 100%)\" stroke-opacity=\"1\" stroke-miterlimit=\"10\" d=\"M 425.132812 457.847656 L 425.132812 32.957031 \"/>\n",
       "</g>\n",
       "<g clip-path=\"url(#clip-10)\">\n",
       "<path fill=\"none\" stroke-width=\"1.066978\" stroke-linecap=\"butt\" stroke-linejoin=\"round\" stroke=\"rgb(100%, 100%, 100%)\" stroke-opacity=\"1\" stroke-miterlimit=\"10\" d=\"M 71.152344 387.867188 L 498.519531 387.867188 \"/>\n",
       "</g>\n",
       "<g clip-path=\"url(#clip-11)\">\n",
       "<path fill=\"none\" stroke-width=\"1.066978\" stroke-linecap=\"butt\" stroke-linejoin=\"round\" stroke=\"rgb(100%, 100%, 100%)\" stroke-opacity=\"1\" stroke-miterlimit=\"10\" d=\"M 71.152344 300.605469 L 498.519531 300.605469 \"/>\n",
       "</g>\n",
       "<g clip-path=\"url(#clip-12)\">\n",
       "<path fill=\"none\" stroke-width=\"1.066978\" stroke-linecap=\"butt\" stroke-linejoin=\"round\" stroke=\"rgb(100%, 100%, 100%)\" stroke-opacity=\"1\" stroke-miterlimit=\"10\" d=\"M 71.152344 213.34375 L 498.519531 213.34375 \"/>\n",
       "</g>\n",
       "<g clip-path=\"url(#clip-13)\">\n",
       "<path fill=\"none\" stroke-width=\"1.066978\" stroke-linecap=\"butt\" stroke-linejoin=\"round\" stroke=\"rgb(100%, 100%, 100%)\" stroke-opacity=\"1\" stroke-miterlimit=\"10\" d=\"M 71.152344 126.085938 L 498.519531 126.085938 \"/>\n",
       "</g>\n",
       "<g clip-path=\"url(#clip-14)\">\n",
       "<path fill=\"none\" stroke-width=\"1.066978\" stroke-linecap=\"butt\" stroke-linejoin=\"round\" stroke=\"rgb(100%, 100%, 100%)\" stroke-opacity=\"1\" stroke-miterlimit=\"10\" d=\"M 71.152344 38.824219 L 498.519531 38.824219 \"/>\n",
       "</g>\n",
       "<g clip-path=\"url(#clip-15)\">\n",
       "<path fill=\"none\" stroke-width=\"1.066978\" stroke-linecap=\"butt\" stroke-linejoin=\"round\" stroke=\"rgb(100%, 100%, 100%)\" stroke-opacity=\"1\" stroke-miterlimit=\"10\" d=\"M 155.328125 457.847656 L 155.328125 32.957031 \"/>\n",
       "</g>\n",
       "<g clip-path=\"url(#clip-16)\">\n",
       "<path fill=\"none\" stroke-width=\"1.066978\" stroke-linecap=\"butt\" stroke-linejoin=\"round\" stroke=\"rgb(100%, 100%, 100%)\" stroke-opacity=\"1\" stroke-miterlimit=\"10\" d=\"M 263.25 457.847656 L 263.25 32.957031 \"/>\n",
       "</g>\n",
       "<g clip-path=\"url(#clip-17)\">\n",
       "<path fill=\"none\" stroke-width=\"1.066978\" stroke-linecap=\"butt\" stroke-linejoin=\"round\" stroke=\"rgb(100%, 100%, 100%)\" stroke-opacity=\"1\" stroke-miterlimit=\"10\" d=\"M 371.171875 457.847656 L 371.171875 32.957031 \"/>\n",
       "</g>\n",
       "<g clip-path=\"url(#clip-18)\">\n",
       "<path fill=\"none\" stroke-width=\"1.066978\" stroke-linecap=\"butt\" stroke-linejoin=\"round\" stroke=\"rgb(100%, 100%, 100%)\" stroke-opacity=\"1\" stroke-miterlimit=\"10\" d=\"M 479.09375 457.847656 L 479.09375 32.957031 \"/>\n",
       "</g>\n",
       "<path fill-rule=\"nonzero\" fill=\"rgb(0%, 0%, 0%)\" fill-opacity=\"1\" stroke-width=\"0.708661\" stroke-linecap=\"round\" stroke-linejoin=\"round\" stroke=\"rgb(0%, 0%, 0%)\" stroke-opacity=\"1\" stroke-miterlimit=\"10\" d=\"M 92.53125 438.535156 C 92.53125 441.140625 88.621094 441.140625 88.621094 438.535156 C 88.621094 435.929688 92.53125 435.929688 92.53125 438.535156 \"/>\n",
       "<path fill-rule=\"nonzero\" fill=\"rgb(0%, 0%, 0%)\" fill-opacity=\"1\" stroke-width=\"0.708661\" stroke-linecap=\"round\" stroke-linejoin=\"round\" stroke=\"rgb(0%, 0%, 0%)\" stroke-opacity=\"1\" stroke-miterlimit=\"10\" d=\"M 135.699219 438.535156 C 135.699219 441.140625 131.789062 441.140625 131.789062 438.535156 C 131.789062 435.929688 135.699219 435.929688 135.699219 438.535156 \"/>\n",
       "<path fill-rule=\"nonzero\" fill=\"rgb(0%, 0%, 0%)\" fill-opacity=\"1\" stroke-width=\"0.708661\" stroke-linecap=\"round\" stroke-linejoin=\"round\" stroke=\"rgb(0%, 0%, 0%)\" stroke-opacity=\"1\" stroke-miterlimit=\"10\" d=\"M 178.867188 350.285156 C 178.867188 352.890625 174.960938 352.890625 174.960938 350.285156 C 174.960938 347.679688 178.867188 347.679688 178.867188 350.285156 \"/>\n",
       "<path fill-rule=\"nonzero\" fill=\"rgb(0%, 0%, 0%)\" fill-opacity=\"1\" stroke-width=\"0.708661\" stroke-linecap=\"round\" stroke-linejoin=\"round\" stroke=\"rgb(0%, 0%, 0%)\" stroke-opacity=\"1\" stroke-miterlimit=\"10\" d=\"M 222.039062 387.027344 C 222.039062 389.632812 218.128906 389.632812 218.128906 387.027344 C 218.128906 384.417969 222.039062 384.417969 222.039062 387.027344 \"/>\n",
       "<path fill-rule=\"nonzero\" fill=\"rgb(0%, 0%, 0%)\" fill-opacity=\"1\" stroke-width=\"0.708661\" stroke-linecap=\"round\" stroke-linejoin=\"round\" stroke=\"rgb(0%, 0%, 0%)\" stroke-opacity=\"1\" stroke-miterlimit=\"10\" d=\"M 265.207031 358.449219 C 265.207031 361.054688 261.296875 361.054688 261.296875 358.449219 C 261.296875 355.84375 265.207031 355.84375 265.207031 358.449219 \"/>\n",
       "<path fill-rule=\"nonzero\" fill=\"rgb(0%, 0%, 0%)\" fill-opacity=\"1\" stroke-width=\"0.708661\" stroke-linecap=\"round\" stroke-linejoin=\"round\" stroke=\"rgb(0%, 0%, 0%)\" stroke-opacity=\"1\" stroke-miterlimit=\"10\" d=\"M 308.375 321.707031 C 308.375 324.316406 304.464844 324.316406 304.464844 321.707031 C 304.464844 319.101562 308.375 319.101562 308.375 321.707031 \"/>\n",
       "<path fill-rule=\"nonzero\" fill=\"rgb(0%, 0%, 0%)\" fill-opacity=\"1\" stroke-width=\"0.708661\" stroke-linecap=\"round\" stroke-linejoin=\"round\" stroke=\"rgb(0%, 0%, 0%)\" stroke-opacity=\"1\" stroke-miterlimit=\"10\" d=\"M 351.542969 276.800781 C 351.542969 279.410156 347.632812 279.410156 347.632812 276.800781 C 347.632812 274.195312 351.542969 274.195312 351.542969 276.800781 \"/>\n",
       "<path fill-rule=\"nonzero\" fill=\"rgb(0%, 0%, 0%)\" fill-opacity=\"1\" stroke-width=\"0.708661\" stroke-linecap=\"round\" stroke-linejoin=\"round\" stroke=\"rgb(0%, 0%, 0%)\" stroke-opacity=\"1\" stroke-miterlimit=\"10\" d=\"M 394.710938 276.800781 C 394.710938 279.410156 390.800781 279.410156 390.800781 276.800781 C 390.800781 274.195312 394.710938 274.195312 394.710938 276.800781 \"/>\n",
       "<path fill-rule=\"nonzero\" fill=\"rgb(0%, 0%, 0%)\" fill-opacity=\"1\" stroke-width=\"0.708661\" stroke-linecap=\"round\" stroke-linejoin=\"round\" stroke=\"rgb(0%, 0%, 0%)\" stroke-opacity=\"1\" stroke-miterlimit=\"10\" d=\"M 437.878906 52.273438 C 437.878906 54.878906 433.972656 54.878906 433.972656 52.273438 C 433.972656 49.664062 437.878906 49.664062 437.878906 52.273438 \"/>\n",
       "<path fill-rule=\"nonzero\" fill=\"rgb(0%, 0%, 0%)\" fill-opacity=\"1\" stroke-width=\"0.708661\" stroke-linecap=\"round\" stroke-linejoin=\"round\" stroke=\"rgb(0%, 0%, 0%)\" stroke-opacity=\"1\" stroke-miterlimit=\"10\" d=\"M 481.050781 52.273438 C 481.050781 54.878906 477.140625 54.878906 477.140625 52.273438 C 477.140625 49.664062 481.050781 49.664062 481.050781 52.273438 \"/>\n",
       "<path fill=\"none\" stroke-width=\"1.066978\" stroke-linecap=\"butt\" stroke-linejoin=\"round\" stroke=\"rgb(0%, 0%, 0%)\" stroke-opacity=\"1\" stroke-miterlimit=\"10\" d=\"M 90.578125 438.535156 L 133.746094 438.535156 L 176.914062 350.285156 L 220.082031 387.027344 L 263.25 358.449219 L 306.421875 321.707031 L 349.589844 276.800781 L 392.757812 276.800781 L 435.925781 52.273438 L 479.09375 52.273438 \"/>\n",
       "<g fill=\"rgb(30.196078%, 30.196078%, 30.196078%)\" fill-opacity=\"1\">\n",
       "<use xlink:href=\"#glyph-0-0\" x=\"26.21875\" y=\"393.351562\"/>\n",
       "<use xlink:href=\"#glyph-0-1\" x=\"35.21875\" y=\"393.351562\"/>\n",
       "<use xlink:href=\"#glyph-0-2\" x=\"39.21875\" y=\"393.351562\"/>\n",
       "<use xlink:href=\"#glyph-0-0\" x=\"48.21875\" y=\"393.351562\"/>\n",
       "<use xlink:href=\"#glyph-0-0\" x=\"57.21875\" y=\"393.351562\"/>\n",
       "</g>\n",
       "<g fill=\"rgb(30.196078%, 30.196078%, 30.196078%)\" fill-opacity=\"1\">\n",
       "<use xlink:href=\"#glyph-0-0\" x=\"26.21875\" y=\"306.089844\"/>\n",
       "<use xlink:href=\"#glyph-0-1\" x=\"35.21875\" y=\"306.089844\"/>\n",
       "<use xlink:href=\"#glyph-0-2\" x=\"39.21875\" y=\"306.089844\"/>\n",
       "<use xlink:href=\"#glyph-0-3\" x=\"48.21875\" y=\"306.089844\"/>\n",
       "<use xlink:href=\"#glyph-0-4\" x=\"57.21875\" y=\"306.089844\"/>\n",
       "</g>\n",
       "<g fill=\"rgb(30.196078%, 30.196078%, 30.196078%)\" fill-opacity=\"1\">\n",
       "<use xlink:href=\"#glyph-0-0\" x=\"26.21875\" y=\"218.828125\"/>\n",
       "<use xlink:href=\"#glyph-0-1\" x=\"35.21875\" y=\"218.828125\"/>\n",
       "<use xlink:href=\"#glyph-0-2\" x=\"39.21875\" y=\"218.828125\"/>\n",
       "<use xlink:href=\"#glyph-0-4\" x=\"48.21875\" y=\"218.828125\"/>\n",
       "<use xlink:href=\"#glyph-0-0\" x=\"57.21875\" y=\"218.828125\"/>\n",
       "</g>\n",
       "<g fill=\"rgb(30.196078%, 30.196078%, 30.196078%)\" fill-opacity=\"1\">\n",
       "<use xlink:href=\"#glyph-0-0\" x=\"26.21875\" y=\"131.570312\"/>\n",
       "<use xlink:href=\"#glyph-0-1\" x=\"35.21875\" y=\"131.570312\"/>\n",
       "<use xlink:href=\"#glyph-0-2\" x=\"39.21875\" y=\"131.570312\"/>\n",
       "<use xlink:href=\"#glyph-0-5\" x=\"48.21875\" y=\"131.570312\"/>\n",
       "<use xlink:href=\"#glyph-0-4\" x=\"57.21875\" y=\"131.570312\"/>\n",
       "</g>\n",
       "<g fill=\"rgb(30.196078%, 30.196078%, 30.196078%)\" fill-opacity=\"1\">\n",
       "<use xlink:href=\"#glyph-0-0\" x=\"26.21875\" y=\"44.308594\"/>\n",
       "<use xlink:href=\"#glyph-0-1\" x=\"35.21875\" y=\"44.308594\"/>\n",
       "<use xlink:href=\"#glyph-0-5\" x=\"39.21875\" y=\"44.308594\"/>\n",
       "<use xlink:href=\"#glyph-0-0\" x=\"48.21875\" y=\"44.308594\"/>\n",
       "<use xlink:href=\"#glyph-0-0\" x=\"57.21875\" y=\"44.308594\"/>\n",
       "</g>\n",
       "<path fill=\"none\" stroke-width=\"1.066978\" stroke-linecap=\"butt\" stroke-linejoin=\"round\" stroke=\"rgb(20%, 20%, 20%)\" stroke-opacity=\"1\" stroke-miterlimit=\"10\" d=\"M 68.410156 387.867188 L 71.152344 387.867188 \"/>\n",
       "<path fill=\"none\" stroke-width=\"1.066978\" stroke-linecap=\"butt\" stroke-linejoin=\"round\" stroke=\"rgb(20%, 20%, 20%)\" stroke-opacity=\"1\" stroke-miterlimit=\"10\" d=\"M 68.410156 300.605469 L 71.152344 300.605469 \"/>\n",
       "<path fill=\"none\" stroke-width=\"1.066978\" stroke-linecap=\"butt\" stroke-linejoin=\"round\" stroke=\"rgb(20%, 20%, 20%)\" stroke-opacity=\"1\" stroke-miterlimit=\"10\" d=\"M 68.410156 213.34375 L 71.152344 213.34375 \"/>\n",
       "<path fill=\"none\" stroke-width=\"1.066978\" stroke-linecap=\"butt\" stroke-linejoin=\"round\" stroke=\"rgb(20%, 20%, 20%)\" stroke-opacity=\"1\" stroke-miterlimit=\"10\" d=\"M 68.410156 126.085938 L 71.152344 126.085938 \"/>\n",
       "<path fill=\"none\" stroke-width=\"1.066978\" stroke-linecap=\"butt\" stroke-linejoin=\"round\" stroke=\"rgb(20%, 20%, 20%)\" stroke-opacity=\"1\" stroke-miterlimit=\"10\" d=\"M 68.410156 38.824219 L 71.152344 38.824219 \"/>\n",
       "<path fill=\"none\" stroke-width=\"1.066978\" stroke-linecap=\"butt\" stroke-linejoin=\"round\" stroke=\"rgb(20%, 20%, 20%)\" stroke-opacity=\"1\" stroke-miterlimit=\"10\" d=\"M 155.328125 460.589844 L 155.328125 457.847656 \"/>\n",
       "<path fill=\"none\" stroke-width=\"1.066978\" stroke-linecap=\"butt\" stroke-linejoin=\"round\" stroke=\"rgb(20%, 20%, 20%)\" stroke-opacity=\"1\" stroke-miterlimit=\"10\" d=\"M 263.25 460.589844 L 263.25 457.847656 \"/>\n",
       "<path fill=\"none\" stroke-width=\"1.066978\" stroke-linecap=\"butt\" stroke-linejoin=\"round\" stroke=\"rgb(20%, 20%, 20%)\" stroke-opacity=\"1\" stroke-miterlimit=\"10\" d=\"M 371.171875 460.589844 L 371.171875 457.847656 \"/>\n",
       "<path fill=\"none\" stroke-width=\"1.066978\" stroke-linecap=\"butt\" stroke-linejoin=\"round\" stroke=\"rgb(20%, 20%, 20%)\" stroke-opacity=\"1\" stroke-miterlimit=\"10\" d=\"M 479.09375 460.589844 L 479.09375 457.847656 \"/>\n",
       "<g fill=\"rgb(30.196078%, 30.196078%, 30.196078%)\" fill-opacity=\"1\">\n",
       "<use xlink:href=\"#glyph-0-3\" x=\"144.328125\" y=\"474.265625\"/>\n",
       "<use xlink:href=\"#glyph-0-1\" x=\"153.328125\" y=\"474.265625\"/>\n",
       "<use xlink:href=\"#glyph-0-4\" x=\"157.328125\" y=\"474.265625\"/>\n",
       "</g>\n",
       "<g fill=\"rgb(30.196078%, 30.196078%, 30.196078%)\" fill-opacity=\"1\">\n",
       "<use xlink:href=\"#glyph-0-4\" x=\"252.25\" y=\"474.265625\"/>\n",
       "<use xlink:href=\"#glyph-0-1\" x=\"261.25\" y=\"474.265625\"/>\n",
       "<use xlink:href=\"#glyph-0-0\" x=\"265.25\" y=\"474.265625\"/>\n",
       "</g>\n",
       "<g fill=\"rgb(30.196078%, 30.196078%, 30.196078%)\" fill-opacity=\"1\">\n",
       "<use xlink:href=\"#glyph-0-5\" x=\"360.171875\" y=\"474.265625\"/>\n",
       "<use xlink:href=\"#glyph-0-1\" x=\"369.171875\" y=\"474.265625\"/>\n",
       "<use xlink:href=\"#glyph-0-4\" x=\"373.171875\" y=\"474.265625\"/>\n",
       "</g>\n",
       "<g fill=\"rgb(30.196078%, 30.196078%, 30.196078%)\" fill-opacity=\"1\">\n",
       "<use xlink:href=\"#glyph-0-6\" x=\"463.59375\" y=\"474.265625\"/>\n",
       "<use xlink:href=\"#glyph-0-0\" x=\"472.59375\" y=\"474.265625\"/>\n",
       "<use xlink:href=\"#glyph-0-1\" x=\"481.59375\" y=\"474.265625\"/>\n",
       "<use xlink:href=\"#glyph-0-0\" x=\"485.59375\" y=\"474.265625\"/>\n",
       "</g>\n",
       "<g fill=\"rgb(0%, 0%, 0%)\" fill-opacity=\"1\">\n",
       "<use xlink:href=\"#glyph-1-0\" x=\"173.335938\" y=\"493.625\"/>\n",
       "<use xlink:href=\"#glyph-1-1\" x=\"187.335938\" y=\"493.625\"/>\n",
       "<use xlink:href=\"#glyph-1-2\" x=\"198.335938\" y=\"493.625\"/>\n",
       "<use xlink:href=\"#glyph-1-3\" x=\"215.335938\" y=\"493.625\"/>\n",
       "<use xlink:href=\"#glyph-1-4\" x=\"226.335938\" y=\"493.625\"/>\n",
       "<use xlink:href=\"#glyph-1-5\" x=\"237.335938\" y=\"493.625\"/>\n",
       "<use xlink:href=\"#glyph-1-6\" x=\"244.335938\" y=\"493.625\"/>\n",
       "<use xlink:href=\"#glyph-1-7\" x=\"250.335938\" y=\"493.625\"/>\n",
       "<use xlink:href=\"#glyph-1-8\" x=\"261.335938\" y=\"493.625\"/>\n",
       "<use xlink:href=\"#glyph-1-6\" x=\"267.335938\" y=\"493.625\"/>\n",
       "<use xlink:href=\"#glyph-1-0\" x=\"273.335938\" y=\"493.625\"/>\n",
       "<use xlink:href=\"#glyph-1-4\" x=\"287.335938\" y=\"493.625\"/>\n",
       "<use xlink:href=\"#glyph-1-9\" x=\"298.335938\" y=\"493.625\"/>\n",
       "<use xlink:href=\"#glyph-1-10\" x=\"302.335938\" y=\"493.625\"/>\n",
       "<use xlink:href=\"#glyph-1-11\" x=\"313.335938\" y=\"493.625\"/>\n",
       "<use xlink:href=\"#glyph-1-3\" x=\"324.335938\" y=\"493.625\"/>\n",
       "<use xlink:href=\"#glyph-1-7\" x=\"335.335938\" y=\"493.625\"/>\n",
       "<use xlink:href=\"#glyph-1-5\" x=\"346.335938\" y=\"493.625\"/>\n",
       "<use xlink:href=\"#glyph-1-12\" x=\"353.335938\" y=\"493.625\"/>\n",
       "<use xlink:href=\"#glyph-1-6\" x=\"363.335938\" y=\"493.625\"/>\n",
       "<use xlink:href=\"#glyph-1-13\" x=\"369.335938\" y=\"493.625\"/>\n",
       "<use xlink:href=\"#glyph-1-14\" x=\"376.335938\" y=\"493.625\"/>\n",
       "<use xlink:href=\"#glyph-1-15\" x=\"389.335938\" y=\"493.625\"/>\n",
       "</g>\n",
       "<g fill=\"rgb(0%, 0%, 0%)\" fill-opacity=\"1\">\n",
       "<use xlink:href=\"#glyph-2-0\" x=\"18.585938\" y=\"328.402344\"/>\n",
       "<use xlink:href=\"#glyph-2-1\" x=\"18.585938\" y=\"315.402344\"/>\n",
       "<use xlink:href=\"#glyph-2-1\" x=\"18.585938\" y=\"305.402344\"/>\n",
       "<use xlink:href=\"#glyph-2-2\" x=\"18.585938\" y=\"295.402344\"/>\n",
       "<use xlink:href=\"#glyph-2-3\" x=\"18.585938\" y=\"284.402344\"/>\n",
       "<use xlink:href=\"#glyph-2-4\" x=\"18.585938\" y=\"277.402344\"/>\n",
       "<use xlink:href=\"#glyph-2-1\" x=\"18.585938\" y=\"266.402344\"/>\n",
       "<use xlink:href=\"#glyph-2-5\" x=\"18.585938\" y=\"256.402344\"/>\n",
       "<use xlink:href=\"#glyph-2-6\" x=\"18.585938\" y=\"246.402344\"/>\n",
       "<use xlink:href=\"#glyph-2-7\" x=\"18.585938\" y=\"240.402344\"/>\n",
       "<use xlink:href=\"#glyph-2-8\" x=\"18.585938\" y=\"227.402344\"/>\n",
       "<use xlink:href=\"#glyph-2-9\" x=\"18.585938\" y=\"217.402344\"/>\n",
       "<use xlink:href=\"#glyph-2-10\" x=\"18.585938\" y=\"211.402344\"/>\n",
       "<use xlink:href=\"#glyph-2-11\" x=\"18.585938\" y=\"207.402344\"/>\n",
       "<use xlink:href=\"#glyph-2-4\" x=\"18.585938\" y=\"190.402344\"/>\n",
       "<use xlink:href=\"#glyph-2-9\" x=\"18.585938\" y=\"179.402344\"/>\n",
       "<use xlink:href=\"#glyph-2-12\" x=\"18.585938\" y=\"173.402344\"/>\n",
       "</g>\n",
       "<g fill=\"rgb(0%, 0%, 0%)\" fill-opacity=\"1\">\n",
       "<use xlink:href=\"#glyph-3-0\" x=\"71.152344\" y=\"22.207031\"/>\n",
       "<use xlink:href=\"#glyph-3-1\" x=\"84.152344\" y=\"22.207031\"/>\n",
       "<use xlink:href=\"#glyph-3-2\" x=\"92.152344\" y=\"22.207031\"/>\n",
       "<use xlink:href=\"#glyph-3-3\" x=\"107.152344\" y=\"22.207031\"/>\n",
       "<use xlink:href=\"#glyph-3-4\" x=\"120.152344\" y=\"22.207031\"/>\n",
       "<use xlink:href=\"#glyph-3-5\" x=\"125.152344\" y=\"22.207031\"/>\n",
       "<use xlink:href=\"#glyph-3-6\" x=\"138.152344\" y=\"22.207031\"/>\n",
       "<use xlink:href=\"#glyph-3-7\" x=\"145.152344\" y=\"22.207031\"/>\n",
       "<use xlink:href=\"#glyph-3-8\" x=\"162.152344\" y=\"22.207031\"/>\n",
       "<use xlink:href=\"#glyph-3-3\" x=\"170.152344\" y=\"22.207031\"/>\n",
       "<use xlink:href=\"#glyph-3-9\" x=\"183.152344\" y=\"22.207031\"/>\n",
       "<use xlink:href=\"#glyph-3-9\" x=\"195.152344\" y=\"22.207031\"/>\n",
       "<use xlink:href=\"#glyph-3-1\" x=\"207.152344\" y=\"22.207031\"/>\n",
       "<use xlink:href=\"#glyph-3-10\" x=\"215.152344\" y=\"22.207031\"/>\n",
       "<use xlink:href=\"#glyph-3-11\" x=\"229.152344\" y=\"22.207031\"/>\n",
       "<use xlink:href=\"#glyph-3-4\" x=\"242.152344\" y=\"22.207031\"/>\n",
       "<use xlink:href=\"#glyph-3-12\" x=\"247.152344\" y=\"22.207031\"/>\n",
       "<use xlink:href=\"#glyph-3-5\" x=\"252.152344\" y=\"22.207031\"/>\n",
       "<use xlink:href=\"#glyph-3-11\" x=\"265.152344\" y=\"22.207031\"/>\n",
       "<use xlink:href=\"#glyph-3-13\" x=\"278.152344\" y=\"22.207031\"/>\n",
       "<use xlink:href=\"#glyph-3-12\" x=\"285.152344\" y=\"22.207031\"/>\n",
       "<use xlink:href=\"#glyph-3-3\" x=\"290.152344\" y=\"22.207031\"/>\n",
       "<use xlink:href=\"#glyph-3-14\" x=\"303.152344\" y=\"22.207031\"/>\n",
       "<use xlink:href=\"#glyph-3-6\" x=\"316.152344\" y=\"22.207031\"/>\n",
       "<use xlink:href=\"#glyph-3-15\" x=\"321.152344\" y=\"22.207031\"/>\n",
       "<use xlink:href=\"#glyph-3-16\" x=\"337.152344\" y=\"22.207031\"/>\n",
       "<use xlink:href=\"#glyph-3-16\" x=\"349.152344\" y=\"22.207031\"/>\n",
       "<use xlink:href=\"#glyph-3-17\" x=\"361.152344\" y=\"22.207031\"/>\n",
       "<use xlink:href=\"#glyph-3-8\" x=\"374.152344\" y=\"22.207031\"/>\n",
       "<use xlink:href=\"#glyph-3-11\" x=\"382.152344\" y=\"22.207031\"/>\n",
       "<use xlink:href=\"#glyph-3-16\" x=\"395.152344\" y=\"22.207031\"/>\n",
       "<use xlink:href=\"#glyph-3-18\" x=\"407.152344\" y=\"22.207031\"/>\n",
       "<use xlink:href=\"#glyph-3-6\" x=\"419.152344\" y=\"22.207031\"/>\n",
       "<use xlink:href=\"#glyph-3-19\" x=\"426.152344\" y=\"22.207031\"/>\n",
       "<use xlink:href=\"#glyph-3-9\" x=\"438.152344\" y=\"22.207031\"/>\n",
       "<use xlink:href=\"#glyph-3-6\" x=\"450.152344\" y=\"22.207031\"/>\n",
       "<use xlink:href=\"#glyph-3-20\" x=\"457.152344\" y=\"22.207031\"/>\n",
       "</g>\n",
       "</svg>\n"
      ],
      "text/plain": [
       "plot without title"
      ]
     },
     "metadata": {
      "application/pdf": {
       "height": 420,
       "width": 420
      },
      "image/jpeg": {
       "height": 420,
       "width": 420
      },
      "image/png": {
       "height": 420,
       "width": 420
      },
      "image/svg+xml": {
       "height": 420,
       "isolated": true,
       "width": 420
      }
     },
     "output_type": "display_data"
    }
   ],
   "source": [
    "accuracies <- model_results |>\n",
    "    filter(.metric == \"accuracy\")\n",
    "accuracies\n",
    "\n",
    "accuracy_versus_k <- ggplot(accuracies, aes(x = neighbors, y = mean)) +\n",
    "    geom_point() + \n",
    "    geom_line() + \n",
    "    labs(x = \"Number of Neighbors (K)\", y = \"Accuracy Estimate\") +\n",
    "    #scale_x_continuous(breaks = seq(0, 14, by = 1)) +  # adjusting the x-axis\n",
    "    #scale_y_continuous(limits = c(0.4, 1.0)) + # adjusting the y-axis\n",
    "    ggtitle(\"5-Fold Cross-Validation Accuracy vs K\") + #Predicting Subscriptions Based on Player Characteristics and Behaviour\n",
    "    theme(text = element_text(size = 20))\n",
    "accuracy_versus_k"
   ]
  },
  {
   "cell_type": "markdown",
   "id": "ebdc6ba3-bf3e-4f14-bbf2-b1a743e63ef5",
   "metadata": {},
   "source": [
    "Insights from the K-nearest neighbors (k-NN) Tuning Plot\n",
    "\n",
    "The plot shows that the mean cross-validation accuracy from a 5-fold validation procedure across different values of K (number of neighbors). Based on the plot, the highest accuracy is achieved when K = 9 or 10 (~70%), indicating that these K values are the best for predicting the response variable (subscribe). As K increases from 1 to 10, the accuracy improves steadily where the standard error decreases as K increases, demonstrating greater stability and accuracy in model performance at higher K values. Overall, the model does answer the question that player characteristics and in-game behaviours are somewhat predictive of newsletter subscription. While a ~70% accuracy is a solid starting point, the model does make mistakes in predicting whether a player is subscribed to the newsletter, as seen in the confusion matrix, but there is room for improvement as more complex can improve accuracy. \n"
   ]
  },
  {
   "cell_type": "markdown",
   "id": "79b8ad0f-0f38-4884-a64e-ac4de9d6ef8e",
   "metadata": {},
   "source": [
    "Why is this method appropriate? \n",
    "\n",
    "K-nearest neighbors (k-NN) is a non-parametric, instance-based algorithm well-suited for classification questions. Given that we are dealing with and predicting categorical data (whether a player subscribes to a newsletter or not), k-NN works by comparing a new observation to a similar instance in the training set, making it effective when the relationships between the features and classes are non-linear or complex. K-NN makes little to no kinds of assumptions about the underlying data distribution (note: data is standardized), which is ideal in cases where we lack strong prior knowledge about how the predictors influence the outcome. Instead, it relies on a distance metric where it calculates the nearest neighbor from a certain point and makes a prediction based on proximity to similar cases in the data. This type of model is easy to implement and interpret, making it a valuable model for the classification question.  "
   ]
  },
  {
   "cell_type": "markdown",
   "id": "ed2afb28-6be2-462f-8365-02ca96592a61",
   "metadata": {},
   "source": [
    "Assumptions of k-NN\n",
    "\n",
    "While k-NN is non-parametric, the model must be scaled and center (otherwise known as standardized – mean is set to 0 and standard deviation is set to 1) to ensure that all predictors contribute equally to prediction of the observation. If the data is not standardized, the predictor with the broader variability will tend to dictate which neighbors are selected. This causes the unstandardized data to yield skewed results that are primarily based on the broader predictor instead of using all the predictors to make a meaningful prediction. Additionally, using this model with multiple irrelevant predictors will degrade the model’s performance. \n"
   ]
  },
  {
   "cell_type": "markdown",
   "id": "996d493d-313d-48c8-82fe-34133dcfa589",
   "metadata": {},
   "source": [
    "Potential Limitations or Weaknesses\n",
    "\n",
    "•\tWithout proper preprocessing (standardizing the data, removing zero-variance features, etc.) the model can make biased predictions, and this results in a lower performance\n",
    "\n",
    "•\tUsing too many predictors can reduce accuracy as k-NN calculates distance to every point and as features increase, distances can become less meaningful\n",
    "\n",
    "•\tUsing accuracy as the sole metric for evaluation the classifier does not account for the type of mistake the model makes "
   ]
  },
  {
   "cell_type": "markdown",
   "id": "fa474357-b0f3-4349-915c-91f89f0d17c7",
   "metadata": {},
   "source": [
    "How did you compare and select the model? \n",
    "\n",
    "To assess how the model performance varies, I used a 5-fold cross-validation with a grid of K values from 1 to 10. The tuning process was completed by utilizing the tune_grid() function, which was able to systematically evaluate each K value and return averaged metrics across folds. By filtering the evaluation metric for ‘accuracy’ and plotting this in a graph, I was able to select and visualize that a k value of 9 or 10 produced the highest performance (~70%). This allowed me to select the best model based on the highest cross-validated accuracy. \n"
   ]
  },
  {
   "cell_type": "code",
   "execution_count": null,
   "id": "28cf7172-fd3a-44af-9040-62c782a20324",
   "metadata": {},
   "outputs": [],
   "source": []
  }
 ],
 "metadata": {
  "kernelspec": {
   "display_name": "R",
   "language": "R",
   "name": "ir"
  },
  "language_info": {
   "codemirror_mode": "r",
   "file_extension": ".r",
   "mimetype": "text/x-r-source",
   "name": "R",
   "pygments_lexer": "r",
   "version": "4.3.3"
  }
 },
 "nbformat": 4,
 "nbformat_minor": 5
}
