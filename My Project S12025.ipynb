{
 "cells": [
  {
   "cell_type": "code",
   "execution_count": 65,
   "id": "a295cbc9-0665-492b-b67f-1a399b238f65",
   "metadata": {},
   "outputs": [],
   "source": [
    "### Run this cell before continuing.\n",
    "library(tidyverse)\n",
    "library(tidymodels)\n",
    "library(tidyclust)\n",
    "library(forcats)\n",
    "library(repr)\n",
    "library(lubridate)\n",
    "library(dplyr)\n",
    "options(repr.matrix.max.rows = 6)\n",
    "#source(\"cleanup.R\")"
   ]
  },
  {
   "cell_type": "markdown",
   "id": "567b5320-c742-4d17-a5f9-12a9568190d4",
   "metadata": {},
   "source": [
    "Read in the players.csv data using read_csv() and assign it to an object called players. The data is located within the data/ folder.\n"
   ]
  },
  {
   "cell_type": "code",
   "execution_count": 66,
   "id": "746e12e2-d377-4b40-99c4-0a55df679399",
   "metadata": {},
   "outputs": [
    {
     "name": "stderr",
     "output_type": "stream",
     "text": [
      "\u001b[1mRows: \u001b[22m\u001b[34m196\u001b[39m \u001b[1mColumns: \u001b[22m\u001b[34m7\u001b[39m\n",
      "\u001b[36m──\u001b[39m \u001b[1mColumn specification\u001b[22m \u001b[36m────────────────────────────────────────────────────────\u001b[39m\n",
      "\u001b[1mDelimiter:\u001b[22m \",\"\n",
      "\u001b[31mchr\u001b[39m (4): experience, hashedEmail, name, gender\n",
      "\u001b[32mdbl\u001b[39m (2): played_hours, Age\n",
      "\u001b[33mlgl\u001b[39m (1): subscribe\n",
      "\n",
      "\u001b[36mℹ\u001b[39m Use `spec()` to retrieve the full column specification for this data.\n",
      "\u001b[36mℹ\u001b[39m Specify the column types or set `show_col_types = FALSE` to quiet this message.\n"
     ]
    },
    {
     "data": {
      "text/html": [
       "<table class=\"dataframe\">\n",
       "<caption>A spec_tbl_df: 196 × 7</caption>\n",
       "<thead>\n",
       "\t<tr><th scope=col>experience</th><th scope=col>subscribe</th><th scope=col>hashedEmail</th><th scope=col>played_hours</th><th scope=col>name</th><th scope=col>gender</th><th scope=col>Age</th></tr>\n",
       "\t<tr><th scope=col>&lt;chr&gt;</th><th scope=col>&lt;lgl&gt;</th><th scope=col>&lt;chr&gt;</th><th scope=col>&lt;dbl&gt;</th><th scope=col>&lt;chr&gt;</th><th scope=col>&lt;chr&gt;</th><th scope=col>&lt;dbl&gt;</th></tr>\n",
       "</thead>\n",
       "<tbody>\n",
       "\t<tr><td>Pro    </td><td> TRUE</td><td>f6daba428a5e19a3d47574858c13550499be23603422e6a0ee9728f8b53e192d</td><td>30.3</td><td>Morgan   </td><td>Male</td><td> 9</td></tr>\n",
       "\t<tr><td>Veteran</td><td> TRUE</td><td>f3c813577c458ba0dfef80996f8f32c93b6e8af1fa939732842f2312358a88e9</td><td> 3.8</td><td>Christian</td><td>Male</td><td>17</td></tr>\n",
       "\t<tr><td>Veteran</td><td>FALSE</td><td>b674dd7ee0d24096d1c019615ce4d12b20fcbff12d79d3c5a9d2118eb7ccbb28</td><td> 0.0</td><td>Blake    </td><td>Male</td><td>17</td></tr>\n",
       "\t<tr><td>⋮</td><td>⋮</td><td>⋮</td><td>⋮</td><td>⋮</td><td>⋮</td><td>⋮</td></tr>\n",
       "\t<tr><td>Amateur</td><td>FALSE</td><td>d572f391d452b76ea2d7e5e53a3d38bfd7499c7399db299bd4fedb06a46ad5bb</td><td>0.0</td><td>Dylan </td><td>Prefer not to say</td><td>17</td></tr>\n",
       "\t<tr><td>Amateur</td><td>FALSE</td><td>f19e136ddde68f365afc860c725ccff54307dedd13968e896a9f890c40aea436</td><td>2.3</td><td>Harlow</td><td>Male             </td><td>17</td></tr>\n",
       "\t<tr><td>Pro    </td><td> TRUE</td><td>d9473710057f7d42f36570f0be83817a4eea614029ff90cf50d8889cdd729d11</td><td>0.2</td><td>Ahmed </td><td>Other            </td><td>NA</td></tr>\n",
       "</tbody>\n",
       "</table>\n"
      ],
      "text/latex": [
       "A spec\\_tbl\\_df: 196 × 7\n",
       "\\begin{tabular}{lllllll}\n",
       " experience & subscribe & hashedEmail & played\\_hours & name & gender & Age\\\\\n",
       " <chr> & <lgl> & <chr> & <dbl> & <chr> & <chr> & <dbl>\\\\\n",
       "\\hline\n",
       "\t Pro     &  TRUE & f6daba428a5e19a3d47574858c13550499be23603422e6a0ee9728f8b53e192d & 30.3 & Morgan    & Male &  9\\\\\n",
       "\t Veteran &  TRUE & f3c813577c458ba0dfef80996f8f32c93b6e8af1fa939732842f2312358a88e9 &  3.8 & Christian & Male & 17\\\\\n",
       "\t Veteran & FALSE & b674dd7ee0d24096d1c019615ce4d12b20fcbff12d79d3c5a9d2118eb7ccbb28 &  0.0 & Blake     & Male & 17\\\\\n",
       "\t ⋮ & ⋮ & ⋮ & ⋮ & ⋮ & ⋮ & ⋮\\\\\n",
       "\t Amateur & FALSE & d572f391d452b76ea2d7e5e53a3d38bfd7499c7399db299bd4fedb06a46ad5bb & 0.0 & Dylan  & Prefer not to say & 17\\\\\n",
       "\t Amateur & FALSE & f19e136ddde68f365afc860c725ccff54307dedd13968e896a9f890c40aea436 & 2.3 & Harlow & Male              & 17\\\\\n",
       "\t Pro     &  TRUE & d9473710057f7d42f36570f0be83817a4eea614029ff90cf50d8889cdd729d11 & 0.2 & Ahmed  & Other             & NA\\\\\n",
       "\\end{tabular}\n"
      ],
      "text/markdown": [
       "\n",
       "A spec_tbl_df: 196 × 7\n",
       "\n",
       "| experience &lt;chr&gt; | subscribe &lt;lgl&gt; | hashedEmail &lt;chr&gt; | played_hours &lt;dbl&gt; | name &lt;chr&gt; | gender &lt;chr&gt; | Age &lt;dbl&gt; |\n",
       "|---|---|---|---|---|---|---|\n",
       "| Pro     |  TRUE | f6daba428a5e19a3d47574858c13550499be23603422e6a0ee9728f8b53e192d | 30.3 | Morgan    | Male |  9 |\n",
       "| Veteran |  TRUE | f3c813577c458ba0dfef80996f8f32c93b6e8af1fa939732842f2312358a88e9 |  3.8 | Christian | Male | 17 |\n",
       "| Veteran | FALSE | b674dd7ee0d24096d1c019615ce4d12b20fcbff12d79d3c5a9d2118eb7ccbb28 |  0.0 | Blake     | Male | 17 |\n",
       "| ⋮ | ⋮ | ⋮ | ⋮ | ⋮ | ⋮ | ⋮ |\n",
       "| Amateur | FALSE | d572f391d452b76ea2d7e5e53a3d38bfd7499c7399db299bd4fedb06a46ad5bb | 0.0 | Dylan  | Prefer not to say | 17 |\n",
       "| Amateur | FALSE | f19e136ddde68f365afc860c725ccff54307dedd13968e896a9f890c40aea436 | 2.3 | Harlow | Male              | 17 |\n",
       "| Pro     |  TRUE | d9473710057f7d42f36570f0be83817a4eea614029ff90cf50d8889cdd729d11 | 0.2 | Ahmed  | Other             | NA |\n",
       "\n"
      ],
      "text/plain": [
       "    experience subscribe\n",
       "1   Pro         TRUE    \n",
       "2   Veteran     TRUE    \n",
       "3   Veteran    FALSE    \n",
       "⋮   ⋮          ⋮        \n",
       "194 Amateur    FALSE    \n",
       "195 Amateur    FALSE    \n",
       "196 Pro         TRUE    \n",
       "    hashedEmail                                                     \n",
       "1   f6daba428a5e19a3d47574858c13550499be23603422e6a0ee9728f8b53e192d\n",
       "2   f3c813577c458ba0dfef80996f8f32c93b6e8af1fa939732842f2312358a88e9\n",
       "3   b674dd7ee0d24096d1c019615ce4d12b20fcbff12d79d3c5a9d2118eb7ccbb28\n",
       "⋮   ⋮                                                               \n",
       "194 d572f391d452b76ea2d7e5e53a3d38bfd7499c7399db299bd4fedb06a46ad5bb\n",
       "195 f19e136ddde68f365afc860c725ccff54307dedd13968e896a9f890c40aea436\n",
       "196 d9473710057f7d42f36570f0be83817a4eea614029ff90cf50d8889cdd729d11\n",
       "    played_hours name      gender            Age\n",
       "1   30.3         Morgan    Male               9 \n",
       "2    3.8         Christian Male              17 \n",
       "3    0.0         Blake     Male              17 \n",
       "⋮   ⋮            ⋮         ⋮                 ⋮  \n",
       "194 0.0          Dylan     Prefer not to say 17 \n",
       "195 2.3          Harlow    Male              17 \n",
       "196 0.2          Ahmed     Other             NA "
      ]
     },
     "metadata": {},
     "output_type": "display_data"
    }
   ],
   "source": [
    "players <- read_csv(\"Data/players.csv\")\n",
    "players"
   ]
  },
  {
   "cell_type": "markdown",
   "id": "b95c6933-f5fb-4661-a1b9-ff65e231ddc0",
   "metadata": {},
   "source": [
    "Read in the sessions.csv data using read_csv() and assign it to an object called sessions. The data is located within the data/ folder."
   ]
  },
  {
   "cell_type": "code",
   "execution_count": 67,
   "id": "c005551b-23c0-4bdc-9841-8c463126d061",
   "metadata": {},
   "outputs": [
    {
     "name": "stderr",
     "output_type": "stream",
     "text": [
      "\u001b[1mRows: \u001b[22m\u001b[34m1535\u001b[39m \u001b[1mColumns: \u001b[22m\u001b[34m5\u001b[39m\n",
      "\u001b[36m──\u001b[39m \u001b[1mColumn specification\u001b[22m \u001b[36m────────────────────────────────────────────────────────\u001b[39m\n",
      "\u001b[1mDelimiter:\u001b[22m \",\"\n",
      "\u001b[31mchr\u001b[39m (3): hashedEmail, start_time, end_time\n",
      "\u001b[32mdbl\u001b[39m (2): original_start_time, original_end_time\n",
      "\n",
      "\u001b[36mℹ\u001b[39m Use `spec()` to retrieve the full column specification for this data.\n",
      "\u001b[36mℹ\u001b[39m Specify the column types or set `show_col_types = FALSE` to quiet this message.\n"
     ]
    },
    {
     "data": {
      "text/html": [
       "<table class=\"dataframe\">\n",
       "<caption>A spec_tbl_df: 1535 × 5</caption>\n",
       "<thead>\n",
       "\t<tr><th scope=col>hashedEmail</th><th scope=col>start_time</th><th scope=col>end_time</th><th scope=col>original_start_time</th><th scope=col>original_end_time</th></tr>\n",
       "\t<tr><th scope=col>&lt;chr&gt;</th><th scope=col>&lt;chr&gt;</th><th scope=col>&lt;chr&gt;</th><th scope=col>&lt;dbl&gt;</th><th scope=col>&lt;dbl&gt;</th></tr>\n",
       "</thead>\n",
       "<tbody>\n",
       "\t<tr><td>bfce39c89d6549f2bb94d8064d3ce69dc3d7e72b38f431d8aa0c4bf95ccee6bf</td><td>30/06/2024 18:12</td><td>30/06/2024 18:24</td><td>1.71977e+12</td><td>1.71977e+12</td></tr>\n",
       "\t<tr><td>36d9cbb4c6bc0c1a6911436d2da0d09ec625e43e6552f575d4acc9cf487c4686</td><td>17/06/2024 23:33</td><td>17/06/2024 23:46</td><td>1.71867e+12</td><td>1.71867e+12</td></tr>\n",
       "\t<tr><td>f8f5477f5a2e53616ae37421b1c660b971192bd8ff77e3398304c7ae42581fdc</td><td>25/07/2024 17:34</td><td>25/07/2024 17:57</td><td>1.72193e+12</td><td>1.72193e+12</td></tr>\n",
       "\t<tr><td>⋮</td><td>⋮</td><td>⋮</td><td>⋮</td><td>⋮</td></tr>\n",
       "\t<tr><td>fd6563a4e0f6f4273580e5fedbd8dda64990447aea5a33cbb5e894a3867ca44d</td><td>28/07/2024 15:36</td><td>28/07/2024 15:57</td><td>1.72218e+12</td><td>1.72218e+12</td></tr>\n",
       "\t<tr><td>fd6563a4e0f6f4273580e5fedbd8dda64990447aea5a33cbb5e894a3867ca44d</td><td>25/07/2024 06:15</td><td>25/07/2024 06:22</td><td>1.72189e+12</td><td>1.72189e+12</td></tr>\n",
       "\t<tr><td>36d9cbb4c6bc0c1a6911436d2da0d09ec625e43e6552f575d4acc9cf487c4686</td><td>20/05/2024 02:26</td><td>20/05/2024 02:45</td><td>1.71617e+12</td><td>1.71617e+12</td></tr>\n",
       "</tbody>\n",
       "</table>\n"
      ],
      "text/latex": [
       "A spec\\_tbl\\_df: 1535 × 5\n",
       "\\begin{tabular}{lllll}\n",
       " hashedEmail & start\\_time & end\\_time & original\\_start\\_time & original\\_end\\_time\\\\\n",
       " <chr> & <chr> & <chr> & <dbl> & <dbl>\\\\\n",
       "\\hline\n",
       "\t bfce39c89d6549f2bb94d8064d3ce69dc3d7e72b38f431d8aa0c4bf95ccee6bf & 30/06/2024 18:12 & 30/06/2024 18:24 & 1.71977e+12 & 1.71977e+12\\\\\n",
       "\t 36d9cbb4c6bc0c1a6911436d2da0d09ec625e43e6552f575d4acc9cf487c4686 & 17/06/2024 23:33 & 17/06/2024 23:46 & 1.71867e+12 & 1.71867e+12\\\\\n",
       "\t f8f5477f5a2e53616ae37421b1c660b971192bd8ff77e3398304c7ae42581fdc & 25/07/2024 17:34 & 25/07/2024 17:57 & 1.72193e+12 & 1.72193e+12\\\\\n",
       "\t ⋮ & ⋮ & ⋮ & ⋮ & ⋮\\\\\n",
       "\t fd6563a4e0f6f4273580e5fedbd8dda64990447aea5a33cbb5e894a3867ca44d & 28/07/2024 15:36 & 28/07/2024 15:57 & 1.72218e+12 & 1.72218e+12\\\\\n",
       "\t fd6563a4e0f6f4273580e5fedbd8dda64990447aea5a33cbb5e894a3867ca44d & 25/07/2024 06:15 & 25/07/2024 06:22 & 1.72189e+12 & 1.72189e+12\\\\\n",
       "\t 36d9cbb4c6bc0c1a6911436d2da0d09ec625e43e6552f575d4acc9cf487c4686 & 20/05/2024 02:26 & 20/05/2024 02:45 & 1.71617e+12 & 1.71617e+12\\\\\n",
       "\\end{tabular}\n"
      ],
      "text/markdown": [
       "\n",
       "A spec_tbl_df: 1535 × 5\n",
       "\n",
       "| hashedEmail &lt;chr&gt; | start_time &lt;chr&gt; | end_time &lt;chr&gt; | original_start_time &lt;dbl&gt; | original_end_time &lt;dbl&gt; |\n",
       "|---|---|---|---|---|\n",
       "| bfce39c89d6549f2bb94d8064d3ce69dc3d7e72b38f431d8aa0c4bf95ccee6bf | 30/06/2024 18:12 | 30/06/2024 18:24 | 1.71977e+12 | 1.71977e+12 |\n",
       "| 36d9cbb4c6bc0c1a6911436d2da0d09ec625e43e6552f575d4acc9cf487c4686 | 17/06/2024 23:33 | 17/06/2024 23:46 | 1.71867e+12 | 1.71867e+12 |\n",
       "| f8f5477f5a2e53616ae37421b1c660b971192bd8ff77e3398304c7ae42581fdc | 25/07/2024 17:34 | 25/07/2024 17:57 | 1.72193e+12 | 1.72193e+12 |\n",
       "| ⋮ | ⋮ | ⋮ | ⋮ | ⋮ |\n",
       "| fd6563a4e0f6f4273580e5fedbd8dda64990447aea5a33cbb5e894a3867ca44d | 28/07/2024 15:36 | 28/07/2024 15:57 | 1.72218e+12 | 1.72218e+12 |\n",
       "| fd6563a4e0f6f4273580e5fedbd8dda64990447aea5a33cbb5e894a3867ca44d | 25/07/2024 06:15 | 25/07/2024 06:22 | 1.72189e+12 | 1.72189e+12 |\n",
       "| 36d9cbb4c6bc0c1a6911436d2da0d09ec625e43e6552f575d4acc9cf487c4686 | 20/05/2024 02:26 | 20/05/2024 02:45 | 1.71617e+12 | 1.71617e+12 |\n",
       "\n"
      ],
      "text/plain": [
       "     hashedEmail                                                     \n",
       "1    bfce39c89d6549f2bb94d8064d3ce69dc3d7e72b38f431d8aa0c4bf95ccee6bf\n",
       "2    36d9cbb4c6bc0c1a6911436d2da0d09ec625e43e6552f575d4acc9cf487c4686\n",
       "3    f8f5477f5a2e53616ae37421b1c660b971192bd8ff77e3398304c7ae42581fdc\n",
       "⋮    ⋮                                                               \n",
       "1533 fd6563a4e0f6f4273580e5fedbd8dda64990447aea5a33cbb5e894a3867ca44d\n",
       "1534 fd6563a4e0f6f4273580e5fedbd8dda64990447aea5a33cbb5e894a3867ca44d\n",
       "1535 36d9cbb4c6bc0c1a6911436d2da0d09ec625e43e6552f575d4acc9cf487c4686\n",
       "     start_time       end_time         original_start_time original_end_time\n",
       "1    30/06/2024 18:12 30/06/2024 18:24 1.71977e+12         1.71977e+12      \n",
       "2    17/06/2024 23:33 17/06/2024 23:46 1.71867e+12         1.71867e+12      \n",
       "3    25/07/2024 17:34 25/07/2024 17:57 1.72193e+12         1.72193e+12      \n",
       "⋮    ⋮                ⋮                ⋮                   ⋮                \n",
       "1533 28/07/2024 15:36 28/07/2024 15:57 1.72218e+12         1.72218e+12      \n",
       "1534 25/07/2024 06:15 25/07/2024 06:22 1.72189e+12         1.72189e+12      \n",
       "1535 20/05/2024 02:26 20/05/2024 02:45 1.71617e+12         1.71617e+12      "
      ]
     },
     "metadata": {},
     "output_type": "display_data"
    }
   ],
   "source": [
    "sessions <- read_csv(\"Data/sessions.csv\")\n",
    "sessions"
   ]
  },
  {
   "cell_type": "markdown",
   "id": "c30f1361-6fe0-43bb-9ff5-ce2d2159211e",
   "metadata": {},
   "source": [
    "Merge the datasets on hashedEmail using the inner_join() function. This is useful for combining player characteristics with their session data, which is essential to analyze how player behavior (from sessions.csv) relates to subscription status (from players.csv)."
   ]
  },
  {
   "cell_type": "code",
   "execution_count": 68,
   "id": "ad749233-3711-4a96-aed2-8014e7c722b4",
   "metadata": {},
   "outputs": [
    {
     "data": {
      "text/html": [
       "<table class=\"dataframe\">\n",
       "<caption>A spec_tbl_df: 1535 × 11</caption>\n",
       "<thead>\n",
       "\t<tr><th scope=col>experience</th><th scope=col>subscribe</th><th scope=col>hashedEmail</th><th scope=col>played_hours</th><th scope=col>name</th><th scope=col>gender</th><th scope=col>Age</th><th scope=col>start_time</th><th scope=col>end_time</th><th scope=col>original_start_time</th><th scope=col>original_end_time</th></tr>\n",
       "\t<tr><th scope=col>&lt;chr&gt;</th><th scope=col>&lt;lgl&gt;</th><th scope=col>&lt;chr&gt;</th><th scope=col>&lt;dbl&gt;</th><th scope=col>&lt;chr&gt;</th><th scope=col>&lt;chr&gt;</th><th scope=col>&lt;dbl&gt;</th><th scope=col>&lt;chr&gt;</th><th scope=col>&lt;chr&gt;</th><th scope=col>&lt;dbl&gt;</th><th scope=col>&lt;dbl&gt;</th></tr>\n",
       "</thead>\n",
       "<tbody>\n",
       "\t<tr><td>Pro</td><td>TRUE</td><td>f6daba428a5e19a3d47574858c13550499be23603422e6a0ee9728f8b53e192d</td><td>30.3</td><td>Morgan</td><td>Male</td><td>9</td><td>08/08/2024 00:21</td><td>08/08/2024 01:35</td><td>1.72308e+12</td><td>1.72308e+12</td></tr>\n",
       "\t<tr><td>Pro</td><td>TRUE</td><td>f6daba428a5e19a3d47574858c13550499be23603422e6a0ee9728f8b53e192d</td><td>30.3</td><td>Morgan</td><td>Male</td><td>9</td><td>09/09/2024 22:30</td><td>09/09/2024 22:37</td><td>1.72592e+12</td><td>1.72592e+12</td></tr>\n",
       "\t<tr><td>Pro</td><td>TRUE</td><td>f6daba428a5e19a3d47574858c13550499be23603422e6a0ee9728f8b53e192d</td><td>30.3</td><td>Morgan</td><td>Male</td><td>9</td><td>08/08/2024 02:41</td><td>08/08/2024 03:25</td><td>1.72308e+12</td><td>1.72309e+12</td></tr>\n",
       "\t<tr><td>⋮</td><td>⋮</td><td>⋮</td><td>⋮</td><td>⋮</td><td>⋮</td><td>⋮</td><td>⋮</td><td>⋮</td><td>⋮</td><td>⋮</td></tr>\n",
       "\t<tr><td>Amateur</td><td>FALSE</td><td>f19e136ddde68f365afc860c725ccff54307dedd13968e896a9f890c40aea436</td><td>2.3</td><td>Harlow</td><td>Male </td><td>17</td><td>23/08/2024 21:39</td><td>23/08/2024 21:53</td><td>1.72445e+12</td><td>1.72445e+12</td></tr>\n",
       "\t<tr><td>Amateur</td><td>FALSE</td><td>f19e136ddde68f365afc860c725ccff54307dedd13968e896a9f890c40aea436</td><td>2.3</td><td>Harlow</td><td>Male </td><td>17</td><td>08/09/2024 19:40</td><td>08/09/2024 19:45</td><td>1.72582e+12</td><td>1.72582e+12</td></tr>\n",
       "\t<tr><td>Pro    </td><td> TRUE</td><td>d9473710057f7d42f36570f0be83817a4eea614029ff90cf50d8889cdd729d11</td><td>0.2</td><td>Ahmed </td><td>Other</td><td>NA</td><td>08/05/2024 19:29</td><td>08/05/2024 19:44</td><td>1.71520e+12</td><td>1.71520e+12</td></tr>\n",
       "</tbody>\n",
       "</table>\n"
      ],
      "text/latex": [
       "A spec\\_tbl\\_df: 1535 × 11\n",
       "\\begin{tabular}{lllllllllll}\n",
       " experience & subscribe & hashedEmail & played\\_hours & name & gender & Age & start\\_time & end\\_time & original\\_start\\_time & original\\_end\\_time\\\\\n",
       " <chr> & <lgl> & <chr> & <dbl> & <chr> & <chr> & <dbl> & <chr> & <chr> & <dbl> & <dbl>\\\\\n",
       "\\hline\n",
       "\t Pro & TRUE & f6daba428a5e19a3d47574858c13550499be23603422e6a0ee9728f8b53e192d & 30.3 & Morgan & Male & 9 & 08/08/2024 00:21 & 08/08/2024 01:35 & 1.72308e+12 & 1.72308e+12\\\\\n",
       "\t Pro & TRUE & f6daba428a5e19a3d47574858c13550499be23603422e6a0ee9728f8b53e192d & 30.3 & Morgan & Male & 9 & 09/09/2024 22:30 & 09/09/2024 22:37 & 1.72592e+12 & 1.72592e+12\\\\\n",
       "\t Pro & TRUE & f6daba428a5e19a3d47574858c13550499be23603422e6a0ee9728f8b53e192d & 30.3 & Morgan & Male & 9 & 08/08/2024 02:41 & 08/08/2024 03:25 & 1.72308e+12 & 1.72309e+12\\\\\n",
       "\t ⋮ & ⋮ & ⋮ & ⋮ & ⋮ & ⋮ & ⋮ & ⋮ & ⋮ & ⋮ & ⋮\\\\\n",
       "\t Amateur & FALSE & f19e136ddde68f365afc860c725ccff54307dedd13968e896a9f890c40aea436 & 2.3 & Harlow & Male  & 17 & 23/08/2024 21:39 & 23/08/2024 21:53 & 1.72445e+12 & 1.72445e+12\\\\\n",
       "\t Amateur & FALSE & f19e136ddde68f365afc860c725ccff54307dedd13968e896a9f890c40aea436 & 2.3 & Harlow & Male  & 17 & 08/09/2024 19:40 & 08/09/2024 19:45 & 1.72582e+12 & 1.72582e+12\\\\\n",
       "\t Pro     &  TRUE & d9473710057f7d42f36570f0be83817a4eea614029ff90cf50d8889cdd729d11 & 0.2 & Ahmed  & Other & NA & 08/05/2024 19:29 & 08/05/2024 19:44 & 1.71520e+12 & 1.71520e+12\\\\\n",
       "\\end{tabular}\n"
      ],
      "text/markdown": [
       "\n",
       "A spec_tbl_df: 1535 × 11\n",
       "\n",
       "| experience &lt;chr&gt; | subscribe &lt;lgl&gt; | hashedEmail &lt;chr&gt; | played_hours &lt;dbl&gt; | name &lt;chr&gt; | gender &lt;chr&gt; | Age &lt;dbl&gt; | start_time &lt;chr&gt; | end_time &lt;chr&gt; | original_start_time &lt;dbl&gt; | original_end_time &lt;dbl&gt; |\n",
       "|---|---|---|---|---|---|---|---|---|---|---|\n",
       "| Pro | TRUE | f6daba428a5e19a3d47574858c13550499be23603422e6a0ee9728f8b53e192d | 30.3 | Morgan | Male | 9 | 08/08/2024 00:21 | 08/08/2024 01:35 | 1.72308e+12 | 1.72308e+12 |\n",
       "| Pro | TRUE | f6daba428a5e19a3d47574858c13550499be23603422e6a0ee9728f8b53e192d | 30.3 | Morgan | Male | 9 | 09/09/2024 22:30 | 09/09/2024 22:37 | 1.72592e+12 | 1.72592e+12 |\n",
       "| Pro | TRUE | f6daba428a5e19a3d47574858c13550499be23603422e6a0ee9728f8b53e192d | 30.3 | Morgan | Male | 9 | 08/08/2024 02:41 | 08/08/2024 03:25 | 1.72308e+12 | 1.72309e+12 |\n",
       "| ⋮ | ⋮ | ⋮ | ⋮ | ⋮ | ⋮ | ⋮ | ⋮ | ⋮ | ⋮ | ⋮ |\n",
       "| Amateur | FALSE | f19e136ddde68f365afc860c725ccff54307dedd13968e896a9f890c40aea436 | 2.3 | Harlow | Male  | 17 | 23/08/2024 21:39 | 23/08/2024 21:53 | 1.72445e+12 | 1.72445e+12 |\n",
       "| Amateur | FALSE | f19e136ddde68f365afc860c725ccff54307dedd13968e896a9f890c40aea436 | 2.3 | Harlow | Male  | 17 | 08/09/2024 19:40 | 08/09/2024 19:45 | 1.72582e+12 | 1.72582e+12 |\n",
       "| Pro     |  TRUE | d9473710057f7d42f36570f0be83817a4eea614029ff90cf50d8889cdd729d11 | 0.2 | Ahmed  | Other | NA | 08/05/2024 19:29 | 08/05/2024 19:44 | 1.71520e+12 | 1.71520e+12 |\n",
       "\n"
      ],
      "text/plain": [
       "     experience subscribe\n",
       "1    Pro        TRUE     \n",
       "2    Pro        TRUE     \n",
       "3    Pro        TRUE     \n",
       "⋮    ⋮          ⋮        \n",
       "1533 Amateur    FALSE    \n",
       "1534 Amateur    FALSE    \n",
       "1535 Pro         TRUE    \n",
       "     hashedEmail                                                     \n",
       "1    f6daba428a5e19a3d47574858c13550499be23603422e6a0ee9728f8b53e192d\n",
       "2    f6daba428a5e19a3d47574858c13550499be23603422e6a0ee9728f8b53e192d\n",
       "3    f6daba428a5e19a3d47574858c13550499be23603422e6a0ee9728f8b53e192d\n",
       "⋮    ⋮                                                               \n",
       "1533 f19e136ddde68f365afc860c725ccff54307dedd13968e896a9f890c40aea436\n",
       "1534 f19e136ddde68f365afc860c725ccff54307dedd13968e896a9f890c40aea436\n",
       "1535 d9473710057f7d42f36570f0be83817a4eea614029ff90cf50d8889cdd729d11\n",
       "     played_hours name   gender Age start_time       end_time        \n",
       "1    30.3         Morgan Male   9   08/08/2024 00:21 08/08/2024 01:35\n",
       "2    30.3         Morgan Male   9   09/09/2024 22:30 09/09/2024 22:37\n",
       "3    30.3         Morgan Male   9   08/08/2024 02:41 08/08/2024 03:25\n",
       "⋮    ⋮            ⋮      ⋮      ⋮   ⋮                ⋮               \n",
       "1533 2.3          Harlow Male   17  23/08/2024 21:39 23/08/2024 21:53\n",
       "1534 2.3          Harlow Male   17  08/09/2024 19:40 08/09/2024 19:45\n",
       "1535 0.2          Ahmed  Other  NA  08/05/2024 19:29 08/05/2024 19:44\n",
       "     original_start_time original_end_time\n",
       "1    1.72308e+12         1.72308e+12      \n",
       "2    1.72592e+12         1.72592e+12      \n",
       "3    1.72308e+12         1.72309e+12      \n",
       "⋮    ⋮                   ⋮                \n",
       "1533 1.72445e+12         1.72445e+12      \n",
       "1534 1.72582e+12         1.72582e+12      \n",
       "1535 1.71520e+12         1.71520e+12      "
      ]
     },
     "metadata": {},
     "output_type": "display_data"
    }
   ],
   "source": [
    "merged_data <- inner_join(players, sessions, by = \"hashedEmail\")\n",
    "merged_data"
   ]
  },
  {
   "cell_type": "markdown",
   "id": "40b21d73-8b26-4141-9dbc-ac5a82cf5ee3",
   "metadata": {},
   "source": [
    "View your new data frame, by using the glimpse() function."
   ]
  },
  {
   "cell_type": "code",
   "execution_count": 5,
   "id": "8f8e6510-fac8-4f42-908a-60dec87f3e1e",
   "metadata": {},
   "outputs": [
    {
     "name": "stdout",
     "output_type": "stream",
     "text": [
      "Rows: 1,535\n",
      "Columns: 11\n",
      "$ experience          \u001b[3m\u001b[90m<chr>\u001b[39m\u001b[23m \"Pro\", \"Pro\", \"Pro\", \"Pro\", \"Pro\", \"Pro\", \"Pro\", \"…\n",
      "$ subscribe           \u001b[3m\u001b[90m<lgl>\u001b[39m\u001b[23m TRUE, TRUE, TRUE, TRUE, TRUE, TRUE, TRUE, TRUE, TR…\n",
      "$ hashedEmail         \u001b[3m\u001b[90m<chr>\u001b[39m\u001b[23m \"f6daba428a5e19a3d47574858c13550499be23603422e6a0e…\n",
      "$ played_hours        \u001b[3m\u001b[90m<dbl>\u001b[39m\u001b[23m 30.3, 30.3, 30.3, 30.3, 30.3, 30.3, 30.3, 30.3, 30…\n",
      "$ name                \u001b[3m\u001b[90m<chr>\u001b[39m\u001b[23m \"Morgan\", \"Morgan\", \"Morgan\", \"Morgan\", \"Morgan\", …\n",
      "$ gender              \u001b[3m\u001b[90m<chr>\u001b[39m\u001b[23m \"Male\", \"Male\", \"Male\", \"Male\", \"Male\", \"Male\", \"M…\n",
      "$ Age                 \u001b[3m\u001b[90m<dbl>\u001b[39m\u001b[23m 9, 9, 9, 9, 9, 9, 9, 9, 9, 9, 9, 9, 9, 9, 9, 9, 9,…\n",
      "$ start_time          \u001b[3m\u001b[90m<chr>\u001b[39m\u001b[23m \"08/08/2024 00:21\", \"09/09/2024 22:30\", \"08/08/202…\n",
      "$ end_time            \u001b[3m\u001b[90m<chr>\u001b[39m\u001b[23m \"08/08/2024 01:35\", \"09/09/2024 22:37\", \"08/08/202…\n",
      "$ original_start_time \u001b[3m\u001b[90m<dbl>\u001b[39m\u001b[23m 1.72308e+12, 1.72592e+12, 1.72308e+12, 1.72598e+12…\n",
      "$ original_end_time   \u001b[3m\u001b[90m<dbl>\u001b[39m\u001b[23m 1.72308e+12, 1.72592e+12, 1.72309e+12, 1.72598e+12…\n"
     ]
    }
   ],
   "source": [
    "glimpse(merged_data)"
   ]
  },
  {
   "cell_type": "code",
   "execution_count": 6,
   "id": "9987a0b1-ae05-40b2-a604-0b766279a126",
   "metadata": {},
   "outputs": [
    {
     "data": {
      "text/html": [
       "<table class=\"dataframe\">\n",
       "<caption>A tibble: 1535 × 12</caption>\n",
       "<thead>\n",
       "\t<tr><th scope=col>experience</th><th scope=col>subscribe</th><th scope=col>hashedEmail</th><th scope=col>played_hours</th><th scope=col>name</th><th scope=col>gender</th><th scope=col>Age</th><th scope=col>start_time</th><th scope=col>end_time</th><th scope=col>original_start_time</th><th scope=col>original_end_time</th><th scope=col>session_length_min</th></tr>\n",
       "\t<tr><th scope=col>&lt;chr&gt;</th><th scope=col>&lt;lgl&gt;</th><th scope=col>&lt;chr&gt;</th><th scope=col>&lt;dbl&gt;</th><th scope=col>&lt;chr&gt;</th><th scope=col>&lt;chr&gt;</th><th scope=col>&lt;dbl&gt;</th><th scope=col>&lt;dttm&gt;</th><th scope=col>&lt;dttm&gt;</th><th scope=col>&lt;dbl&gt;</th><th scope=col>&lt;dbl&gt;</th><th scope=col>&lt;dbl&gt;</th></tr>\n",
       "</thead>\n",
       "<tbody>\n",
       "\t<tr><td>Pro</td><td>TRUE</td><td>f6daba428a5e19a3d47574858c13550499be23603422e6a0ee9728f8b53e192d</td><td>30.3</td><td>Morgan</td><td>Male</td><td>9</td><td>2024-08-08 00:21:00</td><td>2024-08-08 01:35:00</td><td>1.72308e+12</td><td>1.72308e+12</td><td>74</td></tr>\n",
       "\t<tr><td>Pro</td><td>TRUE</td><td>f6daba428a5e19a3d47574858c13550499be23603422e6a0ee9728f8b53e192d</td><td>30.3</td><td>Morgan</td><td>Male</td><td>9</td><td>2024-09-09 22:30:00</td><td>2024-09-09 22:37:00</td><td>1.72592e+12</td><td>1.72592e+12</td><td> 7</td></tr>\n",
       "\t<tr><td>Pro</td><td>TRUE</td><td>f6daba428a5e19a3d47574858c13550499be23603422e6a0ee9728f8b53e192d</td><td>30.3</td><td>Morgan</td><td>Male</td><td>9</td><td>2024-08-08 02:41:00</td><td>2024-08-08 03:25:00</td><td>1.72308e+12</td><td>1.72309e+12</td><td>44</td></tr>\n",
       "\t<tr><td>⋮</td><td>⋮</td><td>⋮</td><td>⋮</td><td>⋮</td><td>⋮</td><td>⋮</td><td>⋮</td><td>⋮</td><td>⋮</td><td>⋮</td><td>⋮</td></tr>\n",
       "\t<tr><td>Amateur</td><td>FALSE</td><td>f19e136ddde68f365afc860c725ccff54307dedd13968e896a9f890c40aea436</td><td>2.3</td><td>Harlow</td><td>Male </td><td>17</td><td>2024-08-23 21:39:00</td><td>2024-08-23 21:53:00</td><td>1.72445e+12</td><td>1.72445e+12</td><td>14</td></tr>\n",
       "\t<tr><td>Amateur</td><td>FALSE</td><td>f19e136ddde68f365afc860c725ccff54307dedd13968e896a9f890c40aea436</td><td>2.3</td><td>Harlow</td><td>Male </td><td>17</td><td>2024-09-08 19:40:00</td><td>2024-09-08 19:45:00</td><td>1.72582e+12</td><td>1.72582e+12</td><td> 5</td></tr>\n",
       "\t<tr><td>Pro    </td><td> TRUE</td><td>d9473710057f7d42f36570f0be83817a4eea614029ff90cf50d8889cdd729d11</td><td>0.2</td><td>Ahmed </td><td>Other</td><td>NA</td><td>2024-05-08 19:29:00</td><td>2024-05-08 19:44:00</td><td>1.71520e+12</td><td>1.71520e+12</td><td>15</td></tr>\n",
       "</tbody>\n",
       "</table>\n"
      ],
      "text/latex": [
       "A tibble: 1535 × 12\n",
       "\\begin{tabular}{llllllllllll}\n",
       " experience & subscribe & hashedEmail & played\\_hours & name & gender & Age & start\\_time & end\\_time & original\\_start\\_time & original\\_end\\_time & session\\_length\\_min\\\\\n",
       " <chr> & <lgl> & <chr> & <dbl> & <chr> & <chr> & <dbl> & <dttm> & <dttm> & <dbl> & <dbl> & <dbl>\\\\\n",
       "\\hline\n",
       "\t Pro & TRUE & f6daba428a5e19a3d47574858c13550499be23603422e6a0ee9728f8b53e192d & 30.3 & Morgan & Male & 9 & 2024-08-08 00:21:00 & 2024-08-08 01:35:00 & 1.72308e+12 & 1.72308e+12 & 74\\\\\n",
       "\t Pro & TRUE & f6daba428a5e19a3d47574858c13550499be23603422e6a0ee9728f8b53e192d & 30.3 & Morgan & Male & 9 & 2024-09-09 22:30:00 & 2024-09-09 22:37:00 & 1.72592e+12 & 1.72592e+12 &  7\\\\\n",
       "\t Pro & TRUE & f6daba428a5e19a3d47574858c13550499be23603422e6a0ee9728f8b53e192d & 30.3 & Morgan & Male & 9 & 2024-08-08 02:41:00 & 2024-08-08 03:25:00 & 1.72308e+12 & 1.72309e+12 & 44\\\\\n",
       "\t ⋮ & ⋮ & ⋮ & ⋮ & ⋮ & ⋮ & ⋮ & ⋮ & ⋮ & ⋮ & ⋮ & ⋮\\\\\n",
       "\t Amateur & FALSE & f19e136ddde68f365afc860c725ccff54307dedd13968e896a9f890c40aea436 & 2.3 & Harlow & Male  & 17 & 2024-08-23 21:39:00 & 2024-08-23 21:53:00 & 1.72445e+12 & 1.72445e+12 & 14\\\\\n",
       "\t Amateur & FALSE & f19e136ddde68f365afc860c725ccff54307dedd13968e896a9f890c40aea436 & 2.3 & Harlow & Male  & 17 & 2024-09-08 19:40:00 & 2024-09-08 19:45:00 & 1.72582e+12 & 1.72582e+12 &  5\\\\\n",
       "\t Pro     &  TRUE & d9473710057f7d42f36570f0be83817a4eea614029ff90cf50d8889cdd729d11 & 0.2 & Ahmed  & Other & NA & 2024-05-08 19:29:00 & 2024-05-08 19:44:00 & 1.71520e+12 & 1.71520e+12 & 15\\\\\n",
       "\\end{tabular}\n"
      ],
      "text/markdown": [
       "\n",
       "A tibble: 1535 × 12\n",
       "\n",
       "| experience &lt;chr&gt; | subscribe &lt;lgl&gt; | hashedEmail &lt;chr&gt; | played_hours &lt;dbl&gt; | name &lt;chr&gt; | gender &lt;chr&gt; | Age &lt;dbl&gt; | start_time &lt;dttm&gt; | end_time &lt;dttm&gt; | original_start_time &lt;dbl&gt; | original_end_time &lt;dbl&gt; | session_length_min &lt;dbl&gt; |\n",
       "|---|---|---|---|---|---|---|---|---|---|---|---|\n",
       "| Pro | TRUE | f6daba428a5e19a3d47574858c13550499be23603422e6a0ee9728f8b53e192d | 30.3 | Morgan | Male | 9 | 2024-08-08 00:21:00 | 2024-08-08 01:35:00 | 1.72308e+12 | 1.72308e+12 | 74 |\n",
       "| Pro | TRUE | f6daba428a5e19a3d47574858c13550499be23603422e6a0ee9728f8b53e192d | 30.3 | Morgan | Male | 9 | 2024-09-09 22:30:00 | 2024-09-09 22:37:00 | 1.72592e+12 | 1.72592e+12 |  7 |\n",
       "| Pro | TRUE | f6daba428a5e19a3d47574858c13550499be23603422e6a0ee9728f8b53e192d | 30.3 | Morgan | Male | 9 | 2024-08-08 02:41:00 | 2024-08-08 03:25:00 | 1.72308e+12 | 1.72309e+12 | 44 |\n",
       "| ⋮ | ⋮ | ⋮ | ⋮ | ⋮ | ⋮ | ⋮ | ⋮ | ⋮ | ⋮ | ⋮ | ⋮ |\n",
       "| Amateur | FALSE | f19e136ddde68f365afc860c725ccff54307dedd13968e896a9f890c40aea436 | 2.3 | Harlow | Male  | 17 | 2024-08-23 21:39:00 | 2024-08-23 21:53:00 | 1.72445e+12 | 1.72445e+12 | 14 |\n",
       "| Amateur | FALSE | f19e136ddde68f365afc860c725ccff54307dedd13968e896a9f890c40aea436 | 2.3 | Harlow | Male  | 17 | 2024-09-08 19:40:00 | 2024-09-08 19:45:00 | 1.72582e+12 | 1.72582e+12 |  5 |\n",
       "| Pro     |  TRUE | d9473710057f7d42f36570f0be83817a4eea614029ff90cf50d8889cdd729d11 | 0.2 | Ahmed  | Other | NA | 2024-05-08 19:29:00 | 2024-05-08 19:44:00 | 1.71520e+12 | 1.71520e+12 | 15 |\n",
       "\n"
      ],
      "text/plain": [
       "     experience subscribe\n",
       "1    Pro        TRUE     \n",
       "2    Pro        TRUE     \n",
       "3    Pro        TRUE     \n",
       "⋮    ⋮          ⋮        \n",
       "1533 Amateur    FALSE    \n",
       "1534 Amateur    FALSE    \n",
       "1535 Pro         TRUE    \n",
       "     hashedEmail                                                     \n",
       "1    f6daba428a5e19a3d47574858c13550499be23603422e6a0ee9728f8b53e192d\n",
       "2    f6daba428a5e19a3d47574858c13550499be23603422e6a0ee9728f8b53e192d\n",
       "3    f6daba428a5e19a3d47574858c13550499be23603422e6a0ee9728f8b53e192d\n",
       "⋮    ⋮                                                               \n",
       "1533 f19e136ddde68f365afc860c725ccff54307dedd13968e896a9f890c40aea436\n",
       "1534 f19e136ddde68f365afc860c725ccff54307dedd13968e896a9f890c40aea436\n",
       "1535 d9473710057f7d42f36570f0be83817a4eea614029ff90cf50d8889cdd729d11\n",
       "     played_hours name   gender Age start_time          end_time           \n",
       "1    30.3         Morgan Male   9   2024-08-08 00:21:00 2024-08-08 01:35:00\n",
       "2    30.3         Morgan Male   9   2024-09-09 22:30:00 2024-09-09 22:37:00\n",
       "3    30.3         Morgan Male   9   2024-08-08 02:41:00 2024-08-08 03:25:00\n",
       "⋮    ⋮            ⋮      ⋮      ⋮   ⋮                   ⋮                  \n",
       "1533 2.3          Harlow Male   17  2024-08-23 21:39:00 2024-08-23 21:53:00\n",
       "1534 2.3          Harlow Male   17  2024-09-08 19:40:00 2024-09-08 19:45:00\n",
       "1535 0.2          Ahmed  Other  NA  2024-05-08 19:29:00 2024-05-08 19:44:00\n",
       "     original_start_time original_end_time session_length_min\n",
       "1    1.72308e+12         1.72308e+12       74                \n",
       "2    1.72592e+12         1.72592e+12        7                \n",
       "3    1.72308e+12         1.72309e+12       44                \n",
       "⋮    ⋮                   ⋮                 ⋮                 \n",
       "1533 1.72445e+12         1.72445e+12       14                \n",
       "1534 1.72582e+12         1.72582e+12        5                \n",
       "1535 1.71520e+12         1.71520e+12       15                "
      ]
     },
     "metadata": {},
     "output_type": "display_data"
    }
   ],
   "source": [
    "merged_data_1 <-  merged_data |>\n",
    "  mutate(\n",
    "    start_time = dmy_hm(start_time),\n",
    "    end_time = dmy_hm(end_time),\n",
    "    session_length_min = as.numeric(difftime(end_time, start_time, units = \"mins\"))   \n",
    "  )\n",
    "merged_data_1"
   ]
  },
  {
   "cell_type": "code",
   "execution_count": null,
   "id": "805d01df-7a2a-4b95-88d0-9734e2c7e6bf",
   "metadata": {},
   "outputs": [],
   "source": [
    "text"
   ]
  },
  {
   "cell_type": "code",
   "execution_count": 69,
   "id": "a4734980-59d7-492e-9cd2-27392163c124",
   "metadata": {},
   "outputs": [
    {
     "data": {
      "text/html": [
       "<table class=\"dataframe\">\n",
       "<caption>A tibble: 125 × 3</caption>\n",
       "<thead>\n",
       "\t<tr><th scope=col>hashedEmail</th><th scope=col>avg_session_length_min</th><th scope=col>num_sessions</th></tr>\n",
       "\t<tr><th scope=col>&lt;chr&gt;</th><th scope=col>&lt;dbl&gt;</th><th scope=col>&lt;int&gt;</th></tr>\n",
       "</thead>\n",
       "<tbody>\n",
       "\t<tr><td>0088b5e134c3f0498a18c7ea6b8d77b4b0ff1636fc93355ccc95b45423367832</td><td>53</td><td>2</td></tr>\n",
       "\t<tr><td>060aca80f8cfbf1c91553a72f4d5ec8034764b05ab59fe8e1cf0eee9a7b67967</td><td>30</td><td>1</td></tr>\n",
       "\t<tr><td>0ce7bfa910d47fc91f21a7b3acd8f33bde6db57912ce0290fa0437ce0b97f387</td><td>11</td><td>1</td></tr>\n",
       "\t<tr><td>⋮</td><td>⋮</td><td>⋮</td></tr>\n",
       "\t<tr><td>fd6563a4e0f6f4273580e5fedbd8dda64990447aea5a33cbb5e894a3867ca44d</td><td>15.46774</td><td>310</td></tr>\n",
       "\t<tr><td>fe218a05c6c3fc6326f4f151e8cb75a2a9fa29e22b110d4c311fb58fb211f471</td><td> 9.00000</td><td>  1</td></tr>\n",
       "\t<tr><td>fef4e1bed8c3f6dcd7bcd39ab21bd402386155b2ff8c8e53683e1d2793bf1ed1</td><td>72.00000</td><td>  1</td></tr>\n",
       "</tbody>\n",
       "</table>\n"
      ],
      "text/latex": [
       "A tibble: 125 × 3\n",
       "\\begin{tabular}{lll}\n",
       " hashedEmail & avg\\_session\\_length\\_min & num\\_sessions\\\\\n",
       " <chr> & <dbl> & <int>\\\\\n",
       "\\hline\n",
       "\t 0088b5e134c3f0498a18c7ea6b8d77b4b0ff1636fc93355ccc95b45423367832 & 53 & 2\\\\\n",
       "\t 060aca80f8cfbf1c91553a72f4d5ec8034764b05ab59fe8e1cf0eee9a7b67967 & 30 & 1\\\\\n",
       "\t 0ce7bfa910d47fc91f21a7b3acd8f33bde6db57912ce0290fa0437ce0b97f387 & 11 & 1\\\\\n",
       "\t ⋮ & ⋮ & ⋮\\\\\n",
       "\t fd6563a4e0f6f4273580e5fedbd8dda64990447aea5a33cbb5e894a3867ca44d & 15.46774 & 310\\\\\n",
       "\t fe218a05c6c3fc6326f4f151e8cb75a2a9fa29e22b110d4c311fb58fb211f471 &  9.00000 &   1\\\\\n",
       "\t fef4e1bed8c3f6dcd7bcd39ab21bd402386155b2ff8c8e53683e1d2793bf1ed1 & 72.00000 &   1\\\\\n",
       "\\end{tabular}\n"
      ],
      "text/markdown": [
       "\n",
       "A tibble: 125 × 3\n",
       "\n",
       "| hashedEmail &lt;chr&gt; | avg_session_length_min &lt;dbl&gt; | num_sessions &lt;int&gt; |\n",
       "|---|---|---|\n",
       "| 0088b5e134c3f0498a18c7ea6b8d77b4b0ff1636fc93355ccc95b45423367832 | 53 | 2 |\n",
       "| 060aca80f8cfbf1c91553a72f4d5ec8034764b05ab59fe8e1cf0eee9a7b67967 | 30 | 1 |\n",
       "| 0ce7bfa910d47fc91f21a7b3acd8f33bde6db57912ce0290fa0437ce0b97f387 | 11 | 1 |\n",
       "| ⋮ | ⋮ | ⋮ |\n",
       "| fd6563a4e0f6f4273580e5fedbd8dda64990447aea5a33cbb5e894a3867ca44d | 15.46774 | 310 |\n",
       "| fe218a05c6c3fc6326f4f151e8cb75a2a9fa29e22b110d4c311fb58fb211f471 |  9.00000 |   1 |\n",
       "| fef4e1bed8c3f6dcd7bcd39ab21bd402386155b2ff8c8e53683e1d2793bf1ed1 | 72.00000 |   1 |\n",
       "\n"
      ],
      "text/plain": [
       "    hashedEmail                                                     \n",
       "1   0088b5e134c3f0498a18c7ea6b8d77b4b0ff1636fc93355ccc95b45423367832\n",
       "2   060aca80f8cfbf1c91553a72f4d5ec8034764b05ab59fe8e1cf0eee9a7b67967\n",
       "3   0ce7bfa910d47fc91f21a7b3acd8f33bde6db57912ce0290fa0437ce0b97f387\n",
       "⋮   ⋮                                                               \n",
       "123 fd6563a4e0f6f4273580e5fedbd8dda64990447aea5a33cbb5e894a3867ca44d\n",
       "124 fe218a05c6c3fc6326f4f151e8cb75a2a9fa29e22b110d4c311fb58fb211f471\n",
       "125 fef4e1bed8c3f6dcd7bcd39ab21bd402386155b2ff8c8e53683e1d2793bf1ed1\n",
       "    avg_session_length_min num_sessions\n",
       "1   53                     2           \n",
       "2   30                     1           \n",
       "3   11                     1           \n",
       "⋮   ⋮                      ⋮           \n",
       "123 15.46774               310         \n",
       "124  9.00000                 1         \n",
       "125 72.00000                 1         "
      ]
     },
     "metadata": {},
     "output_type": "display_data"
    },
    {
     "data": {
      "text/html": [
       "<table class=\"dataframe\">\n",
       "<caption>A spec_tbl_df: 125 × 9</caption>\n",
       "<thead>\n",
       "\t<tr><th scope=col>experience</th><th scope=col>subscribe</th><th scope=col>hashedEmail</th><th scope=col>played_hours</th><th scope=col>name</th><th scope=col>gender</th><th scope=col>Age</th><th scope=col>avg_session_length_min</th><th scope=col>num_sessions</th></tr>\n",
       "\t<tr><th scope=col>&lt;chr&gt;</th><th scope=col>&lt;lgl&gt;</th><th scope=col>&lt;chr&gt;</th><th scope=col>&lt;dbl&gt;</th><th scope=col>&lt;chr&gt;</th><th scope=col>&lt;chr&gt;</th><th scope=col>&lt;dbl&gt;</th><th scope=col>&lt;dbl&gt;</th><th scope=col>&lt;int&gt;</th></tr>\n",
       "</thead>\n",
       "<tbody>\n",
       "\t<tr><td>Pro    </td><td> TRUE</td><td>f6daba428a5e19a3d47574858c13550499be23603422e6a0ee9728f8b53e192d</td><td>30.3</td><td>Morgan   </td><td>Male</td><td> 9</td><td>74.77778</td><td>27</td></tr>\n",
       "\t<tr><td>Veteran</td><td> TRUE</td><td>f3c813577c458ba0dfef80996f8f32c93b6e8af1fa939732842f2312358a88e9</td><td> 3.8</td><td>Christian</td><td>Male</td><td>17</td><td>85.00000</td><td> 3</td></tr>\n",
       "\t<tr><td>Veteran</td><td>FALSE</td><td>b674dd7ee0d24096d1c019615ce4d12b20fcbff12d79d3c5a9d2118eb7ccbb28</td><td> 0.0</td><td>Blake    </td><td>Male</td><td>17</td><td> 5.00000</td><td> 1</td></tr>\n",
       "\t<tr><td>⋮</td><td>⋮</td><td>⋮</td><td>⋮</td><td>⋮</td><td>⋮</td><td>⋮</td><td>⋮</td><td>⋮</td></tr>\n",
       "\t<tr><td>Amateur</td><td>FALSE</td><td>d572f391d452b76ea2d7e5e53a3d38bfd7499c7399db299bd4fedb06a46ad5bb</td><td>0.0</td><td>Dylan </td><td>Prefer not to say</td><td>17</td><td> 5.00000</td><td>1</td></tr>\n",
       "\t<tr><td>Amateur</td><td>FALSE</td><td>f19e136ddde68f365afc860c725ccff54307dedd13968e896a9f890c40aea436</td><td>2.3</td><td>Harlow</td><td>Male             </td><td>17</td><td>29.83333</td><td>6</td></tr>\n",
       "\t<tr><td>Pro    </td><td> TRUE</td><td>d9473710057f7d42f36570f0be83817a4eea614029ff90cf50d8889cdd729d11</td><td>0.2</td><td>Ahmed </td><td>Other            </td><td>NA</td><td>15.00000</td><td>1</td></tr>\n",
       "</tbody>\n",
       "</table>\n"
      ],
      "text/latex": [
       "A spec\\_tbl\\_df: 125 × 9\n",
       "\\begin{tabular}{lllllllll}\n",
       " experience & subscribe & hashedEmail & played\\_hours & name & gender & Age & avg\\_session\\_length\\_min & num\\_sessions\\\\\n",
       " <chr> & <lgl> & <chr> & <dbl> & <chr> & <chr> & <dbl> & <dbl> & <int>\\\\\n",
       "\\hline\n",
       "\t Pro     &  TRUE & f6daba428a5e19a3d47574858c13550499be23603422e6a0ee9728f8b53e192d & 30.3 & Morgan    & Male &  9 & 74.77778 & 27\\\\\n",
       "\t Veteran &  TRUE & f3c813577c458ba0dfef80996f8f32c93b6e8af1fa939732842f2312358a88e9 &  3.8 & Christian & Male & 17 & 85.00000 &  3\\\\\n",
       "\t Veteran & FALSE & b674dd7ee0d24096d1c019615ce4d12b20fcbff12d79d3c5a9d2118eb7ccbb28 &  0.0 & Blake     & Male & 17 &  5.00000 &  1\\\\\n",
       "\t ⋮ & ⋮ & ⋮ & ⋮ & ⋮ & ⋮ & ⋮ & ⋮ & ⋮\\\\\n",
       "\t Amateur & FALSE & d572f391d452b76ea2d7e5e53a3d38bfd7499c7399db299bd4fedb06a46ad5bb & 0.0 & Dylan  & Prefer not to say & 17 &  5.00000 & 1\\\\\n",
       "\t Amateur & FALSE & f19e136ddde68f365afc860c725ccff54307dedd13968e896a9f890c40aea436 & 2.3 & Harlow & Male              & 17 & 29.83333 & 6\\\\\n",
       "\t Pro     &  TRUE & d9473710057f7d42f36570f0be83817a4eea614029ff90cf50d8889cdd729d11 & 0.2 & Ahmed  & Other             & NA & 15.00000 & 1\\\\\n",
       "\\end{tabular}\n"
      ],
      "text/markdown": [
       "\n",
       "A spec_tbl_df: 125 × 9\n",
       "\n",
       "| experience &lt;chr&gt; | subscribe &lt;lgl&gt; | hashedEmail &lt;chr&gt; | played_hours &lt;dbl&gt; | name &lt;chr&gt; | gender &lt;chr&gt; | Age &lt;dbl&gt; | avg_session_length_min &lt;dbl&gt; | num_sessions &lt;int&gt; |\n",
       "|---|---|---|---|---|---|---|---|---|\n",
       "| Pro     |  TRUE | f6daba428a5e19a3d47574858c13550499be23603422e6a0ee9728f8b53e192d | 30.3 | Morgan    | Male |  9 | 74.77778 | 27 |\n",
       "| Veteran |  TRUE | f3c813577c458ba0dfef80996f8f32c93b6e8af1fa939732842f2312358a88e9 |  3.8 | Christian | Male | 17 | 85.00000 |  3 |\n",
       "| Veteran | FALSE | b674dd7ee0d24096d1c019615ce4d12b20fcbff12d79d3c5a9d2118eb7ccbb28 |  0.0 | Blake     | Male | 17 |  5.00000 |  1 |\n",
       "| ⋮ | ⋮ | ⋮ | ⋮ | ⋮ | ⋮ | ⋮ | ⋮ | ⋮ |\n",
       "| Amateur | FALSE | d572f391d452b76ea2d7e5e53a3d38bfd7499c7399db299bd4fedb06a46ad5bb | 0.0 | Dylan  | Prefer not to say | 17 |  5.00000 | 1 |\n",
       "| Amateur | FALSE | f19e136ddde68f365afc860c725ccff54307dedd13968e896a9f890c40aea436 | 2.3 | Harlow | Male              | 17 | 29.83333 | 6 |\n",
       "| Pro     |  TRUE | d9473710057f7d42f36570f0be83817a4eea614029ff90cf50d8889cdd729d11 | 0.2 | Ahmed  | Other             | NA | 15.00000 | 1 |\n",
       "\n"
      ],
      "text/plain": [
       "    experience subscribe\n",
       "1   Pro         TRUE    \n",
       "2   Veteran     TRUE    \n",
       "3   Veteran    FALSE    \n",
       "⋮   ⋮          ⋮        \n",
       "123 Amateur    FALSE    \n",
       "124 Amateur    FALSE    \n",
       "125 Pro         TRUE    \n",
       "    hashedEmail                                                     \n",
       "1   f6daba428a5e19a3d47574858c13550499be23603422e6a0ee9728f8b53e192d\n",
       "2   f3c813577c458ba0dfef80996f8f32c93b6e8af1fa939732842f2312358a88e9\n",
       "3   b674dd7ee0d24096d1c019615ce4d12b20fcbff12d79d3c5a9d2118eb7ccbb28\n",
       "⋮   ⋮                                                               \n",
       "123 d572f391d452b76ea2d7e5e53a3d38bfd7499c7399db299bd4fedb06a46ad5bb\n",
       "124 f19e136ddde68f365afc860c725ccff54307dedd13968e896a9f890c40aea436\n",
       "125 d9473710057f7d42f36570f0be83817a4eea614029ff90cf50d8889cdd729d11\n",
       "    played_hours name      gender            Age avg_session_length_min\n",
       "1   30.3         Morgan    Male               9  74.77778              \n",
       "2    3.8         Christian Male              17  85.00000              \n",
       "3    0.0         Blake     Male              17   5.00000              \n",
       "⋮   ⋮            ⋮         ⋮                 ⋮   ⋮                     \n",
       "123 0.0          Dylan     Prefer not to say 17   5.00000              \n",
       "124 2.3          Harlow    Male              17  29.83333              \n",
       "125 0.2          Ahmed     Other             NA  15.00000              \n",
       "    num_sessions\n",
       "1   27          \n",
       "2    3          \n",
       "3    1          \n",
       "⋮   ⋮           \n",
       "123 1           \n",
       "124 6           \n",
       "125 1           "
      ]
     },
     "metadata": {},
     "output_type": "display_data"
    }
   ],
   "source": [
    "# Aggregate session info per player\n",
    "session_summary <- merged_data_1 |>\n",
    "  group_by(hashedEmail) |>\n",
    "  summarize(avg_session_length_min = mean(session_length_min, na.rm = TRUE), \n",
    "  num_sessions = n()\n",
    "  )\n",
    "session_summary\n",
    "\n",
    "\n",
    "# Merge session summary back to player-level data\n",
    "player_data <- inner_join(players, session_summary, by = \"hashedEmail\")\n",
    "player_data"
   ]
  },
  {
   "cell_type": "markdown",
   "id": "7959c7c5-2165-433d-bb7c-e3d4dccee26b",
   "metadata": {},
   "source": [
    "text"
   ]
  },
  {
   "cell_type": "code",
   "execution_count": 70,
   "id": "b235c181-e72e-428e-a43e-49730559d38a",
   "metadata": {},
   "outputs": [
    {
     "data": {
      "text/html": [
       "<table class=\"dataframe\">\n",
       "<caption>A tibble: 123 × 7</caption>\n",
       "<thead>\n",
       "\t<tr><th scope=col>subscribe</th><th scope=col>experience</th><th scope=col>played_hours</th><th scope=col>Age</th><th scope=col>gender</th><th scope=col>avg_session_length_min</th><th scope=col>num_sessions</th></tr>\n",
       "\t<tr><th scope=col>&lt;lgl&gt;</th><th scope=col>&lt;chr&gt;</th><th scope=col>&lt;dbl&gt;</th><th scope=col>&lt;dbl&gt;</th><th scope=col>&lt;chr&gt;</th><th scope=col>&lt;dbl&gt;</th><th scope=col>&lt;int&gt;</th></tr>\n",
       "</thead>\n",
       "<tbody>\n",
       "\t<tr><td> TRUE</td><td>Pro    </td><td>30.3</td><td> 9</td><td>Male</td><td>74.77778</td><td>27</td></tr>\n",
       "\t<tr><td> TRUE</td><td>Veteran</td><td> 3.8</td><td>17</td><td>Male</td><td>85.00000</td><td> 3</td></tr>\n",
       "\t<tr><td>FALSE</td><td>Veteran</td><td> 0.0</td><td>17</td><td>Male</td><td> 5.00000</td><td> 1</td></tr>\n",
       "\t<tr><td>⋮</td><td>⋮</td><td>⋮</td><td>⋮</td><td>⋮</td><td>⋮</td><td>⋮</td></tr>\n",
       "\t<tr><td>FALSE</td><td>Veteran</td><td>0.3</td><td>22</td><td>Male             </td><td>21.00000</td><td>1</td></tr>\n",
       "\t<tr><td>FALSE</td><td>Amateur</td><td>0.0</td><td>17</td><td>Prefer not to say</td><td> 5.00000</td><td>1</td></tr>\n",
       "\t<tr><td>FALSE</td><td>Amateur</td><td>2.3</td><td>17</td><td>Male             </td><td>29.83333</td><td>6</td></tr>\n",
       "</tbody>\n",
       "</table>\n"
      ],
      "text/latex": [
       "A tibble: 123 × 7\n",
       "\\begin{tabular}{lllllll}\n",
       " subscribe & experience & played\\_hours & Age & gender & avg\\_session\\_length\\_min & num\\_sessions\\\\\n",
       " <lgl> & <chr> & <dbl> & <dbl> & <chr> & <dbl> & <int>\\\\\n",
       "\\hline\n",
       "\t  TRUE & Pro     & 30.3 &  9 & Male & 74.77778 & 27\\\\\n",
       "\t  TRUE & Veteran &  3.8 & 17 & Male & 85.00000 &  3\\\\\n",
       "\t FALSE & Veteran &  0.0 & 17 & Male &  5.00000 &  1\\\\\n",
       "\t ⋮ & ⋮ & ⋮ & ⋮ & ⋮ & ⋮ & ⋮\\\\\n",
       "\t FALSE & Veteran & 0.3 & 22 & Male              & 21.00000 & 1\\\\\n",
       "\t FALSE & Amateur & 0.0 & 17 & Prefer not to say &  5.00000 & 1\\\\\n",
       "\t FALSE & Amateur & 2.3 & 17 & Male              & 29.83333 & 6\\\\\n",
       "\\end{tabular}\n"
      ],
      "text/markdown": [
       "\n",
       "A tibble: 123 × 7\n",
       "\n",
       "| subscribe &lt;lgl&gt; | experience &lt;chr&gt; | played_hours &lt;dbl&gt; | Age &lt;dbl&gt; | gender &lt;chr&gt; | avg_session_length_min &lt;dbl&gt; | num_sessions &lt;int&gt; |\n",
       "|---|---|---|---|---|---|---|\n",
       "|  TRUE | Pro     | 30.3 |  9 | Male | 74.77778 | 27 |\n",
       "|  TRUE | Veteran |  3.8 | 17 | Male | 85.00000 |  3 |\n",
       "| FALSE | Veteran |  0.0 | 17 | Male |  5.00000 |  1 |\n",
       "| ⋮ | ⋮ | ⋮ | ⋮ | ⋮ | ⋮ | ⋮ |\n",
       "| FALSE | Veteran | 0.3 | 22 | Male              | 21.00000 | 1 |\n",
       "| FALSE | Amateur | 0.0 | 17 | Prefer not to say |  5.00000 | 1 |\n",
       "| FALSE | Amateur | 2.3 | 17 | Male              | 29.83333 | 6 |\n",
       "\n"
      ],
      "text/plain": [
       "    subscribe experience played_hours Age gender           \n",
       "1    TRUE     Pro        30.3          9  Male             \n",
       "2    TRUE     Veteran     3.8         17  Male             \n",
       "3   FALSE     Veteran     0.0         17  Male             \n",
       "⋮   ⋮         ⋮          ⋮            ⋮   ⋮                \n",
       "121 FALSE     Veteran    0.3          22  Male             \n",
       "122 FALSE     Amateur    0.0          17  Prefer not to say\n",
       "123 FALSE     Amateur    2.3          17  Male             \n",
       "    avg_session_length_min num_sessions\n",
       "1   74.77778               27          \n",
       "2   85.00000                3          \n",
       "3    5.00000                1          \n",
       "⋮   ⋮                      ⋮           \n",
       "121 21.00000               1           \n",
       "122  5.00000               1           \n",
       "123 29.83333               6           "
      ]
     },
     "metadata": {},
     "output_type": "display_data"
    }
   ],
   "source": [
    "model_data <- player_data |>\n",
    "  select(subscribe, experience, played_hours, Age, gender, avg_session_length_min, num_sessions) |>\n",
    "  drop_na()\n",
    "model_data"
   ]
  },
  {
   "cell_type": "markdown",
   "id": "5add6f79-c86d-4a1a-8f7b-0806d9bf52b1",
   "metadata": {},
   "source": [
    "text"
   ]
  },
  {
   "cell_type": "code",
   "execution_count": 71,
   "id": "34c791d7-3e0a-4304-974b-4b3eaf49d575",
   "metadata": {},
   "outputs": [
    {
     "data": {
      "text/html": [
       "<table class=\"dataframe\">\n",
       "<caption>A tibble: 123 × 7</caption>\n",
       "<thead>\n",
       "\t<tr><th scope=col>subscribe</th><th scope=col>experience</th><th scope=col>played_hours</th><th scope=col>Age</th><th scope=col>gender</th><th scope=col>avg_session_length_min</th><th scope=col>num_sessions</th></tr>\n",
       "\t<tr><th scope=col>&lt;fct&gt;</th><th scope=col>&lt;chr&gt;</th><th scope=col>&lt;dbl&gt;</th><th scope=col>&lt;dbl&gt;</th><th scope=col>&lt;chr&gt;</th><th scope=col>&lt;dbl&gt;</th><th scope=col>&lt;int&gt;</th></tr>\n",
       "</thead>\n",
       "<tbody>\n",
       "\t<tr><td>TRUE </td><td>Pro    </td><td>30.3</td><td> 9</td><td>Male</td><td>74.77778</td><td>27</td></tr>\n",
       "\t<tr><td>TRUE </td><td>Veteran</td><td> 3.8</td><td>17</td><td>Male</td><td>85.00000</td><td> 3</td></tr>\n",
       "\t<tr><td>FALSE</td><td>Veteran</td><td> 0.0</td><td>17</td><td>Male</td><td> 5.00000</td><td> 1</td></tr>\n",
       "\t<tr><td>⋮</td><td>⋮</td><td>⋮</td><td>⋮</td><td>⋮</td><td>⋮</td><td>⋮</td></tr>\n",
       "\t<tr><td>FALSE</td><td>Veteran</td><td>0.3</td><td>22</td><td>Male             </td><td>21.00000</td><td>1</td></tr>\n",
       "\t<tr><td>FALSE</td><td>Amateur</td><td>0.0</td><td>17</td><td>Prefer not to say</td><td> 5.00000</td><td>1</td></tr>\n",
       "\t<tr><td>FALSE</td><td>Amateur</td><td>2.3</td><td>17</td><td>Male             </td><td>29.83333</td><td>6</td></tr>\n",
       "</tbody>\n",
       "</table>\n"
      ],
      "text/latex": [
       "A tibble: 123 × 7\n",
       "\\begin{tabular}{lllllll}\n",
       " subscribe & experience & played\\_hours & Age & gender & avg\\_session\\_length\\_min & num\\_sessions\\\\\n",
       " <fct> & <chr> & <dbl> & <dbl> & <chr> & <dbl> & <int>\\\\\n",
       "\\hline\n",
       "\t TRUE  & Pro     & 30.3 &  9 & Male & 74.77778 & 27\\\\\n",
       "\t TRUE  & Veteran &  3.8 & 17 & Male & 85.00000 &  3\\\\\n",
       "\t FALSE & Veteran &  0.0 & 17 & Male &  5.00000 &  1\\\\\n",
       "\t ⋮ & ⋮ & ⋮ & ⋮ & ⋮ & ⋮ & ⋮\\\\\n",
       "\t FALSE & Veteran & 0.3 & 22 & Male              & 21.00000 & 1\\\\\n",
       "\t FALSE & Amateur & 0.0 & 17 & Prefer not to say &  5.00000 & 1\\\\\n",
       "\t FALSE & Amateur & 2.3 & 17 & Male              & 29.83333 & 6\\\\\n",
       "\\end{tabular}\n"
      ],
      "text/markdown": [
       "\n",
       "A tibble: 123 × 7\n",
       "\n",
       "| subscribe &lt;fct&gt; | experience &lt;chr&gt; | played_hours &lt;dbl&gt; | Age &lt;dbl&gt; | gender &lt;chr&gt; | avg_session_length_min &lt;dbl&gt; | num_sessions &lt;int&gt; |\n",
       "|---|---|---|---|---|---|---|\n",
       "| TRUE  | Pro     | 30.3 |  9 | Male | 74.77778 | 27 |\n",
       "| TRUE  | Veteran |  3.8 | 17 | Male | 85.00000 |  3 |\n",
       "| FALSE | Veteran |  0.0 | 17 | Male |  5.00000 |  1 |\n",
       "| ⋮ | ⋮ | ⋮ | ⋮ | ⋮ | ⋮ | ⋮ |\n",
       "| FALSE | Veteran | 0.3 | 22 | Male              | 21.00000 | 1 |\n",
       "| FALSE | Amateur | 0.0 | 17 | Prefer not to say |  5.00000 | 1 |\n",
       "| FALSE | Amateur | 2.3 | 17 | Male              | 29.83333 | 6 |\n",
       "\n"
      ],
      "text/plain": [
       "    subscribe experience played_hours Age gender           \n",
       "1   TRUE      Pro        30.3          9  Male             \n",
       "2   TRUE      Veteran     3.8         17  Male             \n",
       "3   FALSE     Veteran     0.0         17  Male             \n",
       "⋮   ⋮         ⋮          ⋮            ⋮   ⋮                \n",
       "121 FALSE     Veteran    0.3          22  Male             \n",
       "122 FALSE     Amateur    0.0          17  Prefer not to say\n",
       "123 FALSE     Amateur    2.3          17  Male             \n",
       "    avg_session_length_min num_sessions\n",
       "1   74.77778               27          \n",
       "2   85.00000                3          \n",
       "3    5.00000                1          \n",
       "⋮   ⋮                      ⋮           \n",
       "121 21.00000               1           \n",
       "122  5.00000               1           \n",
       "123 29.83333               6           "
      ]
     },
     "metadata": {},
     "output_type": "display_data"
    }
   ],
   "source": [
    "model_data <- model_data |>\n",
    "  mutate(subscribe = as.factor(subscribe))\n",
    "model_data"
   ]
  },
  {
   "cell_type": "code",
   "execution_count": null,
   "id": "f2d409af-e207-4ece-971f-8cc3bdbc420b",
   "metadata": {},
   "outputs": [],
   "source": [
    "text"
   ]
  },
  {
   "cell_type": "code",
   "execution_count": 72,
   "id": "86a33226-9583-4370-9e58-a42d32454560",
   "metadata": {},
   "outputs": [
    {
     "data": {
      "text/plain": [
       "<Training/Testing/Total>\n",
       "<92/31/123>"
      ]
     },
     "metadata": {},
     "output_type": "display_data"
    },
    {
     "data": {
      "text/html": [
       "<table class=\"dataframe\">\n",
       "<caption>A tibble: 92 × 7</caption>\n",
       "<thead>\n",
       "\t<tr><th scope=col>subscribe</th><th scope=col>experience</th><th scope=col>played_hours</th><th scope=col>Age</th><th scope=col>gender</th><th scope=col>avg_session_length_min</th><th scope=col>num_sessions</th></tr>\n",
       "\t<tr><th scope=col>&lt;fct&gt;</th><th scope=col>&lt;chr&gt;</th><th scope=col>&lt;dbl&gt;</th><th scope=col>&lt;dbl&gt;</th><th scope=col>&lt;chr&gt;</th><th scope=col>&lt;dbl&gt;</th><th scope=col>&lt;int&gt;</th></tr>\n",
       "</thead>\n",
       "<tbody>\n",
       "\t<tr><td>FALSE</td><td>Veteran</td><td>0.0</td><td>17</td><td>Male             </td><td> 5.00000</td><td>1</td></tr>\n",
       "\t<tr><td>FALSE</td><td>Amateur</td><td>0.0</td><td>21</td><td>Male             </td><td> 5.00000</td><td>1</td></tr>\n",
       "\t<tr><td>FALSE</td><td>Veteran</td><td>1.4</td><td>25</td><td>Prefer not to say</td><td>19.66667</td><td>6</td></tr>\n",
       "\t<tr><td>⋮</td><td>⋮</td><td>⋮</td><td>⋮</td><td>⋮</td><td>⋮</td><td>⋮</td></tr>\n",
       "\t<tr><td>TRUE</td><td>Amateur</td><td> 0.8</td><td>22</td><td>Female</td><td>55.00000</td><td> 1</td></tr>\n",
       "\t<tr><td>TRUE</td><td>Amateur</td><td>32.0</td><td>22</td><td>Male  </td><td>29.94937</td><td>79</td></tr>\n",
       "\t<tr><td>TRUE</td><td>Veteran</td><td> 0.1</td><td>44</td><td>Female</td><td>11.00000</td><td> 1</td></tr>\n",
       "</tbody>\n",
       "</table>\n"
      ],
      "text/latex": [
       "A tibble: 92 × 7\n",
       "\\begin{tabular}{lllllll}\n",
       " subscribe & experience & played\\_hours & Age & gender & avg\\_session\\_length\\_min & num\\_sessions\\\\\n",
       " <fct> & <chr> & <dbl> & <dbl> & <chr> & <dbl> & <int>\\\\\n",
       "\\hline\n",
       "\t FALSE & Veteran & 0.0 & 17 & Male              &  5.00000 & 1\\\\\n",
       "\t FALSE & Amateur & 0.0 & 21 & Male              &  5.00000 & 1\\\\\n",
       "\t FALSE & Veteran & 1.4 & 25 & Prefer not to say & 19.66667 & 6\\\\\n",
       "\t ⋮ & ⋮ & ⋮ & ⋮ & ⋮ & ⋮ & ⋮\\\\\n",
       "\t TRUE & Amateur &  0.8 & 22 & Female & 55.00000 &  1\\\\\n",
       "\t TRUE & Amateur & 32.0 & 22 & Male   & 29.94937 & 79\\\\\n",
       "\t TRUE & Veteran &  0.1 & 44 & Female & 11.00000 &  1\\\\\n",
       "\\end{tabular}\n"
      ],
      "text/markdown": [
       "\n",
       "A tibble: 92 × 7\n",
       "\n",
       "| subscribe &lt;fct&gt; | experience &lt;chr&gt; | played_hours &lt;dbl&gt; | Age &lt;dbl&gt; | gender &lt;chr&gt; | avg_session_length_min &lt;dbl&gt; | num_sessions &lt;int&gt; |\n",
       "|---|---|---|---|---|---|---|\n",
       "| FALSE | Veteran | 0.0 | 17 | Male              |  5.00000 | 1 |\n",
       "| FALSE | Amateur | 0.0 | 21 | Male              |  5.00000 | 1 |\n",
       "| FALSE | Veteran | 1.4 | 25 | Prefer not to say | 19.66667 | 6 |\n",
       "| ⋮ | ⋮ | ⋮ | ⋮ | ⋮ | ⋮ | ⋮ |\n",
       "| TRUE | Amateur |  0.8 | 22 | Female | 55.00000 |  1 |\n",
       "| TRUE | Amateur | 32.0 | 22 | Male   | 29.94937 | 79 |\n",
       "| TRUE | Veteran |  0.1 | 44 | Female | 11.00000 |  1 |\n",
       "\n"
      ],
      "text/plain": [
       "   subscribe experience played_hours Age gender           \n",
       "1  FALSE     Veteran    0.0          17  Male             \n",
       "2  FALSE     Amateur    0.0          21  Male             \n",
       "3  FALSE     Veteran    1.4          25  Prefer not to say\n",
       "⋮  ⋮         ⋮          ⋮            ⋮   ⋮                \n",
       "90 TRUE      Amateur     0.8         22  Female           \n",
       "91 TRUE      Amateur    32.0         22  Male             \n",
       "92 TRUE      Veteran     0.1         44  Female           \n",
       "   avg_session_length_min num_sessions\n",
       "1   5.00000               1           \n",
       "2   5.00000               1           \n",
       "3  19.66667               6           \n",
       "⋮  ⋮                      ⋮           \n",
       "90 55.00000                1          \n",
       "91 29.94937               79          \n",
       "92 11.00000                1          "
      ]
     },
     "metadata": {},
     "output_type": "display_data"
    },
    {
     "data": {
      "text/html": [
       "<table class=\"dataframe\">\n",
       "<caption>A tibble: 31 × 7</caption>\n",
       "<thead>\n",
       "\t<tr><th scope=col>subscribe</th><th scope=col>experience</th><th scope=col>played_hours</th><th scope=col>Age</th><th scope=col>gender</th><th scope=col>avg_session_length_min</th><th scope=col>num_sessions</th></tr>\n",
       "\t<tr><th scope=col>&lt;fct&gt;</th><th scope=col>&lt;chr&gt;</th><th scope=col>&lt;dbl&gt;</th><th scope=col>&lt;dbl&gt;</th><th scope=col>&lt;chr&gt;</th><th scope=col>&lt;dbl&gt;</th><th scope=col>&lt;int&gt;</th></tr>\n",
       "</thead>\n",
       "<tbody>\n",
       "\t<tr><td>TRUE</td><td>Pro    </td><td>30.3</td><td> 9</td><td>Male  </td><td>74.77778</td><td>27</td></tr>\n",
       "\t<tr><td>TRUE</td><td>Amateur</td><td> 0.7</td><td>21</td><td>Female</td><td>50.00000</td><td> 1</td></tr>\n",
       "\t<tr><td>TRUE</td><td>Amateur</td><td> 0.1</td><td>17</td><td>Male  </td><td>13.00000</td><td> 1</td></tr>\n",
       "\t<tr><td>⋮</td><td>⋮</td><td>⋮</td><td>⋮</td><td>⋮</td><td>⋮</td><td>⋮</td></tr>\n",
       "\t<tr><td>TRUE </td><td>Amateur</td><td>0.4</td><td>17</td><td>Two-Spirited</td><td> 33</td><td>1</td></tr>\n",
       "\t<tr><td>TRUE </td><td>Veteran</td><td>0.1</td><td>17</td><td>Non-binary  </td><td> 11</td><td>1</td></tr>\n",
       "\t<tr><td>FALSE</td><td>Amateur</td><td>2.1</td><td>24</td><td>Male        </td><td>136</td><td>1</td></tr>\n",
       "</tbody>\n",
       "</table>\n"
      ],
      "text/latex": [
       "A tibble: 31 × 7\n",
       "\\begin{tabular}{lllllll}\n",
       " subscribe & experience & played\\_hours & Age & gender & avg\\_session\\_length\\_min & num\\_sessions\\\\\n",
       " <fct> & <chr> & <dbl> & <dbl> & <chr> & <dbl> & <int>\\\\\n",
       "\\hline\n",
       "\t TRUE & Pro     & 30.3 &  9 & Male   & 74.77778 & 27\\\\\n",
       "\t TRUE & Amateur &  0.7 & 21 & Female & 50.00000 &  1\\\\\n",
       "\t TRUE & Amateur &  0.1 & 17 & Male   & 13.00000 &  1\\\\\n",
       "\t ⋮ & ⋮ & ⋮ & ⋮ & ⋮ & ⋮ & ⋮\\\\\n",
       "\t TRUE  & Amateur & 0.4 & 17 & Two-Spirited &  33 & 1\\\\\n",
       "\t TRUE  & Veteran & 0.1 & 17 & Non-binary   &  11 & 1\\\\\n",
       "\t FALSE & Amateur & 2.1 & 24 & Male         & 136 & 1\\\\\n",
       "\\end{tabular}\n"
      ],
      "text/markdown": [
       "\n",
       "A tibble: 31 × 7\n",
       "\n",
       "| subscribe &lt;fct&gt; | experience &lt;chr&gt; | played_hours &lt;dbl&gt; | Age &lt;dbl&gt; | gender &lt;chr&gt; | avg_session_length_min &lt;dbl&gt; | num_sessions &lt;int&gt; |\n",
       "|---|---|---|---|---|---|---|\n",
       "| TRUE | Pro     | 30.3 |  9 | Male   | 74.77778 | 27 |\n",
       "| TRUE | Amateur |  0.7 | 21 | Female | 50.00000 |  1 |\n",
       "| TRUE | Amateur |  0.1 | 17 | Male   | 13.00000 |  1 |\n",
       "| ⋮ | ⋮ | ⋮ | ⋮ | ⋮ | ⋮ | ⋮ |\n",
       "| TRUE  | Amateur | 0.4 | 17 | Two-Spirited |  33 | 1 |\n",
       "| TRUE  | Veteran | 0.1 | 17 | Non-binary   |  11 | 1 |\n",
       "| FALSE | Amateur | 2.1 | 24 | Male         | 136 | 1 |\n",
       "\n"
      ],
      "text/plain": [
       "   subscribe experience played_hours Age gender       avg_session_length_min\n",
       "1  TRUE      Pro        30.3          9  Male         74.77778              \n",
       "2  TRUE      Amateur     0.7         21  Female       50.00000              \n",
       "3  TRUE      Amateur     0.1         17  Male         13.00000              \n",
       "⋮  ⋮         ⋮          ⋮            ⋮   ⋮            ⋮                     \n",
       "29 TRUE      Amateur    0.4          17  Two-Spirited  33                   \n",
       "30 TRUE      Veteran    0.1          17  Non-binary    11                   \n",
       "31 FALSE     Amateur    2.1          24  Male         136                   \n",
       "   num_sessions\n",
       "1  27          \n",
       "2   1          \n",
       "3   1          \n",
       "⋮  ⋮           \n",
       "29 1           \n",
       "30 1           \n",
       "31 1           "
      ]
     },
     "metadata": {},
     "output_type": "display_data"
    }
   ],
   "source": [
    "model_split <- initial_split(model_data, prop = 0.75, strata = subscribe)\n",
    "model_split\n",
    "\n",
    "model_train <- training(model_split)\n",
    "model_train\n",
    "\n",
    "model_test <- testing(model_split)\n",
    "model_test"
   ]
  },
  {
   "cell_type": "code",
   "execution_count": null,
   "id": "e5ae538d-80dc-4d4e-9be5-2a32b5f7ae65",
   "metadata": {},
   "outputs": [],
   "source": [
    "text"
   ]
  },
  {
   "cell_type": "code",
   "execution_count": 73,
   "id": "1fa3872c-f86f-48f2-a322-b08a9351cbf7",
   "metadata": {},
   "outputs": [
    {
     "name": "stderr",
     "output_type": "stream",
     "text": [
      "\n",
      "\n",
      "\u001b[36m──\u001b[39m \u001b[1mRecipe\u001b[22m \u001b[36m──────────────────────────────────────────────────────────────────────\u001b[39m\n",
      "\n",
      "\n",
      "\n",
      "── Inputs \n",
      "\n",
      "Number of variables by role\n",
      "\n",
      "outcome:   1\n",
      "predictor: 6\n",
      "\n",
      "\n",
      "\n",
      "── Operations \n",
      "\n",
      "\u001b[36m•\u001b[39m Novel factor level assignment for: \u001b[34mall_nominal_predictors()\u001b[39m\n",
      "\n",
      "\u001b[36m•\u001b[39m Dummy variables from: \u001b[34mall_nominal_predictors()\u001b[39m\n",
      "\n",
      "\u001b[36m•\u001b[39m Zero variance filter on: \u001b[34mall_predictors()\u001b[39m\n",
      "\n",
      "\u001b[36m•\u001b[39m Centering and scaling for: \u001b[34mall_numeric_predictors()\u001b[39m\n",
      "\n"
     ]
    }
   ],
   "source": [
    "model_recipe <- recipe(subscribe ~ ., data = model_train) |>\n",
    "    step_novel(all_nominal_predictors()) |>\n",
    "    step_dummy(all_nominal_predictors()) |>\n",
    "    step_zv(all_predictors()) |> \n",
    "    step_normalize(all_numeric_predictors())\n",
    "model_recipe"
   ]
  },
  {
   "cell_type": "code",
   "execution_count": null,
   "id": "48aeb186-c531-40d1-9c9e-96ac03db13e6",
   "metadata": {},
   "outputs": [],
   "source": [
    "text"
   ]
  },
  {
   "cell_type": "code",
   "execution_count": 74,
   "id": "18552b86-06b1-4d35-a0d5-e1c5e9c0831c",
   "metadata": {},
   "outputs": [
    {
     "data": {
      "text/plain": [
       "K-Nearest Neighbor Model Specification (classification)\n",
       "\n",
       "Main Arguments:\n",
       "  neighbors = 5\n",
       "  weight_func = rectangular\n",
       "\n",
       "Computational engine: kknn \n"
      ]
     },
     "metadata": {},
     "output_type": "display_data"
    }
   ],
   "source": [
    "model_spec <- nearest_neighbor(weight_func = \"rectangular\", neighbors = 5) |>\n",
    "    set_engine(\"kknn\") |>\n",
    "    set_mode(\"classification\")\n",
    "model_spec"
   ]
  },
  {
   "cell_type": "code",
   "execution_count": null,
   "id": "e8510afa-7b60-4832-98b3-d2df8853d512",
   "metadata": {},
   "outputs": [],
   "source": [
    "text"
   ]
  },
  {
   "cell_type": "code",
   "execution_count": 75,
   "id": "c6e9ef17-0f0d-4eae-9fe2-4932af0f0c53",
   "metadata": {},
   "outputs": [
    {
     "data": {
      "text/html": [
       "<table class=\"dataframe\">\n",
       "<caption>A tibble: 123 × 7</caption>\n",
       "<thead>\n",
       "\t<tr><th scope=col>subscribe</th><th scope=col>experience</th><th scope=col>played_hours</th><th scope=col>Age</th><th scope=col>gender</th><th scope=col>avg_session_length_min</th><th scope=col>num_sessions</th></tr>\n",
       "\t<tr><th scope=col>&lt;fct&gt;</th><th scope=col>&lt;chr&gt;</th><th scope=col>&lt;dbl&gt;</th><th scope=col>&lt;dbl&gt;</th><th scope=col>&lt;chr&gt;</th><th scope=col>&lt;dbl&gt;</th><th scope=col>&lt;int&gt;</th></tr>\n",
       "</thead>\n",
       "<tbody>\n",
       "\t<tr><td>TRUE </td><td>Pro    </td><td>30.3</td><td> 9</td><td>Male</td><td>74.77778</td><td>27</td></tr>\n",
       "\t<tr><td>TRUE </td><td>Veteran</td><td> 3.8</td><td>17</td><td>Male</td><td>85.00000</td><td> 3</td></tr>\n",
       "\t<tr><td>FALSE</td><td>Veteran</td><td> 0.0</td><td>17</td><td>Male</td><td> 5.00000</td><td> 1</td></tr>\n",
       "\t<tr><td>⋮</td><td>⋮</td><td>⋮</td><td>⋮</td><td>⋮</td><td>⋮</td><td>⋮</td></tr>\n",
       "\t<tr><td>FALSE</td><td>Veteran</td><td>0.3</td><td>22</td><td>Male             </td><td>21.00000</td><td>1</td></tr>\n",
       "\t<tr><td>FALSE</td><td>Amateur</td><td>0.0</td><td>17</td><td>Prefer not to say</td><td> 5.00000</td><td>1</td></tr>\n",
       "\t<tr><td>FALSE</td><td>Amateur</td><td>2.3</td><td>17</td><td>Male             </td><td>29.83333</td><td>6</td></tr>\n",
       "</tbody>\n",
       "</table>\n"
      ],
      "text/latex": [
       "A tibble: 123 × 7\n",
       "\\begin{tabular}{lllllll}\n",
       " subscribe & experience & played\\_hours & Age & gender & avg\\_session\\_length\\_min & num\\_sessions\\\\\n",
       " <fct> & <chr> & <dbl> & <dbl> & <chr> & <dbl> & <int>\\\\\n",
       "\\hline\n",
       "\t TRUE  & Pro     & 30.3 &  9 & Male & 74.77778 & 27\\\\\n",
       "\t TRUE  & Veteran &  3.8 & 17 & Male & 85.00000 &  3\\\\\n",
       "\t FALSE & Veteran &  0.0 & 17 & Male &  5.00000 &  1\\\\\n",
       "\t ⋮ & ⋮ & ⋮ & ⋮ & ⋮ & ⋮ & ⋮\\\\\n",
       "\t FALSE & Veteran & 0.3 & 22 & Male              & 21.00000 & 1\\\\\n",
       "\t FALSE & Amateur & 0.0 & 17 & Prefer not to say &  5.00000 & 1\\\\\n",
       "\t FALSE & Amateur & 2.3 & 17 & Male              & 29.83333 & 6\\\\\n",
       "\\end{tabular}\n"
      ],
      "text/markdown": [
       "\n",
       "A tibble: 123 × 7\n",
       "\n",
       "| subscribe &lt;fct&gt; | experience &lt;chr&gt; | played_hours &lt;dbl&gt; | Age &lt;dbl&gt; | gender &lt;chr&gt; | avg_session_length_min &lt;dbl&gt; | num_sessions &lt;int&gt; |\n",
       "|---|---|---|---|---|---|---|\n",
       "| TRUE  | Pro     | 30.3 |  9 | Male | 74.77778 | 27 |\n",
       "| TRUE  | Veteran |  3.8 | 17 | Male | 85.00000 |  3 |\n",
       "| FALSE | Veteran |  0.0 | 17 | Male |  5.00000 |  1 |\n",
       "| ⋮ | ⋮ | ⋮ | ⋮ | ⋮ | ⋮ | ⋮ |\n",
       "| FALSE | Veteran | 0.3 | 22 | Male              | 21.00000 | 1 |\n",
       "| FALSE | Amateur | 0.0 | 17 | Prefer not to say |  5.00000 | 1 |\n",
       "| FALSE | Amateur | 2.3 | 17 | Male              | 29.83333 | 6 |\n",
       "\n"
      ],
      "text/plain": [
       "    subscribe experience played_hours Age gender           \n",
       "1   TRUE      Pro        30.3          9  Male             \n",
       "2   TRUE      Veteran     3.8         17  Male             \n",
       "3   FALSE     Veteran     0.0         17  Male             \n",
       "⋮   ⋮         ⋮          ⋮            ⋮   ⋮                \n",
       "121 FALSE     Veteran    0.3          22  Male             \n",
       "122 FALSE     Amateur    0.0          17  Prefer not to say\n",
       "123 FALSE     Amateur    2.3          17  Male             \n",
       "    avg_session_length_min num_sessions\n",
       "1   74.77778               27          \n",
       "2   85.00000                3          \n",
       "3    5.00000                1          \n",
       "⋮   ⋮                      ⋮           \n",
       "121 21.00000               1           \n",
       "122  5.00000               1           \n",
       "123 29.83333               6           "
      ]
     },
     "metadata": {},
     "output_type": "display_data"
    },
    {
     "data": {
      "text/plain": [
       "══ Workflow [trained] ══════════════════════════════════════════════════════════\n",
       "\u001b[3mPreprocessor:\u001b[23m Recipe\n",
       "\u001b[3mModel:\u001b[23m nearest_neighbor()\n",
       "\n",
       "── Preprocessor ────────────────────────────────────────────────────────────────\n",
       "4 Recipe Steps\n",
       "\n",
       "• step_novel()\n",
       "• step_dummy()\n",
       "• step_zv()\n",
       "• step_normalize()\n",
       "\n",
       "── Model ───────────────────────────────────────────────────────────────────────\n",
       "\n",
       "Call:\n",
       "kknn::train.kknn(formula = ..y ~ ., data = data, ks = min_rows(5,     data, 5), kernel = ~\"rectangular\")\n",
       "\n",
       "Type of response variable: nominal\n",
       "Minimal misclassification: 0.326087\n",
       "Best kernel: rectangular\n",
       "Best k: 5"
      ]
     },
     "metadata": {},
     "output_type": "display_data"
    }
   ],
   "source": [
    "cleaned_data <- model_data |> \n",
    "    drop_na()\n",
    "cleaned_data\n",
    "\n",
    "model_fit <- workflow() |>\n",
    "    add_recipe(model_recipe) |>\n",
    "    add_model(model_spec) |>\n",
    "    fit(data = model_train)\n",
    "model_fit"
   ]
  },
  {
   "cell_type": "code",
   "execution_count": null,
   "id": "332e83b4-2d27-4b62-bd77-fa7eaf13e755",
   "metadata": {},
   "outputs": [],
   "source": [
    "text"
   ]
  },
  {
   "cell_type": "code",
   "execution_count": 76,
   "id": "8e589afc-f4cf-4d5d-8de5-449a023129dd",
   "metadata": {},
   "outputs": [
    {
     "data": {
      "text/html": [
       "<table class=\"dataframe\">\n",
       "<caption>A tibble: 31 × 8</caption>\n",
       "<thead>\n",
       "\t<tr><th scope=col>.pred_class</th><th scope=col>subscribe</th><th scope=col>experience</th><th scope=col>played_hours</th><th scope=col>Age</th><th scope=col>gender</th><th scope=col>avg_session_length_min</th><th scope=col>num_sessions</th></tr>\n",
       "\t<tr><th scope=col>&lt;fct&gt;</th><th scope=col>&lt;fct&gt;</th><th scope=col>&lt;chr&gt;</th><th scope=col>&lt;dbl&gt;</th><th scope=col>&lt;dbl&gt;</th><th scope=col>&lt;chr&gt;</th><th scope=col>&lt;dbl&gt;</th><th scope=col>&lt;int&gt;</th></tr>\n",
       "</thead>\n",
       "<tbody>\n",
       "\t<tr><td>TRUE</td><td>TRUE</td><td>Pro    </td><td>30.3</td><td> 9</td><td>Male  </td><td>74.77778</td><td>27</td></tr>\n",
       "\t<tr><td>TRUE</td><td>TRUE</td><td>Amateur</td><td> 0.7</td><td>21</td><td>Female</td><td>50.00000</td><td> 1</td></tr>\n",
       "\t<tr><td>TRUE</td><td>TRUE</td><td>Amateur</td><td> 0.1</td><td>17</td><td>Male  </td><td>13.00000</td><td> 1</td></tr>\n",
       "\t<tr><td>⋮</td><td>⋮</td><td>⋮</td><td>⋮</td><td>⋮</td><td>⋮</td><td>⋮</td><td>⋮</td></tr>\n",
       "\t<tr><td>TRUE</td><td>TRUE </td><td>Amateur</td><td>0.4</td><td>17</td><td>Two-Spirited</td><td> 33</td><td>1</td></tr>\n",
       "\t<tr><td>TRUE</td><td>TRUE </td><td>Veteran</td><td>0.1</td><td>17</td><td>Non-binary  </td><td> 11</td><td>1</td></tr>\n",
       "\t<tr><td>TRUE</td><td>FALSE</td><td>Amateur</td><td>2.1</td><td>24</td><td>Male        </td><td>136</td><td>1</td></tr>\n",
       "</tbody>\n",
       "</table>\n"
      ],
      "text/latex": [
       "A tibble: 31 × 8\n",
       "\\begin{tabular}{llllllll}\n",
       " .pred\\_class & subscribe & experience & played\\_hours & Age & gender & avg\\_session\\_length\\_min & num\\_sessions\\\\\n",
       " <fct> & <fct> & <chr> & <dbl> & <dbl> & <chr> & <dbl> & <int>\\\\\n",
       "\\hline\n",
       "\t TRUE & TRUE & Pro     & 30.3 &  9 & Male   & 74.77778 & 27\\\\\n",
       "\t TRUE & TRUE & Amateur &  0.7 & 21 & Female & 50.00000 &  1\\\\\n",
       "\t TRUE & TRUE & Amateur &  0.1 & 17 & Male   & 13.00000 &  1\\\\\n",
       "\t ⋮ & ⋮ & ⋮ & ⋮ & ⋮ & ⋮ & ⋮ & ⋮\\\\\n",
       "\t TRUE & TRUE  & Amateur & 0.4 & 17 & Two-Spirited &  33 & 1\\\\\n",
       "\t TRUE & TRUE  & Veteran & 0.1 & 17 & Non-binary   &  11 & 1\\\\\n",
       "\t TRUE & FALSE & Amateur & 2.1 & 24 & Male         & 136 & 1\\\\\n",
       "\\end{tabular}\n"
      ],
      "text/markdown": [
       "\n",
       "A tibble: 31 × 8\n",
       "\n",
       "| .pred_class &lt;fct&gt; | subscribe &lt;fct&gt; | experience &lt;chr&gt; | played_hours &lt;dbl&gt; | Age &lt;dbl&gt; | gender &lt;chr&gt; | avg_session_length_min &lt;dbl&gt; | num_sessions &lt;int&gt; |\n",
       "|---|---|---|---|---|---|---|---|\n",
       "| TRUE | TRUE | Pro     | 30.3 |  9 | Male   | 74.77778 | 27 |\n",
       "| TRUE | TRUE | Amateur |  0.7 | 21 | Female | 50.00000 |  1 |\n",
       "| TRUE | TRUE | Amateur |  0.1 | 17 | Male   | 13.00000 |  1 |\n",
       "| ⋮ | ⋮ | ⋮ | ⋮ | ⋮ | ⋮ | ⋮ | ⋮ |\n",
       "| TRUE | TRUE  | Amateur | 0.4 | 17 | Two-Spirited |  33 | 1 |\n",
       "| TRUE | TRUE  | Veteran | 0.1 | 17 | Non-binary   |  11 | 1 |\n",
       "| TRUE | FALSE | Amateur | 2.1 | 24 | Male         | 136 | 1 |\n",
       "\n"
      ],
      "text/plain": [
       "   .pred_class subscribe experience played_hours Age gender      \n",
       "1  TRUE        TRUE      Pro        30.3          9  Male        \n",
       "2  TRUE        TRUE      Amateur     0.7         21  Female      \n",
       "3  TRUE        TRUE      Amateur     0.1         17  Male        \n",
       "⋮  ⋮           ⋮         ⋮          ⋮            ⋮   ⋮           \n",
       "29 TRUE        TRUE      Amateur    0.4          17  Two-Spirited\n",
       "30 TRUE        TRUE      Veteran    0.1          17  Non-binary  \n",
       "31 TRUE        FALSE     Amateur    2.1          24  Male        \n",
       "   avg_session_length_min num_sessions\n",
       "1  74.77778               27          \n",
       "2  50.00000                1          \n",
       "3  13.00000                1          \n",
       "⋮  ⋮                      ⋮           \n",
       "29  33                    1           \n",
       "30  11                    1           \n",
       "31 136                    1           "
      ]
     },
     "metadata": {},
     "output_type": "display_data"
    }
   ],
   "source": [
    "set.seed(2020) # DO NOT REMOVE\n",
    "\n",
    "model_test_predictions <- predict(model_fit, model_test) |>\n",
    "    bind_cols(model_test)\n",
    "model_test_predictions"
   ]
  },
  {
   "cell_type": "code",
   "execution_count": null,
   "id": "e5a949ca-9c7d-4bfb-8548-76f12497f755",
   "metadata": {},
   "outputs": [],
   "source": [
    "text"
   ]
  },
  {
   "cell_type": "code",
   "execution_count": 77,
   "id": "3d985bcd-3c77-41d8-b2d8-020473ad640b",
   "metadata": {},
   "outputs": [
    {
     "data": {
      "text/html": [
       "<table class=\"dataframe\">\n",
       "<caption>A tibble: 2 × 3</caption>\n",
       "<thead>\n",
       "\t<tr><th scope=col>.metric</th><th scope=col>.estimator</th><th scope=col>.estimate</th></tr>\n",
       "\t<tr><th scope=col>&lt;chr&gt;</th><th scope=col>&lt;chr&gt;</th><th scope=col>&lt;dbl&gt;</th></tr>\n",
       "</thead>\n",
       "<tbody>\n",
       "\t<tr><td>accuracy</td><td>binary</td><td>0.7419355</td></tr>\n",
       "\t<tr><td>kap     </td><td>binary</td><td>0.0000000</td></tr>\n",
       "</tbody>\n",
       "</table>\n"
      ],
      "text/latex": [
       "A tibble: 2 × 3\n",
       "\\begin{tabular}{lll}\n",
       " .metric & .estimator & .estimate\\\\\n",
       " <chr> & <chr> & <dbl>\\\\\n",
       "\\hline\n",
       "\t accuracy & binary & 0.7419355\\\\\n",
       "\t kap      & binary & 0.0000000\\\\\n",
       "\\end{tabular}\n"
      ],
      "text/markdown": [
       "\n",
       "A tibble: 2 × 3\n",
       "\n",
       "| .metric &lt;chr&gt; | .estimator &lt;chr&gt; | .estimate &lt;dbl&gt; |\n",
       "|---|---|---|\n",
       "| accuracy | binary | 0.7419355 |\n",
       "| kap      | binary | 0.0000000 |\n",
       "\n"
      ],
      "text/plain": [
       "  .metric  .estimator .estimate\n",
       "1 accuracy binary     0.7419355\n",
       "2 kap      binary     0.0000000"
      ]
     },
     "metadata": {},
     "output_type": "display_data"
    }
   ],
   "source": [
    "set.seed(2020) # DO NOT REMOVE\n",
    "\n",
    "model_prediction_accuracy <- model_test_predictions |>\n",
    "    metrics(truth = subscribe, estimate = .pred_class)\n",
    "model_prediction_accuracy"
   ]
  },
  {
   "cell_type": "code",
   "execution_count": null,
   "id": "ff5167b9-0b16-4375-a7fe-6a0ea2ee3be8",
   "metadata": {},
   "outputs": [],
   "source": [
    "text"
   ]
  },
  {
   "cell_type": "code",
   "execution_count": 78,
   "id": "5e9471d7-1a1e-45e2-9afa-1413ccc45491",
   "metadata": {},
   "outputs": [
    {
     "data": {
      "text/plain": [
       "          Truth\n",
       "Prediction FALSE TRUE\n",
       "     FALSE     0    0\n",
       "     TRUE      8   23"
      ]
     },
     "metadata": {},
     "output_type": "display_data"
    }
   ],
   "source": [
    "set.seed(2020) # DO NOT REMOVE\n",
    "\n",
    "model_mat <- model_test_predictions |>\n",
    "    conf_mat(truth = subscribe, estimate = .pred_class)\n",
    "model_mat"
   ]
  },
  {
   "cell_type": "code",
   "execution_count": null,
   "id": "6542251f-e31f-4d57-bbc5-b7e71630c500",
   "metadata": {},
   "outputs": [],
   "source": [
    "text"
   ]
  },
  {
   "cell_type": "code",
   "execution_count": 79,
   "id": "f5cef646-7d3d-4bbf-8a7d-3ebe8650ff99",
   "metadata": {},
   "outputs": [
    {
     "data": {
      "text/html": [
       "<table class=\"dataframe\">\n",
       "<caption>A tibble: 123 × 7</caption>\n",
       "<thead>\n",
       "\t<tr><th scope=col>subscribe</th><th scope=col>experience</th><th scope=col>played_hours</th><th scope=col>Age</th><th scope=col>gender</th><th scope=col>avg_session_length_min</th><th scope=col>num_sessions</th></tr>\n",
       "\t<tr><th scope=col>&lt;fct&gt;</th><th scope=col>&lt;chr&gt;</th><th scope=col>&lt;dbl&gt;</th><th scope=col>&lt;dbl&gt;</th><th scope=col>&lt;chr&gt;</th><th scope=col>&lt;dbl&gt;</th><th scope=col>&lt;int&gt;</th></tr>\n",
       "</thead>\n",
       "<tbody>\n",
       "\t<tr><td>TRUE </td><td>Pro    </td><td>30.3</td><td> 9</td><td>Male</td><td>74.77778</td><td>27</td></tr>\n",
       "\t<tr><td>TRUE </td><td>Veteran</td><td> 3.8</td><td>17</td><td>Male</td><td>85.00000</td><td> 3</td></tr>\n",
       "\t<tr><td>FALSE</td><td>Veteran</td><td> 0.0</td><td>17</td><td>Male</td><td> 5.00000</td><td> 1</td></tr>\n",
       "\t<tr><td>⋮</td><td>⋮</td><td>⋮</td><td>⋮</td><td>⋮</td><td>⋮</td><td>⋮</td></tr>\n",
       "\t<tr><td>FALSE</td><td>Veteran</td><td>0.3</td><td>22</td><td>Male             </td><td>21.00000</td><td>1</td></tr>\n",
       "\t<tr><td>FALSE</td><td>Amateur</td><td>0.0</td><td>17</td><td>Prefer not to say</td><td> 5.00000</td><td>1</td></tr>\n",
       "\t<tr><td>FALSE</td><td>Amateur</td><td>2.3</td><td>17</td><td>Male             </td><td>29.83333</td><td>6</td></tr>\n",
       "</tbody>\n",
       "</table>\n"
      ],
      "text/latex": [
       "A tibble: 123 × 7\n",
       "\\begin{tabular}{lllllll}\n",
       " subscribe & experience & played\\_hours & Age & gender & avg\\_session\\_length\\_min & num\\_sessions\\\\\n",
       " <fct> & <chr> & <dbl> & <dbl> & <chr> & <dbl> & <int>\\\\\n",
       "\\hline\n",
       "\t TRUE  & Pro     & 30.3 &  9 & Male & 74.77778 & 27\\\\\n",
       "\t TRUE  & Veteran &  3.8 & 17 & Male & 85.00000 &  3\\\\\n",
       "\t FALSE & Veteran &  0.0 & 17 & Male &  5.00000 &  1\\\\\n",
       "\t ⋮ & ⋮ & ⋮ & ⋮ & ⋮ & ⋮ & ⋮\\\\\n",
       "\t FALSE & Veteran & 0.3 & 22 & Male              & 21.00000 & 1\\\\\n",
       "\t FALSE & Amateur & 0.0 & 17 & Prefer not to say &  5.00000 & 1\\\\\n",
       "\t FALSE & Amateur & 2.3 & 17 & Male              & 29.83333 & 6\\\\\n",
       "\\end{tabular}\n"
      ],
      "text/markdown": [
       "\n",
       "A tibble: 123 × 7\n",
       "\n",
       "| subscribe &lt;fct&gt; | experience &lt;chr&gt; | played_hours &lt;dbl&gt; | Age &lt;dbl&gt; | gender &lt;chr&gt; | avg_session_length_min &lt;dbl&gt; | num_sessions &lt;int&gt; |\n",
       "|---|---|---|---|---|---|---|\n",
       "| TRUE  | Pro     | 30.3 |  9 | Male | 74.77778 | 27 |\n",
       "| TRUE  | Veteran |  3.8 | 17 | Male | 85.00000 |  3 |\n",
       "| FALSE | Veteran |  0.0 | 17 | Male |  5.00000 |  1 |\n",
       "| ⋮ | ⋮ | ⋮ | ⋮ | ⋮ | ⋮ | ⋮ |\n",
       "| FALSE | Veteran | 0.3 | 22 | Male              | 21.00000 | 1 |\n",
       "| FALSE | Amateur | 0.0 | 17 | Prefer not to say |  5.00000 | 1 |\n",
       "| FALSE | Amateur | 2.3 | 17 | Male              | 29.83333 | 6 |\n",
       "\n"
      ],
      "text/plain": [
       "    subscribe experience played_hours Age gender           \n",
       "1   TRUE      Pro        30.3          9  Male             \n",
       "2   TRUE      Veteran     3.8         17  Male             \n",
       "3   FALSE     Veteran     0.0         17  Male             \n",
       "⋮   ⋮         ⋮          ⋮            ⋮   ⋮                \n",
       "121 FALSE     Veteran    0.3          22  Male             \n",
       "122 FALSE     Amateur    0.0          17  Prefer not to say\n",
       "123 FALSE     Amateur    2.3          17  Male             \n",
       "    avg_session_length_min num_sessions\n",
       "1   74.77778               27          \n",
       "2   85.00000                3          \n",
       "3    5.00000                1          \n",
       "⋮   ⋮                      ⋮           \n",
       "121 21.00000               1           \n",
       "122  5.00000               1           \n",
       "123 29.83333               6           "
      ]
     },
     "metadata": {},
     "output_type": "display_data"
    },
    {
     "name": "stdout",
     "output_type": "stream",
     "text": [
      "#  5-fold cross-validation using stratification \n",
      "\u001b[90m# A tibble: 5 × 2\u001b[39m\n",
      "  splits          id   \n",
      "  \u001b[3m\u001b[90m<list>\u001b[39m\u001b[23m          \u001b[3m\u001b[90m<chr>\u001b[39m\u001b[23m\n",
      "\u001b[90m1\u001b[39m \u001b[90m<split [73/19]>\u001b[39m Fold1\n",
      "\u001b[90m2\u001b[39m \u001b[90m<split [73/19]>\u001b[39m Fold2\n",
      "\u001b[90m3\u001b[39m \u001b[90m<split [73/19]>\u001b[39m Fold3\n",
      "\u001b[90m4\u001b[39m \u001b[90m<split [74/18]>\u001b[39m Fold4\n",
      "\u001b[90m5\u001b[39m \u001b[90m<split [75/17]>\u001b[39m Fold5\n"
     ]
    }
   ],
   "source": [
    "set.seed(2020)\n",
    "\n",
    "cleaned_data <- model_data |> \n",
    "    drop_na()\n",
    "cleaned_data\n",
    "\n",
    "model_vfold <- vfold_cv(model_train, v = 5, strata = subscribe)\n",
    "print(model_vfold)"
   ]
  },
  {
   "cell_type": "code",
   "execution_count": null,
   "id": "ea0eba8a-0113-4296-8809-04e85dd5ae3a",
   "metadata": {},
   "outputs": [],
   "source": [
    "text"
   ]
  },
  {
   "cell_type": "code",
   "execution_count": 80,
   "id": "2f644aef-ccc4-4140-a9c2-a8a37e4add14",
   "metadata": {},
   "outputs": [
    {
     "name": "stdout",
     "output_type": "stream",
     "text": [
      "# Resampling results\n",
      "# 5-fold cross-validation using stratification \n",
      "\u001b[90m# A tibble: 5 × 4\u001b[39m\n",
      "  splits          id    .metrics         .notes          \n",
      "  \u001b[3m\u001b[90m<list>\u001b[39m\u001b[23m          \u001b[3m\u001b[90m<chr>\u001b[39m\u001b[23m \u001b[3m\u001b[90m<list>\u001b[39m\u001b[23m           \u001b[3m\u001b[90m<list>\u001b[39m\u001b[23m          \n",
      "\u001b[90m1\u001b[39m \u001b[90m<split [73/19]>\u001b[39m Fold1 \u001b[90m<tibble [2 × 4]>\u001b[39m \u001b[90m<tibble [0 × 3]>\u001b[39m\n",
      "\u001b[90m2\u001b[39m \u001b[90m<split [73/19]>\u001b[39m Fold2 \u001b[90m<tibble [2 × 4]>\u001b[39m \u001b[90m<tibble [0 × 3]>\u001b[39m\n",
      "\u001b[90m3\u001b[39m \u001b[90m<split [73/19]>\u001b[39m Fold3 \u001b[90m<tibble [2 × 4]>\u001b[39m \u001b[90m<tibble [0 × 3]>\u001b[39m\n",
      "\u001b[90m4\u001b[39m \u001b[90m<split [74/18]>\u001b[39m Fold4 \u001b[90m<tibble [2 × 4]>\u001b[39m \u001b[90m<tibble [0 × 3]>\u001b[39m\n",
      "\u001b[90m5\u001b[39m \u001b[90m<split [75/17]>\u001b[39m Fold5 \u001b[90m<tibble [2 × 4]>\u001b[39m \u001b[90m<tibble [0 × 3]>\u001b[39m\n"
     ]
    }
   ],
   "source": [
    "model_resample_fit <- workflow() |>\n",
    "        add_recipe(model_recipe) |>\n",
    "        add_model(model_spec) |>\n",
    "        fit_resamples(resamples = model_vfold)\n",
    "print(model_resample_fit)"
   ]
  },
  {
   "cell_type": "code",
   "execution_count": null,
   "id": "5f470c54-486d-43ca-b640-77c75ef305cd",
   "metadata": {},
   "outputs": [],
   "source": [
    "text"
   ]
  },
  {
   "cell_type": "code",
   "execution_count": 81,
   "id": "65296543-476d-4a6e-a09f-53c18a6e83f9",
   "metadata": {},
   "outputs": [
    {
     "data": {
      "text/html": [
       "<table class=\"dataframe\">\n",
       "<caption>A tibble: 2 × 6</caption>\n",
       "<thead>\n",
       "\t<tr><th scope=col>.metric</th><th scope=col>.estimator</th><th scope=col>mean</th><th scope=col>n</th><th scope=col>std_err</th><th scope=col>.config</th></tr>\n",
       "\t<tr><th scope=col>&lt;chr&gt;</th><th scope=col>&lt;chr&gt;</th><th scope=col>&lt;dbl&gt;</th><th scope=col>&lt;int&gt;</th><th scope=col>&lt;dbl&gt;</th><th scope=col>&lt;chr&gt;</th></tr>\n",
       "</thead>\n",
       "<tbody>\n",
       "\t<tr><td>accuracy</td><td>binary</td><td>0.6441692</td><td>5</td><td>0.04170243</td><td>Preprocessor1_Model1</td></tr>\n",
       "\t<tr><td>roc_auc </td><td>binary</td><td>0.3243407</td><td>5</td><td>0.04494992</td><td>Preprocessor1_Model1</td></tr>\n",
       "</tbody>\n",
       "</table>\n"
      ],
      "text/latex": [
       "A tibble: 2 × 6\n",
       "\\begin{tabular}{llllll}\n",
       " .metric & .estimator & mean & n & std\\_err & .config\\\\\n",
       " <chr> & <chr> & <dbl> & <int> & <dbl> & <chr>\\\\\n",
       "\\hline\n",
       "\t accuracy & binary & 0.6441692 & 5 & 0.04170243 & Preprocessor1\\_Model1\\\\\n",
       "\t roc\\_auc  & binary & 0.3243407 & 5 & 0.04494992 & Preprocessor1\\_Model1\\\\\n",
       "\\end{tabular}\n"
      ],
      "text/markdown": [
       "\n",
       "A tibble: 2 × 6\n",
       "\n",
       "| .metric &lt;chr&gt; | .estimator &lt;chr&gt; | mean &lt;dbl&gt; | n &lt;int&gt; | std_err &lt;dbl&gt; | .config &lt;chr&gt; |\n",
       "|---|---|---|---|---|---|\n",
       "| accuracy | binary | 0.6441692 | 5 | 0.04170243 | Preprocessor1_Model1 |\n",
       "| roc_auc  | binary | 0.3243407 | 5 | 0.04494992 | Preprocessor1_Model1 |\n",
       "\n"
      ],
      "text/plain": [
       "  .metric  .estimator mean      n std_err    .config             \n",
       "1 accuracy binary     0.6441692 5 0.04170243 Preprocessor1_Model1\n",
       "2 roc_auc  binary     0.3243407 5 0.04494992 Preprocessor1_Model1"
      ]
     },
     "metadata": {},
     "output_type": "display_data"
    }
   ],
   "source": [
    "model_metrics <- workflow() |>\n",
    "        add_recipe(model_recipe) |>\n",
    "        add_model(model_spec) |>\n",
    "        fit_resamples(resamples = model_vfold) |>\n",
    "        collect_metrics()\n",
    "model_metrics"
   ]
  },
  {
   "cell_type": "code",
   "execution_count": null,
   "id": "cf1b304e-c4de-43d5-8477-5bb0e6649cac",
   "metadata": {},
   "outputs": [],
   "source": [
    "text"
   ]
  },
  {
   "cell_type": "code",
   "execution_count": 82,
   "id": "1d817def-a948-4d7b-a903-881813989913",
   "metadata": {},
   "outputs": [
    {
     "data": {
      "text/plain": [
       "K-Nearest Neighbor Model Specification (classification)\n",
       "\n",
       "Main Arguments:\n",
       "  neighbors = tune()\n",
       "  weight_func = rectangular\n",
       "\n",
       "Computational engine: kknn \n"
      ]
     },
     "metadata": {},
     "output_type": "display_data"
    }
   ],
   "source": [
    "set.seed(2020)\n",
    "\n",
    "model_tune <- nearest_neighbor(weight_func = \"rectangular\", neighbors = tune()) |>\n",
    "    set_engine(\"kknn\") |>\n",
    "    set_mode(\"classification\")\n",
    "model_tune"
   ]
  },
  {
   "cell_type": "code",
   "execution_count": null,
   "id": "9a3224fa-5fd1-451a-aa35-c84623e8a892",
   "metadata": {},
   "outputs": [],
   "source": [
    "text"
   ]
  },
  {
   "cell_type": "code",
   "execution_count": 83,
   "id": "b6651b7b-ffa7-444b-aab9-8a9fd7d3d273",
   "metadata": {},
   "outputs": [
    {
     "name": "stdout",
     "output_type": "stream",
     "text": [
      "\u001b[90m# A tibble: 20 × 7\u001b[39m\n",
      "   neighbors .metric  .estimator  mean     n std_err .config              \n",
      "       \u001b[3m\u001b[90m<dbl>\u001b[39m\u001b[23m \u001b[3m\u001b[90m<chr>\u001b[39m\u001b[23m    \u001b[3m\u001b[90m<chr>\u001b[39m\u001b[23m      \u001b[3m\u001b[90m<dbl>\u001b[39m\u001b[23m \u001b[3m\u001b[90m<int>\u001b[39m\u001b[23m   \u001b[3m\u001b[90m<dbl>\u001b[39m\u001b[23m \u001b[3m\u001b[90m<chr>\u001b[39m\u001b[23m                \n",
      "\u001b[90m 1\u001b[39m         1 accuracy binary     0.527     5  0.067\u001b[4m3\u001b[24m Preprocessor1_Model01\n",
      "\u001b[90m 2\u001b[39m         1 roc_auc  binary     0.369     5  0.041\u001b[4m2\u001b[24m Preprocessor1_Model01\n",
      "\u001b[90m 3\u001b[39m         2 accuracy binary     0.527     5  0.067\u001b[4m3\u001b[24m Preprocessor1_Model02\n",
      "\u001b[90m 4\u001b[39m         2 roc_auc  binary     0.376     5  0.051\u001b[4m3\u001b[24m Preprocessor1_Model02\n",
      "\u001b[90m 5\u001b[39m         3 accuracy binary     0.601     5  0.040\u001b[4m3\u001b[24m Preprocessor1_Model03\n",
      "\u001b[90m 6\u001b[39m         3 roc_auc  binary     0.326     5  0.062\u001b[4m7\u001b[24m Preprocessor1_Model03\n",
      "\u001b[90m 7\u001b[39m         4 accuracy binary     0.601     5  0.040\u001b[4m3\u001b[24m Preprocessor1_Model04\n",
      "\u001b[90m 8\u001b[39m         4 roc_auc  binary     0.312     5  0.062\u001b[4m9\u001b[24m Preprocessor1_Model04\n",
      "\u001b[90m 9\u001b[39m         5 accuracy binary     0.644     5  0.041\u001b[4m7\u001b[24m Preprocessor1_Model05\n",
      "\u001b[90m10\u001b[39m         5 roc_auc  binary     0.324     5  0.044\u001b[4m9\u001b[24m Preprocessor1_Model05\n",
      "\u001b[90m11\u001b[39m         6 accuracy binary     0.644     5  0.041\u001b[4m7\u001b[24m Preprocessor1_Model06\n",
      "\u001b[90m12\u001b[39m         6 roc_auc  binary     0.309     5  0.044\u001b[4m3\u001b[24m Preprocessor1_Model06\n",
      "\u001b[90m13\u001b[39m         7 accuracy binary     0.697     5  0.024\u001b[4m0\u001b[24m Preprocessor1_Model07\n",
      "\u001b[90m14\u001b[39m         7 roc_auc  binary     0.338     5  0.054\u001b[4m3\u001b[24m Preprocessor1_Model07\n",
      "\u001b[90m15\u001b[39m         8 accuracy binary     0.697     5  0.024\u001b[4m0\u001b[24m Preprocessor1_Model08\n",
      "\u001b[90m16\u001b[39m         8 roc_auc  binary     0.396     5  0.037\u001b[4m2\u001b[24m Preprocessor1_Model08\n",
      "\u001b[90m17\u001b[39m         9 accuracy binary     0.718     5  0.018\u001b[4m3\u001b[24m Preprocessor1_Model09\n",
      "\u001b[90m18\u001b[39m         9 roc_auc  binary     0.378     5  0.054\u001b[4m1\u001b[24m Preprocessor1_Model09\n",
      "\u001b[90m19\u001b[39m        10 accuracy binary     0.718     5  0.018\u001b[4m3\u001b[24m Preprocessor1_Model10\n",
      "\u001b[90m20\u001b[39m        10 roc_auc  binary     0.439     5  0.058\u001b[4m1\u001b[24m Preprocessor1_Model10\n"
     ]
    }
   ],
   "source": [
    "set.seed(1234)\n",
    "\n",
    "k_vals <- tibble(neighbors = seq(from = 1, to = 10, by = 1))\n",
    "\n",
    "model_results <- workflow() |>\n",
    "        add_recipe(model_recipe) |>\n",
    "        add_model(model_tune) |>\n",
    "        tune_grid(resamples = model_vfold, grid = k_vals) |>\n",
    "        collect_metrics()\n",
    "print(model_results)"
   ]
  },
  {
   "cell_type": "code",
   "execution_count": null,
   "id": "7fe53128-ba00-4475-b227-970f648337e1",
   "metadata": {},
   "outputs": [],
   "source": [
    "text\n"
   ]
  },
  {
   "cell_type": "code",
   "execution_count": 84,
   "id": "daec1e06-1270-4a6f-b2ba-db4ef0ccb3ca",
   "metadata": {},
   "outputs": [
    {
     "data": {
      "text/html": [
       "<table class=\"dataframe\">\n",
       "<caption>A tibble: 10 × 7</caption>\n",
       "<thead>\n",
       "\t<tr><th scope=col>neighbors</th><th scope=col>.metric</th><th scope=col>.estimator</th><th scope=col>mean</th><th scope=col>n</th><th scope=col>std_err</th><th scope=col>.config</th></tr>\n",
       "\t<tr><th scope=col>&lt;dbl&gt;</th><th scope=col>&lt;chr&gt;</th><th scope=col>&lt;chr&gt;</th><th scope=col>&lt;dbl&gt;</th><th scope=col>&lt;int&gt;</th><th scope=col>&lt;dbl&gt;</th><th scope=col>&lt;chr&gt;</th></tr>\n",
       "</thead>\n",
       "<tbody>\n",
       "\t<tr><td>1</td><td>accuracy</td><td>binary</td><td>0.5271414</td><td>5</td><td>0.06734993</td><td>Preprocessor1_Model01</td></tr>\n",
       "\t<tr><td>2</td><td>accuracy</td><td>binary</td><td>0.5271414</td><td>5</td><td>0.06734993</td><td>Preprocessor1_Model02</td></tr>\n",
       "\t<tr><td>3</td><td>accuracy</td><td>binary</td><td>0.6008256</td><td>5</td><td>0.04030770</td><td>Preprocessor1_Model03</td></tr>\n",
       "\t<tr><td>⋮</td><td>⋮</td><td>⋮</td><td>⋮</td><td>⋮</td><td>⋮</td><td>⋮</td></tr>\n",
       "\t<tr><td> 8</td><td>accuracy</td><td>binary</td><td>0.6968008</td><td>5</td><td>0.02401549</td><td>Preprocessor1_Model08</td></tr>\n",
       "\t<tr><td> 9</td><td>accuracy</td><td>binary</td><td>0.7178535</td><td>5</td><td>0.01825955</td><td>Preprocessor1_Model09</td></tr>\n",
       "\t<tr><td>10</td><td>accuracy</td><td>binary</td><td>0.7178535</td><td>5</td><td>0.01825955</td><td>Preprocessor1_Model10</td></tr>\n",
       "</tbody>\n",
       "</table>\n"
      ],
      "text/latex": [
       "A tibble: 10 × 7\n",
       "\\begin{tabular}{lllllll}\n",
       " neighbors & .metric & .estimator & mean & n & std\\_err & .config\\\\\n",
       " <dbl> & <chr> & <chr> & <dbl> & <int> & <dbl> & <chr>\\\\\n",
       "\\hline\n",
       "\t 1 & accuracy & binary & 0.5271414 & 5 & 0.06734993 & Preprocessor1\\_Model01\\\\\n",
       "\t 2 & accuracy & binary & 0.5271414 & 5 & 0.06734993 & Preprocessor1\\_Model02\\\\\n",
       "\t 3 & accuracy & binary & 0.6008256 & 5 & 0.04030770 & Preprocessor1\\_Model03\\\\\n",
       "\t ⋮ & ⋮ & ⋮ & ⋮ & ⋮ & ⋮ & ⋮\\\\\n",
       "\t  8 & accuracy & binary & 0.6968008 & 5 & 0.02401549 & Preprocessor1\\_Model08\\\\\n",
       "\t  9 & accuracy & binary & 0.7178535 & 5 & 0.01825955 & Preprocessor1\\_Model09\\\\\n",
       "\t 10 & accuracy & binary & 0.7178535 & 5 & 0.01825955 & Preprocessor1\\_Model10\\\\\n",
       "\\end{tabular}\n"
      ],
      "text/markdown": [
       "\n",
       "A tibble: 10 × 7\n",
       "\n",
       "| neighbors &lt;dbl&gt; | .metric &lt;chr&gt; | .estimator &lt;chr&gt; | mean &lt;dbl&gt; | n &lt;int&gt; | std_err &lt;dbl&gt; | .config &lt;chr&gt; |\n",
       "|---|---|---|---|---|---|---|\n",
       "| 1 | accuracy | binary | 0.5271414 | 5 | 0.06734993 | Preprocessor1_Model01 |\n",
       "| 2 | accuracy | binary | 0.5271414 | 5 | 0.06734993 | Preprocessor1_Model02 |\n",
       "| 3 | accuracy | binary | 0.6008256 | 5 | 0.04030770 | Preprocessor1_Model03 |\n",
       "| ⋮ | ⋮ | ⋮ | ⋮ | ⋮ | ⋮ | ⋮ |\n",
       "|  8 | accuracy | binary | 0.6968008 | 5 | 0.02401549 | Preprocessor1_Model08 |\n",
       "|  9 | accuracy | binary | 0.7178535 | 5 | 0.01825955 | Preprocessor1_Model09 |\n",
       "| 10 | accuracy | binary | 0.7178535 | 5 | 0.01825955 | Preprocessor1_Model10 |\n",
       "\n"
      ],
      "text/plain": [
       "   neighbors .metric  .estimator mean      n std_err    .config              \n",
       "1  1         accuracy binary     0.5271414 5 0.06734993 Preprocessor1_Model01\n",
       "2  2         accuracy binary     0.5271414 5 0.06734993 Preprocessor1_Model02\n",
       "3  3         accuracy binary     0.6008256 5 0.04030770 Preprocessor1_Model03\n",
       "⋮  ⋮         ⋮        ⋮          ⋮         ⋮ ⋮          ⋮                    \n",
       "8   8        accuracy binary     0.6968008 5 0.02401549 Preprocessor1_Model08\n",
       "9   9        accuracy binary     0.7178535 5 0.01825955 Preprocessor1_Model09\n",
       "10 10        accuracy binary     0.7178535 5 0.01825955 Preprocessor1_Model10"
      ]
     },
     "metadata": {},
     "output_type": "display_data"
    },
    {
     "data": {
      "application/pdf": "[encoded data removed]",
      "image/jpeg": "[encoded data removed]",
      "image/png": "[encoded data removed]",
      "image/svg+xml": [
       "<?xml version=\"1.0\" encoding=\"UTF-8\"?>\n",
       "<svg xmlns=\"http://www.w3.org/2000/svg\" xmlns:xlink=\"http://www.w3.org/1999/xlink\" width=\"504\" height=\"504\" viewBox=\"0 0 504 504\">\n",
       "<defs>\n",
       "<g>\n",
       "<g id=\"glyph-0-0\">\n",
       "<path d=\"M 4.546875 -3.03125 C 4.546875 -2.445312 4.488281 -1.957031 4.375 -1.5625 C 4.269531 -1.164062 4.117188 -0.84375 3.921875 -0.59375 C 3.734375 -0.351562 3.507812 -0.179688 3.25 -0.078125 C 3 0.0234375 2.726562 0.078125 2.4375 0.078125 C 2.144531 0.078125 1.867188 0.0234375 1.609375 -0.078125 C 1.359375 -0.179688 1.140625 -0.351562 0.953125 -0.59375 C 0.765625 -0.84375 0.613281 -1.164062 0.5 -1.5625 C 0.394531 -1.957031 0.34375 -2.445312 0.34375 -3.03125 C 0.34375 -3.632812 0.394531 -4.132812 0.5 -4.53125 C 0.613281 -4.9375 0.765625 -5.257812 0.953125 -5.5 C 1.140625 -5.738281 1.359375 -5.90625 1.609375 -6 C 1.867188 -6.09375 2.15625 -6.140625 2.46875 -6.140625 C 2.75 -6.140625 3.015625 -6.09375 3.265625 -6 C 3.523438 -5.90625 3.75 -5.738281 3.9375 -5.5 C 4.125 -5.257812 4.269531 -4.9375 4.375 -4.53125 C 4.488281 -4.132812 4.546875 -3.632812 4.546875 -3.03125 Z M 3.765625 -3.03125 C 3.765625 -3.507812 3.734375 -3.90625 3.671875 -4.21875 C 3.617188 -4.539062 3.535156 -4.796875 3.421875 -4.984375 C 3.304688 -5.179688 3.164062 -5.316406 3 -5.390625 C 2.84375 -5.472656 2.664062 -5.515625 2.46875 -5.515625 C 2.25 -5.515625 2.054688 -5.472656 1.890625 -5.390625 C 1.722656 -5.316406 1.582031 -5.179688 1.46875 -4.984375 C 1.351562 -4.796875 1.265625 -4.539062 1.203125 -4.21875 C 1.148438 -3.90625 1.125 -3.507812 1.125 -3.03125 C 1.125 -2.5625 1.148438 -2.164062 1.203125 -1.84375 C 1.265625 -1.53125 1.351562 -1.273438 1.46875 -1.078125 C 1.582031 -0.890625 1.71875 -0.753906 1.875 -0.671875 C 2.039062 -0.585938 2.226562 -0.546875 2.4375 -0.546875 C 2.644531 -0.546875 2.828125 -0.585938 2.984375 -0.671875 C 3.148438 -0.753906 3.289062 -0.890625 3.40625 -1.078125 C 3.519531 -1.273438 3.609375 -1.53125 3.671875 -1.84375 C 3.734375 -2.164062 3.765625 -2.5625 3.765625 -3.03125 Z M 3.765625 -3.03125 \"/>\n",
       "</g>\n",
       "<g id=\"glyph-0-1\">\n",
       "<path d=\"M 0.796875 0 L 0.796875 -0.9375 L 1.640625 -0.9375 L 1.640625 0 Z M 0.796875 0 \"/>\n",
       "</g>\n",
       "<g id=\"glyph-0-2\">\n",
       "<path d=\"M 3.78125 -1.375 L 3.78125 0 L 3.046875 0 L 3.046875 -1.375 L 0.203125 -1.375 L 0.203125 -1.96875 L 2.96875 -6.046875 L 3.78125 -6.046875 L 3.78125 -1.984375 L 4.640625 -1.984375 L 4.640625 -1.375 Z M 3.046875 -5.1875 C 3.046875 -5.164062 3.035156 -5.132812 3.015625 -5.09375 C 2.992188 -5.050781 2.96875 -5.003906 2.9375 -4.953125 C 2.90625 -4.898438 2.875 -4.847656 2.84375 -4.796875 C 2.8125 -4.742188 2.785156 -4.703125 2.765625 -4.671875 L 1.21875 -2.390625 C 1.195312 -2.359375 1.171875 -2.320312 1.140625 -2.28125 C 1.117188 -2.25 1.09375 -2.210938 1.0625 -2.171875 C 1.039062 -2.140625 1.015625 -2.101562 0.984375 -2.0625 C 0.953125 -2.03125 0.929688 -2.003906 0.921875 -1.984375 L 3.046875 -1.984375 Z M 3.046875 -5.1875 \"/>\n",
       "</g>\n",
       "<g id=\"glyph-0-3\">\n",
       "<path d=\"M 4.5 -1.984375 C 4.5 -1.679688 4.457031 -1.398438 4.375 -1.140625 C 4.289062 -0.890625 4.164062 -0.671875 4 -0.484375 C 3.84375 -0.304688 3.640625 -0.164062 3.390625 -0.0625 C 3.148438 0.03125 2.867188 0.078125 2.546875 0.078125 C 2.191406 0.078125 1.882812 0.015625 1.625 -0.109375 C 1.363281 -0.242188 1.144531 -0.4375 0.96875 -0.6875 C 0.789062 -0.945312 0.660156 -1.257812 0.578125 -1.625 C 0.492188 -2 0.453125 -2.421875 0.453125 -2.890625 C 0.453125 -3.421875 0.5 -3.890625 0.59375 -4.296875 C 0.695312 -4.703125 0.835938 -5.039062 1.015625 -5.3125 C 1.203125 -5.59375 1.429688 -5.800781 1.703125 -5.9375 C 1.972656 -6.070312 2.273438 -6.140625 2.609375 -6.140625 C 2.816406 -6.140625 3.007812 -6.117188 3.1875 -6.078125 C 3.375 -6.035156 3.539062 -5.960938 3.6875 -5.859375 C 3.832031 -5.765625 3.957031 -5.640625 4.0625 -5.484375 C 4.175781 -5.328125 4.269531 -5.132812 4.34375 -4.90625 L 3.59375 -4.78125 C 3.519531 -5.039062 3.394531 -5.226562 3.21875 -5.34375 C 3.039062 -5.457031 2.835938 -5.515625 2.609375 -5.515625 C 2.390625 -5.515625 2.191406 -5.460938 2.015625 -5.359375 C 1.847656 -5.265625 1.703125 -5.117188 1.578125 -4.921875 C 1.460938 -4.722656 1.375 -4.472656 1.3125 -4.171875 C 1.25 -3.867188 1.21875 -3.515625 1.21875 -3.109375 C 1.351562 -3.367188 1.546875 -3.566406 1.796875 -3.703125 C 2.054688 -3.835938 2.351562 -3.90625 2.6875 -3.90625 C 2.957031 -3.90625 3.203125 -3.859375 3.421875 -3.765625 C 3.648438 -3.679688 3.84375 -3.554688 4 -3.390625 C 4.164062 -3.222656 4.289062 -3.019531 4.375 -2.78125 C 4.457031 -2.539062 4.5 -2.273438 4.5 -1.984375 Z M 3.71875 -1.953125 C 3.71875 -2.160156 3.691406 -2.347656 3.640625 -2.515625 C 3.585938 -2.679688 3.507812 -2.820312 3.40625 -2.9375 C 3.300781 -3.0625 3.171875 -3.15625 3.015625 -3.21875 C 2.867188 -3.28125 2.695312 -3.3125 2.5 -3.3125 C 2.363281 -3.3125 2.222656 -3.289062 2.078125 -3.25 C 1.929688 -3.207031 1.800781 -3.140625 1.6875 -3.046875 C 1.570312 -2.953125 1.476562 -2.828125 1.40625 -2.671875 C 1.332031 -2.523438 1.296875 -2.34375 1.296875 -2.125 C 1.296875 -1.90625 1.320312 -1.695312 1.375 -1.5 C 1.4375 -1.3125 1.519531 -1.144531 1.625 -1 C 1.726562 -0.851562 1.851562 -0.738281 2 -0.65625 C 2.15625 -0.570312 2.332031 -0.53125 2.53125 -0.53125 C 2.71875 -0.53125 2.882812 -0.5625 3.03125 -0.625 C 3.175781 -0.695312 3.300781 -0.789062 3.40625 -0.90625 C 3.507812 -1.03125 3.585938 -1.179688 3.640625 -1.359375 C 3.691406 -1.535156 3.71875 -1.734375 3.71875 -1.953125 Z M 3.71875 -1.953125 \"/>\n",
       "</g>\n",
       "<g id=\"glyph-0-4\">\n",
       "<path d=\"M 4.515625 -1.6875 C 4.515625 -1.425781 4.472656 -1.1875 4.390625 -0.96875 C 4.304688 -0.757812 4.179688 -0.578125 4.015625 -0.421875 C 3.847656 -0.265625 3.632812 -0.140625 3.375 -0.046875 C 3.113281 0.0351562 2.804688 0.078125 2.453125 0.078125 C 2.097656 0.078125 1.789062 0.0351562 1.53125 -0.046875 C 1.269531 -0.140625 1.050781 -0.265625 0.875 -0.421875 C 0.707031 -0.578125 0.582031 -0.757812 0.5 -0.96875 C 0.414062 -1.1875 0.375 -1.421875 0.375 -1.671875 C 0.375 -1.898438 0.40625 -2.097656 0.46875 -2.265625 C 0.539062 -2.441406 0.632812 -2.59375 0.75 -2.71875 C 0.863281 -2.84375 0.992188 -2.941406 1.140625 -3.015625 C 1.285156 -3.085938 1.4375 -3.140625 1.59375 -3.171875 L 1.59375 -3.1875 C 1.414062 -3.226562 1.257812 -3.289062 1.125 -3.375 C 1 -3.46875 0.890625 -3.578125 0.796875 -3.703125 C 0.710938 -3.828125 0.644531 -3.960938 0.59375 -4.109375 C 0.550781 -4.265625 0.53125 -4.425781 0.53125 -4.59375 C 0.53125 -4.800781 0.566406 -5 0.640625 -5.1875 C 0.722656 -5.375 0.84375 -5.535156 1 -5.671875 C 1.164062 -5.816406 1.367188 -5.929688 1.609375 -6.015625 C 1.847656 -6.097656 2.125 -6.140625 2.4375 -6.140625 C 2.757812 -6.140625 3.039062 -6.097656 3.28125 -6.015625 C 3.53125 -5.929688 3.734375 -5.816406 3.890625 -5.671875 C 4.046875 -5.535156 4.160156 -5.375 4.234375 -5.1875 C 4.316406 -5 4.359375 -4.796875 4.359375 -4.578125 C 4.359375 -4.410156 4.332031 -4.25 4.28125 -4.09375 C 4.238281 -3.945312 4.171875 -3.8125 4.078125 -3.6875 C 3.992188 -3.5625 3.882812 -3.457031 3.75 -3.375 C 3.613281 -3.289062 3.457031 -3.226562 3.28125 -3.1875 L 3.28125 -3.171875 C 3.457031 -3.140625 3.617188 -3.085938 3.765625 -3.015625 C 3.921875 -2.941406 4.050781 -2.84375 4.15625 -2.71875 C 4.269531 -2.59375 4.359375 -2.441406 4.421875 -2.265625 C 4.484375 -2.097656 4.515625 -1.90625 4.515625 -1.6875 Z M 3.5625 -4.546875 C 3.5625 -4.691406 3.539062 -4.828125 3.5 -4.953125 C 3.457031 -5.078125 3.390625 -5.1875 3.296875 -5.28125 C 3.210938 -5.375 3.097656 -5.441406 2.953125 -5.484375 C 2.816406 -5.535156 2.644531 -5.5625 2.4375 -5.5625 C 2.226562 -5.5625 2.050781 -5.535156 1.90625 -5.484375 C 1.769531 -5.441406 1.65625 -5.375 1.5625 -5.28125 C 1.476562 -5.1875 1.414062 -5.078125 1.375 -4.953125 C 1.332031 -4.828125 1.3125 -4.691406 1.3125 -4.546875 C 1.3125 -4.421875 1.328125 -4.296875 1.359375 -4.171875 C 1.390625 -4.046875 1.445312 -3.929688 1.53125 -3.828125 C 1.613281 -3.722656 1.726562 -3.632812 1.875 -3.5625 C 2.019531 -3.5 2.207031 -3.46875 2.4375 -3.46875 C 2.6875 -3.46875 2.882812 -3.5 3.03125 -3.5625 C 3.175781 -3.632812 3.285156 -3.722656 3.359375 -3.828125 C 3.441406 -3.929688 3.492188 -4.046875 3.515625 -4.171875 C 3.546875 -4.296875 3.5625 -4.421875 3.5625 -4.546875 Z M 3.703125 -1.765625 C 3.703125 -1.910156 3.679688 -2.050781 3.640625 -2.1875 C 3.609375 -2.320312 3.539062 -2.441406 3.4375 -2.546875 C 3.34375 -2.648438 3.210938 -2.734375 3.046875 -2.796875 C 2.878906 -2.859375 2.675781 -2.890625 2.4375 -2.890625 C 2.207031 -2.890625 2.007812 -2.859375 1.84375 -2.796875 C 1.6875 -2.734375 1.554688 -2.648438 1.453125 -2.546875 C 1.359375 -2.441406 1.289062 -2.316406 1.25 -2.171875 C 1.207031 -2.035156 1.1875 -1.894531 1.1875 -1.75 C 1.1875 -1.5625 1.207031 -1.390625 1.25 -1.234375 C 1.289062 -1.078125 1.363281 -0.941406 1.46875 -0.828125 C 1.570312 -0.722656 1.703125 -0.640625 1.859375 -0.578125 C 2.023438 -0.523438 2.222656 -0.5 2.453125 -0.5 C 2.691406 -0.5 2.890625 -0.523438 3.046875 -0.578125 C 3.210938 -0.640625 3.34375 -0.722656 3.4375 -0.828125 C 3.53125 -0.941406 3.597656 -1.078125 3.640625 -1.234375 C 3.679688 -1.390625 3.703125 -1.566406 3.703125 -1.765625 Z M 3.703125 -1.765625 \"/>\n",
       "</g>\n",
       "<g id=\"glyph-0-5\">\n",
       "<path d=\"M 0.671875 0 L 0.671875 -0.65625 L 2.21875 -0.65625 L 2.21875 -5.3125 L 0.84375 -4.34375 L 0.84375 -5.0625 L 2.28125 -6.046875 L 2.984375 -6.046875 L 2.984375 -0.65625 L 4.46875 -0.65625 L 4.46875 0 Z M 0.671875 0 \"/>\n",
       "</g>\n",
       "<g id=\"glyph-0-6\">\n",
       "<path d=\"M 0.4375 0 L 0.4375 -0.546875 C 0.582031 -0.878906 0.757812 -1.171875 0.96875 -1.421875 C 1.1875 -1.679688 1.410156 -1.914062 1.640625 -2.125 C 1.867188 -2.332031 2.097656 -2.523438 2.328125 -2.703125 C 2.554688 -2.878906 2.757812 -3.054688 2.9375 -3.234375 C 3.125 -3.410156 3.273438 -3.597656 3.390625 -3.796875 C 3.503906 -3.992188 3.5625 -4.210938 3.5625 -4.453125 C 3.5625 -4.628906 3.535156 -4.78125 3.484375 -4.90625 C 3.429688 -5.039062 3.351562 -5.148438 3.25 -5.234375 C 3.15625 -5.328125 3.039062 -5.394531 2.90625 -5.4375 C 2.769531 -5.476562 2.617188 -5.5 2.453125 -5.5 C 2.296875 -5.5 2.148438 -5.476562 2.015625 -5.4375 C 1.878906 -5.394531 1.757812 -5.332031 1.65625 -5.25 C 1.550781 -5.164062 1.460938 -5.054688 1.390625 -4.921875 C 1.328125 -4.796875 1.285156 -4.648438 1.265625 -4.484375 L 0.484375 -4.5625 C 0.503906 -4.78125 0.5625 -4.984375 0.65625 -5.171875 C 0.75 -5.359375 0.878906 -5.523438 1.046875 -5.671875 C 1.210938 -5.816406 1.410156 -5.929688 1.640625 -6.015625 C 1.878906 -6.097656 2.148438 -6.140625 2.453125 -6.140625 C 2.753906 -6.140625 3.019531 -6.101562 3.25 -6.03125 C 3.488281 -5.957031 3.6875 -5.847656 3.84375 -5.703125 C 4.007812 -5.566406 4.132812 -5.394531 4.21875 -5.1875 C 4.3125 -4.988281 4.359375 -4.753906 4.359375 -4.484375 C 4.359375 -4.273438 4.320312 -4.078125 4.25 -3.890625 C 4.175781 -3.710938 4.078125 -3.539062 3.953125 -3.375 C 3.828125 -3.207031 3.6875 -3.046875 3.53125 -2.890625 C 3.375 -2.742188 3.207031 -2.59375 3.03125 -2.4375 C 2.851562 -2.289062 2.675781 -2.144531 2.5 -2 C 2.320312 -1.863281 2.15625 -1.722656 2 -1.578125 C 1.84375 -1.429688 1.703125 -1.28125 1.578125 -1.125 C 1.453125 -0.976562 1.359375 -0.820312 1.296875 -0.65625 L 4.453125 -0.65625 L 4.453125 0 Z M 0.4375 0 \"/>\n",
       "</g>\n",
       "<g id=\"glyph-0-7\">\n",
       "<path d=\"M 4.5 -1.671875 C 4.5 -1.390625 4.453125 -1.140625 4.359375 -0.921875 C 4.273438 -0.703125 4.144531 -0.519531 3.96875 -0.375 C 3.800781 -0.226562 3.585938 -0.113281 3.328125 -0.03125 C 3.078125 0.0390625 2.785156 0.078125 2.453125 0.078125 C 2.078125 0.078125 1.757812 0.0351562 1.5 -0.046875 C 1.25 -0.140625 1.039062 -0.265625 0.875 -0.421875 C 0.707031 -0.578125 0.582031 -0.75 0.5 -0.9375 C 0.414062 -1.132812 0.359375 -1.34375 0.328125 -1.5625 L 1.140625 -1.625 C 1.160156 -1.46875 1.203125 -1.320312 1.265625 -1.1875 C 1.328125 -1.0625 1.410156 -0.945312 1.515625 -0.84375 C 1.617188 -0.75 1.75 -0.675781 1.90625 -0.625 C 2.0625 -0.570312 2.242188 -0.546875 2.453125 -0.546875 C 2.835938 -0.546875 3.140625 -0.640625 3.359375 -0.828125 C 3.585938 -1.023438 3.703125 -1.316406 3.703125 -1.703125 C 3.703125 -1.921875 3.648438 -2.097656 3.546875 -2.234375 C 3.453125 -2.367188 3.332031 -2.472656 3.1875 -2.546875 C 3.039062 -2.628906 2.878906 -2.679688 2.703125 -2.703125 C 2.523438 -2.734375 2.363281 -2.75 2.21875 -2.75 L 1.78125 -2.75 L 1.78125 -3.421875 L 2.203125 -3.421875 C 2.347656 -3.421875 2.5 -3.429688 2.65625 -3.453125 C 2.820312 -3.484375 2.96875 -3.535156 3.09375 -3.609375 C 3.226562 -3.691406 3.335938 -3.800781 3.421875 -3.9375 C 3.503906 -4.070312 3.546875 -4.242188 3.546875 -4.453125 C 3.546875 -4.773438 3.445312 -5.03125 3.25 -5.21875 C 3.0625 -5.40625 2.78125 -5.5 2.40625 -5.5 C 2.070312 -5.5 1.796875 -5.410156 1.578125 -5.234375 C 1.367188 -5.066406 1.25 -4.820312 1.21875 -4.5 L 0.4375 -4.5625 C 0.46875 -4.832031 0.539062 -5.066406 0.65625 -5.265625 C 0.769531 -5.460938 0.914062 -5.625 1.09375 -5.75 C 1.269531 -5.882812 1.46875 -5.984375 1.6875 -6.046875 C 1.914062 -6.109375 2.160156 -6.140625 2.421875 -6.140625 C 2.753906 -6.140625 3.039062 -6.097656 3.28125 -6.015625 C 3.53125 -5.929688 3.734375 -5.816406 3.890625 -5.671875 C 4.046875 -5.523438 4.160156 -5.351562 4.234375 -5.15625 C 4.304688 -4.96875 4.34375 -4.765625 4.34375 -4.546875 C 4.34375 -4.367188 4.316406 -4.203125 4.265625 -4.046875 C 4.210938 -3.890625 4.132812 -3.75 4.03125 -3.625 C 3.9375 -3.5 3.804688 -3.390625 3.640625 -3.296875 C 3.484375 -3.210938 3.296875 -3.148438 3.078125 -3.109375 L 3.078125 -3.09375 C 3.316406 -3.0625 3.523438 -3.003906 3.703125 -2.921875 C 3.890625 -2.835938 4.039062 -2.734375 4.15625 -2.609375 C 4.269531 -2.484375 4.351562 -2.335938 4.40625 -2.171875 C 4.46875 -2.015625 4.5 -1.847656 4.5 -1.671875 Z M 4.5 -1.671875 \"/>\n",
       "</g>\n",
       "<g id=\"glyph-0-8\">\n",
       "<path d=\"M 4.515625 -1.96875 C 4.515625 -1.664062 4.46875 -1.390625 4.375 -1.140625 C 4.289062 -0.890625 4.15625 -0.671875 3.96875 -0.484375 C 3.789062 -0.304688 3.566406 -0.164062 3.296875 -0.0625 C 3.035156 0.03125 2.726562 0.078125 2.375 0.078125 C 2.0625 0.078125 1.785156 0.0390625 1.546875 -0.03125 C 1.304688 -0.101562 1.101562 -0.203125 0.9375 -0.328125 C 0.78125 -0.460938 0.648438 -0.613281 0.546875 -0.78125 C 0.453125 -0.957031 0.390625 -1.148438 0.359375 -1.359375 L 1.140625 -1.4375 C 1.171875 -1.320312 1.210938 -1.210938 1.265625 -1.109375 C 1.328125 -1.003906 1.40625 -0.910156 1.5 -0.828125 C 1.601562 -0.742188 1.722656 -0.675781 1.859375 -0.625 C 2.003906 -0.570312 2.179688 -0.546875 2.390625 -0.546875 C 2.585938 -0.546875 2.769531 -0.578125 2.9375 -0.640625 C 3.101562 -0.703125 3.242188 -0.789062 3.359375 -0.90625 C 3.472656 -1.03125 3.5625 -1.175781 3.625 -1.34375 C 3.6875 -1.519531 3.71875 -1.722656 3.71875 -1.953125 C 3.71875 -2.140625 3.6875 -2.3125 3.625 -2.46875 C 3.570312 -2.625 3.488281 -2.757812 3.375 -2.875 C 3.257812 -2.988281 3.117188 -3.078125 2.953125 -3.140625 C 2.796875 -3.203125 2.613281 -3.234375 2.40625 -3.234375 C 2.28125 -3.234375 2.160156 -3.21875 2.046875 -3.1875 C 1.941406 -3.164062 1.84375 -3.132812 1.75 -3.09375 C 1.65625 -3.0625 1.570312 -3.015625 1.5 -2.953125 C 1.425781 -2.898438 1.351562 -2.847656 1.28125 -2.796875 L 0.53125 -2.796875 L 0.734375 -6.046875 L 4.171875 -6.046875 L 4.171875 -5.390625 L 1.4375 -5.390625 L 1.3125 -3.46875 C 1.457031 -3.582031 1.628906 -3.675781 1.828125 -3.75 C 2.035156 -3.820312 2.28125 -3.859375 2.5625 -3.859375 C 2.863281 -3.859375 3.132812 -3.8125 3.375 -3.71875 C 3.613281 -3.632812 3.816406 -3.503906 3.984375 -3.328125 C 4.160156 -3.160156 4.289062 -2.960938 4.375 -2.734375 C 4.46875 -2.503906 4.515625 -2.25 4.515625 -1.96875 Z M 4.515625 -1.96875 \"/>\n",
       "</g>\n",
       "<g id=\"glyph-0-9\">\n",
       "<path d=\"M 4.453125 -5.421875 C 4.148438 -4.960938 3.867188 -4.515625 3.609375 -4.078125 C 3.359375 -3.648438 3.140625 -3.21875 2.953125 -2.78125 C 2.773438 -2.351562 2.632812 -1.910156 2.53125 -1.453125 C 2.425781 -0.992188 2.375 -0.507812 2.375 0 L 1.5625 0 C 1.5625 -0.476562 1.617188 -0.953125 1.734375 -1.421875 C 1.847656 -1.890625 2.003906 -2.347656 2.203125 -2.796875 C 2.398438 -3.242188 2.625 -3.679688 2.875 -4.109375 C 3.132812 -4.546875 3.410156 -4.972656 3.703125 -5.390625 L 0.453125 -5.390625 L 0.453125 -6.046875 L 4.453125 -6.046875 Z M 4.453125 -5.421875 \"/>\n",
       "</g>\n",
       "<g id=\"glyph-0-10\">\n",
       "<path d=\"M 4.46875 -3.15625 C 4.46875 -2.613281 4.414062 -2.140625 4.3125 -1.734375 C 4.21875 -1.328125 4.078125 -0.988281 3.890625 -0.71875 C 3.703125 -0.445312 3.472656 -0.242188 3.203125 -0.109375 C 2.929688 0.015625 2.625 0.078125 2.28125 0.078125 C 2.050781 0.078125 1.84375 0.0507812 1.65625 0 C 1.46875 -0.0390625 1.300781 -0.109375 1.15625 -0.203125 C 1.007812 -0.304688 0.882812 -0.4375 0.78125 -0.59375 C 0.675781 -0.757812 0.59375 -0.953125 0.53125 -1.171875 L 1.28125 -1.296875 C 1.351562 -1.035156 1.472656 -0.84375 1.640625 -0.71875 C 1.816406 -0.59375 2.035156 -0.53125 2.296875 -0.53125 C 2.503906 -0.53125 2.691406 -0.578125 2.859375 -0.671875 C 3.035156 -0.773438 3.1875 -0.925781 3.3125 -1.125 C 3.4375 -1.320312 3.53125 -1.566406 3.59375 -1.859375 C 3.664062 -2.160156 3.707031 -2.515625 3.71875 -2.921875 C 3.65625 -2.785156 3.570312 -2.664062 3.46875 -2.5625 C 3.363281 -2.457031 3.242188 -2.367188 3.109375 -2.296875 C 2.972656 -2.222656 2.828125 -2.164062 2.671875 -2.125 C 2.515625 -2.082031 2.359375 -2.0625 2.203125 -2.0625 C 1.929688 -2.0625 1.679688 -2.109375 1.453125 -2.203125 C 1.234375 -2.304688 1.046875 -2.445312 0.890625 -2.625 C 0.742188 -2.800781 0.625 -3.015625 0.53125 -3.265625 C 0.445312 -3.515625 0.40625 -3.796875 0.40625 -4.109375 C 0.40625 -4.421875 0.453125 -4.703125 0.546875 -4.953125 C 0.640625 -5.203125 0.769531 -5.414062 0.9375 -5.59375 C 1.113281 -5.769531 1.328125 -5.90625 1.578125 -6 C 1.828125 -6.09375 2.109375 -6.140625 2.421875 -6.140625 C 3.097656 -6.140625 3.609375 -5.890625 3.953125 -5.390625 C 4.296875 -4.890625 4.46875 -4.144531 4.46875 -3.15625 Z M 3.640625 -3.890625 C 3.640625 -4.117188 3.609375 -4.332031 3.546875 -4.53125 C 3.492188 -4.726562 3.414062 -4.898438 3.3125 -5.046875 C 3.207031 -5.191406 3.078125 -5.304688 2.921875 -5.390625 C 2.773438 -5.472656 2.601562 -5.515625 2.40625 -5.515625 C 2.21875 -5.515625 2.046875 -5.476562 1.890625 -5.40625 C 1.742188 -5.34375 1.617188 -5.25 1.515625 -5.125 C 1.410156 -5.007812 1.332031 -4.863281 1.28125 -4.6875 C 1.226562 -4.507812 1.203125 -4.316406 1.203125 -4.109375 C 1.203125 -3.898438 1.222656 -3.707031 1.265625 -3.53125 C 1.316406 -3.363281 1.394531 -3.210938 1.5 -3.078125 C 1.601562 -2.953125 1.726562 -2.851562 1.875 -2.78125 C 2.019531 -2.707031 2.191406 -2.671875 2.390625 -2.671875 C 2.535156 -2.671875 2.679688 -2.695312 2.828125 -2.75 C 2.972656 -2.800781 3.101562 -2.875 3.21875 -2.96875 C 3.34375 -3.070312 3.441406 -3.195312 3.515625 -3.34375 C 3.597656 -3.5 3.640625 -3.679688 3.640625 -3.890625 Z M 3.640625 -3.890625 \"/>\n",
       "</g>\n",
       "<g id=\"glyph-1-0\">\n",
       "<path d=\"M 5.8125 0 L 1.765625 -6.453125 C 1.765625 -6.273438 1.769531 -6.097656 1.78125 -5.921875 C 1.789062 -5.773438 1.796875 -5.617188 1.796875 -5.453125 C 1.804688 -5.296875 1.8125 -5.15625 1.8125 -5.03125 L 1.8125 0 L 0.90625 0 L 0.90625 -7.5625 L 2.09375 -7.5625 L 6.1875 -1.078125 C 6.175781 -1.253906 6.164062 -1.429688 6.15625 -1.609375 C 6.144531 -1.753906 6.132812 -1.914062 6.125 -2.09375 C 6.125 -2.269531 6.125 -2.441406 6.125 -2.609375 L 6.125 -7.5625 L 7.046875 -7.5625 L 7.046875 0 Z M 5.8125 0 \"/>\n",
       "</g>\n",
       "<g id=\"glyph-1-1\">\n",
       "<path d=\"M 1.484375 -2.703125 C 1.484375 -2.398438 1.515625 -2.117188 1.578125 -1.859375 C 1.640625 -1.609375 1.734375 -1.390625 1.859375 -1.203125 C 1.992188 -1.015625 2.160156 -0.867188 2.359375 -0.765625 C 2.566406 -0.671875 2.816406 -0.625 3.109375 -0.625 C 3.523438 -0.625 3.859375 -0.707031 4.109375 -0.875 C 4.359375 -1.039062 4.53125 -1.253906 4.625 -1.515625 L 5.46875 -1.265625 C 5.40625 -1.109375 5.316406 -0.945312 5.203125 -0.78125 C 5.097656 -0.613281 4.953125 -0.460938 4.765625 -0.328125 C 4.585938 -0.203125 4.363281 -0.0976562 4.09375 -0.015625 C 3.820312 0.0664062 3.492188 0.109375 3.109375 0.109375 C 2.242188 0.109375 1.585938 -0.144531 1.140625 -0.65625 C 0.691406 -1.164062 0.46875 -1.925781 0.46875 -2.9375 C 0.46875 -3.488281 0.535156 -3.953125 0.671875 -4.328125 C 0.804688 -4.703125 0.988281 -5.007812 1.21875 -5.25 C 1.457031 -5.488281 1.734375 -5.660156 2.046875 -5.765625 C 2.367188 -5.867188 2.707031 -5.921875 3.0625 -5.921875 C 3.550781 -5.921875 3.957031 -5.84375 4.28125 -5.6875 C 4.613281 -5.53125 4.878906 -5.3125 5.078125 -5.03125 C 5.273438 -4.75 5.414062 -4.421875 5.5 -4.046875 C 5.582031 -3.671875 5.625 -3.265625 5.625 -2.828125 L 5.625 -2.703125 Z M 4.625 -3.4375 C 4.570312 -4.050781 4.414062 -4.5 4.15625 -4.78125 C 3.90625 -5.0625 3.535156 -5.203125 3.046875 -5.203125 C 2.890625 -5.203125 2.722656 -5.175781 2.546875 -5.125 C 2.367188 -5.070312 2.203125 -4.976562 2.046875 -4.84375 C 1.898438 -4.71875 1.773438 -4.539062 1.671875 -4.3125 C 1.566406 -4.082031 1.507812 -3.789062 1.5 -3.4375 Z M 4.625 -3.4375 \"/>\n",
       "</g>\n",
       "<g id=\"glyph-1-2\">\n",
       "<path d=\"M 0.734375 -7.046875 L 0.734375 -7.96875 L 1.703125 -7.96875 L 1.703125 -7.046875 Z M 0.734375 0 L 0.734375 -5.8125 L 1.703125 -5.8125 L 1.703125 0 Z M 0.734375 0 \"/>\n",
       "</g>\n",
       "<g id=\"glyph-1-3\">\n",
       "<path d=\"M 2.9375 2.28125 C 2.601562 2.28125 2.304688 2.242188 2.046875 2.171875 C 1.796875 2.109375 1.578125 2.015625 1.390625 1.890625 C 1.210938 1.765625 1.066406 1.613281 0.953125 1.4375 C 0.835938 1.257812 0.753906 1.0625 0.703125 0.84375 L 1.671875 0.703125 C 1.734375 0.972656 1.875 1.179688 2.09375 1.328125 C 2.320312 1.472656 2.613281 1.546875 2.96875 1.546875 C 3.1875 1.546875 3.382812 1.515625 3.5625 1.453125 C 3.738281 1.390625 3.890625 1.289062 4.015625 1.15625 C 4.148438 1.03125 4.25 0.859375 4.3125 0.640625 C 4.382812 0.421875 4.421875 0.160156 4.421875 -0.140625 L 4.421875 -1.078125 L 4.40625 -1.078125 C 4.332031 -0.929688 4.242188 -0.789062 4.140625 -0.65625 C 4.035156 -0.519531 3.90625 -0.398438 3.75 -0.296875 C 3.601562 -0.191406 3.425781 -0.109375 3.21875 -0.046875 C 3.019531 0.015625 2.789062 0.046875 2.53125 0.046875 C 2.164062 0.046875 1.847656 -0.015625 1.578125 -0.140625 C 1.316406 -0.265625 1.101562 -0.445312 0.9375 -0.6875 C 0.769531 -0.9375 0.648438 -1.242188 0.578125 -1.609375 C 0.503906 -1.984375 0.46875 -2.410156 0.46875 -2.890625 C 0.46875 -3.359375 0.503906 -3.773438 0.578125 -4.140625 C 0.648438 -4.515625 0.773438 -4.832031 0.953125 -5.09375 C 1.128906 -5.351562 1.351562 -5.550781 1.625 -5.6875 C 1.90625 -5.832031 2.242188 -5.90625 2.640625 -5.90625 C 3.054688 -5.90625 3.414062 -5.8125 3.71875 -5.625 C 4.019531 -5.4375 4.253906 -5.164062 4.421875 -4.8125 C 4.421875 -4.90625 4.421875 -5.003906 4.421875 -5.109375 C 4.429688 -5.222656 4.4375 -5.328125 4.4375 -5.421875 C 4.445312 -5.523438 4.457031 -5.613281 4.46875 -5.6875 C 4.476562 -5.757812 4.484375 -5.800781 4.484375 -5.8125 L 5.40625 -5.8125 C 5.40625 -5.78125 5.398438 -5.722656 5.390625 -5.640625 C 5.390625 -5.566406 5.382812 -5.472656 5.375 -5.359375 C 5.375 -5.253906 5.375 -5.132812 5.375 -5 C 5.375 -4.875 5.375 -4.742188 5.375 -4.609375 L 5.375 -0.171875 C 5.375 0.640625 5.171875 1.25 4.765625 1.65625 C 4.367188 2.070312 3.757812 2.28125 2.9375 2.28125 Z M 4.421875 -2.90625 C 4.421875 -3.3125 4.375 -3.65625 4.28125 -3.9375 C 4.195312 -4.226562 4.082031 -4.460938 3.9375 -4.640625 C 3.789062 -4.828125 3.625 -4.960938 3.4375 -5.046875 C 3.257812 -5.140625 3.070312 -5.1875 2.875 -5.1875 C 2.632812 -5.1875 2.425781 -5.140625 2.25 -5.046875 C 2.070312 -4.960938 1.921875 -4.828125 1.796875 -4.640625 C 1.679688 -4.460938 1.597656 -4.226562 1.546875 -3.9375 C 1.492188 -3.644531 1.46875 -3.300781 1.46875 -2.90625 C 1.46875 -2.488281 1.492188 -2.132812 1.546875 -1.84375 C 1.597656 -1.5625 1.679688 -1.332031 1.796875 -1.15625 C 1.910156 -0.976562 2.054688 -0.851562 2.234375 -0.78125 C 2.410156 -0.707031 2.617188 -0.671875 2.859375 -0.671875 C 3.054688 -0.671875 3.242188 -0.710938 3.421875 -0.796875 C 3.609375 -0.878906 3.773438 -1.007812 3.921875 -1.1875 C 4.066406 -1.363281 4.1875 -1.59375 4.28125 -1.875 C 4.375 -2.15625 4.421875 -2.5 4.421875 -2.90625 Z M 4.421875 -2.90625 \"/>\n",
       "</g>\n",
       "<g id=\"glyph-1-4\">\n",
       "<path d=\"M 1.703125 -4.8125 C 1.804688 -5.007812 1.921875 -5.175781 2.046875 -5.3125 C 2.171875 -5.457031 2.304688 -5.570312 2.453125 -5.65625 C 2.609375 -5.75 2.773438 -5.816406 2.953125 -5.859375 C 3.140625 -5.898438 3.34375 -5.921875 3.5625 -5.921875 C 3.9375 -5.921875 4.238281 -5.867188 4.46875 -5.765625 C 4.707031 -5.671875 4.894531 -5.53125 5.03125 -5.34375 C 5.175781 -5.164062 5.273438 -4.953125 5.328125 -4.703125 C 5.378906 -4.453125 5.40625 -4.175781 5.40625 -3.875 L 5.40625 0 L 4.4375 0 L 4.4375 -3.6875 C 4.4375 -3.9375 4.421875 -4.148438 4.390625 -4.328125 C 4.359375 -4.515625 4.296875 -4.671875 4.203125 -4.796875 C 4.117188 -4.921875 4 -5.015625 3.84375 -5.078125 C 3.6875 -5.140625 3.484375 -5.171875 3.234375 -5.171875 C 3.003906 -5.171875 2.796875 -5.128906 2.609375 -5.046875 C 2.429688 -4.960938 2.273438 -4.84375 2.140625 -4.6875 C 2.003906 -4.539062 1.898438 -4.359375 1.828125 -4.140625 C 1.765625 -3.929688 1.734375 -3.691406 1.734375 -3.421875 L 1.734375 0 L 0.765625 0 L 0.765625 -7.96875 L 1.734375 -7.96875 L 1.734375 -5.890625 C 1.734375 -5.773438 1.726562 -5.65625 1.71875 -5.53125 C 1.71875 -5.414062 1.710938 -5.304688 1.703125 -5.203125 C 1.703125 -5.109375 1.695312 -5.023438 1.6875 -4.953125 C 1.6875 -4.890625 1.6875 -4.84375 1.6875 -4.8125 Z M 1.703125 -4.8125 \"/>\n",
       "</g>\n",
       "<g id=\"glyph-1-5\">\n",
       "<path d=\"M 5.65625 -2.9375 C 5.65625 -0.90625 4.941406 0.109375 3.515625 0.109375 C 3.078125 0.109375 2.710938 0.03125 2.421875 -0.125 C 2.128906 -0.289062 1.890625 -0.550781 1.703125 -0.90625 C 1.703125 -0.8125 1.695312 -0.710938 1.6875 -0.609375 C 1.6875 -0.515625 1.679688 -0.421875 1.671875 -0.328125 C 1.671875 -0.242188 1.664062 -0.171875 1.65625 -0.109375 C 1.65625 -0.046875 1.648438 -0.0078125 1.640625 0 L 0.703125 0 C 0.710938 -0.03125 0.71875 -0.0820312 0.71875 -0.15625 C 0.71875 -0.238281 0.71875 -0.332031 0.71875 -0.4375 C 0.726562 -0.550781 0.734375 -0.671875 0.734375 -0.796875 C 0.734375 -0.921875 0.734375 -1.054688 0.734375 -1.203125 L 0.734375 -7.96875 L 1.703125 -7.96875 L 1.703125 -5.703125 C 1.703125 -5.585938 1.703125 -5.484375 1.703125 -5.390625 C 1.703125 -5.296875 1.703125 -5.207031 1.703125 -5.125 C 1.691406 -5.039062 1.6875 -4.957031 1.6875 -4.875 L 1.703125 -4.875 C 1.890625 -5.25 2.128906 -5.515625 2.421875 -5.671875 C 2.710938 -5.835938 3.078125 -5.921875 3.515625 -5.921875 C 4.253906 -5.921875 4.796875 -5.671875 5.140625 -5.171875 C 5.484375 -4.679688 5.65625 -3.9375 5.65625 -2.9375 Z M 4.640625 -2.90625 C 4.640625 -3.300781 4.613281 -3.640625 4.5625 -3.921875 C 4.507812 -4.210938 4.425781 -4.453125 4.3125 -4.640625 C 4.207031 -4.828125 4.066406 -4.960938 3.890625 -5.046875 C 3.722656 -5.128906 3.515625 -5.171875 3.265625 -5.171875 C 3.015625 -5.171875 2.789062 -5.128906 2.59375 -5.046875 C 2.394531 -4.960938 2.226562 -4.828125 2.09375 -4.640625 C 1.96875 -4.460938 1.867188 -4.222656 1.796875 -3.921875 C 1.734375 -3.628906 1.703125 -3.269531 1.703125 -2.84375 C 1.703125 -2.425781 1.734375 -2.078125 1.796875 -1.796875 C 1.867188 -1.515625 1.96875 -1.285156 2.09375 -1.109375 C 2.226562 -0.929688 2.394531 -0.800781 2.59375 -0.71875 C 2.789062 -0.644531 3.015625 -0.609375 3.265625 -0.609375 C 3.492188 -0.609375 3.691406 -0.648438 3.859375 -0.734375 C 4.035156 -0.816406 4.179688 -0.945312 4.296875 -1.125 C 4.410156 -1.3125 4.492188 -1.550781 4.546875 -1.84375 C 4.609375 -2.132812 4.640625 -2.488281 4.640625 -2.90625 Z M 4.640625 -2.90625 \"/>\n",
       "</g>\n",
       "<g id=\"glyph-1-6\">\n",
       "<path d=\"M 5.65625 -2.90625 C 5.65625 -1.894531 5.429688 -1.140625 4.984375 -0.640625 C 4.535156 -0.140625 3.882812 0.109375 3.03125 0.109375 C 2.625 0.109375 2.257812 0.046875 1.9375 -0.078125 C 1.625 -0.203125 1.359375 -0.390625 1.140625 -0.640625 C 0.921875 -0.890625 0.753906 -1.203125 0.640625 -1.578125 C 0.523438 -1.953125 0.46875 -2.394531 0.46875 -2.90625 C 0.46875 -4.914062 1.332031 -5.921875 3.0625 -5.921875 C 3.519531 -5.921875 3.910156 -5.859375 4.234375 -5.734375 C 4.566406 -5.609375 4.835938 -5.421875 5.046875 -5.171875 C 5.253906 -4.921875 5.40625 -4.601562 5.5 -4.21875 C 5.601562 -3.84375 5.65625 -3.40625 5.65625 -2.90625 Z M 4.640625 -2.90625 C 4.640625 -3.363281 4.601562 -3.738281 4.53125 -4.03125 C 4.46875 -4.320312 4.367188 -4.554688 4.234375 -4.734375 C 4.097656 -4.910156 3.929688 -5.03125 3.734375 -5.09375 C 3.546875 -5.164062 3.328125 -5.203125 3.078125 -5.203125 C 2.835938 -5.203125 2.613281 -5.164062 2.40625 -5.09375 C 2.207031 -5.019531 2.039062 -4.894531 1.90625 -4.71875 C 1.769531 -4.539062 1.664062 -4.304688 1.59375 -4.015625 C 1.519531 -3.722656 1.484375 -3.351562 1.484375 -2.90625 C 1.484375 -2.457031 1.519531 -2.082031 1.59375 -1.78125 C 1.675781 -1.488281 1.785156 -1.253906 1.921875 -1.078125 C 2.054688 -0.910156 2.21875 -0.789062 2.40625 -0.71875 C 2.59375 -0.644531 2.800781 -0.609375 3.03125 -0.609375 C 3.269531 -0.609375 3.488281 -0.640625 3.6875 -0.703125 C 3.894531 -0.773438 4.066406 -0.898438 4.203125 -1.078125 C 4.347656 -1.253906 4.457031 -1.488281 4.53125 -1.78125 C 4.601562 -2.082031 4.640625 -2.457031 4.640625 -2.90625 Z M 4.640625 -2.90625 \"/>\n",
       "</g>\n",
       "<g id=\"glyph-1-7\">\n",
       "<path d=\"M 0.765625 0 L 0.765625 -4.453125 C 0.765625 -4.578125 0.757812 -4.703125 0.75 -4.828125 C 0.75 -4.953125 0.75 -5.070312 0.75 -5.1875 C 0.75 -5.3125 0.742188 -5.425781 0.734375 -5.53125 C 0.734375 -5.632812 0.734375 -5.726562 0.734375 -5.8125 L 1.640625 -5.8125 C 1.648438 -5.726562 1.65625 -5.632812 1.65625 -5.53125 C 1.664062 -5.425781 1.671875 -5.316406 1.671875 -5.203125 C 1.679688 -5.085938 1.6875 -4.976562 1.6875 -4.875 C 1.6875 -4.78125 1.6875 -4.695312 1.6875 -4.625 L 1.703125 -4.625 C 1.773438 -4.84375 1.847656 -5.035156 1.921875 -5.203125 C 2.003906 -5.367188 2.097656 -5.503906 2.203125 -5.609375 C 2.304688 -5.710938 2.425781 -5.789062 2.5625 -5.84375 C 2.707031 -5.894531 2.882812 -5.921875 3.09375 -5.921875 C 3.164062 -5.921875 3.238281 -5.910156 3.3125 -5.890625 C 3.382812 -5.878906 3.441406 -5.867188 3.484375 -5.859375 L 3.484375 -4.984375 C 3.421875 -4.992188 3.34375 -5.003906 3.25 -5.015625 C 3.164062 -5.023438 3.070312 -5.03125 2.96875 -5.03125 C 2.738281 -5.03125 2.546875 -4.976562 2.390625 -4.875 C 2.242188 -4.78125 2.117188 -4.644531 2.015625 -4.46875 C 1.921875 -4.289062 1.847656 -4.078125 1.796875 -3.828125 C 1.753906 -3.585938 1.734375 -3.320312 1.734375 -3.03125 L 1.734375 0 Z M 0.765625 0 \"/>\n",
       "</g>\n",
       "<g id=\"glyph-1-8\">\n",
       "<path d=\"M 5.109375 -1.609375 C 5.109375 -1.335938 5.050781 -1.09375 4.9375 -0.875 C 4.832031 -0.664062 4.679688 -0.488281 4.484375 -0.34375 C 4.285156 -0.195312 4.039062 -0.0820312 3.75 0 C 3.457031 0.0703125 3.125 0.109375 2.75 0.109375 C 2.40625 0.109375 2.097656 0.0820312 1.828125 0.03125 C 1.554688 -0.0195312 1.316406 -0.101562 1.109375 -0.21875 C 0.910156 -0.332031 0.742188 -0.484375 0.609375 -0.671875 C 0.472656 -0.859375 0.375 -1.085938 0.3125 -1.359375 L 1.15625 -1.53125 C 1.238281 -1.21875 1.410156 -0.988281 1.671875 -0.84375 C 1.929688 -0.695312 2.289062 -0.625 2.75 -0.625 C 2.957031 -0.625 3.144531 -0.640625 3.3125 -0.671875 C 3.488281 -0.703125 3.640625 -0.75 3.765625 -0.8125 C 3.890625 -0.882812 3.984375 -0.976562 4.046875 -1.09375 C 4.117188 -1.207031 4.15625 -1.351562 4.15625 -1.53125 C 4.15625 -1.707031 4.113281 -1.847656 4.03125 -1.953125 C 3.957031 -2.066406 3.84375 -2.160156 3.6875 -2.234375 C 3.539062 -2.316406 3.363281 -2.382812 3.15625 -2.4375 C 2.945312 -2.5 2.71875 -2.5625 2.46875 -2.625 C 2.238281 -2.6875 2.007812 -2.753906 1.78125 -2.828125 C 1.550781 -2.898438 1.34375 -3 1.15625 -3.125 C 0.96875 -3.25 0.816406 -3.398438 0.703125 -3.578125 C 0.585938 -3.765625 0.53125 -4 0.53125 -4.28125 C 0.53125 -4.8125 0.71875 -5.210938 1.09375 -5.484375 C 1.476562 -5.765625 2.03125 -5.90625 2.75 -5.90625 C 3.394531 -5.90625 3.90625 -5.789062 4.28125 -5.5625 C 4.65625 -5.332031 4.894531 -4.972656 5 -4.484375 L 4.125 -4.375 C 4.09375 -4.519531 4.035156 -4.644531 3.953125 -4.75 C 3.867188 -4.851562 3.765625 -4.9375 3.640625 -5 C 3.515625 -5.0625 3.375 -5.101562 3.21875 -5.125 C 3.070312 -5.15625 2.914062 -5.171875 2.75 -5.171875 C 2.3125 -5.171875 1.988281 -5.101562 1.78125 -4.96875 C 1.582031 -4.84375 1.484375 -4.644531 1.484375 -4.375 C 1.484375 -4.21875 1.519531 -4.085938 1.59375 -3.984375 C 1.664062 -3.878906 1.769531 -3.789062 1.90625 -3.71875 C 2.050781 -3.65625 2.21875 -3.597656 2.40625 -3.546875 C 2.601562 -3.492188 2.816406 -3.4375 3.046875 -3.375 C 3.203125 -3.332031 3.359375 -3.289062 3.515625 -3.25 C 3.679688 -3.207031 3.835938 -3.15625 3.984375 -3.09375 C 4.140625 -3.03125 4.285156 -2.957031 4.421875 -2.875 C 4.554688 -2.789062 4.671875 -2.6875 4.765625 -2.5625 C 4.867188 -2.445312 4.953125 -2.3125 5.015625 -2.15625 C 5.078125 -2 5.109375 -1.816406 5.109375 -1.609375 Z M 5.109375 -1.609375 \"/>\n",
       "</g>\n",
       "<g id=\"glyph-2-0\">\n",
       "<path d=\"M 0 -6.265625 L -2.21875 -5.40625 L -2.21875 -1.953125 L 0 -1.078125 L 0 -0.015625 L -7.5625 -3.109375 L -7.5625 -4.28125 L 0 -7.3125 Z M -5.515625 -4.125 C -5.648438 -4.070312 -5.789062 -4.019531 -5.9375 -3.96875 C -6.09375 -3.914062 -6.226562 -3.867188 -6.34375 -3.828125 C -6.46875 -3.785156 -6.566406 -3.75 -6.640625 -3.71875 C -6.722656 -3.695312 -6.773438 -3.679688 -6.796875 -3.671875 C -6.773438 -3.671875 -6.722656 -3.65625 -6.640625 -3.625 C -6.554688 -3.601562 -6.453125 -3.570312 -6.328125 -3.53125 C -6.210938 -3.488281 -6.082031 -3.441406 -5.9375 -3.390625 C -5.789062 -3.335938 -5.644531 -3.285156 -5.5 -3.234375 L -3.015625 -2.265625 L -3.015625 -5.09375 Z M -5.515625 -4.125 \"/>\n",
       "</g>\n",
       "<g id=\"glyph-2-1\">\n",
       "<path d=\"M -2.9375 -1.484375 C -2.601562 -1.484375 -2.296875 -1.503906 -2.015625 -1.546875 C -1.734375 -1.597656 -1.488281 -1.679688 -1.28125 -1.796875 C -1.082031 -1.910156 -0.925781 -2.0625 -0.8125 -2.25 C -0.707031 -2.4375 -0.65625 -2.664062 -0.65625 -2.9375 C -0.65625 -3.28125 -0.75 -3.566406 -0.9375 -3.796875 C -1.125 -4.035156 -1.410156 -4.179688 -1.796875 -4.234375 L -1.734375 -5.203125 C -1.492188 -5.171875 -1.257812 -5.101562 -1.03125 -5 C -0.8125 -4.894531 -0.617188 -4.75 -0.453125 -4.5625 C -0.285156 -4.375 -0.148438 -4.144531 -0.046875 -3.875 C 0.0546875 -3.613281 0.109375 -3.3125 0.109375 -2.96875 C 0.109375 -2.507812 0.03125 -2.117188 -0.125 -1.796875 C -0.28125 -1.484375 -0.492188 -1.226562 -0.765625 -1.03125 C -1.035156 -0.832031 -1.351562 -0.6875 -1.71875 -0.59375 C -2.082031 -0.507812 -2.476562 -0.46875 -2.90625 -0.46875 C -3.300781 -0.46875 -3.644531 -0.5 -3.9375 -0.5625 C -4.238281 -0.625 -4.5 -0.710938 -4.71875 -0.828125 C -4.945312 -0.953125 -5.132812 -1.09375 -5.28125 -1.25 C -5.4375 -1.40625 -5.5625 -1.570312 -5.65625 -1.75 C -5.75 -1.9375 -5.816406 -2.128906 -5.859375 -2.328125 C -5.898438 -2.535156 -5.921875 -2.742188 -5.921875 -2.953125 C -5.921875 -3.285156 -5.875 -3.578125 -5.78125 -3.828125 C -5.695312 -4.085938 -5.578125 -4.304688 -5.421875 -4.484375 C -5.265625 -4.671875 -5.078125 -4.820312 -4.859375 -4.9375 C -4.648438 -5.050781 -4.425781 -5.128906 -4.1875 -5.171875 L -4.109375 -4.1875 C -4.429688 -4.132812 -4.6875 -4.003906 -4.875 -3.796875 C -5.0625 -3.597656 -5.15625 -3.3125 -5.15625 -2.9375 C -5.15625 -2.65625 -5.109375 -2.421875 -5.015625 -2.234375 C -4.929688 -2.054688 -4.796875 -1.910156 -4.609375 -1.796875 C -4.421875 -1.679688 -4.1875 -1.597656 -3.90625 -1.546875 C -3.632812 -1.503906 -3.3125 -1.484375 -2.9375 -1.484375 Z M -2.9375 -1.484375 \"/>\n",
       "</g>\n",
       "<g id=\"glyph-2-2\">\n",
       "<path d=\"M -5.8125 -1.6875 L -2.125 -1.6875 C -1.84375 -1.6875 -1.609375 -1.707031 -1.421875 -1.75 C -1.234375 -1.789062 -1.078125 -1.859375 -0.953125 -1.953125 C -0.835938 -2.046875 -0.753906 -2.164062 -0.703125 -2.3125 C -0.660156 -2.46875 -0.640625 -2.660156 -0.640625 -2.890625 C -0.640625 -3.117188 -0.675781 -3.320312 -0.75 -3.5 C -0.832031 -3.6875 -0.953125 -3.84375 -1.109375 -3.96875 C -1.265625 -4.101562 -1.453125 -4.207031 -1.671875 -4.28125 C -1.898438 -4.351562 -2.15625 -4.390625 -2.4375 -4.390625 L -5.8125 -4.390625 L -5.8125 -5.359375 L -1.234375 -5.359375 C -1.117188 -5.359375 -0.992188 -5.359375 -0.859375 -5.359375 C -0.722656 -5.359375 -0.59375 -5.359375 -0.46875 -5.359375 C -0.351562 -5.367188 -0.25 -5.375 -0.15625 -5.375 C -0.0703125 -5.375 -0.0195312 -5.378906 0 -5.390625 L 0 -4.46875 C -0.0195312 -4.46875 -0.0664062 -4.460938 -0.140625 -4.453125 C -0.222656 -4.453125 -0.3125 -4.445312 -0.40625 -4.4375 C -0.507812 -4.4375 -0.613281 -4.4375 -0.71875 -4.4375 C -0.832031 -4.4375 -0.925781 -4.4375 -1 -4.4375 L -1 -4.421875 C -0.820312 -4.328125 -0.664062 -4.222656 -0.53125 -4.109375 C -0.394531 -3.992188 -0.28125 -3.863281 -0.1875 -3.71875 C -0.09375 -3.570312 -0.0195312 -3.40625 0.03125 -3.21875 C 0.0820312 -3.03125 0.109375 -2.8125 0.109375 -2.5625 C 0.109375 -2.238281 0.0703125 -1.957031 0 -1.71875 C -0.0820312 -1.488281 -0.207031 -1.296875 -0.375 -1.140625 C -0.539062 -0.992188 -0.75 -0.882812 -1 -0.8125 C -1.257812 -0.75 -1.570312 -0.71875 -1.9375 -0.71875 L -5.8125 -0.71875 Z M -5.8125 -1.6875 \"/>\n",
       "</g>\n",
       "<g id=\"glyph-2-3\">\n",
       "<path d=\"M 0 -0.765625 L -4.453125 -0.765625 C -4.578125 -0.765625 -4.703125 -0.757812 -4.828125 -0.75 C -4.953125 -0.75 -5.070312 -0.75 -5.1875 -0.75 C -5.3125 -0.75 -5.425781 -0.742188 -5.53125 -0.734375 C -5.632812 -0.734375 -5.726562 -0.734375 -5.8125 -0.734375 L -5.8125 -1.640625 C -5.726562 -1.648438 -5.632812 -1.65625 -5.53125 -1.65625 C -5.425781 -1.664062 -5.316406 -1.671875 -5.203125 -1.671875 C -5.085938 -1.679688 -4.976562 -1.6875 -4.875 -1.6875 C -4.78125 -1.6875 -4.695312 -1.6875 -4.625 -1.6875 L -4.625 -1.703125 C -4.84375 -1.773438 -5.035156 -1.847656 -5.203125 -1.921875 C -5.367188 -2.003906 -5.503906 -2.097656 -5.609375 -2.203125 C -5.710938 -2.304688 -5.789062 -2.425781 -5.84375 -2.5625 C -5.894531 -2.707031 -5.921875 -2.882812 -5.921875 -3.09375 C -5.921875 -3.164062 -5.910156 -3.238281 -5.890625 -3.3125 C -5.878906 -3.382812 -5.867188 -3.441406 -5.859375 -3.484375 L -4.984375 -3.484375 C -4.992188 -3.421875 -5.003906 -3.34375 -5.015625 -3.25 C -5.023438 -3.164062 -5.03125 -3.070312 -5.03125 -2.96875 C -5.03125 -2.738281 -4.976562 -2.546875 -4.875 -2.390625 C -4.78125 -2.242188 -4.644531 -2.117188 -4.46875 -2.015625 C -4.289062 -1.921875 -4.078125 -1.847656 -3.828125 -1.796875 C -3.585938 -1.753906 -3.320312 -1.734375 -3.03125 -1.734375 L 0 -1.734375 Z M 0 -0.765625 \"/>\n",
       "</g>\n",
       "<g id=\"glyph-2-4\">\n",
       "<path d=\"M 0.109375 -2.21875 C 0.109375 -1.632812 -0.0390625 -1.195312 -0.34375 -0.90625 C -0.65625 -0.613281 -1.082031 -0.46875 -1.625 -0.46875 C -2.007812 -0.46875 -2.320312 -0.539062 -2.5625 -0.6875 C -2.8125 -0.832031 -3.003906 -1.019531 -3.140625 -1.25 C -3.285156 -1.488281 -3.382812 -1.757812 -3.4375 -2.0625 C -3.488281 -2.363281 -3.519531 -2.664062 -3.53125 -2.96875 L -3.546875 -4.28125 L -3.859375 -4.28125 C -4.097656 -4.28125 -4.300781 -4.253906 -4.46875 -4.203125 C -4.644531 -4.148438 -4.78125 -4.070312 -4.875 -3.96875 C -4.976562 -3.863281 -5.054688 -3.734375 -5.109375 -3.578125 C -5.160156 -3.429688 -5.1875 -3.25 -5.1875 -3.03125 C -5.1875 -2.84375 -5.171875 -2.671875 -5.140625 -2.515625 C -5.117188 -2.367188 -5.070312 -2.238281 -5 -2.125 C -4.925781 -2.019531 -4.828125 -1.929688 -4.703125 -1.859375 C -4.585938 -1.796875 -4.441406 -1.753906 -4.265625 -1.734375 L -4.34375 -0.71875 C -4.570312 -0.757812 -4.78125 -0.828125 -4.96875 -0.921875 C -5.164062 -1.023438 -5.332031 -1.171875 -5.46875 -1.359375 C -5.613281 -1.546875 -5.722656 -1.773438 -5.796875 -2.046875 C -5.878906 -2.328125 -5.921875 -2.664062 -5.921875 -3.0625 C -5.921875 -3.789062 -5.753906 -4.335938 -5.421875 -4.703125 C -5.085938 -5.078125 -4.601562 -5.265625 -3.96875 -5.265625 L -1.46875 -5.265625 C -1.175781 -5.265625 -0.957031 -5.300781 -0.8125 -5.375 C -0.664062 -5.445312 -0.59375 -5.585938 -0.59375 -5.796875 C -0.59375 -5.847656 -0.597656 -5.898438 -0.609375 -5.953125 C -0.617188 -6.015625 -0.628906 -6.070312 -0.640625 -6.125 L -0.03125 -6.125 C 0 -6 0.0195312 -5.875 0.03125 -5.75 C 0.0390625 -5.632812 0.046875 -5.507812 0.046875 -5.375 C 0.046875 -5.1875 0.0234375 -5.023438 -0.015625 -4.890625 C -0.0664062 -4.765625 -0.140625 -4.660156 -0.234375 -4.578125 C -0.335938 -4.492188 -0.460938 -4.429688 -0.609375 -4.390625 C -0.753906 -4.347656 -0.921875 -4.320312 -1.109375 -4.3125 L -1.109375 -4.28125 C -0.921875 -4.175781 -0.75 -4.0625 -0.59375 -3.9375 C -0.445312 -3.8125 -0.320312 -3.664062 -0.21875 -3.5 C -0.113281 -3.34375 -0.0351562 -3.15625 0.015625 -2.9375 C 0.078125 -2.726562 0.109375 -2.488281 0.109375 -2.21875 Z M -0.625 -2.4375 C -0.625 -2.75 -0.675781 -3.019531 -0.78125 -3.25 C -0.894531 -3.476562 -1.039062 -3.671875 -1.21875 -3.828125 C -1.394531 -3.984375 -1.585938 -4.097656 -1.796875 -4.171875 C -2.003906 -4.242188 -2.203125 -4.28125 -2.390625 -4.28125 L -2.875 -4.28125 L -2.84375 -3.21875 C -2.84375 -2.988281 -2.828125 -2.765625 -2.796875 -2.546875 C -2.765625 -2.335938 -2.703125 -2.148438 -2.609375 -1.984375 C -2.523438 -1.828125 -2.398438 -1.703125 -2.234375 -1.609375 C -2.078125 -1.515625 -1.867188 -1.46875 -1.609375 -1.46875 C -1.296875 -1.46875 -1.050781 -1.550781 -0.875 -1.71875 C -0.707031 -1.882812 -0.625 -2.125 -0.625 -2.4375 Z M -0.625 -2.4375 \"/>\n",
       "</g>\n",
       "<g id=\"glyph-2-5\">\n",
       "<path d=\"M 0 -3.25 C 0.351562 -3.113281 0.671875 -2.972656 0.953125 -2.828125 C 1.234375 -2.679688 1.472656 -2.519531 1.671875 -2.34375 C 1.867188 -2.175781 2.019531 -1.984375 2.125 -1.765625 C 2.226562 -1.546875 2.28125 -1.300781 2.28125 -1.03125 C 2.28125 -0.90625 2.273438 -0.789062 2.265625 -0.6875 C 2.265625 -0.582031 2.25 -0.472656 2.21875 -0.359375 L 1.5 -0.359375 C 1.507812 -0.429688 1.515625 -0.507812 1.515625 -0.59375 C 1.523438 -0.675781 1.53125 -0.75 1.53125 -0.8125 C 1.53125 -1.09375 1.421875 -1.351562 1.203125 -1.59375 C 0.992188 -1.84375 0.660156 -2.054688 0.203125 -2.234375 L -0.03125 -2.328125 L -5.8125 -0.03125 L -5.8125 -1.0625 L -2.59375 -2.28125 C -2.5 -2.320312 -2.367188 -2.367188 -2.203125 -2.421875 C -2.046875 -2.472656 -1.882812 -2.523438 -1.71875 -2.578125 C -1.5625 -2.640625 -1.414062 -2.691406 -1.28125 -2.734375 C -1.15625 -2.773438 -1.078125 -2.800781 -1.046875 -2.8125 C -1.085938 -2.820312 -1.164062 -2.847656 -1.28125 -2.890625 C -1.40625 -2.929688 -1.535156 -2.976562 -1.671875 -3.03125 C -1.816406 -3.082031 -1.960938 -3.132812 -2.109375 -3.1875 C -2.253906 -3.238281 -2.382812 -3.28125 -2.5 -3.3125 L -5.8125 -4.453125 L -5.8125 -5.484375 Z M 0 -3.25 \"/>\n",
       "</g>\n",
       "<g id=\"glyph-2-6\">\n",
       "</g>\n",
       "<g id=\"glyph-2-7\">\n",
       "<path d=\"M 0 -0.90625 L -7.5625 -0.90625 L -7.5625 -6.640625 L -6.734375 -6.640625 L -6.734375 -1.921875 L -4.296875 -1.921875 L -4.296875 -6.328125 L -3.46875 -6.328125 L -3.46875 -1.921875 L -0.84375 -1.921875 L -0.84375 -6.859375 L 0 -6.859375 Z M 0 -0.90625 \"/>\n",
       "</g>\n",
       "<g id=\"glyph-2-8\">\n",
       "<path d=\"M -1.609375 -5.109375 C -1.335938 -5.109375 -1.09375 -5.050781 -0.875 -4.9375 C -0.664062 -4.832031 -0.488281 -4.679688 -0.34375 -4.484375 C -0.195312 -4.285156 -0.0820312 -4.039062 0 -3.75 C 0.0703125 -3.457031 0.109375 -3.125 0.109375 -2.75 C 0.109375 -2.40625 0.0820312 -2.097656 0.03125 -1.828125 C -0.0195312 -1.554688 -0.101562 -1.316406 -0.21875 -1.109375 C -0.332031 -0.910156 -0.484375 -0.742188 -0.671875 -0.609375 C -0.859375 -0.472656 -1.085938 -0.375 -1.359375 -0.3125 L -1.53125 -1.15625 C -1.21875 -1.238281 -0.988281 -1.410156 -0.84375 -1.671875 C -0.695312 -1.929688 -0.625 -2.289062 -0.625 -2.75 C -0.625 -2.957031 -0.640625 -3.144531 -0.671875 -3.3125 C -0.703125 -3.488281 -0.75 -3.640625 -0.8125 -3.765625 C -0.882812 -3.890625 -0.976562 -3.984375 -1.09375 -4.046875 C -1.207031 -4.117188 -1.351562 -4.15625 -1.53125 -4.15625 C -1.707031 -4.15625 -1.847656 -4.113281 -1.953125 -4.03125 C -2.066406 -3.957031 -2.160156 -3.84375 -2.234375 -3.6875 C -2.316406 -3.539062 -2.382812 -3.363281 -2.4375 -3.15625 C -2.5 -2.945312 -2.5625 -2.71875 -2.625 -2.46875 C -2.6875 -2.238281 -2.753906 -2.007812 -2.828125 -1.78125 C -2.898438 -1.550781 -3 -1.34375 -3.125 -1.15625 C -3.25 -0.96875 -3.398438 -0.816406 -3.578125 -0.703125 C -3.765625 -0.585938 -4 -0.53125 -4.28125 -0.53125 C -4.8125 -0.53125 -5.210938 -0.71875 -5.484375 -1.09375 C -5.765625 -1.476562 -5.90625 -2.03125 -5.90625 -2.75 C -5.90625 -3.394531 -5.789062 -3.90625 -5.5625 -4.28125 C -5.332031 -4.65625 -4.972656 -4.894531 -4.484375 -5 L -4.375 -4.125 C -4.519531 -4.09375 -4.644531 -4.035156 -4.75 -3.953125 C -4.851562 -3.867188 -4.9375 -3.765625 -5 -3.640625 C -5.0625 -3.515625 -5.101562 -3.375 -5.125 -3.21875 C -5.15625 -3.070312 -5.171875 -2.914062 -5.171875 -2.75 C -5.171875 -2.3125 -5.101562 -1.988281 -4.96875 -1.78125 C -4.84375 -1.582031 -4.644531 -1.484375 -4.375 -1.484375 C -4.21875 -1.484375 -4.085938 -1.519531 -3.984375 -1.59375 C -3.878906 -1.664062 -3.789062 -1.769531 -3.71875 -1.90625 C -3.65625 -2.050781 -3.597656 -2.21875 -3.546875 -2.40625 C -3.492188 -2.601562 -3.4375 -2.816406 -3.375 -3.046875 C -3.332031 -3.203125 -3.289062 -3.359375 -3.25 -3.515625 C -3.207031 -3.679688 -3.15625 -3.835938 -3.09375 -3.984375 C -3.03125 -4.140625 -2.957031 -4.285156 -2.875 -4.421875 C -2.789062 -4.554688 -2.6875 -4.671875 -2.5625 -4.765625 C -2.445312 -4.867188 -2.3125 -4.953125 -2.15625 -5.015625 C -2 -5.078125 -1.816406 -5.109375 -1.609375 -5.109375 Z M -1.609375 -5.109375 \"/>\n",
       "</g>\n",
       "<g id=\"glyph-2-9\">\n",
       "<path d=\"M -0.046875 -2.96875 C -0.00390625 -2.820312 0.0234375 -2.671875 0.046875 -2.515625 C 0.078125 -2.367188 0.09375 -2.195312 0.09375 -2 C 0.09375 -1.226562 -0.347656 -0.84375 -1.234375 -0.84375 L -5.109375 -0.84375 L -5.109375 -0.171875 L -5.8125 -0.171875 L -5.8125 -0.875 L -7.109375 -1.15625 L -7.109375 -1.8125 L -5.8125 -1.8125 L -5.8125 -2.875 L -5.109375 -2.875 L -5.109375 -1.8125 L -1.4375 -1.8125 C -1.15625 -1.8125 -0.957031 -1.851562 -0.84375 -1.9375 C -0.738281 -2.03125 -0.6875 -2.191406 -0.6875 -2.421875 C -0.6875 -2.515625 -0.691406 -2.601562 -0.703125 -2.6875 C -0.710938 -2.769531 -0.726562 -2.863281 -0.75 -2.96875 Z M -0.046875 -2.96875 \"/>\n",
       "</g>\n",
       "<g id=\"glyph-2-10\">\n",
       "<path d=\"M -7.046875 -0.734375 L -7.96875 -0.734375 L -7.96875 -1.703125 L -7.046875 -1.703125 Z M 0 -0.734375 L -5.8125 -0.734375 L -5.8125 -1.703125 L 0 -1.703125 Z M 0 -0.734375 \"/>\n",
       "</g>\n",
       "<g id=\"glyph-2-11\">\n",
       "<path d=\"M 0 -4.125 L -3.6875 -4.125 C -3.96875 -4.125 -4.203125 -4.101562 -4.390625 -4.0625 C -4.578125 -4.03125 -4.726562 -3.972656 -4.84375 -3.890625 C -4.96875 -3.804688 -5.050781 -3.695312 -5.09375 -3.5625 C -5.144531 -3.425781 -5.171875 -3.257812 -5.171875 -3.0625 C -5.171875 -2.851562 -5.128906 -2.664062 -5.046875 -2.5 C -4.972656 -2.34375 -4.859375 -2.203125 -4.703125 -2.078125 C -4.546875 -1.960938 -4.351562 -1.875 -4.125 -1.8125 C -3.90625 -1.75 -3.65625 -1.71875 -3.375 -1.71875 L 0 -1.71875 L 0 -0.765625 L -4.578125 -0.765625 C -4.691406 -0.765625 -4.816406 -0.757812 -4.953125 -0.75 C -5.085938 -0.75 -5.210938 -0.75 -5.328125 -0.75 C -5.453125 -0.75 -5.554688 -0.742188 -5.640625 -0.734375 C -5.734375 -0.734375 -5.789062 -0.734375 -5.8125 -0.734375 L -5.8125 -1.640625 C -5.789062 -1.648438 -5.738281 -1.65625 -5.65625 -1.65625 C -5.582031 -1.65625 -5.492188 -1.65625 -5.390625 -1.65625 C -5.296875 -1.664062 -5.191406 -1.671875 -5.078125 -1.671875 C -4.972656 -1.679688 -4.882812 -1.6875 -4.8125 -1.6875 L -4.8125 -1.703125 C -4.988281 -1.785156 -5.144531 -1.875 -5.28125 -1.96875 C -5.414062 -2.070312 -5.53125 -2.191406 -5.625 -2.328125 C -5.71875 -2.460938 -5.789062 -2.617188 -5.84375 -2.796875 C -5.894531 -2.972656 -5.921875 -3.175781 -5.921875 -3.40625 C -5.921875 -3.84375 -5.832031 -4.1875 -5.65625 -4.4375 C -5.476562 -4.695312 -5.195312 -4.878906 -4.8125 -4.984375 L -4.8125 -5 C -4.988281 -5.082031 -5.144531 -5.175781 -5.28125 -5.28125 C -5.414062 -5.394531 -5.53125 -5.519531 -5.625 -5.65625 C -5.71875 -5.800781 -5.789062 -5.960938 -5.84375 -6.140625 C -5.894531 -6.316406 -5.921875 -6.519531 -5.921875 -6.75 C -5.921875 -7.050781 -5.878906 -7.304688 -5.796875 -7.515625 C -5.722656 -7.734375 -5.601562 -7.910156 -5.4375 -8.046875 C -5.269531 -8.179688 -5.054688 -8.28125 -4.796875 -8.34375 C -4.535156 -8.40625 -4.226562 -8.4375 -3.875 -8.4375 L 0 -8.4375 L 0 -7.484375 L -3.6875 -7.484375 C -3.96875 -7.484375 -4.203125 -7.460938 -4.390625 -7.421875 C -4.578125 -7.390625 -4.726562 -7.332031 -4.84375 -7.25 C -4.96875 -7.164062 -5.050781 -7.054688 -5.09375 -6.921875 C -5.144531 -6.785156 -5.171875 -6.617188 -5.171875 -6.421875 C -5.171875 -6.210938 -5.128906 -6.023438 -5.046875 -5.859375 C -4.972656 -5.703125 -4.859375 -5.5625 -4.703125 -5.4375 C -4.554688 -5.320312 -4.367188 -5.234375 -4.140625 -5.171875 C -3.921875 -5.109375 -3.664062 -5.078125 -3.375 -5.078125 L 0 -5.078125 Z M 0 -4.125 \"/>\n",
       "</g>\n",
       "<g id=\"glyph-2-12\">\n",
       "<path d=\"M -2.703125 -1.484375 C -2.398438 -1.484375 -2.117188 -1.515625 -1.859375 -1.578125 C -1.609375 -1.640625 -1.390625 -1.734375 -1.203125 -1.859375 C -1.015625 -1.992188 -0.867188 -2.160156 -0.765625 -2.359375 C -0.671875 -2.566406 -0.625 -2.816406 -0.625 -3.109375 C -0.625 -3.523438 -0.707031 -3.859375 -0.875 -4.109375 C -1.039062 -4.359375 -1.253906 -4.53125 -1.515625 -4.625 L -1.265625 -5.46875 C -1.109375 -5.40625 -0.945312 -5.316406 -0.78125 -5.203125 C -0.613281 -5.097656 -0.460938 -4.953125 -0.328125 -4.765625 C -0.203125 -4.585938 -0.0976562 -4.363281 -0.015625 -4.09375 C 0.0664062 -3.820312 0.109375 -3.492188 0.109375 -3.109375 C 0.109375 -2.242188 -0.144531 -1.585938 -0.65625 -1.140625 C -1.164062 -0.691406 -1.925781 -0.46875 -2.9375 -0.46875 C -3.488281 -0.46875 -3.953125 -0.535156 -4.328125 -0.671875 C -4.703125 -0.804688 -5.007812 -0.988281 -5.25 -1.21875 C -5.488281 -1.457031 -5.660156 -1.734375 -5.765625 -2.046875 C -5.867188 -2.367188 -5.921875 -2.707031 -5.921875 -3.0625 C -5.921875 -3.550781 -5.84375 -3.957031 -5.6875 -4.28125 C -5.53125 -4.613281 -5.3125 -4.878906 -5.03125 -5.078125 C -4.75 -5.273438 -4.421875 -5.414062 -4.046875 -5.5 C -3.671875 -5.582031 -3.265625 -5.625 -2.828125 -5.625 L -2.703125 -5.625 Z M -3.4375 -4.625 C -4.050781 -4.570312 -4.5 -4.414062 -4.78125 -4.15625 C -5.0625 -3.90625 -5.203125 -3.535156 -5.203125 -3.046875 C -5.203125 -2.890625 -5.175781 -2.722656 -5.125 -2.546875 C -5.070312 -2.367188 -4.976562 -2.203125 -4.84375 -2.046875 C -4.71875 -1.898438 -4.539062 -1.773438 -4.3125 -1.671875 C -4.082031 -1.566406 -3.789062 -1.507812 -3.4375 -1.5 Z M -3.4375 -4.625 \"/>\n",
       "</g>\n",
       "</g>\n",
       "<clipPath id=\"clip-0\">\n",
       "<path clip-rule=\"nonzero\" d=\"M 35.152344 5.480469 L 498.523438 5.480469 L 498.523438 472.851562 L 35.152344 472.851562 Z M 35.152344 5.480469 \"/>\n",
       "</clipPath>\n",
       "<clipPath id=\"clip-1\">\n",
       "<path clip-rule=\"nonzero\" d=\"M 35.152344 380 L 498.523438 380 L 498.523438 382 L 35.152344 382 Z M 35.152344 380 \"/>\n",
       "</clipPath>\n",
       "<clipPath id=\"clip-2\">\n",
       "<path clip-rule=\"nonzero\" d=\"M 35.152344 238 L 498.523438 238 L 498.523438 240 L 35.152344 240 Z M 35.152344 238 \"/>\n",
       "</clipPath>\n",
       "<clipPath id=\"clip-3\">\n",
       "<path clip-rule=\"nonzero\" d=\"M 35.152344 97 L 498.523438 97 L 498.523438 98 L 35.152344 98 Z M 35.152344 97 \"/>\n",
       "</clipPath>\n",
       "<clipPath id=\"clip-4\">\n",
       "<path clip-rule=\"nonzero\" d=\"M 79 5.480469 L 80 5.480469 L 80 472.851562 L 79 472.851562 Z M 79 5.480469 \"/>\n",
       "</clipPath>\n",
       "<clipPath id=\"clip-5\">\n",
       "<path clip-rule=\"nonzero\" d=\"M 126 5.480469 L 127 5.480469 L 127 472.851562 L 126 472.851562 Z M 126 5.480469 \"/>\n",
       "</clipPath>\n",
       "<clipPath id=\"clip-6\">\n",
       "<path clip-rule=\"nonzero\" d=\"M 172 5.480469 L 174 5.480469 L 174 472.851562 L 172 472.851562 Z M 172 5.480469 \"/>\n",
       "</clipPath>\n",
       "<clipPath id=\"clip-7\">\n",
       "<path clip-rule=\"nonzero\" d=\"M 219 5.480469 L 221 5.480469 L 221 472.851562 L 219 472.851562 Z M 219 5.480469 \"/>\n",
       "</clipPath>\n",
       "<clipPath id=\"clip-8\">\n",
       "<path clip-rule=\"nonzero\" d=\"M 266 5.480469 L 268 5.480469 L 268 472.851562 L 266 472.851562 Z M 266 5.480469 \"/>\n",
       "</clipPath>\n",
       "<clipPath id=\"clip-9\">\n",
       "<path clip-rule=\"nonzero\" d=\"M 313 5.480469 L 314 5.480469 L 314 472.851562 L 313 472.851562 Z M 313 5.480469 \"/>\n",
       "</clipPath>\n",
       "<clipPath id=\"clip-10\">\n",
       "<path clip-rule=\"nonzero\" d=\"M 360 5.480469 L 361 5.480469 L 361 472.851562 L 360 472.851562 Z M 360 5.480469 \"/>\n",
       "</clipPath>\n",
       "<clipPath id=\"clip-11\">\n",
       "<path clip-rule=\"nonzero\" d=\"M 406 5.480469 L 408 5.480469 L 408 472.851562 L 406 472.851562 Z M 406 5.480469 \"/>\n",
       "</clipPath>\n",
       "<clipPath id=\"clip-12\">\n",
       "<path clip-rule=\"nonzero\" d=\"M 453 5.480469 L 455 5.480469 L 455 472.851562 L 453 472.851562 Z M 453 5.480469 \"/>\n",
       "</clipPath>\n",
       "<clipPath id=\"clip-13\">\n",
       "<path clip-rule=\"nonzero\" d=\"M 35.152344 451 L 498.523438 451 L 498.523438 453 L 35.152344 453 Z M 35.152344 451 \"/>\n",
       "</clipPath>\n",
       "<clipPath id=\"clip-14\">\n",
       "<path clip-rule=\"nonzero\" d=\"M 35.152344 309 L 498.523438 309 L 498.523438 311 L 35.152344 311 Z M 35.152344 309 \"/>\n",
       "</clipPath>\n",
       "<clipPath id=\"clip-15\">\n",
       "<path clip-rule=\"nonzero\" d=\"M 35.152344 167 L 498.523438 167 L 498.523438 169 L 35.152344 169 Z M 35.152344 167 \"/>\n",
       "</clipPath>\n",
       "<clipPath id=\"clip-16\">\n",
       "<path clip-rule=\"nonzero\" d=\"M 35.152344 26 L 498.523438 26 L 498.523438 28 L 35.152344 28 Z M 35.152344 26 \"/>\n",
       "</clipPath>\n",
       "<clipPath id=\"clip-17\">\n",
       "<path clip-rule=\"nonzero\" d=\"M 55 5.480469 L 57 5.480469 L 57 472.851562 L 55 472.851562 Z M 55 5.480469 \"/>\n",
       "</clipPath>\n",
       "<clipPath id=\"clip-18\">\n",
       "<path clip-rule=\"nonzero\" d=\"M 102 5.480469 L 104 5.480469 L 104 472.851562 L 102 472.851562 Z M 102 5.480469 \"/>\n",
       "</clipPath>\n",
       "<clipPath id=\"clip-19\">\n",
       "<path clip-rule=\"nonzero\" d=\"M 149 5.480469 L 151 5.480469 L 151 472.851562 L 149 472.851562 Z M 149 5.480469 \"/>\n",
       "</clipPath>\n",
       "<clipPath id=\"clip-20\">\n",
       "<path clip-rule=\"nonzero\" d=\"M 196 5.480469 L 198 5.480469 L 198 472.851562 L 196 472.851562 Z M 196 5.480469 \"/>\n",
       "</clipPath>\n",
       "<clipPath id=\"clip-21\">\n",
       "<path clip-rule=\"nonzero\" d=\"M 242 5.480469 L 244 5.480469 L 244 472.851562 L 242 472.851562 Z M 242 5.480469 \"/>\n",
       "</clipPath>\n",
       "<clipPath id=\"clip-22\">\n",
       "<path clip-rule=\"nonzero\" d=\"M 289 5.480469 L 291 5.480469 L 291 472.851562 L 289 472.851562 Z M 289 5.480469 \"/>\n",
       "</clipPath>\n",
       "<clipPath id=\"clip-23\">\n",
       "<path clip-rule=\"nonzero\" d=\"M 336 5.480469 L 338 5.480469 L 338 472.851562 L 336 472.851562 Z M 336 5.480469 \"/>\n",
       "</clipPath>\n",
       "<clipPath id=\"clip-24\">\n",
       "<path clip-rule=\"nonzero\" d=\"M 383 5.480469 L 385 5.480469 L 385 472.851562 L 383 472.851562 Z M 383 5.480469 \"/>\n",
       "</clipPath>\n",
       "<clipPath id=\"clip-25\">\n",
       "<path clip-rule=\"nonzero\" d=\"M 430 5.480469 L 432 5.480469 L 432 472.851562 L 430 472.851562 Z M 430 5.480469 \"/>\n",
       "</clipPath>\n",
       "<clipPath id=\"clip-26\">\n",
       "<path clip-rule=\"nonzero\" d=\"M 476 5.480469 L 478 5.480469 L 478 472.851562 L 476 472.851562 Z M 476 5.480469 \"/>\n",
       "</clipPath>\n",
       "</defs>\n",
       "<rect x=\"-50.4\" y=\"-50.4\" width=\"604.8\" height=\"604.8\" fill=\"rgb(100%, 100%, 100%)\" fill-opacity=\"1\"/>\n",
       "<rect x=\"-50.4\" y=\"-50.4\" width=\"604.8\" height=\"604.8\" fill=\"rgb(100%, 100%, 100%)\" fill-opacity=\"1\"/>\n",
       "<path fill=\"none\" stroke-width=\"1.066978\" stroke-linecap=\"round\" stroke-linejoin=\"round\" stroke=\"rgb(100%, 100%, 100%)\" stroke-opacity=\"1\" stroke-miterlimit=\"10\" d=\"M 0 504 L 504 504 L 504 0 L 0 0 Z M 0 504 \"/>\n",
       "<g clip-path=\"url(#clip-0)\">\n",
       "<path fill-rule=\"nonzero\" fill=\"rgb(92.156863%, 92.156863%, 92.156863%)\" fill-opacity=\"1\" d=\"M 35.152344 472.847656 L 498.523438 472.847656 L 498.523438 5.476562 L 35.152344 5.476562 Z M 35.152344 472.847656 \"/>\n",
       "</g>\n",
       "<g clip-path=\"url(#clip-1)\">\n",
       "<path fill=\"none\" stroke-width=\"0.533489\" stroke-linecap=\"butt\" stroke-linejoin=\"round\" stroke=\"rgb(100%, 100%, 100%)\" stroke-opacity=\"1\" stroke-miterlimit=\"10\" d=\"M 35.152344 380.792969 L 498.519531 380.792969 \"/>\n",
       "</g>\n",
       "<g clip-path=\"url(#clip-2)\">\n",
       "<path fill=\"none\" stroke-width=\"0.533489\" stroke-linecap=\"butt\" stroke-linejoin=\"round\" stroke=\"rgb(100%, 100%, 100%)\" stroke-opacity=\"1\" stroke-miterlimit=\"10\" d=\"M 35.152344 239.164062 L 498.519531 239.164062 \"/>\n",
       "</g>\n",
       "<g clip-path=\"url(#clip-3)\">\n",
       "<path fill=\"none\" stroke-width=\"0.533489\" stroke-linecap=\"butt\" stroke-linejoin=\"round\" stroke=\"rgb(100%, 100%, 100%)\" stroke-opacity=\"1\" stroke-miterlimit=\"10\" d=\"M 35.152344 97.539062 L 498.519531 97.539062 \"/>\n",
       "</g>\n",
       "<g clip-path=\"url(#clip-4)\">\n",
       "<path fill=\"none\" stroke-width=\"0.533489\" stroke-linecap=\"butt\" stroke-linejoin=\"round\" stroke=\"rgb(100%, 100%, 100%)\" stroke-opacity=\"1\" stroke-miterlimit=\"10\" d=\"M 79.617188 472.847656 L 79.617188 5.480469 \"/>\n",
       "</g>\n",
       "<g clip-path=\"url(#clip-5)\">\n",
       "<path fill=\"none\" stroke-width=\"0.533489\" stroke-linecap=\"butt\" stroke-linejoin=\"round\" stroke=\"rgb(100%, 100%, 100%)\" stroke-opacity=\"1\" stroke-miterlimit=\"10\" d=\"M 126.421875 472.847656 L 126.421875 5.480469 \"/>\n",
       "</g>\n",
       "<g clip-path=\"url(#clip-6)\">\n",
       "<path fill=\"none\" stroke-width=\"0.533489\" stroke-linecap=\"butt\" stroke-linejoin=\"round\" stroke=\"rgb(100%, 100%, 100%)\" stroke-opacity=\"1\" stroke-miterlimit=\"10\" d=\"M 173.226562 472.847656 L 173.226562 5.480469 \"/>\n",
       "</g>\n",
       "<g clip-path=\"url(#clip-7)\">\n",
       "<path fill=\"none\" stroke-width=\"0.533489\" stroke-linecap=\"butt\" stroke-linejoin=\"round\" stroke=\"rgb(100%, 100%, 100%)\" stroke-opacity=\"1\" stroke-miterlimit=\"10\" d=\"M 220.03125 472.847656 L 220.03125 5.480469 \"/>\n",
       "</g>\n",
       "<g clip-path=\"url(#clip-8)\">\n",
       "<path fill=\"none\" stroke-width=\"0.533489\" stroke-linecap=\"butt\" stroke-linejoin=\"round\" stroke=\"rgb(100%, 100%, 100%)\" stroke-opacity=\"1\" stroke-miterlimit=\"10\" d=\"M 266.835938 472.847656 L 266.835938 5.480469 \"/>\n",
       "</g>\n",
       "<g clip-path=\"url(#clip-9)\">\n",
       "<path fill=\"none\" stroke-width=\"0.533489\" stroke-linecap=\"butt\" stroke-linejoin=\"round\" stroke=\"rgb(100%, 100%, 100%)\" stroke-opacity=\"1\" stroke-miterlimit=\"10\" d=\"M 313.640625 472.847656 L 313.640625 5.480469 \"/>\n",
       "</g>\n",
       "<g clip-path=\"url(#clip-10)\">\n",
       "<path fill=\"none\" stroke-width=\"0.533489\" stroke-linecap=\"butt\" stroke-linejoin=\"round\" stroke=\"rgb(100%, 100%, 100%)\" stroke-opacity=\"1\" stroke-miterlimit=\"10\" d=\"M 360.445312 472.847656 L 360.445312 5.480469 \"/>\n",
       "</g>\n",
       "<g clip-path=\"url(#clip-11)\">\n",
       "<path fill=\"none\" stroke-width=\"0.533489\" stroke-linecap=\"butt\" stroke-linejoin=\"round\" stroke=\"rgb(100%, 100%, 100%)\" stroke-opacity=\"1\" stroke-miterlimit=\"10\" d=\"M 407.25 472.847656 L 407.25 5.480469 \"/>\n",
       "</g>\n",
       "<g clip-path=\"url(#clip-12)\">\n",
       "<path fill=\"none\" stroke-width=\"0.533489\" stroke-linecap=\"butt\" stroke-linejoin=\"round\" stroke=\"rgb(100%, 100%, 100%)\" stroke-opacity=\"1\" stroke-miterlimit=\"10\" d=\"M 454.054688 472.847656 L 454.054688 5.480469 \"/>\n",
       "</g>\n",
       "<g clip-path=\"url(#clip-13)\">\n",
       "<path fill=\"none\" stroke-width=\"1.066978\" stroke-linecap=\"butt\" stroke-linejoin=\"round\" stroke=\"rgb(100%, 100%, 100%)\" stroke-opacity=\"1\" stroke-miterlimit=\"10\" d=\"M 35.152344 451.605469 L 498.519531 451.605469 \"/>\n",
       "</g>\n",
       "<g clip-path=\"url(#clip-14)\">\n",
       "<path fill=\"none\" stroke-width=\"1.066978\" stroke-linecap=\"butt\" stroke-linejoin=\"round\" stroke=\"rgb(100%, 100%, 100%)\" stroke-opacity=\"1\" stroke-miterlimit=\"10\" d=\"M 35.152344 309.976562 L 498.519531 309.976562 \"/>\n",
       "</g>\n",
       "<g clip-path=\"url(#clip-15)\">\n",
       "<path fill=\"none\" stroke-width=\"1.066978\" stroke-linecap=\"butt\" stroke-linejoin=\"round\" stroke=\"rgb(100%, 100%, 100%)\" stroke-opacity=\"1\" stroke-miterlimit=\"10\" d=\"M 35.152344 168.351562 L 498.519531 168.351562 \"/>\n",
       "</g>\n",
       "<g clip-path=\"url(#clip-16)\">\n",
       "<path fill=\"none\" stroke-width=\"1.066978\" stroke-linecap=\"butt\" stroke-linejoin=\"round\" stroke=\"rgb(100%, 100%, 100%)\" stroke-opacity=\"1\" stroke-miterlimit=\"10\" d=\"M 35.152344 26.722656 L 498.519531 26.722656 \"/>\n",
       "</g>\n",
       "<g clip-path=\"url(#clip-17)\">\n",
       "<path fill=\"none\" stroke-width=\"1.066978\" stroke-linecap=\"butt\" stroke-linejoin=\"round\" stroke=\"rgb(100%, 100%, 100%)\" stroke-opacity=\"1\" stroke-miterlimit=\"10\" d=\"M 56.214844 472.847656 L 56.214844 5.480469 \"/>\n",
       "</g>\n",
       "<g clip-path=\"url(#clip-18)\">\n",
       "<path fill=\"none\" stroke-width=\"1.066978\" stroke-linecap=\"butt\" stroke-linejoin=\"round\" stroke=\"rgb(100%, 100%, 100%)\" stroke-opacity=\"1\" stroke-miterlimit=\"10\" d=\"M 103.019531 472.847656 L 103.019531 5.480469 \"/>\n",
       "</g>\n",
       "<g clip-path=\"url(#clip-19)\">\n",
       "<path fill=\"none\" stroke-width=\"1.066978\" stroke-linecap=\"butt\" stroke-linejoin=\"round\" stroke=\"rgb(100%, 100%, 100%)\" stroke-opacity=\"1\" stroke-miterlimit=\"10\" d=\"M 149.824219 472.847656 L 149.824219 5.480469 \"/>\n",
       "</g>\n",
       "<g clip-path=\"url(#clip-20)\">\n",
       "<path fill=\"none\" stroke-width=\"1.066978\" stroke-linecap=\"butt\" stroke-linejoin=\"round\" stroke=\"rgb(100%, 100%, 100%)\" stroke-opacity=\"1\" stroke-miterlimit=\"10\" d=\"M 196.628906 472.847656 L 196.628906 5.480469 \"/>\n",
       "</g>\n",
       "<g clip-path=\"url(#clip-21)\">\n",
       "<path fill=\"none\" stroke-width=\"1.066978\" stroke-linecap=\"butt\" stroke-linejoin=\"round\" stroke=\"rgb(100%, 100%, 100%)\" stroke-opacity=\"1\" stroke-miterlimit=\"10\" d=\"M 243.433594 472.847656 L 243.433594 5.480469 \"/>\n",
       "</g>\n",
       "<g clip-path=\"url(#clip-22)\">\n",
       "<path fill=\"none\" stroke-width=\"1.066978\" stroke-linecap=\"butt\" stroke-linejoin=\"round\" stroke=\"rgb(100%, 100%, 100%)\" stroke-opacity=\"1\" stroke-miterlimit=\"10\" d=\"M 290.238281 472.847656 L 290.238281 5.480469 \"/>\n",
       "</g>\n",
       "<g clip-path=\"url(#clip-23)\">\n",
       "<path fill=\"none\" stroke-width=\"1.066978\" stroke-linecap=\"butt\" stroke-linejoin=\"round\" stroke=\"rgb(100%, 100%, 100%)\" stroke-opacity=\"1\" stroke-miterlimit=\"10\" d=\"M 337.042969 472.847656 L 337.042969 5.480469 \"/>\n",
       "</g>\n",
       "<g clip-path=\"url(#clip-24)\">\n",
       "<path fill=\"none\" stroke-width=\"1.066978\" stroke-linecap=\"butt\" stroke-linejoin=\"round\" stroke=\"rgb(100%, 100%, 100%)\" stroke-opacity=\"1\" stroke-miterlimit=\"10\" d=\"M 383.847656 472.847656 L 383.847656 5.480469 \"/>\n",
       "</g>\n",
       "<g clip-path=\"url(#clip-25)\">\n",
       "<path fill=\"none\" stroke-width=\"1.066978\" stroke-linecap=\"butt\" stroke-linejoin=\"round\" stroke=\"rgb(100%, 100%, 100%)\" stroke-opacity=\"1\" stroke-miterlimit=\"10\" d=\"M 430.652344 472.847656 L 430.652344 5.480469 \"/>\n",
       "</g>\n",
       "<g clip-path=\"url(#clip-26)\">\n",
       "<path fill=\"none\" stroke-width=\"1.066978\" stroke-linecap=\"butt\" stroke-linejoin=\"round\" stroke=\"rgb(100%, 100%, 100%)\" stroke-opacity=\"1\" stroke-miterlimit=\"10\" d=\"M 477.457031 472.847656 L 477.457031 5.480469 \"/>\n",
       "</g>\n",
       "<path fill-rule=\"nonzero\" fill=\"rgb(0%, 0%, 0%)\" fill-opacity=\"1\" stroke-width=\"0.708661\" stroke-linecap=\"round\" stroke-linejoin=\"round\" stroke=\"rgb(0%, 0%, 0%)\" stroke-opacity=\"1\" stroke-miterlimit=\"10\" d=\"M 58.167969 361.570312 C 58.167969 364.179688 54.257812 364.179688 54.257812 361.570312 C 54.257812 358.964844 58.167969 358.964844 58.167969 361.570312 \"/>\n",
       "<path fill-rule=\"nonzero\" fill=\"rgb(0%, 0%, 0%)\" fill-opacity=\"1\" stroke-width=\"0.708661\" stroke-linecap=\"round\" stroke-linejoin=\"round\" stroke=\"rgb(0%, 0%, 0%)\" stroke-opacity=\"1\" stroke-miterlimit=\"10\" d=\"M 104.972656 361.570312 C 104.972656 364.179688 101.0625 364.179688 101.0625 361.570312 C 101.0625 358.964844 104.972656 358.964844 104.972656 361.570312 \"/>\n",
       "<path fill-rule=\"nonzero\" fill=\"rgb(0%, 0%, 0%)\" fill-opacity=\"1\" stroke-width=\"0.708661\" stroke-linecap=\"round\" stroke-linejoin=\"round\" stroke=\"rgb(0%, 0%, 0%)\" stroke-opacity=\"1\" stroke-miterlimit=\"10\" d=\"M 151.777344 309.394531 C 151.777344 312 147.867188 312 147.867188 309.394531 C 147.867188 306.785156 151.777344 306.785156 151.777344 309.394531 \"/>\n",
       "<path fill-rule=\"nonzero\" fill=\"rgb(0%, 0%, 0%)\" fill-opacity=\"1\" stroke-width=\"0.708661\" stroke-linecap=\"round\" stroke-linejoin=\"round\" stroke=\"rgb(0%, 0%, 0%)\" stroke-opacity=\"1\" stroke-miterlimit=\"10\" d=\"M 198.582031 309.394531 C 198.582031 312 194.671875 312 194.671875 309.394531 C 194.671875 306.785156 198.582031 306.785156 198.582031 309.394531 \"/>\n",
       "<path fill-rule=\"nonzero\" fill=\"rgb(0%, 0%, 0%)\" fill-opacity=\"1\" stroke-width=\"0.708661\" stroke-linecap=\"round\" stroke-linejoin=\"round\" stroke=\"rgb(0%, 0%, 0%)\" stroke-opacity=\"1\" stroke-miterlimit=\"10\" d=\"M 245.386719 278.699219 C 245.386719 281.304688 241.476562 281.304688 241.476562 278.699219 C 241.476562 276.09375 245.386719 276.09375 245.386719 278.699219 \"/>\n",
       "<path fill-rule=\"nonzero\" fill=\"rgb(0%, 0%, 0%)\" fill-opacity=\"1\" stroke-width=\"0.708661\" stroke-linecap=\"round\" stroke-linejoin=\"round\" stroke=\"rgb(0%, 0%, 0%)\" stroke-opacity=\"1\" stroke-miterlimit=\"10\" d=\"M 292.191406 278.699219 C 292.191406 281.304688 288.285156 281.304688 288.285156 278.699219 C 288.285156 276.09375 292.191406 276.09375 292.191406 278.699219 \"/>\n",
       "<path fill-rule=\"nonzero\" fill=\"rgb(0%, 0%, 0%)\" fill-opacity=\"1\" stroke-width=\"0.708661\" stroke-linecap=\"round\" stroke-linejoin=\"round\" stroke=\"rgb(0%, 0%, 0%)\" stroke-opacity=\"1\" stroke-miterlimit=\"10\" d=\"M 338.996094 241.429688 C 338.996094 244.035156 335.089844 244.035156 335.089844 241.429688 C 335.089844 238.824219 338.996094 238.824219 338.996094 241.429688 \"/>\n",
       "<path fill-rule=\"nonzero\" fill=\"rgb(0%, 0%, 0%)\" fill-opacity=\"1\" stroke-width=\"0.708661\" stroke-linecap=\"round\" stroke-linejoin=\"round\" stroke=\"rgb(0%, 0%, 0%)\" stroke-opacity=\"1\" stroke-miterlimit=\"10\" d=\"M 385.804688 241.429688 C 385.804688 244.035156 381.894531 244.035156 381.894531 241.429688 C 381.894531 238.824219 385.804688 238.824219 385.804688 241.429688 \"/>\n",
       "<path fill-rule=\"nonzero\" fill=\"rgb(0%, 0%, 0%)\" fill-opacity=\"1\" stroke-width=\"0.708661\" stroke-linecap=\"round\" stroke-linejoin=\"round\" stroke=\"rgb(0%, 0%, 0%)\" stroke-opacity=\"1\" stroke-miterlimit=\"10\" d=\"M 432.609375 226.523438 C 432.609375 229.128906 428.699219 229.128906 428.699219 226.523438 C 428.699219 223.914062 432.609375 223.914062 432.609375 226.523438 \"/>\n",
       "<path fill-rule=\"nonzero\" fill=\"rgb(0%, 0%, 0%)\" fill-opacity=\"1\" stroke-width=\"0.708661\" stroke-linecap=\"round\" stroke-linejoin=\"round\" stroke=\"rgb(0%, 0%, 0%)\" stroke-opacity=\"1\" stroke-miterlimit=\"10\" d=\"M 479.414062 226.523438 C 479.414062 229.128906 475.503906 229.128906 475.503906 226.523438 C 475.503906 223.914062 479.414062 223.914062 479.414062 226.523438 \"/>\n",
       "<path fill=\"none\" stroke-width=\"1.066978\" stroke-linecap=\"butt\" stroke-linejoin=\"round\" stroke=\"rgb(0%, 0%, 0%)\" stroke-opacity=\"1\" stroke-miterlimit=\"10\" d=\"M 56.214844 361.570312 L 103.019531 361.570312 L 149.824219 309.394531 L 196.628906 309.394531 L 243.433594 278.699219 L 290.238281 278.699219 L 337.042969 241.429688 L 383.847656 241.429688 L 430.652344 226.523438 L 477.457031 226.523438 \"/>\n",
       "<g fill=\"rgb(30.196078%, 30.196078%, 30.196078%)\" fill-opacity=\"1\">\n",
       "<use xlink:href=\"#glyph-0-0\" x=\"18.21875\" y=\"455.071289\"/>\n",
       "<use xlink:href=\"#glyph-0-1\" x=\"23.21875\" y=\"455.071289\"/>\n",
       "<use xlink:href=\"#glyph-0-2\" x=\"25.21875\" y=\"455.071289\"/>\n",
       "</g>\n",
       "<g fill=\"rgb(30.196078%, 30.196078%, 30.196078%)\" fill-opacity=\"1\">\n",
       "<use xlink:href=\"#glyph-0-0\" x=\"18.21875\" y=\"313.442383\"/>\n",
       "<use xlink:href=\"#glyph-0-1\" x=\"23.21875\" y=\"313.442383\"/>\n",
       "<use xlink:href=\"#glyph-0-3\" x=\"25.21875\" y=\"313.442383\"/>\n",
       "</g>\n",
       "<g fill=\"rgb(30.196078%, 30.196078%, 30.196078%)\" fill-opacity=\"1\">\n",
       "<use xlink:href=\"#glyph-0-0\" x=\"18.21875\" y=\"171.817383\"/>\n",
       "<use xlink:href=\"#glyph-0-1\" x=\"23.21875\" y=\"171.817383\"/>\n",
       "<use xlink:href=\"#glyph-0-4\" x=\"25.21875\" y=\"171.817383\"/>\n",
       "</g>\n",
       "<g fill=\"rgb(30.196078%, 30.196078%, 30.196078%)\" fill-opacity=\"1\">\n",
       "<use xlink:href=\"#glyph-0-5\" x=\"18.21875\" y=\"30.188477\"/>\n",
       "<use xlink:href=\"#glyph-0-1\" x=\"23.21875\" y=\"30.188477\"/>\n",
       "<use xlink:href=\"#glyph-0-0\" x=\"25.21875\" y=\"30.188477\"/>\n",
       "</g>\n",
       "<path fill=\"none\" stroke-width=\"1.066978\" stroke-linecap=\"butt\" stroke-linejoin=\"round\" stroke=\"rgb(20%, 20%, 20%)\" stroke-opacity=\"1\" stroke-miterlimit=\"10\" d=\"M 32.410156 451.605469 L 35.152344 451.605469 \"/>\n",
       "<path fill=\"none\" stroke-width=\"1.066978\" stroke-linecap=\"butt\" stroke-linejoin=\"round\" stroke=\"rgb(20%, 20%, 20%)\" stroke-opacity=\"1\" stroke-miterlimit=\"10\" d=\"M 32.410156 309.976562 L 35.152344 309.976562 \"/>\n",
       "<path fill=\"none\" stroke-width=\"1.066978\" stroke-linecap=\"butt\" stroke-linejoin=\"round\" stroke=\"rgb(20%, 20%, 20%)\" stroke-opacity=\"1\" stroke-miterlimit=\"10\" d=\"M 32.410156 168.351562 L 35.152344 168.351562 \"/>\n",
       "<path fill=\"none\" stroke-width=\"1.066978\" stroke-linecap=\"butt\" stroke-linejoin=\"round\" stroke=\"rgb(20%, 20%, 20%)\" stroke-opacity=\"1\" stroke-miterlimit=\"10\" d=\"M 32.410156 26.722656 L 35.152344 26.722656 \"/>\n",
       "<path fill=\"none\" stroke-width=\"1.066978\" stroke-linecap=\"butt\" stroke-linejoin=\"round\" stroke=\"rgb(20%, 20%, 20%)\" stroke-opacity=\"1\" stroke-miterlimit=\"10\" d=\"M 56.214844 475.589844 L 56.214844 472.847656 \"/>\n",
       "<path fill=\"none\" stroke-width=\"1.066978\" stroke-linecap=\"butt\" stroke-linejoin=\"round\" stroke=\"rgb(20%, 20%, 20%)\" stroke-opacity=\"1\" stroke-miterlimit=\"10\" d=\"M 103.019531 475.589844 L 103.019531 472.847656 \"/>\n",
       "<path fill=\"none\" stroke-width=\"1.066978\" stroke-linecap=\"butt\" stroke-linejoin=\"round\" stroke=\"rgb(20%, 20%, 20%)\" stroke-opacity=\"1\" stroke-miterlimit=\"10\" d=\"M 149.824219 475.589844 L 149.824219 472.847656 \"/>\n",
       "<path fill=\"none\" stroke-width=\"1.066978\" stroke-linecap=\"butt\" stroke-linejoin=\"round\" stroke=\"rgb(20%, 20%, 20%)\" stroke-opacity=\"1\" stroke-miterlimit=\"10\" d=\"M 196.628906 475.589844 L 196.628906 472.847656 \"/>\n",
       "<path fill=\"none\" stroke-width=\"1.066978\" stroke-linecap=\"butt\" stroke-linejoin=\"round\" stroke=\"rgb(20%, 20%, 20%)\" stroke-opacity=\"1\" stroke-miterlimit=\"10\" d=\"M 243.433594 475.589844 L 243.433594 472.847656 \"/>\n",
       "<path fill=\"none\" stroke-width=\"1.066978\" stroke-linecap=\"butt\" stroke-linejoin=\"round\" stroke=\"rgb(20%, 20%, 20%)\" stroke-opacity=\"1\" stroke-miterlimit=\"10\" d=\"M 290.238281 475.589844 L 290.238281 472.847656 \"/>\n",
       "<path fill=\"none\" stroke-width=\"1.066978\" stroke-linecap=\"butt\" stroke-linejoin=\"round\" stroke=\"rgb(20%, 20%, 20%)\" stroke-opacity=\"1\" stroke-miterlimit=\"10\" d=\"M 337.042969 475.589844 L 337.042969 472.847656 \"/>\n",
       "<path fill=\"none\" stroke-width=\"1.066978\" stroke-linecap=\"butt\" stroke-linejoin=\"round\" stroke=\"rgb(20%, 20%, 20%)\" stroke-opacity=\"1\" stroke-miterlimit=\"10\" d=\"M 383.847656 475.589844 L 383.847656 472.847656 \"/>\n",
       "<path fill=\"none\" stroke-width=\"1.066978\" stroke-linecap=\"butt\" stroke-linejoin=\"round\" stroke=\"rgb(20%, 20%, 20%)\" stroke-opacity=\"1\" stroke-miterlimit=\"10\" d=\"M 430.652344 475.589844 L 430.652344 472.847656 \"/>\n",
       "<path fill=\"none\" stroke-width=\"1.066978\" stroke-linecap=\"butt\" stroke-linejoin=\"round\" stroke=\"rgb(20%, 20%, 20%)\" stroke-opacity=\"1\" stroke-miterlimit=\"10\" d=\"M 477.457031 475.589844 L 477.457031 472.847656 \"/>\n",
       "<g fill=\"rgb(30.196078%, 30.196078%, 30.196078%)\" fill-opacity=\"1\">\n",
       "<use xlink:href=\"#glyph-0-5\" x=\"53.714844\" y=\"484.74707\"/>\n",
       "</g>\n",
       "<g fill=\"rgb(30.196078%, 30.196078%, 30.196078%)\" fill-opacity=\"1\">\n",
       "<use xlink:href=\"#glyph-0-6\" x=\"100.519531\" y=\"484.74707\"/>\n",
       "</g>\n",
       "<g fill=\"rgb(30.196078%, 30.196078%, 30.196078%)\" fill-opacity=\"1\">\n",
       "<use xlink:href=\"#glyph-0-7\" x=\"147.324219\" y=\"484.74707\"/>\n",
       "</g>\n",
       "<g fill=\"rgb(30.196078%, 30.196078%, 30.196078%)\" fill-opacity=\"1\">\n",
       "<use xlink:href=\"#glyph-0-2\" x=\"194.128906\" y=\"484.74707\"/>\n",
       "</g>\n",
       "<g fill=\"rgb(30.196078%, 30.196078%, 30.196078%)\" fill-opacity=\"1\">\n",
       "<use xlink:href=\"#glyph-0-8\" x=\"240.933594\" y=\"484.74707\"/>\n",
       "</g>\n",
       "<g fill=\"rgb(30.196078%, 30.196078%, 30.196078%)\" fill-opacity=\"1\">\n",
       "<use xlink:href=\"#glyph-0-3\" x=\"287.738281\" y=\"484.74707\"/>\n",
       "</g>\n",
       "<g fill=\"rgb(30.196078%, 30.196078%, 30.196078%)\" fill-opacity=\"1\">\n",
       "<use xlink:href=\"#glyph-0-9\" x=\"334.542969\" y=\"484.74707\"/>\n",
       "</g>\n",
       "<g fill=\"rgb(30.196078%, 30.196078%, 30.196078%)\" fill-opacity=\"1\">\n",
       "<use xlink:href=\"#glyph-0-4\" x=\"381.347656\" y=\"484.74707\"/>\n",
       "</g>\n",
       "<g fill=\"rgb(30.196078%, 30.196078%, 30.196078%)\" fill-opacity=\"1\">\n",
       "<use xlink:href=\"#glyph-0-10\" x=\"428.152344\" y=\"484.74707\"/>\n",
       "</g>\n",
       "<g fill=\"rgb(30.196078%, 30.196078%, 30.196078%)\" fill-opacity=\"1\">\n",
       "<use xlink:href=\"#glyph-0-5\" x=\"472.457031\" y=\"484.74707\"/>\n",
       "<use xlink:href=\"#glyph-0-0\" x=\"477.457031\" y=\"484.74707\"/>\n",
       "</g>\n",
       "<g fill=\"rgb(0%, 0%, 0%)\" fill-opacity=\"1\">\n",
       "<use xlink:href=\"#glyph-1-0\" x=\"241.835938\" y=\"496.477539\"/>\n",
       "<use xlink:href=\"#glyph-1-1\" x=\"249.835938\" y=\"496.477539\"/>\n",
       "<use xlink:href=\"#glyph-1-2\" x=\"255.835938\" y=\"496.477539\"/>\n",
       "<use xlink:href=\"#glyph-1-3\" x=\"257.835938\" y=\"496.477539\"/>\n",
       "<use xlink:href=\"#glyph-1-4\" x=\"263.835938\" y=\"496.477539\"/>\n",
       "<use xlink:href=\"#glyph-1-5\" x=\"269.835938\" y=\"496.477539\"/>\n",
       "<use xlink:href=\"#glyph-1-6\" x=\"275.835938\" y=\"496.477539\"/>\n",
       "<use xlink:href=\"#glyph-1-7\" x=\"281.835938\" y=\"496.477539\"/>\n",
       "<use xlink:href=\"#glyph-1-8\" x=\"285.835938\" y=\"496.477539\"/>\n",
       "</g>\n",
       "<g fill=\"rgb(0%, 0%, 0%)\" fill-opacity=\"1\">\n",
       "<use xlink:href=\"#glyph-2-0\" x=\"13.438477\" y=\"285.164062\"/>\n",
       "<use xlink:href=\"#glyph-2-1\" x=\"13.438477\" y=\"278.164062\"/>\n",
       "<use xlink:href=\"#glyph-2-1\" x=\"13.438477\" y=\"272.164062\"/>\n",
       "<use xlink:href=\"#glyph-2-2\" x=\"13.438477\" y=\"266.164062\"/>\n",
       "<use xlink:href=\"#glyph-2-3\" x=\"13.438477\" y=\"260.164062\"/>\n",
       "<use xlink:href=\"#glyph-2-4\" x=\"13.438477\" y=\"256.164062\"/>\n",
       "<use xlink:href=\"#glyph-2-1\" x=\"13.438477\" y=\"250.164062\"/>\n",
       "<use xlink:href=\"#glyph-2-5\" x=\"13.438477\" y=\"244.164062\"/>\n",
       "<use xlink:href=\"#glyph-2-6\" x=\"13.438477\" y=\"238.164062\"/>\n",
       "<use xlink:href=\"#glyph-2-7\" x=\"13.438477\" y=\"235.164062\"/>\n",
       "<use xlink:href=\"#glyph-2-8\" x=\"13.438477\" y=\"228.164062\"/>\n",
       "<use xlink:href=\"#glyph-2-9\" x=\"13.438477\" y=\"222.164062\"/>\n",
       "<use xlink:href=\"#glyph-2-10\" x=\"13.438477\" y=\"219.164062\"/>\n",
       "<use xlink:href=\"#glyph-2-11\" x=\"13.438477\" y=\"217.164062\"/>\n",
       "<use xlink:href=\"#glyph-2-4\" x=\"13.438477\" y=\"208.164062\"/>\n",
       "<use xlink:href=\"#glyph-2-9\" x=\"13.438477\" y=\"202.164062\"/>\n",
       "<use xlink:href=\"#glyph-2-12\" x=\"13.438477\" y=\"199.164062\"/>\n",
       "</g>\n",
       "</svg>\n"
      ],
      "text/plain": [
       "plot without title"
      ]
     },
     "metadata": {
      "application/pdf": {
       "height": 420,
       "width": 420
      },
      "image/jpeg": {
       "height": 420,
       "width": 420
      },
      "image/png": {
       "height": 420,
       "width": 420
      },
      "image/svg+xml": {
       "height": 420,
       "isolated": true,
       "width": 420
      }
     },
     "output_type": "display_data"
    }
   ],
   "source": [
    "accuracies <- model_results |>\n",
    "    filter(.metric == \"accuracy\")\n",
    "accuracies\n",
    "\n",
    "accuracy_versus_k <- ggplot(accuracies, aes(x = neighbors, y = mean)) +\n",
    "    geom_point() + \n",
    "    geom_line() + \n",
    "    labs(x = \"Neighbors\", y = \"Accuracy Estimate\") +\n",
    "    scale_x_continuous(breaks = seq(0, 14, by = 1)) +  # adjusting the x-axis\n",
    "    scale_y_continuous(limits = c(0.4, 1.0)) # adjusting the y-axis\n",
    "\n",
    "accuracy_versus_k"
   ]
  },
  {
   "cell_type": "code",
   "execution_count": null,
   "id": "178fb5f3-91a0-4bbe-a6a1-40953480730b",
   "metadata": {},
   "outputs": [],
   "source": []
  },
  {
   "cell_type": "code",
   "execution_count": null,
   "id": "f42b79ce-3ca4-4761-a2c7-264570b068c4",
   "metadata": {},
   "outputs": [],
   "source": []
  },
  {
   "cell_type": "code",
   "execution_count": null,
   "id": "bc838629-1183-49e7-81c8-1ab3d5d68d29",
   "metadata": {},
   "outputs": [],
   "source": []
  },
  {
   "cell_type": "code",
   "execution_count": null,
   "id": "bedfb419-042b-426f-a008-f3cb5d6d5ce5",
   "metadata": {},
   "outputs": [],
   "source": []
  },
  {
   "cell_type": "code",
   "execution_count": null,
   "id": "3202c437-f269-4da9-b245-781967c10833",
   "metadata": {},
   "outputs": [],
   "source": []
  },
  {
   "cell_type": "code",
   "execution_count": null,
   "id": "28cf7172-fd3a-44af-9040-62c782a20324",
   "metadata": {},
   "outputs": [],
   "source": []
  }
 ],
 "metadata": {
  "kernelspec": {
   "display_name": "R",
   "language": "R",
   "name": "ir"
  },
  "language_info": {
   "codemirror_mode": "r",
   "file_extension": ".r",
   "mimetype": "text/x-r-source",
   "name": "R",
   "pygments_lexer": "r",
   "version": "4.3.3"
  }
 },
 "nbformat": 4,
 "nbformat_minor": 5
}
